{
 "cells": [
  {
   "cell_type": "markdown",
   "metadata": {},
   "source": []
  },
  {
   "cell_type": "code",
   "execution_count": 1,
   "metadata": {},
   "outputs": [
    {
     "name": "stderr",
     "output_type": "stream",
     "text": [
      "/tmp/ipykernel_1442757/2572230166.py:4: DeprecationWarning: \n",
      "Pyarrow will become a required dependency of pandas in the next major release of pandas (pandas 3.0),\n",
      "(to allow more performant data types, such as the Arrow string type, and better interoperability with other libraries)\n",
      "but was not found to be installed on your system.\n",
      "If this would cause problems for you,\n",
      "please provide us feedback at https://github.com/pandas-dev/pandas/issues/54466\n",
      "        \n",
      "  import pandas as pd\n"
     ]
    }
   ],
   "source": []
  },
  {
   "cell_type": "code",
   "execution_count": 2,
   "metadata": {},
   "outputs": [],
   "source": [
    "stockholm_folder = \"/scr/aldea/skibinski/at_mtw/tbfv_stk\"\n",
    "stockholm_files = os.listdir(stockholm_folder)\n",
    "stockholm_files = [stockholm_folder + \"/\" + file for file in stockholm_files]\n"
   ]
  },
  {
   "cell_type": "code",
   "execution_count": 3,
   "metadata": {},
   "outputs": [],
   "source": [
    "\n",
    "def read_stockholm(file_name):\n",
    "    with open(file_name, \"r\") as f:\n",
    "        file_data = f.read()\n",
    "    \n",
    "    file_data = file_data.split(\"\\n\")\n",
    "    seq = [line.split(\" \") for line in file_data if re.match(\"\\w\",line)]\n",
    "    seq = [[e for e in line if e] for line in seq]\n",
    "    return seq"
   ]
  },
  {
   "cell_type": "code",
   "execution_count": 4,
   "metadata": {},
   "outputs": [],
   "source": [
    "def calculate_gc_content(string):\n",
    "    string = string.lower()\n",
    "    gc_content = (string.count(\"g\") + string.count(\"c\")) / (string.count(\"g\") + string.count(\"c\") + string.count(\"a\") + string.count(\"u\"))\n",
    "    return gc_content"
   ]
  },
  {
   "cell_type": "code",
   "execution_count": 5,
   "metadata": {},
   "outputs": [
    {
     "name": "stdout",
     "output_type": "stream",
     "text": [
      "327\n",
      "GC mean: 0.5930832287118337\n",
      "length mean: 101.72782874617737\n"
     ]
    }
   ],
   "source": [
    "data_for_df = []\n",
    "names = []\n",
    "for file in stockholm_files:\n",
    "    name = file[37:48]\n",
    "    if name[-1] == \".\":\n",
    "        name = name[:-1]\n",
    "    names.append(names)\n",
    "    if '1' in name:\n",
    "        xrRNA = 1\n",
    "    else:\n",
    "        xrRNA = 2\n",
    "    for id, seq in read_stockholm(file):\n",
    "        data_for_df.append([id, seq, len(seq), calculate_gc_content(seq), xrRNA, name])\n",
    "\n",
    "df_stats = pd.DataFrame(data_for_df, columns=['id', 'seq', 'len', 'gc', 'xrRNA', 'name'])\n",
    "print(len(df_stats))\n",
    "print(f\"GC mean: {df_stats['gc'].mean()}\")\n",
    "print(f\"length mean: {df_stats['len'].mean()}\")"
   ]
  },
  {
   "cell_type": "code",
   "execution_count": 8,
   "metadata": {},
   "outputs": [
    {
     "data": {
      "text/plain": [
       "count     16.000000\n",
       "mean      94.187500\n",
       "std       10.790235\n",
       "min       64.000000\n",
       "25%       92.750000\n",
       "50%       98.000000\n",
       "75%       99.750000\n",
       "max      104.000000\n",
       "Name: len, dtype: float64"
      ]
     },
     "execution_count": 8,
     "metadata": {},
     "output_type": "execute_result"
    }
   ],
   "source": [
    "df = df_stats.drop_duplicates('name')\n",
    "df1 = df[df[\"xrRNA\"] == 1]\n",
    "df2 = df[df[\"xrRNA\"] == 2]\n",
    "df1['len'].describe()"
   ]
  },
  {
   "cell_type": "code",
   "execution_count": 9,
   "metadata": {},
   "outputs": [
    {
     "data": {
      "text/html": [
       "<div>\n",
       "<style scoped>\n",
       "    .dataframe tbody tr th:only-of-type {\n",
       "        vertical-align: middle;\n",
       "    }\n",
       "\n",
       "    .dataframe tbody tr th {\n",
       "        vertical-align: top;\n",
       "    }\n",
       "\n",
       "    .dataframe thead th {\n",
       "        text-align: right;\n",
       "    }\n",
       "</style>\n",
       "<table border=\"1\" class=\"dataframe\">\n",
       "  <thead>\n",
       "    <tr style=\"text-align: right;\">\n",
       "      <th></th>\n",
       "      <th>id</th>\n",
       "      <th>seq</th>\n",
       "      <th>len</th>\n",
       "      <th>gc</th>\n",
       "      <th>xrRNA</th>\n",
       "      <th>name</th>\n",
       "    </tr>\n",
       "  </thead>\n",
       "  <tbody>\n",
       "    <tr>\n",
       "      <th>0</th>\n",
       "      <td>ALKV_JF416965.1:77-171</td>\n",
       "      <td>gccccaacgacgaacuguggcagcacaccauuuggugacgggaaac...</td>\n",
       "      <td>94</td>\n",
       "      <td>0.585106</td>\n",
       "      <td>1</td>\n",
       "      <td>ALKV_xrRNA1</td>\n",
       "    </tr>\n",
       "    <tr>\n",
       "      <th>2</th>\n",
       "      <td>LGTV_OP037822.1:111-213</td>\n",
       "      <td>acaagaaaaauggugggaugcggcaacgcacgaggcucgugacggg...</td>\n",
       "      <td>102</td>\n",
       "      <td>0.578431</td>\n",
       "      <td>1</td>\n",
       "      <td>LGTV_xrRNA1</td>\n",
       "    </tr>\n",
       "    <tr>\n",
       "      <th>6</th>\n",
       "      <td>LIV_MK007540.1:37-135</td>\n",
       "      <td>aagguaaccauggaaugaugcggcagcgcgcgacagcgacggggaa...</td>\n",
       "      <td>98</td>\n",
       "      <td>0.612245</td>\n",
       "      <td>1</td>\n",
       "      <td>LIV_xrRNA1</td>\n",
       "    </tr>\n",
       "    <tr>\n",
       "      <th>39</th>\n",
       "      <td>POWV_OP037817.1:27-131</td>\n",
       "      <td>cccuaacacaggggaugguguggcagcgcacaacgacaucgugacg...</td>\n",
       "      <td>104</td>\n",
       "      <td>0.596154</td>\n",
       "      <td>1</td>\n",
       "      <td>POWV_xrRNA1</td>\n",
       "    </tr>\n",
       "    <tr>\n",
       "      <th>109</th>\n",
       "      <td>OHFV_MT354626.1:245-344</td>\n",
       "      <td>uaacgaaucaugggaauggagcggcagcgcacgagagugacgggga...</td>\n",
       "      <td>99</td>\n",
       "      <td>0.606061</td>\n",
       "      <td>1</td>\n",
       "      <td>OHFV_xrRNA1</td>\n",
       "    </tr>\n",
       "    <tr>\n",
       "      <th>225</th>\n",
       "      <td>MG243699.1:10392-10491</td>\n",
       "      <td>cuaggggaucauggagugaugcggcagcgcgcgauagcgacgggga...</td>\n",
       "      <td>99</td>\n",
       "      <td>0.616162</td>\n",
       "      <td>1</td>\n",
       "      <td>TBEV_xrRNA1</td>\n",
       "    </tr>\n",
       "    <tr>\n",
       "      <th>290</th>\n",
       "      <td>DTV_OP037825.1:27-129</td>\n",
       "      <td>acccacuacagggggugauguggcagcgcaccacgacaucgugacg...</td>\n",
       "      <td>102</td>\n",
       "      <td>0.588235</td>\n",
       "      <td>1</td>\n",
       "      <td>DTV_xrRNA1</td>\n",
       "    </tr>\n",
       "    <tr>\n",
       "      <th>294</th>\n",
       "      <td>GGV_MN830233.1:2-106</td>\n",
       "      <td>ccuaaaaaucugagacuuguguggcagcgcacuaacggugugacgg...</td>\n",
       "      <td>104</td>\n",
       "      <td>0.557692</td>\n",
       "      <td>1</td>\n",
       "      <td>GGV_xrRNA1</td>\n",
       "    </tr>\n",
       "    <tr>\n",
       "      <th>298</th>\n",
       "      <td>KFDV_MG720087.1:75-170</td>\n",
       "      <td>agccccaacgacgaacuguggcagcacaccauuuggugacgggaag...</td>\n",
       "      <td>95</td>\n",
       "      <td>0.568421</td>\n",
       "      <td>1</td>\n",
       "      <td>KFDV_xrRNA1</td>\n",
       "    </tr>\n",
       "    <tr>\n",
       "      <th>302</th>\n",
       "      <td>KSIV_AY863002.1:2-101</td>\n",
       "      <td>ccacaauugaggggcacacuggcaacacaccauuggugacgggaau...</td>\n",
       "      <td>99</td>\n",
       "      <td>0.555556</td>\n",
       "      <td>1</td>\n",
       "      <td>KSIV_xrRNA1</td>\n",
       "    </tr>\n",
       "    <tr>\n",
       "      <th>308</th>\n",
       "      <td>MPFV_LC582740.1:1-75</td>\n",
       "      <td>aaccucguggggugagcccaaa-agcaggaagagcugaccgucuuc...</td>\n",
       "      <td>77</td>\n",
       "      <td>0.567568</td>\n",
       "      <td>1</td>\n",
       "      <td>MPFV_xrRNA1</td>\n",
       "    </tr>\n",
       "    <tr>\n",
       "      <th>311</th>\n",
       "      <td>NEGV_KT224355.1:37-135</td>\n",
       "      <td>AAGGAGACCAUGGAAUGGUGCGGCAGCGCGCAGCAGCGACGGGGAA...</td>\n",
       "      <td>98</td>\n",
       "      <td>0.642857</td>\n",
       "      <td>1</td>\n",
       "      <td>NEGV_xrRNA1</td>\n",
       "    </tr>\n",
       "    <tr>\n",
       "      <th>315</th>\n",
       "      <td>SGEV_NC_027709.1:27-125</td>\n",
       "      <td>UAAGGGAUCAUGGAAUGAUGCGGCAGCGCGCGAUAGCGACGGGGAG...</td>\n",
       "      <td>98</td>\n",
       "      <td>0.612245</td>\n",
       "      <td>1</td>\n",
       "      <td>SGEV_xrRNA1</td>\n",
       "    </tr>\n",
       "    <tr>\n",
       "      <th>319</th>\n",
       "      <td>TYUV_KT224356.1:262-347</td>\n",
       "      <td>UCUCAUGAGACGGGUAUGGCAGCAGAAAACGGGGAGCUAGCCGUUC...</td>\n",
       "      <td>85</td>\n",
       "      <td>0.505882</td>\n",
       "      <td>1</td>\n",
       "      <td>TYUV_xrRNA1</td>\n",
       "    </tr>\n",
       "    <tr>\n",
       "      <th>321</th>\n",
       "      <td>XiFV_OP699738.2:10-70</td>\n",
       "      <td>ggggugagcuggagcagcagaaagaacuga-ccgucuuccacccuu...</td>\n",
       "      <td>64</td>\n",
       "      <td>0.533333</td>\n",
       "      <td>1</td>\n",
       "      <td>XiFV_xrRNA1</td>\n",
       "    </tr>\n",
       "    <tr>\n",
       "      <th>326</th>\n",
       "      <td>SREV:339-428</td>\n",
       "      <td>GCAAGCCAUGCACGCGUGUCCGGCAGCAGAAAACGGGGAGCUGGCC...</td>\n",
       "      <td>89</td>\n",
       "      <td>0.640449</td>\n",
       "      <td>1</td>\n",
       "      <td>SREV_xrRNA1</td>\n",
       "    </tr>\n",
       "  </tbody>\n",
       "</table>\n",
       "</div>"
      ],
      "text/plain": [
       "                          id  \\\n",
       "0     ALKV_JF416965.1:77-171   \n",
       "2    LGTV_OP037822.1:111-213   \n",
       "6      LIV_MK007540.1:37-135   \n",
       "39    POWV_OP037817.1:27-131   \n",
       "109  OHFV_MT354626.1:245-344   \n",
       "225   MG243699.1:10392-10491   \n",
       "290    DTV_OP037825.1:27-129   \n",
       "294     GGV_MN830233.1:2-106   \n",
       "298   KFDV_MG720087.1:75-170   \n",
       "302    KSIV_AY863002.1:2-101   \n",
       "308     MPFV_LC582740.1:1-75   \n",
       "311   NEGV_KT224355.1:37-135   \n",
       "315  SGEV_NC_027709.1:27-125   \n",
       "319  TYUV_KT224356.1:262-347   \n",
       "321    XiFV_OP699738.2:10-70   \n",
       "326             SREV:339-428   \n",
       "\n",
       "                                                   seq  len        gc  xrRNA  \\\n",
       "0    gccccaacgacgaacuguggcagcacaccauuuggugacgggaaac...   94  0.585106      1   \n",
       "2    acaagaaaaauggugggaugcggcaacgcacgaggcucgugacggg...  102  0.578431      1   \n",
       "6    aagguaaccauggaaugaugcggcagcgcgcgacagcgacggggaa...   98  0.612245      1   \n",
       "39   cccuaacacaggggaugguguggcagcgcacaacgacaucgugacg...  104  0.596154      1   \n",
       "109  uaacgaaucaugggaauggagcggcagcgcacgagagugacgggga...   99  0.606061      1   \n",
       "225  cuaggggaucauggagugaugcggcagcgcgcgauagcgacgggga...   99  0.616162      1   \n",
       "290  acccacuacagggggugauguggcagcgcaccacgacaucgugacg...  102  0.588235      1   \n",
       "294  ccuaaaaaucugagacuuguguggcagcgcacuaacggugugacgg...  104  0.557692      1   \n",
       "298  agccccaacgacgaacuguggcagcacaccauuuggugacgggaag...   95  0.568421      1   \n",
       "302  ccacaauugaggggcacacuggcaacacaccauuggugacgggaau...   99  0.555556      1   \n",
       "308  aaccucguggggugagcccaaa-agcaggaagagcugaccgucuuc...   77  0.567568      1   \n",
       "311  AAGGAGACCAUGGAAUGGUGCGGCAGCGCGCAGCAGCGACGGGGAA...   98  0.642857      1   \n",
       "315  UAAGGGAUCAUGGAAUGAUGCGGCAGCGCGCGAUAGCGACGGGGAG...   98  0.612245      1   \n",
       "319  UCUCAUGAGACGGGUAUGGCAGCAGAAAACGGGGAGCUAGCCGUUC...   85  0.505882      1   \n",
       "321  ggggugagcuggagcagcagaaagaacuga-ccgucuuccacccuu...   64  0.533333      1   \n",
       "326  GCAAGCCAUGCACGCGUGUCCGGCAGCAGAAAACGGGGAGCUGGCC...   89  0.640449      1   \n",
       "\n",
       "            name  \n",
       "0    ALKV_xrRNA1  \n",
       "2    LGTV_xrRNA1  \n",
       "6     LIV_xrRNA1  \n",
       "39   POWV_xrRNA1  \n",
       "109  OHFV_xrRNA1  \n",
       "225  TBEV_xrRNA1  \n",
       "290   DTV_xrRNA1  \n",
       "294   GGV_xrRNA1  \n",
       "298  KFDV_xrRNA1  \n",
       "302  KSIV_xrRNA1  \n",
       "308  MPFV_xrRNA1  \n",
       "311  NEGV_xrRNA1  \n",
       "315  SGEV_xrRNA1  \n",
       "319  TYUV_xrRNA1  \n",
       "321  XiFV_xrRNA1  \n",
       "326  SREV_xrRNA1  "
      ]
     },
     "execution_count": 9,
     "metadata": {},
     "output_type": "execute_result"
    }
   ],
   "source": [
    "df1"
   ]
  },
  {
   "cell_type": "code",
   "execution_count": 49,
   "metadata": {},
   "outputs": [
    {
     "name": "stdout",
     "output_type": "stream",
     "text": [
      "length mean: count    327.000000\n",
      "mean     101.727829\n",
      "std        6.927932\n",
      "min       64.000000\n",
      "25%       99.000000\n",
      "50%      100.000000\n",
      "75%      108.000000\n",
      "max      108.000000\n",
      "Name: len, dtype: float64\n"
     ]
    }
   ],
   "source": [
    "print(f\"length mean: {df_stats['len'].describe()}\")"
   ]
  },
  {
   "cell_type": "code",
   "execution_count": 50,
   "metadata": {},
   "outputs": [
    {
     "data": {
      "image/png": "[encoded data removed]",
      "text/plain": [
       "<Figure size 640x480 with 1 Axes>"
      ]
     },
     "metadata": {},
     "output_type": "display_data"
    }
   ],
   "source": [
    "plt.boxplot(df_stats['len'])\n",
    "plt.show()"
   ]
  },
  {
   "cell_type": "code",
   "execution_count": 51,
   "metadata": {},
   "outputs": [
    {
     "ename": "NameError",
     "evalue": "name 'df_gc' is not defined",
     "output_type": "error",
     "traceback": [
      "\u001b[0;31m---------------------------------------------------------------------------\u001b[0m",
      "\u001b[0;31mNameError\u001b[0m                                 Traceback (most recent call last)",
      "\u001b[1;32m/home/mescalin/kgutenbrunner/MA/notebook.ipynb Cell 9\u001b[0m line \u001b[0;36m1\n\u001b[0;32m----> <a href='vscode-notebook-cell:/home/mescalin/kgutenbrunner/MA/notebook.ipynb#X13sZmlsZQ%3D%3D?line=0'>1</a>\u001b[0m grouped \u001b[39m=\u001b[39m df_gc\u001b[39m.\u001b[39mgroupby(\u001b[39m'\u001b[39m\u001b[39mname\u001b[39m\u001b[39m'\u001b[39m)\n",
      "\u001b[0;31mNameError\u001b[0m: name 'df_gc' is not defined"
     ]
    }
   ],
   "source": [
    "grouped = df_stats.groupby('name')"
   ]
  },
  {
   "cell_type": "code",
   "execution_count": null,
   "metadata": {},
   "outputs": [],
   "source": [
    "gc_means = {}\n",
    "for group_name, group in grouped:\n",
    "    gc_means[group_name] = group['gc'].mean()\n",
    "    print(group_name, len(group))\n",
    "gc_means\n"
   ]
  },
  {
   "cell_type": "code",
   "execution_count": null,
   "metadata": {},
   "outputs": [
    {
     "data": {
      "image/png": "[encoded data removed]",
      "text/plain": [
       "<Figure size 1000x500 with 1 Axes>"
      ]
     },
     "metadata": {},
     "output_type": "display_data"
    }
   ],
   "source": [
    "means_sorted = sorted(gc_means.items(), key=lambda x:x[1])\n",
    "means_sorted = dict(means_sorted)\n",
    "plt.bar(*zip(*means_sorted.items()))\n",
    "plt.ylim(0.4, 0.7)\n",
    "plt.margins(0.0002)\n",
    "#plt.hlines(0.5, -1, 16, color='r')\n",
    "plt.show()"
   ]
  },
  {
   "cell_type": "markdown",
   "metadata": {},
   "source": [
    "01.02.2024 - RNA design "
   ]
  },
  {
   "cell_type": "code",
   "execution_count": null,
   "metadata": {},
   "outputs": [],
   "source": [
    "statistic_file = 'TBFV_analysis_denis/TBFV_statistics.csv'\n",
    "statistic_pars_file = 'TBFV_analysis_denis/TBFV_statistics_pairs.csv'"
   ]
  },
  {
   "cell_type": "code",
   "execution_count": null,
   "metadata": {},
   "outputs": [
    {
     "data": {
      "text/html": [
       "<div>\n",
       "<style scoped>\n",
       "    .dataframe tbody tr th:only-of-type {\n",
       "        vertical-align: middle;\n",
       "    }\n",
       "\n",
       "    .dataframe tbody tr th {\n",
       "        vertical-align: top;\n",
       "    }\n",
       "\n",
       "    .dataframe thead th {\n",
       "        text-align: right;\n",
       "    }\n",
       "</style>\n",
       "<table border=\"1\" class=\"dataframe\">\n",
       "  <thead>\n",
       "    <tr style=\"text-align: right;\">\n",
       "      <th>attribute</th>\n",
       "      <th>stem a</th>\n",
       "      <th>interior loop</th>\n",
       "      <th>stem b</th>\n",
       "      <th>hairpin loop b</th>\n",
       "      <th>stem c</th>\n",
       "      <th>hairpin loop c</th>\n",
       "      <th>nt_until_pk</th>\n",
       "    </tr>\n",
       "  </thead>\n",
       "  <tbody>\n",
       "    <tr>\n",
       "      <th>count</th>\n",
       "      <td>23.000000</td>\n",
       "      <td>23.0</td>\n",
       "      <td>23.000000</td>\n",
       "      <td>23.000000</td>\n",
       "      <td>23.000000</td>\n",
       "      <td>23.000000</td>\n",
       "      <td>23.000000</td>\n",
       "    </tr>\n",
       "    <tr>\n",
       "      <th>mean</th>\n",
       "      <td>12.130435</td>\n",
       "      <td>6.0</td>\n",
       "      <td>3.913043</td>\n",
       "      <td>5.521739</td>\n",
       "      <td>4.695652</td>\n",
       "      <td>10.434783</td>\n",
       "      <td>14.521739</td>\n",
       "    </tr>\n",
       "    <tr>\n",
       "      <th>std</th>\n",
       "      <td>1.358621</td>\n",
       "      <td>0.0</td>\n",
       "      <td>1.164359</td>\n",
       "      <td>2.107768</td>\n",
       "      <td>0.764840</td>\n",
       "      <td>1.804693</td>\n",
       "      <td>2.371604</td>\n",
       "    </tr>\n",
       "    <tr>\n",
       "      <th>min</th>\n",
       "      <td>8.000000</td>\n",
       "      <td>6.0</td>\n",
       "      <td>2.000000</td>\n",
       "      <td>3.000000</td>\n",
       "      <td>4.000000</td>\n",
       "      <td>4.000000</td>\n",
       "      <td>9.000000</td>\n",
       "    </tr>\n",
       "    <tr>\n",
       "      <th>25%</th>\n",
       "      <td>11.500000</td>\n",
       "      <td>6.0</td>\n",
       "      <td>3.000000</td>\n",
       "      <td>4.000000</td>\n",
       "      <td>4.000000</td>\n",
       "      <td>10.000000</td>\n",
       "      <td>13.000000</td>\n",
       "    </tr>\n",
       "    <tr>\n",
       "      <th>50%</th>\n",
       "      <td>12.000000</td>\n",
       "      <td>6.0</td>\n",
       "      <td>4.000000</td>\n",
       "      <td>4.000000</td>\n",
       "      <td>5.000000</td>\n",
       "      <td>10.000000</td>\n",
       "      <td>15.000000</td>\n",
       "    </tr>\n",
       "    <tr>\n",
       "      <th>75%</th>\n",
       "      <td>13.000000</td>\n",
       "      <td>6.0</td>\n",
       "      <td>5.000000</td>\n",
       "      <td>7.000000</td>\n",
       "      <td>5.000000</td>\n",
       "      <td>12.000000</td>\n",
       "      <td>16.000000</td>\n",
       "    </tr>\n",
       "    <tr>\n",
       "      <th>max</th>\n",
       "      <td>15.000000</td>\n",
       "      <td>6.0</td>\n",
       "      <td>7.000000</td>\n",
       "      <td>9.000000</td>\n",
       "      <td>7.000000</td>\n",
       "      <td>13.000000</td>\n",
       "      <td>20.000000</td>\n",
       "    </tr>\n",
       "  </tbody>\n",
       "</table>\n",
       "</div>"
      ],
      "text/plain": [
       "attribute     stem a  interior loop     stem b  hairpin loop b     stem c  \\\n",
       "count      23.000000           23.0  23.000000       23.000000  23.000000   \n",
       "mean       12.130435            6.0   3.913043        5.521739   4.695652   \n",
       "std         1.358621            0.0   1.164359        2.107768   0.764840   \n",
       "min         8.000000            6.0   2.000000        3.000000   4.000000   \n",
       "25%        11.500000            6.0   3.000000        4.000000   4.000000   \n",
       "50%        12.000000            6.0   4.000000        4.000000   5.000000   \n",
       "75%        13.000000            6.0   5.000000        7.000000   5.000000   \n",
       "max        15.000000            6.0   7.000000        9.000000   7.000000   \n",
       "\n",
       "attribute  hairpin loop c  nt_until_pk  \n",
       "count           23.000000    23.000000  \n",
       "mean            10.434783    14.521739  \n",
       "std              1.804693     2.371604  \n",
       "min              4.000000     9.000000  \n",
       "25%             10.000000    13.000000  \n",
       "50%             10.000000    15.000000  \n",
       "75%             12.000000    16.000000  \n",
       "max             13.000000    20.000000  "
      ]
     },
     "execution_count": 31,
     "metadata": {},
     "output_type": "execute_result"
    }
   ],
   "source": [
    "\n",
    "import pandas as pd\n",
    "\n",
    "csv_data = pd.read_csv(statistic_file)\n",
    "csv_data = csv_data.set_index('attribute')\n",
    "csv_data = csv_data.transpose()\n",
    "csv_data.describe()"
   ]
  },
  {
   "cell_type": "markdown",
   "metadata": {},
   "source": [
    "02.02.2024 how many seqs?"
   ]
  },
  {
   "cell_type": "code",
   "execution_count": 4,
   "metadata": {},
   "outputs": [],
   "source": [
    "path_xrRNA = '/home/mescalin/skibinski/xrRNA-RS-Denis'\n",
    "folders = [\"02_TBFV\",'03_NKV','04_ISFV','05_MBFV' ]\n",
    "strains = [\"TBFV\",'NKV','ISFV','MBFV' ]\n"
   ]
  },
  {
   "cell_type": "code",
   "execution_count": null,
   "metadata": {},
   "outputs": [],
   "source": [
    "import os\n",
    "stk_folder = '/scr/aldea/kgutenbrunner/data/tbfv_stk'\n",
    "stk_files = os.listdir(stk_folder)\n",
    "stk_files = [stk_folder + \"/\" + file for file in stk_files]\n",
    "\n",
    "ids = []\n",
    "for stk_file in stk_files:\n",
    "    with open(stk_file, 'r') as f:\n",
    "        file_data = f.read().split(\"\\n\")\n",
    "        seqs = [line.split(\" \")[0] for line in file_data if not line.startswith(\"#\") and line and line != '//']\n",
    "        ids += seqs\n",
    "print(ids)\n",
    "print(len(ids))\n"
   ]
  },
  {
   "cell_type": "markdown",
   "metadata": {},
   "source": [
    "12.02.2024"
   ]
  },
  {
   "cell_type": "code",
   "execution_count": 7,
   "metadata": {},
   "outputs": [],
   "source": [
    "def read_stockholm(file_name):\n",
    "    with open(file_name, \"r\") as f:\n",
    "        file_data = f.read()\n",
    "    \n",
    "    file_data = file_data.split(\"\\n\")\n",
    "    seq = [line.split(\" \") for line in file_data if re.match(\"\\w\",line)]\n",
    "    ss_cons = [line.split(\" \")[-1] for line in file_data if line.startswith(\"#=GC SS_cons\")]\n",
    "    seq = [[e for e in line if e] for line in seq]\n",
    "    return seq, ss_cons\n",
    "\n",
    "def calculate_gc_content(string):\n",
    "    string = string.lower()\n",
    "    gc_content = (string.count(\"g\") + string.count(\"c\")) / (string.count(\"g\") + string.count(\"c\") + string.count(\"a\") + string.count(\"u\"))\n",
    "    return gc_content"
   ]
  },
  {
   "cell_type": "code",
   "execution_count": 8,
   "metadata": {},
   "outputs": [
    {
     "name": "stdout",
     "output_type": "stream",
     "text": [
      "327\n",
      "GC mean: 0.5930832287118337\n",
      "length mean: 101.72782874617737\n"
     ]
    }
   ],
   "source": [
    "import os\n",
    "import re\n",
    "import pandas as pd\n",
    "\n",
    "stk_folder = '../data/tbfv_stk'\n",
    "stk_files = os.listdir(stk_folder)\n",
    "stk_files = [stk_folder + \"/\" + file for file in stk_files]\n",
    "\n",
    "data_for_df = []\n",
    "names = []\n",
    "for file in stk_files:\n",
    "    name = file[17:20]\n",
    "    if name[-1] == \"_\":\n",
    "        name = name[0:3]\n",
    "    names.append(names)\n",
    "    seqs,ss_cons =  read_stockholm(file)\n",
    "    for id, seq in seqs:\n",
    "        data_for_df.append([id, seq, len(seq), ss_cons[0], calculate_gc_content(seq), name])\n",
    "\n",
    "df_stats = pd.DataFrame(data_for_df, columns=['id', 'seq', 'len', 'consens structure', 'gc', 'name'])\n",
    "print(len(df_stats))\n",
    "print(f\"GC mean: {df_stats['gc'].mean()}\")\n",
    "print(f\"length mean: {df_stats['len'].mean()}\")\n"
   ]
  },
  {
   "cell_type": "code",
   "execution_count": 9,
   "metadata": {},
   "outputs": [],
   "source": [
    "import Levenshtein\n",
    "base_structure =    \"(((((((((((......((((((.......)))))).((((((............)))))).))))))))))).....................\"\n",
    "#pseudoknot1 =       \".................(((..........................................................................................)))......\"\n",
    "#pseudoknot2 =       \"............................................................((((...................................................))))\"\n",
    "iupac_seq =         \"NNNNNNNXXXXXXGGCAGCRCRCXXXXNNNXXXXXXXXXXGYGACGGGXXXXXXXXXXXXGGUCXXXXXXXXXXXXCCCGACXXXXXXNNNNNNNNNXXXXXXXXXXXUUYGUGAGACC\"\n",
    "#iupac_seq =        'NNNNNNNXXXXXXNNNNNNNNNNXXXXNNNXXXXXXXXXXNNNNNNNNXXXXXXXXXXXXNNNNXXXXXXXXXXXXNNNNNNXXXXXXNNNNNNNNNXXXXXXXXXXXNNNNNNNNNNN'\n",
    "#Numbers            \"01234567890123456789012345678901234567890123456789012345678901234567890123456789012345678901234567890123456789012345678\"\n",
    "#Numbers            \"0         1         2         3         4         5         6         7         8         9         10        11       \"\n",
    "\n",
    "ss_cons = df_stats['consens structure']"
   ]
  },
  {
   "cell_type": "code",
   "execution_count": 16,
   "metadata": {},
   "outputs": [
    {
     "name": "stdout",
     "output_type": "stream",
     "text": [
      "........((((((.((.((((......(((....))).((((............)))).)))).))))))))......................... 0.84375\n",
      "........((((((.((.((((......(((....))).((((............)))).)))).))))))))......................... 29\n"
     ]
    }
   ],
   "source": [
    "#distance = Levenshtein.distance(base_structure, ss_cons[0])\n",
    "\n",
    "best_dist = 100\n",
    "best_d_ss = None\n",
    "best_sim = 0\n",
    "best_ss = None\n",
    "for ss in ss_cons:\n",
    "    cur_sim = Levenshtein.ratio(base_structure, ss_cons[0])\n",
    "    cur_dis = Levenshtein.distance(base_structure, ss_cons[0])\n",
    "    if cur_sim > best_sim:\n",
    "        best_sim = cur_sim\n",
    "        best_ss = ss\n",
    "    if cur_dis < best_dist:\n",
    "        best_d_ss = ss\n",
    "        best_dist = cur_dis\n",
    "\n",
    "print(best_ss, best_sim)\n",
    "print(best_d_ss, best_dist)\n"
   ]
  },
  {
   "cell_type": "code",
   "execution_count": null,
   "metadata": {},
   "outputs": [],
   "source": []
  }
 ],
 "metadata": {
  "kernelspec": {
   "display_name": "myenv",
   "language": "python",
   "name": "python3"
  },
  "language_info": {
   "codemirror_mode": {
    "name": "ipython",
    "version": 3
   },
   "file_extension": ".py",
   "mimetype": "text/x-python",
   "name": "python",
   "nbconvert_exporter": "python",
   "pygments_lexer": "ipython3",
   "version": "3.9.18"
  }
 },
 "nbformat": 4,
 "nbformat_minor": 2
}
