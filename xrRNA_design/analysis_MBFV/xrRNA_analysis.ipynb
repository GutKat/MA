{
 "cells": [
  {
   "cell_type": "code",
   "execution_count": 3,
   "metadata": {},
   "outputs": [],
   "source": [
    "# true if working from tbi, false is working from home\n",
    "tbi = False\n",
    "\n",
    "if tbi:\n",
    "    base_folder = '/scr/aldea/kgutenbrunner/github/MA/'\n",
    "else:\n",
    "    base_folder = '/Users/katringutenbrunner/Desktop/MA/github/MA/'"
   ]
  },
  {
   "cell_type": "markdown",
   "metadata": {},
   "source": [
    "## Mosquito Borne Flavi Virus Analysis"
   ]
  },
  {
   "cell_type": "code",
   "execution_count": 7,
   "metadata": {},
   "outputs": [],
   "source": [
    "import os\n",
    "import csv\n",
    "import re\n",
    "import pandas as pd\n",
    "import matplotlib.pyplot as plt\n",
    "import numpy as np\n",
    "import pandas as pd\n",
    "from Bio import AlignIO"
   ]
  },
  {
   "cell_type": "code",
   "execution_count": 8,
   "metadata": {},
   "outputs": [],
   "source": [
    "# get all the stk files except YFV\n",
    "stk_folder = os.path.join(base_folder, 'data/mbfv_stk/')\n",
    "stk_files = [os.path.join(stk_folder, file) for file in os.listdir(stk_folder) if file.endswith('xrRNA1.stk') and 'YFV' not in file]"
   ]
  },
  {
   "cell_type": "code",
   "execution_count": 9,
   "metadata": {},
   "outputs": [],
   "source": [
    "# get the seqeuences from each stk file\n",
    "sequences = []\n",
    "rfs = []\n",
    "for stk_file in stk_files:\n",
    "    align = AlignIO.read(stk_file, \"stockholm\")\n",
    "    rfs.append(align.column_annotations['reference_annotation'])\n",
    "    for record in align:\n",
    "        sequences.append(str(record.seq))"
   ]
  },
  {
   "cell_type": "code",
   "execution_count": 10,
   "metadata": {},
   "outputs": [],
   "source": [
    "# import data from length counting file\n",
    "# left YVf out since it has a really big hl beta --> outlier\n",
    "MBFV_count_file = os.path.join(base_folder, 'xrRNA_design/analysis_MBFV/data/MBFV_xrRNA1.txt')\n",
    "df = pd.read_csv(MBFV_count_file, delimiter=\",\")\n"
   ]
  },
  {
   "cell_type": "code",
   "execution_count": 16,
   "metadata": {},
   "outputs": [],
   "source": [
    "# clean up data\n",
    "# stems are counting as base pairs not nts\n",
    "df = df.drop(columns=['seq_ML', 'seq_PKA', 'seq_PKB'])\n",
    "# add stem structure together for further analysis\n",
    "df_nts = df.copy()\n",
    "temp_df = df_nts.drop(columns='name').astype(int)\n",
    "df_nts['alpha'] = temp_df['stemA']*2\n",
    "df_nts['beta'] = temp_df['stemB']*2 + temp_df['hlB']\n",
    "df_nts['gamma'] = temp_df['stemG']*2 + temp_df['hlG']\n",
    "df_nts['stemG'] = temp_df['stemG']*2\n",
    "df_nts['stemB'] = temp_df['stemB']*2\n",
    "df_nts['stemA'] = temp_df['stemA']*2\n",
    "\n",
    "df_nts['n_PK'] = temp_df['n_PK']*2\n",
    "# df_merge = df_merge[['name', 'I', 'II', 'III', 'HL', 'sum']]\n",
    "new_order = ['name', 'stemA', 'alpha', 'stemB', 'hlB', 'beta', 'stemG','hlG','gamma', 'n_PK','bPK','b_PK','a_PK', 'len']\n",
    "\n",
    "# save the df as unique dataframe for later use\n",
    "df_MBFV = df_nts[new_order]"
   ]
  },
  {
   "cell_type": "markdown",
   "metadata": {},
   "source": [
    "## design Scaffold"
   ]
  },
  {
   "cell_type": "code",
   "execution_count": 11,
   "metadata": {},
   "outputs": [
    {
     "data": {
      "text/html": [
       "<div>\n",
       "<style scoped>\n",
       "    .dataframe tbody tr th:only-of-type {\n",
       "        vertical-align: middle;\n",
       "    }\n",
       "\n",
       "    .dataframe tbody tr th {\n",
       "        vertical-align: top;\n",
       "    }\n",
       "\n",
       "    .dataframe thead th {\n",
       "        text-align: right;\n",
       "    }\n",
       "</style>\n",
       "<table border=\"1\" class=\"dataframe\">\n",
       "  <thead>\n",
       "    <tr style=\"text-align: right;\">\n",
       "      <th></th>\n",
       "      <th>stemA</th>\n",
       "      <th>stemB</th>\n",
       "      <th>hlB</th>\n",
       "      <th>stemG</th>\n",
       "      <th>hlG</th>\n",
       "      <th>bPK</th>\n",
       "      <th>n_PK</th>\n",
       "      <th>b_PK</th>\n",
       "      <th>a_PK</th>\n",
       "      <th>len</th>\n",
       "    </tr>\n",
       "  </thead>\n",
       "  <tbody>\n",
       "    <tr>\n",
       "      <th>count</th>\n",
       "      <td>20.0</td>\n",
       "      <td>20.000000</td>\n",
       "      <td>20.000000</td>\n",
       "      <td>20.00000</td>\n",
       "      <td>20.000000</td>\n",
       "      <td>20.000000</td>\n",
       "      <td>20.00000</td>\n",
       "      <td>20.000000</td>\n",
       "      <td>20.000000</td>\n",
       "      <td>20.00000</td>\n",
       "    </tr>\n",
       "    <tr>\n",
       "      <th>mean</th>\n",
       "      <td>5.0</td>\n",
       "      <td>2.950000</td>\n",
       "      <td>4.900000</td>\n",
       "      <td>5.40000</td>\n",
       "      <td>11.150000</td>\n",
       "      <td>1.900000</td>\n",
       "      <td>5.80000</td>\n",
       "      <td>2.600000</td>\n",
       "      <td>2.400000</td>\n",
       "      <td>56.95000</td>\n",
       "    </tr>\n",
       "    <tr>\n",
       "      <th>std</th>\n",
       "      <td>0.0</td>\n",
       "      <td>1.431782</td>\n",
       "      <td>1.372665</td>\n",
       "      <td>0.88258</td>\n",
       "      <td>2.277464</td>\n",
       "      <td>2.174009</td>\n",
       "      <td>1.67332</td>\n",
       "      <td>1.667018</td>\n",
       "      <td>1.500877</td>\n",
       "      <td>3.88621</td>\n",
       "    </tr>\n",
       "    <tr>\n",
       "      <th>min</th>\n",
       "      <td>5.0</td>\n",
       "      <td>1.000000</td>\n",
       "      <td>3.000000</td>\n",
       "      <td>4.00000</td>\n",
       "      <td>5.000000</td>\n",
       "      <td>0.000000</td>\n",
       "      <td>3.00000</td>\n",
       "      <td>0.000000</td>\n",
       "      <td>1.000000</td>\n",
       "      <td>50.00000</td>\n",
       "    </tr>\n",
       "    <tr>\n",
       "      <th>25%</th>\n",
       "      <td>5.0</td>\n",
       "      <td>2.000000</td>\n",
       "      <td>4.000000</td>\n",
       "      <td>5.00000</td>\n",
       "      <td>9.750000</td>\n",
       "      <td>0.000000</td>\n",
       "      <td>4.00000</td>\n",
       "      <td>1.750000</td>\n",
       "      <td>1.000000</td>\n",
       "      <td>54.75000</td>\n",
       "    </tr>\n",
       "    <tr>\n",
       "      <th>50%</th>\n",
       "      <td>5.0</td>\n",
       "      <td>3.000000</td>\n",
       "      <td>5.000000</td>\n",
       "      <td>5.00000</td>\n",
       "      <td>12.000000</td>\n",
       "      <td>2.000000</td>\n",
       "      <td>6.00000</td>\n",
       "      <td>3.000000</td>\n",
       "      <td>2.500000</td>\n",
       "      <td>57.00000</td>\n",
       "    </tr>\n",
       "    <tr>\n",
       "      <th>75%</th>\n",
       "      <td>5.0</td>\n",
       "      <td>4.000000</td>\n",
       "      <td>6.000000</td>\n",
       "      <td>6.00000</td>\n",
       "      <td>13.000000</td>\n",
       "      <td>3.000000</td>\n",
       "      <td>7.25000</td>\n",
       "      <td>3.000000</td>\n",
       "      <td>3.000000</td>\n",
       "      <td>60.00000</td>\n",
       "    </tr>\n",
       "    <tr>\n",
       "      <th>max</th>\n",
       "      <td>5.0</td>\n",
       "      <td>5.000000</td>\n",
       "      <td>7.000000</td>\n",
       "      <td>8.00000</td>\n",
       "      <td>15.000000</td>\n",
       "      <td>6.000000</td>\n",
       "      <td>8.00000</td>\n",
       "      <td>7.000000</td>\n",
       "      <td>5.000000</td>\n",
       "      <td>62.00000</td>\n",
       "    </tr>\n",
       "  </tbody>\n",
       "</table>\n",
       "</div>"
      ],
      "text/plain": [
       "       stemA      stemB        hlB     stemG        hlG        bPK      n_PK  \\\n",
       "count   20.0  20.000000  20.000000  20.00000  20.000000  20.000000  20.00000   \n",
       "mean     5.0   2.950000   4.900000   5.40000  11.150000   1.900000   5.80000   \n",
       "std      0.0   1.431782   1.372665   0.88258   2.277464   2.174009   1.67332   \n",
       "min      5.0   1.000000   3.000000   4.00000   5.000000   0.000000   3.00000   \n",
       "25%      5.0   2.000000   4.000000   5.00000   9.750000   0.000000   4.00000   \n",
       "50%      5.0   3.000000   5.000000   5.00000  12.000000   2.000000   6.00000   \n",
       "75%      5.0   4.000000   6.000000   6.00000  13.000000   3.000000   7.25000   \n",
       "max      5.0   5.000000   7.000000   8.00000  15.000000   6.000000   8.00000   \n",
       "\n",
       "            b_PK       a_PK       len  \n",
       "count  20.000000  20.000000  20.00000  \n",
       "mean    2.600000   2.400000  56.95000  \n",
       "std     1.667018   1.500877   3.88621  \n",
       "min     0.000000   1.000000  50.00000  \n",
       "25%     1.750000   1.000000  54.75000  \n",
       "50%     3.000000   2.500000  57.00000  \n",
       "75%     3.000000   3.000000  60.00000  \n",
       "max     7.000000   5.000000  62.00000  "
      ]
     },
     "execution_count": 11,
     "metadata": {},
     "output_type": "execute_result"
    }
   ],
   "source": [
    "df.describe()"
   ]
  },
  {
   "cell_type": "code",
   "execution_count": 12,
   "metadata": {},
   "outputs": [],
   "source": [
    "# min max of the single structures\n",
    "seq =           'NNNNNNNNNXXXXXNNNXXXXXXXXXNNNNNNXXXXXXXXXXNNNNXXXXNXXXXXXXXXNNNNNNNNNNNXXXXXXNNNNXXXX'\n",
    "base =          '...(((((((((((.......)))))).((((((((....................))))))))..)))))..............'\n",
    "pk1 =           '((..............................................................))...................'\n",
    "pk2 =           '..........................................((((((((...........................))))))))'\n",
    "#                   alpha|   steam beta               stem gamma               alpha\n",
    "# limit HL gamma since it can now be longer than wanted --> can be 20 but maximum is 15"
   ]
  },
  {
   "cell_type": "markdown",
   "metadata": {},
   "source": [
    "inserting the fixed sequences"
   ]
  },
  {
   "cell_type": "code",
   "execution_count": 13,
   "metadata": {},
   "outputs": [
    {
     "data": {
      "text/plain": [
       "0     CCGCCGCKG\n",
       "1     CCGCCGCUG\n",
       "2     CCGCCGUCG\n",
       "3     CCGCCGCUG\n",
       "4     CCGCCGCUA\n",
       "5     CCGCCGCWA\n",
       "6     CCGCCGCUA\n",
       "7     CCGCCGCUG\n",
       "8     CCGCCGCUG\n",
       "9     CCGCCGCUG\n",
       "10    CCGCCGCUG\n",
       "11    CCGCCGCUG\n",
       "12    CCGCCGCUG\n",
       "13    CCGCCGCUG\n",
       "14    CCGCCGCUG\n",
       "15    CCGCUACUG\n",
       "16    CCGCCGCUG\n",
       "17    CCGCCGCUG\n",
       "18    CCGCCGCUG\n",
       "19    CCGCCGCAG\n",
       "Name: seq_ML, dtype: object"
      ]
     },
     "execution_count": 13,
     "metadata": {},
     "output_type": "execute_result"
    }
   ],
   "source": [
    "df['seq_ML']"
   ]
  },
  {
   "cell_type": "code",
   "execution_count": 14,
   "metadata": {},
   "outputs": [],
   "source": [
    "# inserting Multi loop and also stem alpha into scaffold \n",
    "#                *********                 ***                                  ********\n",
    "seq =           'AGUCAGGCCXXXXXNNNXXXXXXXXXGCCNNNXXXXXXXXXXNNNNXXXXNXXXXXXXXXNNNGCUGCCUGXXXXXXNNNNXXXX'\n",
    "base =          '...(((((((((((.......)))))).((((((((....................))))))))..)))))..............'\n",
    "pk1 =           '((..............................................................))...................'\n",
    "pk2 =           '..........................................((((((((...........................))))))))'"
   ]
  },
  {
   "cell_type": "code",
   "execution_count": 15,
   "metadata": {},
   "outputs": [
    {
     "data": {
      "text/plain": [
       "55"
      ]
     },
     "execution_count": 15,
     "metadata": {},
     "output_type": "execute_result"
    }
   ],
   "source": [
    "len('AGUCAGGCCGA--UGA------UCGCCACGCC---------GGUGAG--GAAA---GGUGUGCUGCCUG--------UUCGCCAC'.replace('-', ''))"
   ]
  },
  {
   "cell_type": "code",
   "execution_count": null,
   "metadata": {},
   "outputs": [],
   "source": []
  },
  {
   "cell_type": "markdown",
   "metadata": {},
   "source": [
    "## structure analysis"
   ]
  },
  {
   "cell_type": "code",
   "execution_count": 23,
   "metadata": {},
   "outputs": [],
   "source": [
    "import matplotlib.pyplot as plt\n",
    "\n",
    "# function for correlation analysis\n",
    "def correlation_analysis(df, method = 'spearman', statistic_file = False, save_fig = False, labels = None, mask = True):\n",
    "    stats_df = df.drop(columns='name').astype(int)\n",
    "    \n",
    "    #create some correlation analysis\n",
    "    corr =  stats_df.corr(method=method, numeric_only=False)\n",
    "    \n",
    "    # Display the correlation matrix\n",
    "    if mask:\n",
    "        mask = np.zeros_like(corr, dtype=bool)\n",
    "        mask[np.triu_indices_from(mask)] = True\n",
    "        corr[mask] = np.nan\n",
    "\n",
    "    if statistic_file:\n",
    "        corr.to_csv(statistic_file)\n",
    "        \n",
    "    plt.figure(figsize=(10, 10))\n",
    "    plt.imshow(corr, cmap='coolwarm', interpolation='nearest', vmin=-1, vmax=1,)\n",
    "    plt.colorbar(label=f'Correlation')\n",
    "    plt.title(f'Correlation Heatmap by {method}')\n",
    "    \n",
    "    if labels:\n",
    "        plt.xticks(np.arange(len(corr)), labels, rotation=45)\n",
    "        plt.yticks(np.arange(len(corr)), labels)\n",
    "    else:\n",
    "        plt.xticks(np.arange(len(corr)), corr.columns, rotation=45)\n",
    "        plt.yticks(np.arange(len(corr)), corr.columns)\n",
    "        \n",
    "    if save_fig:\n",
    "        plt.savefig(save_fig)\n",
    "    else:\n",
    "        plt.show()\n",
    "    return corr"
   ]
  },
  {
   "cell_type": "code",
   "execution_count": 26,
   "metadata": {},
   "outputs": [
    {
     "data": {
      "image/png": "[encoded data removed]",
      "text/plain": [
       "<Figure size 1000x1000 with 2 Axes>"
      ]
     },
     "metadata": {},
     "output_type": "display_data"
    }
   ],
   "source": [
    "temp_df = df_MBFV.drop(columns=['stemA', 'alpha'])\n",
    "correlation_analysis(temp_df, method=\"spearman\", mask = True)\n",
    "del temp_df"
   ]
  },
  {
   "cell_type": "code",
   "execution_count": 27,
   "metadata": {},
   "outputs": [
    {
     "data": {
      "image/png": "[encoded data removed]",
      "text/plain": [
       "<Figure size 1000x1000 with 2 Axes>"
      ]
     },
     "metadata": {},
     "output_type": "display_data"
    }
   ],
   "source": [
    "temp_df = df_MBFV.drop(columns=['stemA', 'alpha', 'bPK', 'a_PK', 'b_PK', 'len'])\n",
    "labels = [r'stem $\\beta$', r'hl $\\beta$', r'$\\beta$', r'stem $\\gamma$', r'hl $\\gamma$', r'$\\gamma$', 'PK2']\n",
    "\n",
    "correlation_analysis(temp_df, method=\"spearman\", labels=labels, mask = True)\n",
    "del temp_df"
   ]
  },
  {
   "cell_type": "code",
   "execution_count": 28,
   "metadata": {},
   "outputs": [
    {
     "data": {
      "image/png": "[encoded data removed]",
      "text/plain": [
       "<Figure size 1000x1000 with 2 Axes>"
      ]
     },
     "metadata": {},
     "output_type": "display_data"
    }
   ],
   "source": [
    "temp_df = df_MBFV.drop(columns=['stemA', 'alpha', 'bPK', 'a_PK', 'b_PK', 'len'])\n",
    "labels = [r'stem $\\beta$', r'hl $\\beta$', r'$\\beta$', r'stem $\\gamma$', r'hl $\\gamma$', r'$\\gamma$', 'PK2']\n",
    "\n",
    "correlation_analysis(temp_df, method=\"pearson\", labels=labels, mask = True)\n",
    "del temp_df"
   ]
  },
  {
   "cell_type": "code",
   "execution_count": 30,
   "metadata": {},
   "outputs": [
    {
     "data": {
      "image/png": "[encoded data removed]",
      "text/plain": [
       "<Figure size 1000x1000 with 1 Axes>"
      ]
     },
     "metadata": {},
     "output_type": "display_data"
    }
   ],
   "source": [
    "# create boxplot of different lengths\n",
    "plt.rcParams['text.usetex'] = True\n",
    "\n",
    "temp_df = df_MBFV.drop(columns=['name', 'len']).astype(int)\n",
    "plt.figure(figsize=(10, 10))\n",
    "temp_df.boxplot()\n",
    "plt.title('MBFV xrRNA length')\n",
    "\n",
    "labels = [r'stem $\\alpha$', r'$\\alpha$', r'stem $\\beta$', r'hl $\\beta$', r'$\\beta$', r'stem $\\gamma$', r'hl $\\gamma$', r'$\\gamma$', 'PK2', 'until PK2', 'before PK2', 'after PK2']\n",
    "plt.xticks(list(range(1, len(labels)+1)), labels, rotation=45)\n",
    "plt.yticks(np.arange(0, 24, step=2))\n",
    "plt.show()\n",
    "#save_file = os.path.join(base_folder, 'thesis/images/MBFV_xrRNA_analysis_boxplot.png')\n",
    "#plt.savefig(save_file)"
   ]
  },
  {
   "cell_type": "code",
   "execution_count": 31,
   "metadata": {},
   "outputs": [
    {
     "data": {
      "text/html": [
       "<div>\n",
       "<style scoped>\n",
       "    .dataframe tbody tr th:only-of-type {\n",
       "        vertical-align: middle;\n",
       "    }\n",
       "\n",
       "    .dataframe tbody tr th {\n",
       "        vertical-align: top;\n",
       "    }\n",
       "\n",
       "    .dataframe thead th {\n",
       "        text-align: right;\n",
       "    }\n",
       "</style>\n",
       "<table border=\"1\" class=\"dataframe\">\n",
       "  <thead>\n",
       "    <tr style=\"text-align: right;\">\n",
       "      <th></th>\n",
       "      <th>stemA</th>\n",
       "      <th>alpha</th>\n",
       "      <th>stemB</th>\n",
       "      <th>hlB</th>\n",
       "      <th>beta</th>\n",
       "      <th>stemG</th>\n",
       "      <th>hlG</th>\n",
       "      <th>gamma</th>\n",
       "      <th>n_PK</th>\n",
       "      <th>bPK</th>\n",
       "      <th>b_PK</th>\n",
       "      <th>a_PK</th>\n",
       "    </tr>\n",
       "  </thead>\n",
       "  <tbody>\n",
       "    <tr>\n",
       "      <th>count</th>\n",
       "      <td>20.0</td>\n",
       "      <td>20.0</td>\n",
       "      <td>20.000000</td>\n",
       "      <td>20.000000</td>\n",
       "      <td>20.000000</td>\n",
       "      <td>20.00000</td>\n",
       "      <td>20.000000</td>\n",
       "      <td>20.000000</td>\n",
       "      <td>20.00000</td>\n",
       "      <td>20.000000</td>\n",
       "      <td>20.000000</td>\n",
       "      <td>20.000000</td>\n",
       "    </tr>\n",
       "    <tr>\n",
       "      <th>mean</th>\n",
       "      <td>10.0</td>\n",
       "      <td>10.0</td>\n",
       "      <td>5.900000</td>\n",
       "      <td>4.900000</td>\n",
       "      <td>10.800000</td>\n",
       "      <td>10.80000</td>\n",
       "      <td>11.150000</td>\n",
       "      <td>21.950000</td>\n",
       "      <td>11.60000</td>\n",
       "      <td>1.900000</td>\n",
       "      <td>2.600000</td>\n",
       "      <td>2.400000</td>\n",
       "    </tr>\n",
       "    <tr>\n",
       "      <th>std</th>\n",
       "      <td>0.0</td>\n",
       "      <td>0.0</td>\n",
       "      <td>2.863564</td>\n",
       "      <td>1.372665</td>\n",
       "      <td>2.419221</td>\n",
       "      <td>1.76516</td>\n",
       "      <td>2.277464</td>\n",
       "      <td>1.145931</td>\n",
       "      <td>3.34664</td>\n",
       "      <td>2.174009</td>\n",
       "      <td>1.667018</td>\n",
       "      <td>1.500877</td>\n",
       "    </tr>\n",
       "    <tr>\n",
       "      <th>min</th>\n",
       "      <td>10.0</td>\n",
       "      <td>10.0</td>\n",
       "      <td>2.000000</td>\n",
       "      <td>3.000000</td>\n",
       "      <td>7.000000</td>\n",
       "      <td>8.00000</td>\n",
       "      <td>5.000000</td>\n",
       "      <td>20.000000</td>\n",
       "      <td>6.00000</td>\n",
       "      <td>0.000000</td>\n",
       "      <td>0.000000</td>\n",
       "      <td>1.000000</td>\n",
       "    </tr>\n",
       "    <tr>\n",
       "      <th>25%</th>\n",
       "      <td>10.0</td>\n",
       "      <td>10.0</td>\n",
       "      <td>4.000000</td>\n",
       "      <td>4.000000</td>\n",
       "      <td>9.000000</td>\n",
       "      <td>10.00000</td>\n",
       "      <td>9.750000</td>\n",
       "      <td>21.000000</td>\n",
       "      <td>8.00000</td>\n",
       "      <td>0.000000</td>\n",
       "      <td>1.750000</td>\n",
       "      <td>1.000000</td>\n",
       "    </tr>\n",
       "    <tr>\n",
       "      <th>50%</th>\n",
       "      <td>10.0</td>\n",
       "      <td>10.0</td>\n",
       "      <td>6.000000</td>\n",
       "      <td>5.000000</td>\n",
       "      <td>11.500000</td>\n",
       "      <td>10.00000</td>\n",
       "      <td>12.000000</td>\n",
       "      <td>22.000000</td>\n",
       "      <td>12.00000</td>\n",
       "      <td>2.000000</td>\n",
       "      <td>3.000000</td>\n",
       "      <td>2.500000</td>\n",
       "    </tr>\n",
       "    <tr>\n",
       "      <th>75%</th>\n",
       "      <td>10.0</td>\n",
       "      <td>10.0</td>\n",
       "      <td>8.000000</td>\n",
       "      <td>6.000000</td>\n",
       "      <td>12.250000</td>\n",
       "      <td>12.00000</td>\n",
       "      <td>13.000000</td>\n",
       "      <td>23.000000</td>\n",
       "      <td>14.50000</td>\n",
       "      <td>3.000000</td>\n",
       "      <td>3.000000</td>\n",
       "      <td>3.000000</td>\n",
       "    </tr>\n",
       "    <tr>\n",
       "      <th>max</th>\n",
       "      <td>10.0</td>\n",
       "      <td>10.0</td>\n",
       "      <td>10.000000</td>\n",
       "      <td>7.000000</td>\n",
       "      <td>15.000000</td>\n",
       "      <td>16.00000</td>\n",
       "      <td>15.000000</td>\n",
       "      <td>23.000000</td>\n",
       "      <td>16.00000</td>\n",
       "      <td>6.000000</td>\n",
       "      <td>7.000000</td>\n",
       "      <td>5.000000</td>\n",
       "    </tr>\n",
       "  </tbody>\n",
       "</table>\n",
       "</div>"
      ],
      "text/plain": [
       "       stemA  alpha      stemB        hlB       beta     stemG        hlG  \\\n",
       "count   20.0   20.0  20.000000  20.000000  20.000000  20.00000  20.000000   \n",
       "mean    10.0   10.0   5.900000   4.900000  10.800000  10.80000  11.150000   \n",
       "std      0.0    0.0   2.863564   1.372665   2.419221   1.76516   2.277464   \n",
       "min     10.0   10.0   2.000000   3.000000   7.000000   8.00000   5.000000   \n",
       "25%     10.0   10.0   4.000000   4.000000   9.000000  10.00000   9.750000   \n",
       "50%     10.0   10.0   6.000000   5.000000  11.500000  10.00000  12.000000   \n",
       "75%     10.0   10.0   8.000000   6.000000  12.250000  12.00000  13.000000   \n",
       "max     10.0   10.0  10.000000   7.000000  15.000000  16.00000  15.000000   \n",
       "\n",
       "           gamma      n_PK        bPK       b_PK       a_PK  \n",
       "count  20.000000  20.00000  20.000000  20.000000  20.000000  \n",
       "mean   21.950000  11.60000   1.900000   2.600000   2.400000  \n",
       "std     1.145931   3.34664   2.174009   1.667018   1.500877  \n",
       "min    20.000000   6.00000   0.000000   0.000000   1.000000  \n",
       "25%    21.000000   8.00000   0.000000   1.750000   1.000000  \n",
       "50%    22.000000  12.00000   2.000000   3.000000   2.500000  \n",
       "75%    23.000000  14.50000   3.000000   3.000000   3.000000  \n",
       "max    23.000000  16.00000   6.000000   7.000000   5.000000  "
      ]
     },
     "execution_count": 31,
     "metadata": {},
     "output_type": "execute_result"
    }
   ],
   "source": [
    "temp_df.describe()"
   ]
  },
  {
   "cell_type": "code",
   "execution_count": null,
   "metadata": {},
   "outputs": [],
   "source": []
  },
  {
   "cell_type": "markdown",
   "metadata": {},
   "source": [
    "## length distribution"
   ]
  },
  {
   "cell_type": "code",
   "execution_count": 32,
   "metadata": {},
   "outputs": [
    {
     "data": {
      "text/plain": [
       "Text(0, 0.5, 'frequency')"
      ]
     },
     "execution_count": 32,
     "metadata": {},
     "output_type": "execute_result"
    },
    {
     "data": {
      "image/png": "[encoded data removed]",
      "text/plain": [
       "<Figure size 640x480 with 1 Axes>"
      ]
     },
     "metadata": {},
     "output_type": "display_data"
    }
   ],
   "source": [
    "sequence_lengths =[len(seq) for seq in sequences]\n",
    "plt.hist(sequence_lengths)\n",
    "plt.title('Histogram of all sequence lengths')\n",
    "plt.xlabel('length')\n",
    "plt.ylabel('frequency')"
   ]
  },
  {
   "cell_type": "code",
   "execution_count": 33,
   "metadata": {},
   "outputs": [
    {
     "name": "stdout",
     "output_type": "stream",
     "text": [
      "53\n",
      "63\n"
     ]
    },
    {
     "data": {
      "text/plain": [
       "60.73870967741936"
      ]
     },
     "execution_count": 33,
     "metadata": {},
     "output_type": "execute_result"
    }
   ],
   "source": [
    "import numpy as np\n",
    "print(np.min(sequence_lengths))\n",
    "print(np.max(sequence_lengths))\n",
    "np.mean(sequence_lengths)"
   ]
  },
  {
   "cell_type": "code",
   "execution_count": 34,
   "metadata": {},
   "outputs": [
    {
     "data": {
      "text/plain": [
       "Text(0, 0.5, 'frequency')"
      ]
     },
     "execution_count": 34,
     "metadata": {},
     "output_type": "execute_result"
    },
    {
     "data": {
      "image/png": "[encoded data removed]",
      "text/plain": [
       "<Figure size 640x480 with 1 Axes>"
      ]
     },
     "metadata": {},
     "output_type": "display_data"
    }
   ],
   "source": [
    "sequence_lengths =[len(seq) for seq in rfs]\n",
    "plt.hist(sequence_lengths)\n",
    "plt.title('Histogram of reference annotation lengths')\n",
    "plt.xlabel('length')\n",
    "plt.ylabel('frequency')"
   ]
  },
  {
   "cell_type": "code",
   "execution_count": 35,
   "metadata": {},
   "outputs": [],
   "source": [
    "import RNA"
   ]
  },
  {
   "cell_type": "code",
   "execution_count": 36,
   "metadata": {},
   "outputs": [],
   "source": [
    "mfes = []\n",
    "for sequence in sequences:\n",
    "    fc = RNA.fold_compound(sequence)\n",
    "    fc.pf()\n",
    "    (ss, mfe) = fc.mfe()\n",
    "    mfes.append(mfe)\n",
    "mfes = np.array(mfes)"
   ]
  },
  {
   "cell_type": "code",
   "execution_count": 37,
   "metadata": {},
   "outputs": [
    {
     "name": "stdout",
     "output_type": "stream",
     "text": [
      "-25.399999618530273\n",
      "-7.400000095367432\n"
     ]
    },
    {
     "data": {
      "text/plain": [
       "-17.29193548848552"
      ]
     },
     "execution_count": 37,
     "metadata": {},
     "output_type": "execute_result"
    }
   ],
   "source": [
    "print(np.min(mfes))\n",
    "print(np.max(mfes))\n",
    "np.mean(mfes)"
   ]
  },
  {
   "cell_type": "code",
   "execution_count": 38,
   "metadata": {},
   "outputs": [
    {
     "data": {
      "text/plain": [
       "Text(0, 0.5, 'frequency')"
      ]
     },
     "execution_count": 38,
     "metadata": {},
     "output_type": "execute_result"
    },
    {
     "data": {
      "image/png": "[encoded data removed]",
      "text/plain": [
       "<Figure size 640x480 with 1 Axes>"
      ]
     },
     "metadata": {},
     "output_type": "display_data"
    }
   ],
   "source": [
    "plt.hist(mfes)\n",
    "plt.title('Histogram of MFEs of MBFV')\n",
    "plt.xlabel('length')\n",
    "plt.ylabel('frequency')"
   ]
  },
  {
   "cell_type": "code",
   "execution_count": null,
   "metadata": {},
   "outputs": [],
   "source": []
  },
  {
   "cell_type": "code",
   "execution_count": null,
   "metadata": {},
   "outputs": [],
   "source": []
  },
  {
   "cell_type": "markdown",
   "metadata": {},
   "source": [
    "## Design MFES"
   ]
  },
  {
   "cell_type": "code",
   "execution_count": 13,
   "metadata": {},
   "outputs": [],
   "source": [
    "import pandas as pd\n",
    "import numpy as np\n",
    "import matplotlib.pyplot as plt"
   ]
  },
  {
   "cell_type": "code",
   "execution_count": 16,
   "metadata": {},
   "outputs": [],
   "source": [
    "design_csv = '/scr/aldea/kgutenbrunner/working/simRNA/MBFV_design/protocol_simRNA_MBFV.txt'"
   ]
  },
  {
   "cell_type": "code",
   "execution_count": 27,
   "metadata": {},
   "outputs": [],
   "source": [
    "designs = pd.read_csv(design_csv, delimiter=';')"
   ]
  },
  {
   "cell_type": "code",
   "execution_count": 33,
   "metadata": {},
   "outputs": [
    {
     "data": {
      "text/html": [
       "<div>\n",
       "<style scoped>\n",
       "    .dataframe tbody tr th:only-of-type {\n",
       "        vertical-align: middle;\n",
       "    }\n",
       "\n",
       "    .dataframe tbody tr th {\n",
       "        vertical-align: top;\n",
       "    }\n",
       "\n",
       "    .dataframe thead th {\n",
       "        text-align: right;\n",
       "    }\n",
       "</style>\n",
       "<table border=\"1\" class=\"dataframe\">\n",
       "  <thead>\n",
       "    <tr style=\"text-align: right;\">\n",
       "      <th></th>\n",
       "      <th>id</th>\n",
       "      <th>folder_name</th>\n",
       "      <th>seq</th>\n",
       "      <th>date</th>\n",
       "      <th>note</th>\n",
       "    </tr>\n",
       "  </thead>\n",
       "  <tbody>\n",
       "    <tr>\n",
       "      <th>0</th>\n",
       "      <td>0</td>\n",
       "      <td>05_29</td>\n",
       "      <td>AGUCAGGCCCGAC-UUCUCU--GUCGGCCACGAUC-U--------G...</td>\n",
       "      <td>29.05.2024</td>\n",
       "      <td>'first try with MBFV design'</td>\n",
       "    </tr>\n",
       "    <tr>\n",
       "      <th>1</th>\n",
       "      <td>2</td>\n",
       "      <td>06_03</td>\n",
       "      <td>UGUCAGCCCCG--GACAA----CGGACACCCC--GACACC-AAA--...</td>\n",
       "      <td>03.06.2024</td>\n",
       "      <td>'MBFV testing with denis iupac - middle beta s...</td>\n",
       "    </tr>\n",
       "    <tr>\n",
       "      <th>2</th>\n",
       "      <td>3</td>\n",
       "      <td>06_04</td>\n",
       "      <td>UGUCAGCCCC---GAAAAA----GGACACCC---AUU----AGA--...</td>\n",
       "      <td>04.06.2024</td>\n",
       "      <td>'MBFV testing with denis iupac - short beta st...</td>\n",
       "    </tr>\n",
       "    <tr>\n",
       "      <th>3</th>\n",
       "      <td>1</td>\n",
       "      <td>06_05</td>\n",
       "      <td>UGUCAGGCCCGC-UUCAAU--GCGGACACC----C------UAAA-...</td>\n",
       "      <td>05.06.2024</td>\n",
       "      <td>'MBFV testing - long beta stem (4)'</td>\n",
       "    </tr>\n",
       "    <tr>\n",
       "      <th>4</th>\n",
       "      <td>4</td>\n",
       "      <td>06_12</td>\n",
       "      <td>UUCGCCGCCC---GAUGCUA---GGAGGGGUGCGGUUCGU-AUA--...</td>\n",
       "      <td>12.06.2024</td>\n",
       "      <td>'MBFV without any constraints only'</td>\n",
       "    </tr>\n",
       "    <tr>\n",
       "      <th>5</th>\n",
       "      <td>5</td>\n",
       "      <td>06_13</td>\n",
       "      <td>UUUGGGGCGCGACAACUUGAGUCGCCGAUCCUC-ACUCA--AAAA-...</td>\n",
       "      <td>13.06.2024</td>\n",
       "      <td>'MBFV without any constraints except the base ...</td>\n",
       "    </tr>\n",
       "    <tr>\n",
       "      <th>6</th>\n",
       "      <td>6</td>\n",
       "      <td>06_14</td>\n",
       "      <td>UUUGCGCCGCUCCGACA---GGAGCCGAGUC---AC-----UGA--...</td>\n",
       "      <td>14.06.2024</td>\n",
       "      <td>'MBFV without any constraints except the base ...</td>\n",
       "    </tr>\n",
       "    <tr>\n",
       "      <th>7</th>\n",
       "      <td>7</td>\n",
       "      <td>06_15</td>\n",
       "      <td>UGUCAGGCCCUGGGCUCA--CCAGGACACGG---GACA---AGA--...</td>\n",
       "      <td>15.06.2024</td>\n",
       "      <td>'MBFV with iupac constraints except no conserv...</td>\n",
       "    </tr>\n",
       "    <tr>\n",
       "      <th>8</th>\n",
       "      <td>8</td>\n",
       "      <td>06_16</td>\n",
       "      <td>UUCGCGCCGGGC-UGUU----GCCCAGGAGCC--AGA----AGG--...</td>\n",
       "      <td>16.06.2024</td>\n",
       "      <td>'MBFV with no iupac constraints except no cons...</td>\n",
       "    </tr>\n",
       "    <tr>\n",
       "      <th>9</th>\n",
       "      <td>9</td>\n",
       "      <td>06_17</td>\n",
       "      <td>AGUCAGGC-----------------CCACGUC---------ACCC-...</td>\n",
       "      <td>17.06.2024</td>\n",
       "      <td>'MBFV without beta stem and normal iupac const...</td>\n",
       "    </tr>\n",
       "    <tr>\n",
       "      <th>10</th>\n",
       "      <td>10</td>\n",
       "      <td>06_18</td>\n",
       "      <td>UGUCAGGC-----------------CCACCUC--UUUCCCGCACU-...</td>\n",
       "      <td>18.06.2024</td>\n",
       "      <td>'MBFV without beta stem and normal iupac const...</td>\n",
       "    </tr>\n",
       "    <tr>\n",
       "      <th>11</th>\n",
       "      <td>11</td>\n",
       "      <td>07_02</td>\n",
       "      <td>UGUCAGGCCCGC-GAUUA---GCGGCCACCCUC-GAC----AGA--...</td>\n",
       "      <td>02.07.2024</td>\n",
       "      <td>'MBFV with normal constraints for sending to l...</td>\n",
       "    </tr>\n",
       "    <tr>\n",
       "      <th>12</th>\n",
       "      <td>12</td>\n",
       "      <td>07_08</td>\n",
       "      <td>AGUCAGGCCCGG-UUAGU---CCGGCCACCGGUAUCCCUUCCUCCA...</td>\n",
       "      <td>08.07.2024</td>\n",
       "      <td>'MBFV with tanh PK2 energy added to objectiv f...</td>\n",
       "    </tr>\n",
       "    <tr>\n",
       "      <th>13</th>\n",
       "      <td>15</td>\n",
       "      <td>07_09</td>\n",
       "      <td>AGUCAGGCCAUCGGAAUAA-CGAUGCCACCUCCC-------GCCC-...</td>\n",
       "      <td>09.07.2024</td>\n",
       "      <td>'MBFV with sigmoid PK2 energy added to objecti...</td>\n",
       "    </tr>\n",
       "    <tr>\n",
       "      <th>14</th>\n",
       "      <td>16</td>\n",
       "      <td>07_10</td>\n",
       "      <td>AGUCAGGCCGGG-UCC-----CCCGCCACGUGGAG------CCCU-...</td>\n",
       "      <td>10.07.2024</td>\n",
       "      <td>'MBFV with beta and gamma constraints, objecti...</td>\n",
       "    </tr>\n",
       "    <tr>\n",
       "      <th>15</th>\n",
       "      <td>17</td>\n",
       "      <td>ef_test</td>\n",
       "      <td>AGUCAGGCCGUC-UUAU----GACGCCACCCCG-GC-----CCA--...</td>\n",
       "      <td>10.07.2024</td>\n",
       "      <td>'MBFV with beta and gamma constraints, objecti...</td>\n",
       "    </tr>\n",
       "  </tbody>\n",
       "</table>\n",
       "</div>"
      ],
      "text/plain": [
       "    id folder_name                                                seq  \\\n",
       "0    0       05_29  AGUCAGGCCCGAC-UUCUCU--GUCGGCCACGAUC-U--------G...   \n",
       "1    2       06_03  UGUCAGCCCCG--GACAA----CGGACACCCC--GACACC-AAA--...   \n",
       "2    3       06_04  UGUCAGCCCC---GAAAAA----GGACACCC---AUU----AGA--...   \n",
       "3    1       06_05  UGUCAGGCCCGC-UUCAAU--GCGGACACC----C------UAAA-...   \n",
       "4    4       06_12  UUCGCCGCCC---GAUGCUA---GGAGGGGUGCGGUUCGU-AUA--...   \n",
       "5    5       06_13  UUUGGGGCGCGACAACUUGAGUCGCCGAUCCUC-ACUCA--AAAA-...   \n",
       "6    6       06_14  UUUGCGCCGCUCCGACA---GGAGCCGAGUC---AC-----UGA--...   \n",
       "7    7       06_15  UGUCAGGCCCUGGGCUCA--CCAGGACACGG---GACA---AGA--...   \n",
       "8    8       06_16  UUCGCGCCGGGC-UGUU----GCCCAGGAGCC--AGA----AGG--...   \n",
       "9    9       06_17  AGUCAGGC-----------------CCACGUC---------ACCC-...   \n",
       "10  10       06_18  UGUCAGGC-----------------CCACCUC--UUUCCCGCACU-...   \n",
       "11  11       07_02  UGUCAGGCCCGC-GAUUA---GCGGCCACCCUC-GAC----AGA--...   \n",
       "12  12       07_08  AGUCAGGCCCGG-UUAGU---CCGGCCACCGGUAUCCCUUCCUCCA...   \n",
       "13  15       07_09  AGUCAGGCCAUCGGAAUAA-CGAUGCCACCUCCC-------GCCC-...   \n",
       "14  16       07_10  AGUCAGGCCGGG-UCC-----CCCGCCACGUGGAG------CCCU-...   \n",
       "15  17     ef_test  AGUCAGGCCGUC-UUAU----GACGCCACCCCG-GC-----CCA--...   \n",
       "\n",
       "          date                                               note  \n",
       "0   29.05.2024                       'first try with MBFV design'  \n",
       "1   03.06.2024  'MBFV testing with denis iupac - middle beta s...  \n",
       "2   04.06.2024  'MBFV testing with denis iupac - short beta st...  \n",
       "3   05.06.2024                'MBFV testing - long beta stem (4)'  \n",
       "4   12.06.2024                'MBFV without any constraints only'  \n",
       "5   13.06.2024  'MBFV without any constraints except the base ...  \n",
       "6   14.06.2024  'MBFV without any constraints except the base ...  \n",
       "7   15.06.2024  'MBFV with iupac constraints except no conserv...  \n",
       "8   16.06.2024  'MBFV with no iupac constraints except no cons...  \n",
       "9   17.06.2024  'MBFV without beta stem and normal iupac const...  \n",
       "10  18.06.2024  'MBFV without beta stem and normal iupac const...  \n",
       "11  02.07.2024  'MBFV with normal constraints for sending to l...  \n",
       "12  08.07.2024  'MBFV with tanh PK2 energy added to objectiv f...  \n",
       "13  09.07.2024  'MBFV with sigmoid PK2 energy added to objecti...  \n",
       "14  10.07.2024  'MBFV with beta and gamma constraints, objecti...  \n",
       "15  10.07.2024  'MBFV with beta and gamma constraints, objecti...  "
      ]
     },
     "execution_count": 33,
     "metadata": {},
     "output_type": "execute_result"
    }
   ],
   "source": [
    "designs"
   ]
  },
  {
   "cell_type": "code",
   "execution_count": 38,
   "metadata": {},
   "outputs": [],
   "source": [
    "design_mfes = []\n",
    "for seq in designs['seq']:\n",
    "    seq = seq.replace('-', '')\n",
    "    fc = RNA.fold_compound(seq)\n",
    "    fc.pf()\n",
    "    (ss, mfe) = fc.mfe()\n",
    "    design_mfes.append(mfe)\n",
    "design_mfes = np.array(design_mfes)"
   ]
  },
  {
   "cell_type": "code",
   "execution_count": 39,
   "metadata": {},
   "outputs": [
    {
     "name": "stdout",
     "output_type": "stream",
     "text": [
      "-27.899999618530273\n",
      "-15.699999809265137\n"
     ]
    },
    {
     "data": {
      "text/plain": [
       "-22.337500035762787"
      ]
     },
     "execution_count": 39,
     "metadata": {},
     "output_type": "execute_result"
    }
   ],
   "source": [
    "print(np.min(design_mfes))\n",
    "print(np.max(design_mfes))\n",
    "np.mean(design_mfes)"
   ]
  },
  {
   "cell_type": "code",
   "execution_count": 41,
   "metadata": {},
   "outputs": [
    {
     "data": {
      "text/plain": [
       "Text(0, 0.5, 'frequency')"
      ]
     },
     "execution_count": 41,
     "metadata": {},
     "output_type": "execute_result"
    },
    {
     "data": {
      "image/png": "[encoded data removed]",
      "text/plain": [
       "<Figure size 640x480 with 1 Axes>"
      ]
     },
     "metadata": {},
     "output_type": "display_data"
    }
   ],
   "source": [
    "plt.hist(design_mfes)\n",
    "plt.title('Histogram of design MFEs')\n",
    "plt.xlabel('length')\n",
    "plt.ylabel('frequency')"
   ]
  },
  {
   "cell_type": "markdown",
   "metadata": {},
   "source": [
    "## calculate relations"
   ]
  },
  {
   "cell_type": "code",
   "execution_count": 40,
   "metadata": {},
   "outputs": [
    {
     "data": {
      "text/html": [
       "<div>\n",
       "<style scoped>\n",
       "    .dataframe tbody tr th:only-of-type {\n",
       "        vertical-align: middle;\n",
       "    }\n",
       "\n",
       "    .dataframe tbody tr th {\n",
       "        vertical-align: top;\n",
       "    }\n",
       "\n",
       "    .dataframe thead th {\n",
       "        text-align: right;\n",
       "    }\n",
       "</style>\n",
       "<table border=\"1\" class=\"dataframe\">\n",
       "  <thead>\n",
       "    <tr style=\"text-align: right;\">\n",
       "      <th></th>\n",
       "      <th>name</th>\n",
       "      <th>stemA</th>\n",
       "      <th>alpha</th>\n",
       "      <th>stemB</th>\n",
       "      <th>hlB</th>\n",
       "      <th>beta</th>\n",
       "      <th>stemG</th>\n",
       "      <th>hlG</th>\n",
       "      <th>gamma</th>\n",
       "      <th>n_PK</th>\n",
       "      <th>bPK</th>\n",
       "      <th>b_PK</th>\n",
       "      <th>a_PK</th>\n",
       "      <th>len</th>\n",
       "    </tr>\n",
       "  </thead>\n",
       "  <tbody>\n",
       "    <tr>\n",
       "      <th>0</th>\n",
       "      <td>AROAVG</td>\n",
       "      <td>10</td>\n",
       "      <td>10</td>\n",
       "      <td>4</td>\n",
       "      <td>4</td>\n",
       "      <td>8</td>\n",
       "      <td>10</td>\n",
       "      <td>12</td>\n",
       "      <td>22</td>\n",
       "      <td>12</td>\n",
       "      <td>2</td>\n",
       "      <td>3</td>\n",
       "      <td>3</td>\n",
       "      <td>54</td>\n",
       "    </tr>\n",
       "    <tr>\n",
       "      <th>1</th>\n",
       "      <td>BAGV</td>\n",
       "      <td>10</td>\n",
       "      <td>10</td>\n",
       "      <td>10</td>\n",
       "      <td>5</td>\n",
       "      <td>15</td>\n",
       "      <td>10</td>\n",
       "      <td>12</td>\n",
       "      <td>22</td>\n",
       "      <td>16</td>\n",
       "      <td>0</td>\n",
       "      <td>3</td>\n",
       "      <td>1</td>\n",
       "      <td>62</td>\n",
       "    </tr>\n",
       "    <tr>\n",
       "      <th>2</th>\n",
       "      <td>BANV</td>\n",
       "      <td>10</td>\n",
       "      <td>10</td>\n",
       "      <td>4</td>\n",
       "      <td>5</td>\n",
       "      <td>9</td>\n",
       "      <td>14</td>\n",
       "      <td>9</td>\n",
       "      <td>23</td>\n",
       "      <td>10</td>\n",
       "      <td>3</td>\n",
       "      <td>1</td>\n",
       "      <td>3</td>\n",
       "      <td>56</td>\n",
       "    </tr>\n",
       "    <tr>\n",
       "      <th>3</th>\n",
       "      <td>DENV1</td>\n",
       "      <td>10</td>\n",
       "      <td>10</td>\n",
       "      <td>2</td>\n",
       "      <td>7</td>\n",
       "      <td>9</td>\n",
       "      <td>12</td>\n",
       "      <td>9</td>\n",
       "      <td>21</td>\n",
       "      <td>8</td>\n",
       "      <td>6</td>\n",
       "      <td>0</td>\n",
       "      <td>5</td>\n",
       "      <td>56</td>\n",
       "    </tr>\n",
       "    <tr>\n",
       "      <th>4</th>\n",
       "      <td>DENV2</td>\n",
       "      <td>10</td>\n",
       "      <td>10</td>\n",
       "      <td>2</td>\n",
       "      <td>7</td>\n",
       "      <td>9</td>\n",
       "      <td>12</td>\n",
       "      <td>9</td>\n",
       "      <td>21</td>\n",
       "      <td>8</td>\n",
       "      <td>6</td>\n",
       "      <td>0</td>\n",
       "      <td>5</td>\n",
       "      <td>56</td>\n",
       "    </tr>\n",
       "    <tr>\n",
       "      <th>5</th>\n",
       "      <td>DENV3</td>\n",
       "      <td>10</td>\n",
       "      <td>10</td>\n",
       "      <td>2</td>\n",
       "      <td>7</td>\n",
       "      <td>9</td>\n",
       "      <td>12</td>\n",
       "      <td>9</td>\n",
       "      <td>21</td>\n",
       "      <td>6</td>\n",
       "      <td>6</td>\n",
       "      <td>1</td>\n",
       "      <td>5</td>\n",
       "      <td>55</td>\n",
       "    </tr>\n",
       "    <tr>\n",
       "      <th>6</th>\n",
       "      <td>DENV4</td>\n",
       "      <td>10</td>\n",
       "      <td>10</td>\n",
       "      <td>4</td>\n",
       "      <td>4</td>\n",
       "      <td>8</td>\n",
       "      <td>10</td>\n",
       "      <td>10</td>\n",
       "      <td>20</td>\n",
       "      <td>8</td>\n",
       "      <td>2</td>\n",
       "      <td>3</td>\n",
       "      <td>3</td>\n",
       "      <td>50</td>\n",
       "    </tr>\n",
       "    <tr>\n",
       "      <th>7</th>\n",
       "      <td>JEV</td>\n",
       "      <td>10</td>\n",
       "      <td>10</td>\n",
       "      <td>8</td>\n",
       "      <td>4</td>\n",
       "      <td>12</td>\n",
       "      <td>10</td>\n",
       "      <td>13</td>\n",
       "      <td>23</td>\n",
       "      <td>14</td>\n",
       "      <td>0</td>\n",
       "      <td>3</td>\n",
       "      <td>1</td>\n",
       "      <td>60</td>\n",
       "    </tr>\n",
       "    <tr>\n",
       "      <th>8</th>\n",
       "      <td>KOKV</td>\n",
       "      <td>10</td>\n",
       "      <td>10</td>\n",
       "      <td>4</td>\n",
       "      <td>4</td>\n",
       "      <td>8</td>\n",
       "      <td>10</td>\n",
       "      <td>10</td>\n",
       "      <td>20</td>\n",
       "      <td>12</td>\n",
       "      <td>0</td>\n",
       "      <td>3</td>\n",
       "      <td>1</td>\n",
       "      <td>51</td>\n",
       "    </tr>\n",
       "    <tr>\n",
       "      <th>9</th>\n",
       "      <td>KOUV</td>\n",
       "      <td>10</td>\n",
       "      <td>10</td>\n",
       "      <td>6</td>\n",
       "      <td>6</td>\n",
       "      <td>12</td>\n",
       "      <td>10</td>\n",
       "      <td>13</td>\n",
       "      <td>23</td>\n",
       "      <td>12</td>\n",
       "      <td>3</td>\n",
       "      <td>3</td>\n",
       "      <td>4</td>\n",
       "      <td>60</td>\n",
       "    </tr>\n",
       "    <tr>\n",
       "      <th>10</th>\n",
       "      <td>KUNV</td>\n",
       "      <td>10</td>\n",
       "      <td>10</td>\n",
       "      <td>6</td>\n",
       "      <td>7</td>\n",
       "      <td>13</td>\n",
       "      <td>10</td>\n",
       "      <td>13</td>\n",
       "      <td>23</td>\n",
       "      <td>16</td>\n",
       "      <td>0</td>\n",
       "      <td>3</td>\n",
       "      <td>1</td>\n",
       "      <td>61</td>\n",
       "    </tr>\n",
       "    <tr>\n",
       "      <th>11</th>\n",
       "      <td>MVEV</td>\n",
       "      <td>10</td>\n",
       "      <td>10</td>\n",
       "      <td>10</td>\n",
       "      <td>5</td>\n",
       "      <td>15</td>\n",
       "      <td>10</td>\n",
       "      <td>12</td>\n",
       "      <td>22</td>\n",
       "      <td>16</td>\n",
       "      <td>0</td>\n",
       "      <td>2</td>\n",
       "      <td>1</td>\n",
       "      <td>62</td>\n",
       "    </tr>\n",
       "    <tr>\n",
       "      <th>12</th>\n",
       "      <td>NMV</td>\n",
       "      <td>10</td>\n",
       "      <td>10</td>\n",
       "      <td>2</td>\n",
       "      <td>5</td>\n",
       "      <td>7</td>\n",
       "      <td>10</td>\n",
       "      <td>10</td>\n",
       "      <td>20</td>\n",
       "      <td>10</td>\n",
       "      <td>2</td>\n",
       "      <td>3</td>\n",
       "      <td>2</td>\n",
       "      <td>50</td>\n",
       "    </tr>\n",
       "    <tr>\n",
       "      <th>13</th>\n",
       "      <td>SLEV</td>\n",
       "      <td>10</td>\n",
       "      <td>10</td>\n",
       "      <td>6</td>\n",
       "      <td>6</td>\n",
       "      <td>12</td>\n",
       "      <td>10</td>\n",
       "      <td>13</td>\n",
       "      <td>23</td>\n",
       "      <td>14</td>\n",
       "      <td>2</td>\n",
       "      <td>3</td>\n",
       "      <td>3</td>\n",
       "      <td>60</td>\n",
       "    </tr>\n",
       "    <tr>\n",
       "      <th>14</th>\n",
       "      <td>TMUV</td>\n",
       "      <td>10</td>\n",
       "      <td>10</td>\n",
       "      <td>10</td>\n",
       "      <td>3</td>\n",
       "      <td>13</td>\n",
       "      <td>10</td>\n",
       "      <td>12</td>\n",
       "      <td>22</td>\n",
       "      <td>12</td>\n",
       "      <td>0</td>\n",
       "      <td>5</td>\n",
       "      <td>1</td>\n",
       "      <td>58</td>\n",
       "    </tr>\n",
       "    <tr>\n",
       "      <th>15</th>\n",
       "      <td>UGSV</td>\n",
       "      <td>10</td>\n",
       "      <td>10</td>\n",
       "      <td>6</td>\n",
       "      <td>3</td>\n",
       "      <td>9</td>\n",
       "      <td>8</td>\n",
       "      <td>15</td>\n",
       "      <td>23</td>\n",
       "      <td>8</td>\n",
       "      <td>0</td>\n",
       "      <td>7</td>\n",
       "      <td>3</td>\n",
       "      <td>53</td>\n",
       "    </tr>\n",
       "    <tr>\n",
       "      <th>16</th>\n",
       "      <td>USUV</td>\n",
       "      <td>10</td>\n",
       "      <td>10</td>\n",
       "      <td>8</td>\n",
       "      <td>4</td>\n",
       "      <td>12</td>\n",
       "      <td>10</td>\n",
       "      <td>13</td>\n",
       "      <td>23</td>\n",
       "      <td>16</td>\n",
       "      <td>0</td>\n",
       "      <td>3</td>\n",
       "      <td>1</td>\n",
       "      <td>60</td>\n",
       "    </tr>\n",
       "    <tr>\n",
       "      <th>17</th>\n",
       "      <td>WESSV</td>\n",
       "      <td>10</td>\n",
       "      <td>10</td>\n",
       "      <td>8</td>\n",
       "      <td>4</td>\n",
       "      <td>12</td>\n",
       "      <td>12</td>\n",
       "      <td>11</td>\n",
       "      <td>23</td>\n",
       "      <td>10</td>\n",
       "      <td>2</td>\n",
       "      <td>3</td>\n",
       "      <td>3</td>\n",
       "      <td>58</td>\n",
       "    </tr>\n",
       "    <tr>\n",
       "      <th>18</th>\n",
       "      <td>WNV</td>\n",
       "      <td>10</td>\n",
       "      <td>10</td>\n",
       "      <td>10</td>\n",
       "      <td>3</td>\n",
       "      <td>13</td>\n",
       "      <td>10</td>\n",
       "      <td>13</td>\n",
       "      <td>23</td>\n",
       "      <td>16</td>\n",
       "      <td>0</td>\n",
       "      <td>3</td>\n",
       "      <td>1</td>\n",
       "      <td>61</td>\n",
       "    </tr>\n",
       "    <tr>\n",
       "      <th>19</th>\n",
       "      <td>ZIKV</td>\n",
       "      <td>10</td>\n",
       "      <td>10</td>\n",
       "      <td>6</td>\n",
       "      <td>5</td>\n",
       "      <td>11</td>\n",
       "      <td>16</td>\n",
       "      <td>5</td>\n",
       "      <td>21</td>\n",
       "      <td>8</td>\n",
       "      <td>4</td>\n",
       "      <td>0</td>\n",
       "      <td>1</td>\n",
       "      <td>56</td>\n",
       "    </tr>\n",
       "  </tbody>\n",
       "</table>\n",
       "</div>"
      ],
      "text/plain": [
       "      name  stemA  alpha  stemB  hlB  beta  stemG  hlG  gamma  n_PK  bPK  \\\n",
       "0   AROAVG     10     10      4    4     8     10   12     22    12    2   \n",
       "1     BAGV     10     10     10    5    15     10   12     22    16    0   \n",
       "2     BANV     10     10      4    5     9     14    9     23    10    3   \n",
       "3    DENV1     10     10      2    7     9     12    9     21     8    6   \n",
       "4    DENV2     10     10      2    7     9     12    9     21     8    6   \n",
       "5    DENV3     10     10      2    7     9     12    9     21     6    6   \n",
       "6    DENV4     10     10      4    4     8     10   10     20     8    2   \n",
       "7      JEV     10     10      8    4    12     10   13     23    14    0   \n",
       "8     KOKV     10     10      4    4     8     10   10     20    12    0   \n",
       "9     KOUV     10     10      6    6    12     10   13     23    12    3   \n",
       "10    KUNV     10     10      6    7    13     10   13     23    16    0   \n",
       "11    MVEV     10     10     10    5    15     10   12     22    16    0   \n",
       "12     NMV     10     10      2    5     7     10   10     20    10    2   \n",
       "13    SLEV     10     10      6    6    12     10   13     23    14    2   \n",
       "14    TMUV     10     10     10    3    13     10   12     22    12    0   \n",
       "15    UGSV     10     10      6    3     9      8   15     23     8    0   \n",
       "16    USUV     10     10      8    4    12     10   13     23    16    0   \n",
       "17   WESSV     10     10      8    4    12     12   11     23    10    2   \n",
       "18     WNV     10     10     10    3    13     10   13     23    16    0   \n",
       "19    ZIKV     10     10      6    5    11     16    5     21     8    4   \n",
       "\n",
       "    b_PK  a_PK  len  \n",
       "0      3     3   54  \n",
       "1      3     1   62  \n",
       "2      1     3   56  \n",
       "3      0     5   56  \n",
       "4      0     5   56  \n",
       "5      1     5   55  \n",
       "6      3     3   50  \n",
       "7      3     1   60  \n",
       "8      3     1   51  \n",
       "9      3     4   60  \n",
       "10     3     1   61  \n",
       "11     2     1   62  \n",
       "12     3     2   50  \n",
       "13     3     3   60  \n",
       "14     5     1   58  \n",
       "15     7     3   53  \n",
       "16     3     1   60  \n",
       "17     3     3   58  \n",
       "18     3     1   61  \n",
       "19     0     1   56  "
      ]
     },
     "execution_count": 40,
     "metadata": {},
     "output_type": "execute_result"
    }
   ],
   "source": [
    "df_MBFV"
   ]
  },
  {
   "cell_type": "code",
   "execution_count": 52,
   "metadata": {},
   "outputs": [],
   "source": [
    "relation_gamma = []\n",
    "for i in range(len(df_MBFV)):\n",
    "    hl_gamma = df_MBFV.iloc[i]['hlG']\n",
    "    stem_gamma = df_MBFV.iloc[i]['stemG']\n",
    "    relation_gamma.append(stem_gamma/hl_gamma)   \n",
    "relation_gamma = np.array(relation_gamma) "
   ]
  },
  {
   "cell_type": "code",
   "execution_count": 53,
   "metadata": {},
   "outputs": [
    {
     "data": {
      "text/html": [
       "<div>\n",
       "<style scoped>\n",
       "    .dataframe tbody tr th:only-of-type {\n",
       "        vertical-align: middle;\n",
       "    }\n",
       "\n",
       "    .dataframe tbody tr th {\n",
       "        vertical-align: top;\n",
       "    }\n",
       "\n",
       "    .dataframe thead th {\n",
       "        text-align: right;\n",
       "    }\n",
       "</style>\n",
       "<table border=\"1\" class=\"dataframe\">\n",
       "  <thead>\n",
       "    <tr style=\"text-align: right;\">\n",
       "      <th></th>\n",
       "      <th>0</th>\n",
       "    </tr>\n",
       "  </thead>\n",
       "  <tbody>\n",
       "    <tr>\n",
       "      <th>count</th>\n",
       "      <td>20.000000</td>\n",
       "    </tr>\n",
       "    <tr>\n",
       "      <th>mean</th>\n",
       "      <td>1.066426</td>\n",
       "    </tr>\n",
       "    <tr>\n",
       "      <th>std</th>\n",
       "      <td>0.564307</td>\n",
       "    </tr>\n",
       "    <tr>\n",
       "      <th>min</th>\n",
       "      <td>0.533333</td>\n",
       "    </tr>\n",
       "    <tr>\n",
       "      <th>25%</th>\n",
       "      <td>0.769231</td>\n",
       "    </tr>\n",
       "    <tr>\n",
       "      <th>50%</th>\n",
       "      <td>0.833333</td>\n",
       "    </tr>\n",
       "    <tr>\n",
       "      <th>75%</th>\n",
       "      <td>1.151515</td>\n",
       "    </tr>\n",
       "    <tr>\n",
       "      <th>max</th>\n",
       "      <td>3.200000</td>\n",
       "    </tr>\n",
       "  </tbody>\n",
       "</table>\n",
       "</div>"
      ],
      "text/plain": [
       "               0\n",
       "count  20.000000\n",
       "mean    1.066426\n",
       "std     0.564307\n",
       "min     0.533333\n",
       "25%     0.769231\n",
       "50%     0.833333\n",
       "75%     1.151515\n",
       "max     3.200000"
      ]
     },
     "execution_count": 53,
     "metadata": {},
     "output_type": "execute_result"
    }
   ],
   "source": [
    "df_describe = pd.DataFrame(relation_gamma)\n",
    "df_describe.describe()"
   ]
  },
  {
   "cell_type": "code",
   "execution_count": null,
   "metadata": {},
   "outputs": [],
   "source": []
  }
 ],
 "metadata": {
  "kernelspec": {
   "display_name": "thesis",
   "language": "python",
   "name": "python3"
  },
  "language_info": {
   "codemirror_mode": {
    "name": "ipython",
    "version": 3
   },
   "file_extension": ".py",
   "mimetype": "text/x-python",
   "name": "python",
   "nbconvert_exporter": "python",
   "pygments_lexer": "ipython3",
   "version": "3.12.2"
  }
 },
 "nbformat": 4,
 "nbformat_minor": 2
}
