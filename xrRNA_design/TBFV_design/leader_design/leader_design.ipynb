{
 "cells": [
  {
   "cell_type": "markdown",
   "metadata": {},
   "source": [
    "## design leader sequence"
   ]
  },
  {
   "cell_type": "code",
   "execution_count": 35,
   "metadata": {
    "execution": {
     "iopub.execute_input": "2024-07-21T12:04:54.990237Z",
     "iopub.status.busy": "2024-07-21T12:04:54.989928Z",
     "iopub.status.idle": "2024-07-21T12:04:55.572138Z",
     "shell.execute_reply": "2024-07-21T12:04:55.571882Z",
     "shell.execute_reply.started": "2024-07-21T12:04:54.990210Z"
    }
   },
   "outputs": [],
   "source": [
    "import infrared as ir\n",
    "import infrared.rna as rna\n",
    "import RNA\n",
    "from tqdm import tqdm\n",
    "from matplotlib import pyplot as plt\n",
    "import numpy as np\n",
    "import pandas as pd"
   ]
  },
  {
   "cell_type": "code",
   "execution_count": 36,
   "metadata": {
    "execution": {
     "iopub.execute_input": "2024-07-21T12:04:55.573187Z",
     "iopub.status.busy": "2024-07-21T12:04:55.573051Z",
     "iopub.status.idle": "2024-07-21T12:04:55.575242Z",
     "shell.execute_reply": "2024-07-21T12:04:55.574975Z",
     "shell.execute_reply.started": "2024-07-21T12:04:55.573178Z"
    }
   },
   "outputs": [],
   "source": [
    "def remove_positioned_gaps(sequence, structure):\n",
    "    remove = [i for i, nt in enumerate(sequence) if nt == '-']\n",
    "    new_ss = [structure[i] for i in range(len(structure)) if i not in remove]\n",
    "    return ''.join(new_ss)"
   ]
  },
  {
   "cell_type": "code",
   "execution_count": 37,
   "metadata": {
    "execution": {
     "iopub.execute_input": "2024-07-21T12:04:55.575717Z",
     "iopub.status.busy": "2024-07-21T12:04:55.575635Z",
     "iopub.status.idle": "2024-07-21T12:04:55.577763Z",
     "shell.execute_reply": "2024-07-21T12:04:55.577534Z",
     "shell.execute_reply.started": "2024-07-21T12:04:55.575709Z"
    }
   },
   "outputs": [
    {
     "name": "stdout",
     "output_type": "stream",
     "text": [
      "CCGCCCAGGGCCUAGGCAGCACGCGAAAUUAGGCGACGGGAGAGGGUCGGAUCCCGACUGGGCAGCUGGGCAAUUUGUAAUUUGUGAGACCC\n",
      "..((((((.((((((......(((........))).(((((..........))))).))))))..)))))).....................\n",
      "..................(((.............................................................))).......\n",
      "...........................................(((((.......................................)))))\n"
     ]
    }
   ],
   "source": [
    "design_09 =   'CCGCCCAG-G-GCCUA-GGCAGCACGC--GAAAUUAG---GCGACGGGA--GA--GGGUCGGA--UCCCGAC-UGGGCAG-CUGGGCAAUUUGUAA----UUUGUGAGACCC'\n",
    "a =           \"NNNNNNNNXXXNNNNXXGGCAGCRCRCXXNNNXXXXXXXXGYGACGGGXXXXXXXXGGUCXXXXXXCCCGACXXNNNNXXXNNNNNNNNNNNNXXXXXXXUUYGUGAXGACC\"\n",
    "structures = ['..(((((((..(((((((......(((((.........))))).(((((((............))))))).)))))))..))))))).........................',\n",
    "\t\t      '.....................(((..............................................................................))).......',\n",
    "\t\t      '.......................................................(((((...............................................)))))']\n",
    " \n",
    "xrRNA_ss = [remove_positioned_gaps(design_09, ss) for ss in structures]\n",
    "xrRNA_seq = design_09.replace('-','')\n",
    "print(xrRNA_seq)\n",
    "for i in xrRNA_ss: print(i)"
   ]
  },
  {
   "cell_type": "code",
   "execution_count": 38,
   "metadata": {
    "execution": {
     "iopub.execute_input": "2024-07-21T12:04:55.580173Z",
     "iopub.status.busy": "2024-07-21T12:04:55.580102Z",
     "iopub.status.idle": "2024-07-21T12:04:55.582050Z",
     "shell.execute_reply": "2024-07-21T12:04:55.581810Z",
     "shell.execute_reply.started": "2024-07-21T12:04:55.580165Z"
    }
   },
   "outputs": [],
   "source": [
    "extended_iupac_nucleotides = {\n",
    "    'A': 'A',\n",
    "    'C': 'C',\n",
    "    'G': 'G',\n",
    "    'U': 'U',\n",
    "    'R': 'AG',\n",
    "    'N': 'ACGU',\n",
    "    'X': 'ACGU-',\n",
    "    '-': '-',\n",
    "    '.': '-'\n",
    "}\n",
    "\n",
    "\n",
    "def iupacvalues(symbol):\n",
    "    return [ rna.nucleotide_to_value(x) for x in extended_iupac_nucleotides[symbol] ]\n",
    "\n",
    "def sample_to_seq(sample):\n",
    "    return rna.values_to_seq(sample.values())\n",
    "\n",
    "def calculate_gc(seq):\n",
    "    seq = seq.upper()\n",
    "    return (seq.count('G') + seq.count('C')) / len(seq)"
   ]
  },
  {
   "cell_type": "code",
   "execution_count": 39,
   "metadata": {
    "execution": {
     "iopub.execute_input": "2024-07-21T12:04:55.593791Z",
     "iopub.status.busy": "2024-07-21T12:04:55.593698Z",
     "iopub.status.idle": "2024-07-21T12:06:43.751939Z",
     "shell.execute_reply": "2024-07-21T12:06:43.751661Z",
     "shell.execute_reply.started": "2024-07-21T12:04:55.593782Z"
    }
   },
   "outputs": [],
   "source": [
    "## GCUAA stays unpaired\n",
    "target_leader =  \".........((((((....))))))....\"\n",
    "iupac_sequence = 'GCUAANNNXNNNNNXNNNXXNNNNNNNXX'\n"
   ]
  },
  {
   "cell_type": "code",
   "execution_count": 40,
   "metadata": {},
   "outputs": [
    {
     "data": {
      "text/plain": [
       "29"
      ]
     },
     "execution_count": 40,
     "metadata": {},
     "output_type": "execute_result"
    }
   ],
   "source": [
    "len(iupac_sequence)"
   ]
  },
  {
   "cell_type": "code",
   "execution_count": 41,
   "metadata": {},
   "outputs": [],
   "source": [
    "n = len(target_leader)\n",
    "model = ir.Model()\n",
    "model.add_variables(n, 5)\n",
    "\n",
    "for i, x in enumerate(iupac_sequence):\n",
    "    model.add_constraints(ir.ValueIn(i, iupacvalues(x)))\n",
    "\n",
    "model.add_constraints(rna.BPComp(i,j) for (i,j) in rna.parse(target_leader))\n",
    "model.add_functions([rna.GCCont(i) for i in range(n)], 'gc')\n",
    "\n",
    "sampler = ir.Sampler(model)\n",
    "# samples = [sample_to_seq(sampler.sample()) for _ in range(10000)]\n",
    "sampler.set_target( 0.5 * n, 0.1 * n, 'gc' )\n"
   ]
  },
  {
   "cell_type": "code",
   "execution_count": 42,
   "metadata": {},
   "outputs": [
    {
     "name": "stderr",
     "output_type": "stream",
     "text": [
      "100%|██████████| 500000/500000 [00:23<00:00, 21472.97it/s]\n"
     ]
    }
   ],
   "source": [
    "samples = [sample_to_seq(sampler.targeted_sample()) for _ in tqdm(range(500000))]"
   ]
  },
  {
   "cell_type": "code",
   "execution_count": 43,
   "metadata": {
    "execution": {
     "iopub.execute_input": "2024-07-21T12:06:43.752576Z",
     "iopub.status.busy": "2024-07-21T12:06:43.752478Z",
     "iopub.status.idle": "2024-07-21T12:06:43.755001Z",
     "shell.execute_reply": "2024-07-21T12:06:43.754527Z",
     "shell.execute_reply.started": "2024-07-21T12:06:43.752565Z"
    }
   },
   "outputs": [],
   "source": [
    "def target_frequency(sequence, ss):\n",
    "    fc = RNA.fold_compound(sequence.replace('-',''))\n",
    "    fc.pf()\n",
    "    return fc.pr_structure(ss)\n",
    "\n",
    "def acceptable_seq(seq, ss):\n",
    "    if not ss.startswith('........'):\n",
    "        return False\n",
    "    return True"
   ]
  },
  {
   "cell_type": "code",
   "execution_count": 44,
   "metadata": {
    "execution": {
     "iopub.execute_input": "2024-07-21T12:06:43.759015Z",
     "iopub.status.busy": "2024-07-21T12:06:43.758894Z",
     "iopub.status.idle": "2024-07-21T12:13:05.206014Z",
     "shell.execute_reply": "2024-07-21T12:13:05.205727Z",
     "shell.execute_reply.started": "2024-07-21T12:06:43.759004Z"
    }
   },
   "outputs": [
    {
     "name": "stderr",
     "output_type": "stream",
     "text": [
      "100%|██████████| 500000/500000 [01:00<00:00, 8212.08it/s]\n"
     ]
    }
   ],
   "source": [
    "ok_leader= []\n",
    "for seq in tqdm(samples):\n",
    "    seq_ = seq.replace('-','')\n",
    "    fc  = RNA.fold_compound(seq_)\n",
    "    (ss, mfe) = fc.mfe()\n",
    "    if acceptable_seq(seq_, ss):\n",
    "        ok_leader.append(seq)"
   ]
  },
  {
   "cell_type": "code",
   "execution_count": 45,
   "metadata": {
    "execution": {
     "iopub.execute_input": "2024-07-21T12:13:05.206599Z",
     "iopub.status.busy": "2024-07-21T12:13:05.206510Z",
     "iopub.status.idle": "2024-07-21T12:13:05.209154Z",
     "shell.execute_reply": "2024-07-21T12:13:05.208890Z",
     "shell.execute_reply.started": "2024-07-21T12:13:05.206590Z"
    }
   },
   "outputs": [
    {
     "data": {
      "text/plain": [
       "203362"
      ]
     },
     "execution_count": 45,
     "metadata": {},
     "output_type": "execute_result"
    }
   ],
   "source": [
    "len(ok_leader)"
   ]
  },
  {
   "cell_type": "code",
   "execution_count": 46,
   "metadata": {
    "execution": {
     "iopub.execute_input": "2024-07-21T19:30:14.919629Z",
     "iopub.status.busy": "2024-07-21T19:30:14.919469Z",
     "iopub.status.idle": "2024-07-21T19:30:14.922542Z",
     "shell.execute_reply": "2024-07-21T19:30:14.921964Z",
     "shell.execute_reply.started": "2024-07-21T19:30:14.919619Z"
    }
   },
   "outputs": [],
   "source": [
    "def test_suboptimal_ss(leader_seq, xrRNA_seq, xrRNA_ss):\n",
    "    target_ss = remove_positioned_gaps(leader_seq, target_leader)\n",
    "    target_ss = target_ss + xrRNA_ss\n",
    "\n",
    "\n",
    "    seq = leader_seq.replace('-','') + xrRNA_seq\n",
    "\n",
    "    fc = RNA.fold_compound(seq)\n",
    "    (ss, mfe) = fc.mfe()\n",
    "    strikes = 0\n",
    "    for s in fc.subopt(500):\n",
    "        if s.structure[len(leader_seq):] != xrRNA_ss or not s.structure.startswith('.....'):\n",
    "            return False\n",
    "    return True"
   ]
  },
  {
   "cell_type": "code",
   "execution_count": 47,
   "metadata": {
    "execution": {
     "iopub.execute_input": "2024-07-21T19:42:08.509657Z",
     "iopub.status.busy": "2024-07-21T19:42:08.509426Z",
     "iopub.status.idle": "2024-07-21T19:42:08.512875Z",
     "shell.execute_reply": "2024-07-21T19:42:08.512339Z",
     "shell.execute_reply.started": "2024-07-21T19:42:08.509641Z"
    }
   },
   "outputs": [],
   "source": [
    "def print_suboptimal_ss(leader_seq, xrRNA_seq, xrRNA_ss, sample_size=1000):\n",
    "    ss_leader = remove_positioned_gaps(leader_seq, target_leader)\n",
    "    target_ss = ss_leader + xrRNA_ss\n",
    "\n",
    "    seq = leader_seq.replace('-','') + xrRNA_seq\n",
    "    \n",
    "    fc = RNA.fold_compound(seq)\n",
    "    (ss, mfe) = fc.mfe()\n",
    "    suboptimal_ss = []\n",
    "    for s in fc.subopt(sample_size):\n",
    "        if s.structure not in suboptimal_ss:\n",
    "            print(seq)\n",
    "            print(f\"{s.structure}\\t{s.energy:6.2f}\")\n",
    "            print(f'{\"-\" * len(ss_leader) + \"+\" * len(xrRNA_seq)}\\n')\n",
    "            suboptimal_ss.append(s.structure)\n",
    "    return True"
   ]
  },
  {
   "cell_type": "code",
   "execution_count": 48,
   "metadata": {
    "execution": {
     "iopub.execute_input": "2024-07-21T12:13:05.215488Z",
     "iopub.status.busy": "2024-07-21T12:13:05.215387Z",
     "iopub.status.idle": "2024-07-21T12:13:05.218378Z",
     "shell.execute_reply": "2024-07-21T12:13:05.218023Z",
     "shell.execute_reply.started": "2024-07-21T12:13:05.215477Z"
    }
   },
   "outputs": [],
   "source": [
    "def test_interaction(leader_seq, xrRNA_seq, xrRNA_ss,threshold = 0.01):\n",
    "    leader_seq = leader_seq.replace('-','')\n",
    "\n",
    "    seq = leader_seq + xrRNA_seq\n",
    "    fold_compound = RNA.fold_compound(seq)\n",
    "    fold_compound.pf()\n",
    "    base_pair_probs = np.array(fold_compound.bpp())\n",
    "    for i in range(len(leader_seq)):\n",
    "        for j in range(len(leader_seq), len(seq)):\n",
    "            if base_pair_probs[i][j] > threshold:  # Adjust threshold as needed\n",
    "                return False\n",
    "    return True"
   ]
  },
  {
   "cell_type": "code",
   "execution_count": 49,
   "metadata": {
    "execution": {
     "iopub.execute_input": "2024-07-21T12:13:05.219023Z",
     "iopub.status.busy": "2024-07-21T12:13:05.218910Z",
     "iopub.status.idle": "2024-07-21T14:11:23.495452Z",
     "shell.execute_reply": "2024-07-21T14:11:23.495002Z",
     "shell.execute_reply.started": "2024-07-21T12:13:05.219011Z"
    }
   },
   "outputs": [
    {
     "name": "stderr",
     "output_type": "stream",
     "text": [
      "100%|██████████| 203362/203362 [44:07<00:00, 76.81it/s]\n"
     ]
    }
   ],
   "source": [
    "good_candidates = []\n",
    "\n",
    "for seq in tqdm(ok_leader):\n",
    "    if test_interaction(seq, xrRNA_seq, xrRNA_ss[0], 0.05):\n",
    "        good_candidates.append(seq)\n",
    "\n"
   ]
  },
  {
   "cell_type": "code",
   "execution_count": 50,
   "metadata": {
    "execution": {
     "iopub.execute_input": "2024-07-21T14:11:23.496489Z",
     "iopub.status.busy": "2024-07-21T14:11:23.496261Z",
     "iopub.status.idle": "2024-07-21T14:11:23.499768Z",
     "shell.execute_reply": "2024-07-21T14:11:23.499457Z",
     "shell.execute_reply.started": "2024-07-21T14:11:23.496473Z"
    }
   },
   "outputs": [
    {
     "data": {
      "text/plain": [
       "1507"
      ]
     },
     "execution_count": 50,
     "metadata": {},
     "output_type": "execute_result"
    }
   ],
   "source": [
    "len(good_candidates)"
   ]
  },
  {
   "cell_type": "code",
   "execution_count": 51,
   "metadata": {
    "execution": {
     "iopub.execute_input": "2024-07-21T14:25:17.465170Z",
     "iopub.status.busy": "2024-07-21T14:25:17.464797Z",
     "iopub.status.idle": "2024-07-21T16:15:53.529770Z",
     "shell.execute_reply": "2024-07-21T16:15:53.529260Z",
     "shell.execute_reply.started": "2024-07-21T14:25:17.465143Z"
    }
   },
   "outputs": [
    {
     "name": "stderr",
     "output_type": "stream",
     "text": [
      "  0%|          | 13/203362 [00:00<56:01, 60.50it/s]"
     ]
    },
    {
     "name": "stdout",
     "output_type": "stream",
     "text": [
      "0.0\n",
      "0.06\n",
      "0.21\n",
      "0.22\n"
     ]
    },
    {
     "name": "stderr",
     "output_type": "stream",
     "text": [
      "  0%|          | 75/203362 [00:01<46:40, 72.58it/s]"
     ]
    },
    {
     "name": "stdout",
     "output_type": "stream",
     "text": [
      "0.26\n"
     ]
    },
    {
     "name": "stderr",
     "output_type": "stream",
     "text": [
      "  0%|          | 155/203362 [00:02<43:54, 77.13it/s]"
     ]
    },
    {
     "name": "stdout",
     "output_type": "stream",
     "text": [
      "0.31\n",
      "0.44\n"
     ]
    },
    {
     "name": "stderr",
     "output_type": "stream",
     "text": [
      "  0%|          | 713/203362 [00:08<41:08, 82.08it/s]"
     ]
    },
    {
     "name": "stdout",
     "output_type": "stream",
     "text": [
      "0.48\n"
     ]
    },
    {
     "name": "stderr",
     "output_type": "stream",
     "text": [
      "  0%|          | 776/203362 [00:09<41:56, 80.51it/s]"
     ]
    },
    {
     "name": "stdout",
     "output_type": "stream",
     "text": [
      "0.5\n"
     ]
    },
    {
     "name": "stderr",
     "output_type": "stream",
     "text": [
      "  4%|▍         | 7988/203362 [01:37<40:12, 80.97it/s]"
     ]
    },
    {
     "name": "stdout",
     "output_type": "stream",
     "text": [
      "0.52\n"
     ]
    },
    {
     "name": "stderr",
     "output_type": "stream",
     "text": [
      " 26%|██▌       | 53092/203362 [10:44<30:25, 82.34it/s]\n"
     ]
    },
    {
     "ename": "KeyboardInterrupt",
     "evalue": "",
     "output_type": "error",
     "traceback": [
      "\u001b[0;31m---------------------------------------------------------------------------\u001b[0m",
      "\u001b[0;31mKeyboardInterrupt\u001b[0m                         Traceback (most recent call last)",
      "\u001b[0;32m/var/folders/54/ry4wc1s953jdm1j76gdcpwpc0000gn/T/ipykernel_81467/3432051660.py\u001b[0m in \u001b[0;36m?\u001b[0;34m()\u001b[0m\n\u001b[1;32m      4\u001b[0m     \u001b[0mtarget_ss\u001b[0m \u001b[0;34m=\u001b[0m \u001b[0mremove_positioned_gaps\u001b[0m\u001b[0;34m(\u001b[0m\u001b[0mseq\u001b[0m\u001b[0;34m,\u001b[0m \u001b[0mtarget_leader\u001b[0m\u001b[0;34m)\u001b[0m\u001b[0;34m\u001b[0m\u001b[0;34m\u001b[0m\u001b[0m\n\u001b[1;32m      5\u001b[0m     \u001b[0mtarget_ss\u001b[0m \u001b[0;34m+=\u001b[0m \u001b[0mxrRNA_ss\u001b[0m\u001b[0;34m[\u001b[0m\u001b[0;36m0\u001b[0m\u001b[0;34m]\u001b[0m\u001b[0;34m\u001b[0m\u001b[0;34m\u001b[0m\u001b[0m\n\u001b[1;32m      6\u001b[0m \u001b[0;34m\u001b[0m\u001b[0m\n\u001b[1;32m      7\u001b[0m     \u001b[0mwhole_seq\u001b[0m \u001b[0;34m=\u001b[0m \u001b[0mseq\u001b[0m \u001b[0;34m+\u001b[0m \u001b[0mxrRNA_seq\u001b[0m\u001b[0;34m\u001b[0m\u001b[0;34m\u001b[0m\u001b[0m\n\u001b[0;32m----> 8\u001b[0;31m     \u001b[0mcur_freq\u001b[0m \u001b[0;34m=\u001b[0m \u001b[0mtarget_frequency\u001b[0m\u001b[0;34m(\u001b[0m\u001b[0mwhole_seq\u001b[0m\u001b[0;34m,\u001b[0m \u001b[0mtarget_ss\u001b[0m\u001b[0;34m)\u001b[0m\u001b[0;34m\u001b[0m\u001b[0;34m\u001b[0m\u001b[0m\n\u001b[0m\u001b[1;32m      9\u001b[0m     \u001b[0;32mif\u001b[0m \u001b[0mcur_freq\u001b[0m \u001b[0;34m>\u001b[0m \u001b[0mbest_freq\u001b[0m\u001b[0;34m:\u001b[0m\u001b[0;34m\u001b[0m\u001b[0;34m\u001b[0m\u001b[0m\n\u001b[1;32m     10\u001b[0m         \u001b[0mbest_freq\u001b[0m \u001b[0;34m=\u001b[0m \u001b[0mcur_freq\u001b[0m\u001b[0;34m\u001b[0m\u001b[0;34m\u001b[0m\u001b[0m\n\u001b[1;32m     11\u001b[0m         \u001b[0mbest_seq\u001b[0m \u001b[0;34m=\u001b[0m \u001b[0mseq\u001b[0m\u001b[0;34m\u001b[0m\u001b[0;34m\u001b[0m\u001b[0m\n",
      "\u001b[0;32m/var/folders/54/ry4wc1s953jdm1j76gdcpwpc0000gn/T/ipykernel_81467/3504864935.py\u001b[0m in \u001b[0;36m?\u001b[0;34m(sequence, ss)\u001b[0m\n\u001b[1;32m      1\u001b[0m \u001b[0;32mdef\u001b[0m \u001b[0mtarget_frequency\u001b[0m\u001b[0;34m(\u001b[0m\u001b[0msequence\u001b[0m\u001b[0;34m,\u001b[0m \u001b[0mss\u001b[0m\u001b[0;34m)\u001b[0m\u001b[0;34m:\u001b[0m\u001b[0;34m\u001b[0m\u001b[0;34m\u001b[0m\u001b[0m\n\u001b[1;32m      2\u001b[0m     \u001b[0mfc\u001b[0m \u001b[0;34m=\u001b[0m \u001b[0mRNA\u001b[0m\u001b[0;34m.\u001b[0m\u001b[0mfold_compound\u001b[0m\u001b[0;34m(\u001b[0m\u001b[0msequence\u001b[0m\u001b[0;34m.\u001b[0m\u001b[0mreplace\u001b[0m\u001b[0;34m(\u001b[0m\u001b[0;34m'-'\u001b[0m\u001b[0;34m,\u001b[0m\u001b[0;34m''\u001b[0m\u001b[0;34m)\u001b[0m\u001b[0;34m)\u001b[0m\u001b[0;34m\u001b[0m\u001b[0;34m\u001b[0m\u001b[0m\n\u001b[0;32m----> 3\u001b[0;31m     \u001b[0mfc\u001b[0m\u001b[0;34m.\u001b[0m\u001b[0mpf\u001b[0m\u001b[0;34m(\u001b[0m\u001b[0;34m)\u001b[0m\u001b[0;34m\u001b[0m\u001b[0;34m\u001b[0m\u001b[0m\n\u001b[0m\u001b[1;32m      4\u001b[0m     \u001b[0;32mreturn\u001b[0m \u001b[0mfc\u001b[0m\u001b[0;34m.\u001b[0m\u001b[0mpr_structure\u001b[0m\u001b[0;34m(\u001b[0m\u001b[0mss\u001b[0m\u001b[0;34m)\u001b[0m\u001b[0;34m\u001b[0m\u001b[0;34m\u001b[0m\u001b[0m\n",
      "\u001b[0;32m~/miniconda3/envs/thesis/lib/python3.12/site-packages/RNA/RNA.py\u001b[0m in \u001b[0;36m?\u001b[0;34m(self)\u001b[0m\n\u001b[1;32m  13713\u001b[0m         \u001b[0mconstraints\u001b[0m \u001b[0;32mor\u001b[0m \u001b[0mnumerical\u001b[0m \u001b[0mover\u001b[0m\u001b[0;34m-\u001b[0m\u001b[0;34m/\u001b[0m\u001b[0munderflow\u001b[0m\u001b[0;34m.\u001b[0m \u001b[0mIn\u001b[0m \u001b[0mthe\u001b[0m \u001b[0mlatter\u001b[0m \u001b[0mcase\u001b[0m\u001b[0;34m,\u001b[0m \u001b[0ma\u001b[0m \u001b[0mcorresponding\u001b[0m \u001b[0mwarning\u001b[0m \u001b[0mwill\u001b[0m \u001b[0mbe\u001b[0m \u001b[0missued\u001b[0m\u001b[0;34m\u001b[0m\u001b[0;34m\u001b[0m\u001b[0m\n\u001b[1;32m  13714\u001b[0m         \u001b[0mto\u001b[0m \u001b[0;34m`\u001b[0m\u001b[0mstdout\u001b[0m\u001b[0;34m`\u001b[0m\u001b[0;34m.\u001b[0m\u001b[0;34m\u001b[0m\u001b[0;34m\u001b[0m\u001b[0m\n\u001b[1;32m  13715\u001b[0m \u001b[0;34m\u001b[0m\u001b[0m\n\u001b[1;32m  13716\u001b[0m         \"\"\"\n\u001b[0;32m> 13717\u001b[0;31m         \u001b[0;32mreturn\u001b[0m \u001b[0m_RNA\u001b[0m\u001b[0;34m.\u001b[0m\u001b[0mfold_compound_pf\u001b[0m\u001b[0;34m(\u001b[0m\u001b[0mself\u001b[0m\u001b[0;34m)\u001b[0m\u001b[0;34m\u001b[0m\u001b[0;34m\u001b[0m\u001b[0m\n\u001b[0m",
      "\u001b[0;31mKeyboardInterrupt\u001b[0m: "
     ]
    }
   ],
   "source": [
    "best_seq = None\n",
    "best_freq = 0\n",
    "for seq in tqdm(ok_leader):\n",
    "    target_ss = remove_positioned_gaps(seq, target_leader)\n",
    "    target_ss += xrRNA_ss[0]\n",
    "    \n",
    "    whole_seq = seq + xrRNA_seq\n",
    "    cur_freq = target_frequency(whole_seq, target_ss)\n",
    "    if cur_freq > best_freq:\n",
    "        best_freq = cur_freq\n",
    "        best_seq = seq\n",
    "        print(round(target_frequency(whole_seq, target_ss), 2))\n",
    "print(best_seq)"
   ]
  },
  {
   "cell_type": "code",
   "execution_count": 53,
   "metadata": {},
   "outputs": [
    {
     "name": "stderr",
     "output_type": "stream",
     "text": [
      "  1%|          | 12/1507 [00:00<00:26, 56.91it/s]"
     ]
    },
    {
     "name": "stdout",
     "output_type": "stream",
     "text": [
      "0.263\n",
      "0.444\n",
      "0.482\n",
      "0.505\n"
     ]
    },
    {
     "name": "stderr",
     "output_type": "stream",
     "text": [
      "  4%|▍         | 66/1507 [00:00<00:18, 80.03it/s]"
     ]
    },
    {
     "name": "stdout",
     "output_type": "stream",
     "text": [
      "0.522\n"
     ]
    },
    {
     "name": "stderr",
     "output_type": "stream",
     "text": [
      " 52%|█████▏    | 785/1507 [00:09<00:08, 81.66it/s]"
     ]
    },
    {
     "name": "stdout",
     "output_type": "stream",
     "text": [
      "0.523\n"
     ]
    },
    {
     "name": "stderr",
     "output_type": "stream",
     "text": [
      "100%|██████████| 1507/1507 [00:18<00:00, 82.49it/s]"
     ]
    },
    {
     "name": "stdout",
     "output_type": "stream",
     "text": [
      "GCUAAAAA-CCUCCUGGGAAGGAGGAC--\n"
     ]
    },
    {
     "name": "stderr",
     "output_type": "stream",
     "text": [
      "\n"
     ]
    }
   ],
   "source": [
    "best_seq = None\n",
    "best_freq = 0\n",
    "for seq in tqdm(good_candidates):\n",
    "    target_ss = remove_positioned_gaps(seq, target_leader)\n",
    "    target_ss += xrRNA_ss[0]\n",
    "    \n",
    "    whole_seq = seq + xrRNA_seq\n",
    "    cur_freq = target_frequency(whole_seq, target_ss)\n",
    "    if cur_freq > best_freq:\n",
    "        best_freq = cur_freq\n",
    "        best_seq = seq\n",
    "        print(round(target_frequency(whole_seq, target_ss), 3))\n",
    "\n",
    "print(best_seq)"
   ]
  },
  {
   "cell_type": "code",
   "execution_count": null,
   "metadata": {
    "execution": {
     "iopub.execute_input": "2024-07-21T14:11:23.503617Z",
     "iopub.status.busy": "2024-07-21T14:11:23.503521Z",
     "iopub.status.idle": "2024-07-21T14:11:23.505954Z",
     "shell.execute_reply": "2024-07-21T14:11:23.505655Z",
     "shell.execute_reply.started": "2024-07-21T14:11:23.503607Z"
    }
   },
   "outputs": [],
   "source": [
    "good_candidates_stored = ['GCUAAAAC-CAUAGCCGUAGCUAUGAU-C', 'GCUAAACUAGGAGGGGAAACCCUCCAUCC','GCUAAAGA-GCUUGCGUAAAGCAAGCAA--', 'GCUAAACCCCAUGGCAAAGGCCGUGAUU-', 'GCUAAACC-GUUCUGGACCCAGAGCUCC-', 'GCUAAAACCGGCUUCGCUGGAAGCCUC--']"
   ]
  },
  {
   "cell_type": "code",
   "execution_count": null,
   "metadata": {},
   "outputs": [],
   "source": [
    "not_working = 'GCUAAAGAGCUUGCGUAAAGCAAGCAA'"
   ]
  },
  {
   "cell_type": "code",
   "execution_count": null,
   "metadata": {},
   "outputs": [
    {
     "name": "stderr",
     "output_type": "stream",
     "text": [
      "100%|██████████| 6/6 [00:00<00:00, 42.39it/s]"
     ]
    },
    {
     "name": "stdout",
     "output_type": "stream",
     "text": [
      "0.51\n",
      "0.52\n",
      "0.52\n",
      "GCUAAAACCGGCUUCGCUGGAAGCCUC--\n"
     ]
    },
    {
     "name": "stderr",
     "output_type": "stream",
     "text": [
      "\n"
     ]
    }
   ],
   "source": [
    "best_seq = None\n",
    "best_freq = 0\n",
    "for seq in tqdm(good_candidates_stored):\n",
    "    target_ss = remove_positioned_gaps(seq, target_leader)\n",
    "    target_ss += xrRNA_ss[0]\n",
    "    \n",
    "    whole_seq = seq + xrRNA_seq\n",
    "    cur_freq = target_frequency(whole_seq, target_ss)\n",
    "    if cur_freq > best_freq:\n",
    "        best_freq = cur_freq\n",
    "        best_seq = seq\n",
    "        print(round(target_frequency(whole_seq, target_ss), 2))\n",
    "\n",
    "print(best_seq)"
   ]
  },
  {
   "cell_type": "code",
   "execution_count": null,
   "metadata": {},
   "outputs": [],
   "source": [
    "# og GCUAAAGAGCUUGCGUAAAGCAAGCAA\n",
    "# L1 GCUAAAACCAUAGCCGUAGCUAUGAUC\n",
    "# L2 GCUAAACCGUUCUGGACCCAGAGCUCC\n",
    "# L3 GCUAAAACCGGCUUCGCUGGAAGCCUC"
   ]
  },
  {
   "cell_type": "code",
   "execution_count": null,
   "metadata": {},
   "outputs": [],
   "source": []
  },
  {
   "cell_type": "code",
   "execution_count": 81,
   "metadata": {},
   "outputs": [],
   "source": [
    "best_seq = 'GCUAAAAA-CCUCCUGGGAAGGAGGAC--'\n",
    "best_seq = 'GCUAAACC-CCUCCUGGGAAGGAGGAC--'"
   ]
  },
  {
   "cell_type": "code",
   "execution_count": 80,
   "metadata": {},
   "outputs": [
    {
     "name": "stdout",
     "output_type": "stream",
     "text": [
      "AA\n",
      "0.52\n",
      "AC\n",
      "0.52\n",
      "AG\n",
      "0.39\n",
      "AU\n",
      "0.09\n",
      "CA\n",
      "0.37\n",
      "CC\n",
      "0.52\n",
      "CG\n",
      "0.33\n",
      "CU\n",
      "0.07\n",
      "GA\n",
      "0.41\n",
      "GC\n",
      "0.29\n",
      "GG\n",
      "0.01\n",
      "GU\n",
      "0.0\n",
      "UA\n",
      "0.44\n",
      "UC\n",
      "0.47\n",
      "UG\n",
      "0.34\n",
      "UU\n",
      "0.07\n"
     ]
    }
   ],
   "source": [
    "for nt1 in 'ACGU':\n",
    "    for nt2 in 'ACGU':\n",
    "        seq = 'GCUAAA' + nt1 + nt2 + '-CCUCCUGGGAAGGAGGAC--'\n",
    "        target_ss = remove_positioned_gaps(seq, target_leader)\n",
    "        target_ss += xrRNA_ss[0]\n",
    "        seq = seq.replace('-','')\n",
    "\n",
    "        whole_seq = seq + xrRNA_seq\n",
    "        print(nt1 + nt2)\n",
    "        print(round(target_frequency(whole_seq, target_ss), 2))"
   ]
  },
  {
   "cell_type": "code",
   "execution_count": 82,
   "metadata": {
    "execution": {
     "iopub.execute_input": "2024-07-21T19:43:04.156957Z",
     "iopub.status.busy": "2024-07-21T19:43:04.156743Z",
     "iopub.status.idle": "2024-07-21T19:43:04.165266Z",
     "shell.execute_reply": "2024-07-21T19:43:04.164968Z",
     "shell.execute_reply.started": "2024-07-21T19:43:04.156943Z"
    }
   },
   "outputs": [
    {
     "name": "stdout",
     "output_type": "stream",
     "text": [
      "GCUAAACCCCUCCUGGGAAGGAGGACCCGCCCAGGGCCUAGGCAGCACGCGAAAUUAGGCGACGGGAGAGGGUCGGAUCCCGACUGGGCAGCUGGGCAAUUUGUAAUUUGUGAGACCC\n",
      "........((((((....))))))....((((((.((((((......(((........))).(((((..........))))).))))))..)))))).....................\t-43.10\n",
      "--------------------------++++++++++++++++++++++++++++++++++++++++++++++++++++++++++++++++++++++++++++++++++++++++++++\n",
      "\n",
      "GCUAAACCCCUCCUGGGAAGGAGGACCCGCCCAGGGCCUAGGCAGCACGCGAAAUUAGGCGACGGGAGAGGGUCGGAUCCCGACUGGGCAGCUGGGCAAUUUGUAAUUUGUGAGACCC\n",
      "........((((((....))))))....((((((.((((((......(((........))).(((((..(...)...))))).))))))..)))))).....................\t-41.90\n",
      "--------------------------++++++++++++++++++++++++++++++++++++++++++++++++++++++++++++++++++++++++++++++++++++++++++++\n",
      "\n",
      "GCUAAACCCCUCCUGGGAAGGAGGACCCGCCCAGGGCCUAGGCAGCACGCGAAAUUAGGCGACGGGAGAGGGUCGGAUCCCGACUGGGCAGCUGGGCAAUUUGUAAUUUGUGAGACCC\n",
      "........((((((....))))))....((((((.((((((......(((........))).(((((((...))...))))).))))))..)))))).....................\t-41.20\n",
      "--------------------------++++++++++++++++++++++++++++++++++++++++++++++++++++++++++++++++++++++++++++++++++++++++++++\n",
      "\n",
      "GCUAAACCCCUCCUGGGAAGGAGGACCCGCCCAGGGCCUAGGCAGCACGCGAAAUUAGGCGACGGGAGAGGGUCGGAUCCCGACUGGGCAGCUGGGCAAUUUGUAAUUUGUGAGACCC\n",
      "........((((((....))))))....((((((.((((((......(((........)))..((((..........))))..))))))..)))))).....................\t-41.10\n",
      "--------------------------++++++++++++++++++++++++++++++++++++++++++++++++++++++++++++++++++++++++++++++++++++++++++++\n",
      "\n",
      "GCUAAACCCCUCCUGGGAAGGAGGACCCGCCCAGGGCCUAGGCAGCACGCGAAAUUAGGCGACGGGAGAGGGUCGGAUCCCGACUGGGCAGCUGGGCAAUUUGUAAUUUGUGAGACCC\n",
      "........((((((....))))))....((((((.((((((.......((........))..(((((..........))))).))))))..)))))).....................\t-41.10\n",
      "--------------------------++++++++++++++++++++++++++++++++++++++++++++++++++++++++++++++++++++++++++++++++++++++++++++\n",
      "\n",
      "GCUAAACCCCUCCUGGGAAGGAGGACCCGCCCAGGGCCUAGGCAGCACGCGAAAUUAGGCGACGGGAGAGGGUCGGAUCCCGACUGGGCAGCUGGGCAAUUUGUAAUUUGUGAGACCC\n",
      "........((((((....))))))....((((((.((((((......(((........))).((((............)))).))))))..)))))).....................\t-40.80\n",
      "--------------------------++++++++++++++++++++++++++++++++++++++++++++++++++++++++++++++++++++++++++++++++++++++++++++\n",
      "\n",
      "GCUAAACCCCUCCUGGGAAGGAGGACCCGCCCAGGGCCUAGGCAGCACGCGAAAUUAGGCGACGGGAGAGGGUCGGAUCCCGACUGGGCAGCUGGGCAAUUUGUAAUUUGUGAGACCC\n",
      "........(((((......)))))....((((((.((((((......(((........))).(((((..........))))).))))))..)))))).....................\t-40.70\n",
      "--------------------------++++++++++++++++++++++++++++++++++++++++++++++++++++++++++++++++++++++++++++++++++++++++++++\n",
      "\n",
      "GCUAAACCCCUCCUGGGAAGGAGGACCCGCCCAGGGCCUAGGCAGCACGCGAAAUUAGGCGACGGGAGAGGGUCGGAUCCCGACUGGGCAGCUGGGCAAUUUGUAAUUUGUGAGACCC\n",
      ".((.....((((((....))))))....((((((.((((((......(((........))).(((((..........))))).))))))..))))))...............))....\t-40.50\n",
      "--------------------------++++++++++++++++++++++++++++++++++++++++++++++++++++++++++++++++++++++++++++++++++++++++++++\n",
      "\n",
      "GCUAAACCCCUCCUGGGAAGGAGGACCCGCCCAGGGCCUAGGCAGCACGCGAAAUUAGGCGACGGGAGAGGGUCGGAUCCCGACUGGGCAGCUGGGCAAUUUGUAAUUUGUGAGACCC\n",
      "........((((((....))))))((..((((((.((((((......(((........))).(((((..........))))).))))))..)))))).....))..............\t-40.50\n",
      "--------------------------++++++++++++++++++++++++++++++++++++++++++++++++++++++++++++++++++++++++++++++++++++++++++++\n",
      "\n",
      "GCUAAACCCCUCCUGGGAAGGAGGACCCGCCCAGGGCCUAGGCAGCACGCGAAAUUAGGCGACGGGAGAGGGUCGGAUCCCGACUGGGCAGCUGGGCAAUUUGUAAUUUGUGAGACCC\n",
      "........((((((....))))))....((((((.((((((.(....(((........)))..((((..........))))).))))))..)))))).....................\t-40.50\n",
      "--------------------------++++++++++++++++++++++++++++++++++++++++++++++++++++++++++++++++++++++++++++++++++++++++++++\n",
      "\n",
      "GCUAAACCCCUCCUGGGAAGGAGGACCCGCCCAGGGCCUAGGCAGCACGCGAAAUUAGGCGACGGGAGAGGGUCGGAUCCCGACUGGGCAGCUGGGCAAUUUGUAAUUUGUGAGACCC\n",
      "........((((((....))))))....((((((.((((((......(((........))).((((((.....)...))))).))))))..)))))).....................\t-40.50\n",
      "--------------------------++++++++++++++++++++++++++++++++++++++++++++++++++++++++++++++++++++++++++++++++++++++++++++\n",
      "\n",
      "GCUAAACCCCUCCUGGGAAGGAGGACCCGCCCAGGGCCUAGGCAGCACGCGAAAUUAGGCGACGGGAGAGGGUCGGAUCCCGACUGGGCAGCUGGGCAAUUUGUAAUUUGUGAGACCC\n",
      "((......((((((....))))))....((((((.((((((......(((........))).(((((..........))))).))))))..)))))).....))..............\t-40.40\n",
      "--------------------------++++++++++++++++++++++++++++++++++++++++++++++++++++++++++++++++++++++++++++++++++++++++++++\n",
      "\n",
      "GCUAAACCCCUCCUGGGAAGGAGGACCCGCCCAGGGCCUAGGCAGCACGCGAAAUUAGGCGACGGGAGAGGGUCGGAUCCCGACUGGGCAGCUGGGCAAUUUGUAAUUUGUGAGACCC\n",
      "((......((((((....))))))....((((((.((((((......(((........))).(((((..........))))).))))))..))))))............)).......\t-40.40\n",
      "--------------------------++++++++++++++++++++++++++++++++++++++++++++++++++++++++++++++++++++++++++++++++++++++++++++\n",
      "\n",
      "GCUAAACCCCUCCUGGGAAGGAGGACCCGCCCAGGGCCUAGGCAGCACGCGAAAUUAGGCGACGGGAGAGGGUCGGAUCCCGACUGGGCAGCUGGGCAAUUUGUAAUUUGUGAGACCC\n",
      ".((..((.((((((....))))))....((((((.((((((......(((........))).(((((..........))))).))))))..))))))............)).))....\t-40.30\n",
      "--------------------------++++++++++++++++++++++++++++++++++++++++++++++++++++++++++++++++++++++++++++++++++++++++++++\n",
      "\n",
      "GCUAAACCCCUCCUGGGAAGGAGGACCCGCCCAGGGCCUAGGCAGCACGCGAAAUUAGGCGACGGGAGAGGGUCGGAUCCCGACUGGGCAGCUGGGCAAUUUGUAAUUUGUGAGACCC\n",
      "........((((((....))))))....((((((.((((((......(((........))).(((((..........))))).))))))..))))))((((...))))..........\t-40.20\n",
      "--------------------------++++++++++++++++++++++++++++++++++++++++++++++++++++++++++++++++++++++++++++++++++++++++++++\n",
      "\n",
      "GCUAAACCCCUCCUGGGAAGGAGGACCCGCCCAGGGCCUAGGCAGCACGCGAAAUUAGGCGACGGGAGAGGGUCGGAUCCCGACUGGGCAGCUGGGCAAUUUGUAAUUUGUGAGACCC\n",
      "........((((((....))))))....((((((.((((((......(((........))).(((((..........))))).))))))..))))))............((...))..\t-40.20\n",
      "--------------------------++++++++++++++++++++++++++++++++++++++++++++++++++++++++++++++++++++++++++++++++++++++++++++\n",
      "\n",
      "GCUAAACCCCUCCUGGGAAGGAGGACCCGCCCAGGGCCUAGGCAGCACGCGAAAUUAGGCGACGGGAGAGGGUCGGAUCCCGACUGGGCAGCUGGGCAAUUUGUAAUUUGUGAGACCC\n",
      ".....((.((((((....))))))....((((((.((((((......(((........))).(((((..........))))).))))))..))))))............)).......\t-40.10\n",
      "--------------------------++++++++++++++++++++++++++++++++++++++++++++++++++++++++++++++++++++++++++++++++++++++++++++\n",
      "\n",
      "GCUAAACCCCUCCUGGGAAGGAGGACCCGCCCAGGGCCUAGGCAGCACGCGAAAUUAGGCGACGGGAGAGGGUCGGAUCCCGACUGGGCAGCUGGGCAAUUUGUAAUUUGUGAGACCC\n",
      "........((((((....))))))....((((((.((((((((.....))............(((((..........))))).))))))..)))))).....................\t-40.10\n",
      "--------------------------++++++++++++++++++++++++++++++++++++++++++++++++++++++++++++++++++++++++++++++++++++++++++++\n",
      "\n",
      "GCUAAACCCCUCCUGGGAAGGAGGACCCGCCCAGGGCCUAGGCAGCACGCGAAAUUAGGCGACGGGAGAGGGUCGGAUCCCGACUGGGCAGCUGGGCAAUUUGUAAUUUGUGAGACCC\n",
      "........((((((....))))))....((((((.((((((......(((........))).(((((..........))))).))))))..))))))..(((..........)))...\t-40.10\n",
      "--------------------------++++++++++++++++++++++++++++++++++++++++++++++++++++++++++++++++++++++++++++++++++++++++++++\n",
      "\n",
      "GCUAAACCCCUCCUGGGAAGGAGGACCCGCCCAGGGCCUAGGCAGCACGCGAAAUUAGGCGACGGGAGAGGGUCGGAUCCCGACUGGGCAGCUGGGCAAUUUGUAAUUUGUGAGACCC\n",
      "........((((((....))))))....((((((.((((((......(((........))).(((((..........))))).))))))..)))))).....((..........))..\t-40.10\n",
      "--------------------------++++++++++++++++++++++++++++++++++++++++++++++++++++++++++++++++++++++++++++++++++++++++++++\n",
      "\n",
      "GCUAAACCCCUCCUGGGAAGGAGGACCCGCCCAGGGCCUAGGCAGCACGCGAAAUUAGGCGACGGGAGAGGGUCGGAUCCCGACUGGGCAGCUGGGCAAUUUGUAAUUUGUGAGACCC\n",
      "........((((((....))))))....((((((.((((((......(((........)))........(((......)))..))))))..)))))).....................\t-40.10\n",
      "--------------------------++++++++++++++++++++++++++++++++++++++++++++++++++++++++++++++++++++++++++++++++++++++++++++\n",
      "\n",
      "GCUAAACCCCUCCUGGGAAGGAGGACCCGCCCAGGGCCUAGGCAGCACGCGAAAUUAGGCGACGGGAGAGGGUCGGAUCCCGACUGGGCAGCUGGGCAAUUUGUAAUUUGUGAGACCC\n",
      ".....((.((((((....))))))....((((((.((((((......(((........))).(((((..........))))).))))))..)))))).....))..............\t-40.00\n",
      "--------------------------++++++++++++++++++++++++++++++++++++++++++++++++++++++++++++++++++++++++++++++++++++++++++++\n",
      "\n",
      "GCUAAACCCCUCCUGGGAAGGAGGACCCGCCCAGGGCCUAGGCAGCACGCGAAAUUAGGCGACGGGAGAGGGUCGGAUCCCGACUGGGCAGCUGGGCAAUUUGUAAUUUGUGAGACCC\n",
      "........((((((....))))))....((((((.(((((((...).(((........))).(((((..........))))).))))))..)))))).....................\t-40.00\n",
      "--------------------------++++++++++++++++++++++++++++++++++++++++++++++++++++++++++++++++++++++++++++++++++++++++++++\n",
      "\n",
      "GCUAAACCCCUCCUGGGAAGGAGGACCCGCCCAGGGCCUAGGCAGCACGCGAAAUUAGGCGACGGGAGAGGGUCGGAUCCCGACUGGGCAGCUGGGCAAUUUGUAAUUUGUGAGACCC\n",
      "........((((((....))))))....((((((.((((((......(((........))).(((((..........))))).))))))..))))))((........)).........\t-40.00\n",
      "--------------------------++++++++++++++++++++++++++++++++++++++++++++++++++++++++++++++++++++++++++++++++++++++++++++\n",
      "\n",
      "GCUAAACCCCUCCUGGGAAGGAGGACCCGCCCAGGGCCUAGGCAGCACGCGAAAUUAGGCGACGGGAGAGGGUCGGAUCCCGACUGGGCAGCUGGGCAAUUUGUAAUUUGUGAGACCC\n",
      "........((((((....))))))....((((((.((((((......(((........))).(((((..........))))).))))))..))))))..........((....))...\t-39.90\n",
      "--------------------------++++++++++++++++++++++++++++++++++++++++++++++++++++++++++++++++++++++++++++++++++++++++++++\n",
      "\n",
      "GCUAAACCCCUCCUGGGAAGGAGGACCCGCCCAGGGCCUAGGCAGCACGCGAAAUUAGGCGACGGGAGAGGGUCGGAUCCCGACUGGGCAGCUGGGCAAUUUGUAAUUUGUGAGACCC\n",
      "........((((((....))))))....((((((.((((((......(((........)))..((((..(...)...))))..))))))..)))))).....................\t-39.90\n",
      "--------------------------++++++++++++++++++++++++++++++++++++++++++++++++++++++++++++++++++++++++++++++++++++++++++++\n",
      "\n",
      "GCUAAACCCCUCCUGGGAAGGAGGACCCGCCCAGGGCCUAGGCAGCACGCGAAAUUAGGCGACGGGAGAGGGUCGGAUCCCGACUGGGCAGCUGGGCAAUUUGUAAUUUGUGAGACCC\n",
      "........((((((....))))))....((((((.((((((.......((........))..(((((..(...)...))))).))))))..)))))).....................\t-39.90\n",
      "--------------------------++++++++++++++++++++++++++++++++++++++++++++++++++++++++++++++++++++++++++++++++++++++++++++\n",
      "\n",
      "GCUAAACCCCUCCUGGGAAGGAGGACCCGCCCAGGGCCUAGGCAGCACGCGAAAUUAGGCGACGGGAGAGGGUCGGAUCCCGACUGGGCAGCUGGGCAAUUUGUAAUUUGUGAGACCC\n",
      "........((((((....))))))....((((((.(((((.......(((........))).(((((..........)))))..)))))..)))))).....................\t-39.90\n",
      "--------------------------++++++++++++++++++++++++++++++++++++++++++++++++++++++++++++++++++++++++++++++++++++++++++++\n",
      "\n",
      "GCUAAACCCCUCCUGGGAAGGAGGACCCGCCCAGGGCCUAGGCAGCACGCGAAAUUAGGCGACGGGAGAGGGUCGGAUCCCGACUGGGCAGCUGGGCAAUUUGUAAUUUGUGAGACCC\n",
      "........((((((....))))))....((((((.((((((......(((........))).(((((..........))))).))))))..))))))..............(....).\t-39.80\n",
      "--------------------------++++++++++++++++++++++++++++++++++++++++++++++++++++++++++++++++++++++++++++++++++++++++++++\n",
      "\n",
      "GCUAAACCCCUCCUGGGAAGGAGGACCCGCCCAGGGCCUAGGCAGCACGCGAAAUUAGGCGACGGGAGAGGGUCGGAUCCCGACUGGGCAGCUGGGCAAUUUGUAAUUUGUGAGACCC\n",
      ".........(((((....))))).....((((((.((((((......(((........))).(((((..........))))).))))))..)))))).....................\t-39.80\n",
      "--------------------------++++++++++++++++++++++++++++++++++++++++++++++++++++++++++++++++++++++++++++++++++++++++++++\n",
      "\n",
      "GCUAAACCCCUCCUGGGAAGGAGGACCCGCCCAGGGCCUAGGCAGCACGCGAAAUUAGGCGACGGGAGAGGGUCGGAUCCCGACUGGGCAGCUGGGCAAUUUGUAAUUUGUGAGACCC\n",
      "..((((..((((((....))))))....((((((.((((((......(((........))).(((((..........))))).))))))..))))))..))))...............\t-39.70\n",
      "--------------------------++++++++++++++++++++++++++++++++++++++++++++++++++++++++++++++++++++++++++++++++++++++++++++\n",
      "\n",
      "GCUAAACCCCUCCUGGGAAGGAGGACCCGCCCAGGGCCUAGGCAGCACGCGAAAUUAGGCGACGGGAGAGGGUCGGAUCCCGACUGGGCAGCUGGGCAAUUUGUAAUUUGUGAGACCC\n",
      "..((((..((((((....))))))....((((((.((((((......(((........))).(((((..........))))).))))))..)))))).........))))........\t-39.70\n",
      "--------------------------++++++++++++++++++++++++++++++++++++++++++++++++++++++++++++++++++++++++++++++++++++++++++++\n",
      "\n",
      "GCUAAACCCCUCCUGGGAAGGAGGACCCGCCCAGGGCCUAGGCAGCACGCGAAAUUAGGCGACGGGAGAGGGUCGGAUCCCGACUGGGCAGCUGGGCAAUUUGUAAUUUGUGAGACCC\n",
      "........((((((....))))))....((((((.((((((......(((........))).(((((..........))))).))))))..))))))(((.....)))..........\t-39.70\n",
      "--------------------------++++++++++++++++++++++++++++++++++++++++++++++++++++++++++++++++++++++++++++++++++++++++++++\n",
      "\n",
      "GCUAAACCCCUCCUGGGAAGGAGGACCCGCCCAGGGCCUAGGCAGCACGCGAAAUUAGGCGACGGGAGAGGGUCGGAUCCCGACUGGGCAGCUGGGCAAUUUGUAAUUUGUGAGACCC\n",
      "(((.....((((((....))))))....((((((.((((((......(((........))).(((((..........))))).))))))..))))))...............)).)..\t-39.60\n",
      "--------------------------++++++++++++++++++++++++++++++++++++++++++++++++++++++++++++++++++++++++++++++++++++++++++++\n",
      "\n",
      "GCUAAACCCCUCCUGGGAAGGAGGACCCGCCCAGGGCCUAGGCAGCACGCGAAAUUAGGCGACGGGAGAGGGUCGGAUCCCGACUGGGCAGCUGGGCAAUUUGUAAUUUGUGAGACCC\n",
      "........((((((....))))))....((((((.((((((......(((........))).(((((..........))))).))))))..)))))).((.........)).......\t-39.60\n",
      "--------------------------++++++++++++++++++++++++++++++++++++++++++++++++++++++++++++++++++++++++++++++++++++++++++++\n",
      "\n",
      "GCUAAACCCCUCCUGGGAAGGAGGACCCGCCCAGGGCCUAGGCAGCACGCGAAAUUAGGCGACGGGAGAGGGUCGGAUCCCGACUGGGCAGCUGGGCAAUUUGUAAUUUGUGAGACCC\n",
      "........((((((....))))))....((((((.((((((.(....(((........)))........(((......)))).))))))..)))))).....................\t-39.50\n",
      "--------------------------++++++++++++++++++++++++++++++++++++++++++++++++++++++++++++++++++++++++++++++++++++++++++++\n",
      "\n",
      "GCUAAACCCCUCCUGGGAAGGAGGACCCGCCCAGGGCCUAGGCAGCACGCGAAAUUAGGCGACGGGAGAGGGUCGGAUCCCGACUGGGCAGCUGGGCAAUUUGUAAUUUGUGAGACCC\n",
      "........((((((....))))))....((((((.((((((...((.(.........)))..(((((..........))))).))))))..)))))).....................\t-39.50\n",
      "--------------------------++++++++++++++++++++++++++++++++++++++++++++++++++++++++++++++++++++++++++++++++++++++++++++\n",
      "\n",
      "GCUAAACCCCUCCUGGGAAGGAGGACCCGCCCAGGGCCUAGGCAGCACGCGAAAUUAGGCGACGGGAGAGGGUCGGAUCCCGACUGGGCAGCUGGGCAAUUUGUAAUUUGUGAGACCC\n",
      "........((((((....))))))....((((((.((((((......(((........))).(((((..........))))).))))))..))))))............(......).\t-39.50\n",
      "--------------------------++++++++++++++++++++++++++++++++++++++++++++++++++++++++++++++++++++++++++++++++++++++++++++\n",
      "\n",
      "GCUAAACCCCUCCUGGGAAGGAGGACCCGCCCAGGGCCUAGGCAGCACGCGAAAUUAGGCGACGGGAGAGGGUCGGAUCCCGACUGGGCAGCUGGGCAAUUUGUAAUUUGUGAGACCC\n",
      "........(((((......)))))....((((((.((((((......(((........))).(((((..(...)...))))).))))))..)))))).....................\t-39.50\n",
      "--------------------------++++++++++++++++++++++++++++++++++++++++++++++++++++++++++++++++++++++++++++++++++++++++++++\n",
      "\n",
      "GCUAAACCCCUCCUGGGAAGGAGGACCCGCCCAGGGCCUAGGCAGCACGCGAAAUUAGGCGACGGGAGAGGGUCGGAUCCCGACUGGGCAGCUGGGCAAUUUGUAAUUUGUGAGACCC\n",
      "(((..((.((((((....))))))....((((((.((((((......(((........))).(((((..........))))).))))))..))))))............)).)).)..\t-39.40\n",
      "--------------------------++++++++++++++++++++++++++++++++++++++++++++++++++++++++++++++++++++++++++++++++++++++++++++\n",
      "\n",
      "GCUAAACCCCUCCUGGGAAGGAGGACCCGCCCAGGGCCUAGGCAGCACGCGAAAUUAGGCGACGGGAGAGGGUCGGAUCCCGACUGGGCAGCUGGGCAAUUUGUAAUUUGUGAGACCC\n",
      "((.(((..((((((....))))))....((((((.((((((......(((........))).(((((..........))))).))))))..))))))..)))))..............\t-39.40\n",
      "--------------------------++++++++++++++++++++++++++++++++++++++++++++++++++++++++++++++++++++++++++++++++++++++++++++\n",
      "\n",
      "GCUAAACCCCUCCUGGGAAGGAGGACCCGCCCAGGGCCUAGGCAGCACGCGAAAUUAGGCGACGGGAGAGGGUCGGAUCCCGACUGGGCAGCUGGGCAAUUUGUAAUUUGUGAGACCC\n",
      "((.(((..((((((....))))))....((((((.((((((......(((........))).(((((..........))))).))))))..)))))).........))))).......\t-39.40\n",
      "--------------------------++++++++++++++++++++++++++++++++++++++++++++++++++++++++++++++++++++++++++++++++++++++++++++\n",
      "\n",
      "GCUAAACCCCUCCUGGGAAGGAGGACCCGCCCAGGGCCUAGGCAGCACGCGAAAUUAGGCGACGGGAGAGGGUCGGAUCCCGACUGGGCAGCUGGGCAAUUUGUAAUUUGUGAGACCC\n",
      "........((((((....))))))....((((((.((((((......(((........))).(((((..........))))).))))))..)))))).(((...)))...........\t-39.40\n",
      "--------------------------++++++++++++++++++++++++++++++++++++++++++++++++++++++++++++++++++++++++++++++++++++++++++++\n",
      "\n",
      "GCUAAACCCCUCCUGGGAAGGAGGACCCGCCCAGGGCCUAGGCAGCACGCGAAAUUAGGCGACGGGAGAGGGUCGGAUCCCGACUGGGCAGCUGGGCAAUUUGUAAUUUGUGAGACCC\n",
      "(.....).((((((....))))))....((((((.((((((......(((........))).(((((..........))))).))))))..)))))).....................\t-39.30\n",
      "--------------------------++++++++++++++++++++++++++++++++++++++++++++++++++++++++++++++++++++++++++++++++++++++++++++\n",
      "\n",
      "GCUAAACCCCUCCUGGGAAGGAGGACCCGCCCAGGGCCUAGGCAGCACGCGAAAUUAGGCGACGGGAGAGGGUCGGAUCCCGACUGGGCAGCUGGGCAAUUUGUAAUUUGUGAGACCC\n",
      ".((.....((((((....))))))....((((((.((((((......(((........))).(((((..(...)...))))).))))))..))))))...............))....\t-39.30\n",
      "--------------------------++++++++++++++++++++++++++++++++++++++++++++++++++++++++++++++++++++++++++++++++++++++++++++\n",
      "\n",
      "GCUAAACCCCUCCUGGGAAGGAGGACCCGCCCAGGGCCUAGGCAGCACGCGAAAUUAGGCGACGGGAGAGGGUCGGAUCCCGACUGGGCAGCUGGGCAAUUUGUAAUUUGUGAGACCC\n",
      ".......((.((((....))))))....((((((.((((((......(((........))).(((((..........))))).))))))..)))))).....................\t-39.30\n",
      "--------------------------++++++++++++++++++++++++++++++++++++++++++++++++++++++++++++++++++++++++++++++++++++++++++++\n",
      "\n",
      "GCUAAACCCCUCCUGGGAAGGAGGACCCGCCCAGGGCCUAGGCAGCACGCGAAAUUAGGCGACGGGAGAGGGUCGGAUCCCGACUGGGCAGCUGGGCAAUUUGUAAUUUGUGAGACCC\n",
      ".......(.(((((....))))))....((((((.((((((......(((........))).(((((..........))))).))))))..)))))).....................\t-39.30\n",
      "--------------------------++++++++++++++++++++++++++++++++++++++++++++++++++++++++++++++++++++++++++++++++++++++++++++\n",
      "\n",
      "GCUAAACCCCUCCUGGGAAGGAGGACCCGCCCAGGGCCUAGGCAGCACGCGAAAUUAGGCGACGGGAGAGGGUCGGAUCCCGACUGGGCAGCUGGGCAAUUUGUAAUUUGUGAGACCC\n",
      "........((((((....))))))((..((((((.((((((......(((........))).(((((..(...)...))))).))))))..)))))).....))..............\t-39.30\n",
      "--------------------------++++++++++++++++++++++++++++++++++++++++++++++++++++++++++++++++++++++++++++++++++++++++++++\n",
      "\n",
      "GCUAAACCCCUCCUGGGAAGGAGGACCCGCCCAGGGCCUAGGCAGCACGCGAAAUUAGGCGACGGGAGAGGGUCGGAUCCCGACUGGGCAGCUGGGCAAUUUGUAAUUUGUGAGACCC\n",
      "........((((((....))))))....((((((.((((((.(....(((........)))..((((..(...)...))))).))))))..)))))).....................\t-39.30\n",
      "--------------------------++++++++++++++++++++++++++++++++++++++++++++++++++++++++++++++++++++++++++++++++++++++++++++\n",
      "\n",
      "GCUAAACCCCUCCUGGGAAGGAGGACCCGCCCAGGGCCUAGGCAGCACGCGAAAUUAGGCGACGGGAGAGGGUCGGAUCCCGACUGGGCAGCUGGGCAAUUUGUAAUUUGUGAGACCC\n",
      "........((((((....))))))....((((((.((((((......(((........))).(((((..........))))).))))))..))))))............(.....)..\t-39.30\n",
      "--------------------------++++++++++++++++++++++++++++++++++++++++++++++++++++++++++++++++++++++++++++++++++++++++++++\n",
      "\n",
      "GCUAAACCCCUCCUGGGAAGGAGGACCCGCCCAGGGCCUAGGCAGCACGCGAAAUUAGGCGACGGGAGAGGGUCGGAUCCCGACUGGGCAGCUGGGCAAUUUGUAAUUUGUGAGACCC\n",
      "........((((((....))))))....(((((..((((((......(((........))).(((((..........))))).))))))...))))).....................\t-39.30\n",
      "--------------------------++++++++++++++++++++++++++++++++++++++++++++++++++++++++++++++++++++++++++++++++++++++++++++\n",
      "\n",
      "GCUAAACCCCUCCUGGGAAGGAGGACCCGCCCAGGGCCUAGGCAGCACGCGAAAUUAGGCGACGGGAGAGGGUCGGAUCCCGACUGGGCAGCUGGGCAAUUUGUAAUUUGUGAGACCC\n",
      "........((((((....)))))).....(((((.((((((......(((........))).(((((..........))))).))))))..)))))......................\t-39.30\n",
      "--------------------------++++++++++++++++++++++++++++++++++++++++++++++++++++++++++++++++++++++++++++++++++++++++++++\n",
      "\n",
      "GCUAAACCCCUCCUGGGAAGGAGGACCCGCCCAGGGCCUAGGCAGCACGCGAAAUUAGGCGACGGGAGAGGGUCGGAUCCCGACUGGGCAGCUGGGCAAUUUGUAAUUUGUGAGACCC\n",
      "((.((...((((((....))))))....((((((.((((((......(((........))).(((((..........))))).))))))..))))))..)).))..............\t-39.20\n",
      "--------------------------++++++++++++++++++++++++++++++++++++++++++++++++++++++++++++++++++++++++++++++++++++++++++++\n",
      "\n",
      "GCUAAACCCCUCCUGGGAAGGAGGACCCGCCCAGGGCCUAGGCAGCACGCGAAAUUAGGCGACGGGAGAGGGUCGGAUCCCGACUGGGCAGCUGGGCAAUUUGUAAUUUGUGAGACCC\n",
      "((.((...((((((....))))))....((((((.((((((......(((........))).(((((..........))))).))))))..)))))).........)).)).......\t-39.20\n",
      "--------------------------++++++++++++++++++++++++++++++++++++++++++++++++++++++++++++++++++++++++++++++++++++++++++++\n",
      "\n",
      "GCUAAACCCCUCCUGGGAAGGAGGACCCGCCCAGGGCCUAGGCAGCACGCGAAAUUAGGCGACGGGAGAGGGUCGGAUCCCGACUGGGCAGCUGGGCAAUUUGUAAUUUGUGAGACCC\n",
      "((......((((((....))))))....((((((.((((((......(((........))).(((((..(...)...))))).))))))..)))))).....))..............\t-39.20\n",
      "--------------------------++++++++++++++++++++++++++++++++++++++++++++++++++++++++++++++++++++++++++++++++++++++++++++\n",
      "\n",
      "GCUAAACCCCUCCUGGGAAGGAGGACCCGCCCAGGGCCUAGGCAGCACGCGAAAUUAGGCGACGGGAGAGGGUCGGAUCCCGACUGGGCAGCUGGGCAAUUUGUAAUUUGUGAGACCC\n",
      "((......((((((....))))))....((((((.((((((......(((........))).(((((..(...)...))))).))))))..))))))............)).......\t-39.20\n",
      "--------------------------++++++++++++++++++++++++++++++++++++++++++++++++++++++++++++++++++++++++++++++++++++++++++++\n",
      "\n",
      "GCUAAACCCCUCCUGGGAAGGAGGACCCGCCCAGGGCCUAGGCAGCACGCGAAAUUAGGCGACGGGAGAGGGUCGGAUCCCGACUGGGCAGCUGGGCAAUUUGUAAUUUGUGAGACCC\n",
      "(......)((((((....))))))....((((((.((((((......(((........))).(((((..........))))).))))))..)))))).....................\t-39.20\n",
      "--------------------------++++++++++++++++++++++++++++++++++++++++++++++++++++++++++++++++++++++++++++++++++++++++++++\n",
      "\n",
      "GCUAAACCCCUCCUGGGAAGGAGGACCCGCCCAGGGCCUAGGCAGCACGCGAAAUUAGGCGACGGGAGAGGGUCGGAUCCCGACUGGGCAGCUGGGCAAUUUGUAAUUUGUGAGACCC\n",
      "..(((...((((((....))))))....((((((.((((((......(((........))).(((((..........))))).))))))..))))))...)))...............\t-39.20\n",
      "--------------------------++++++++++++++++++++++++++++++++++++++++++++++++++++++++++++++++++++++++++++++++++++++++++++\n",
      "\n",
      "GCUAAACCCCUCCUGGGAAGGAGGACCCGCCCAGGGCCUAGGCAGCACGCGAAAUUAGGCGACGGGAGAGGGUCGGAUCCCGACUGGGCAGCUGGGCAAUUUGUAAUUUGUGAGACCC\n",
      "..(((...((((((....))))))....((((((.((((((......(((........))).(((((..........))))).))))))..))))))..........)))........\t-39.20\n",
      "--------------------------++++++++++++++++++++++++++++++++++++++++++++++++++++++++++++++++++++++++++++++++++++++++++++\n",
      "\n",
      "GCUAAACCCCUCCUGGGAAGGAGGACCCGCCCAGGGCCUAGGCAGCACGCGAAAUUAGGCGACGGGAGAGGGUCGGAUCCCGACUGGGCAGCUGGGCAAUUUGUAAUUUGUGAGACCC\n",
      "........((((((....))))))....((((((.((((((......(((........))).(((((..........))))).))))))..))))))...((..........))....\t-39.20\n",
      "--------------------------++++++++++++++++++++++++++++++++++++++++++++++++++++++++++++++++++++++++++++++++++++++++++++\n",
      "\n",
      "GCUAAACCCCUCCUGGGAAGGAGGACCCGCCCAGGGCCUAGGCAGCACGCGAAAUUAGGCGACGGGAGAGGGUCGGAUCCCGACUGGGCAGCUGGGCAAUUUGUAAUUUGUGAGACCC\n",
      "........((((((....))))))....((((((.((((((......(((........))).(((((..........))))).))))))..)))))).........(((...)))...\t-39.20\n",
      "--------------------------++++++++++++++++++++++++++++++++++++++++++++++++++++++++++++++++++++++++++++++++++++++++++++\n",
      "\n",
      "GCUAAACCCCUCCUGGGAAGGAGGACCCGCCCAGGGCCUAGGCAGCACGCGAAAUUAGGCGACGGGAGAGGGUCGGAUCCCGACUGGGCAGCUGGGCAAUUUGUAAUUUGUGAGACCC\n",
      "........((((((....))))))....((((((.((((((......(((........)))..((((((...))...))))..))))))..)))))).....................\t-39.20\n",
      "--------------------------++++++++++++++++++++++++++++++++++++++++++++++++++++++++++++++++++++++++++++++++++++++++++++\n",
      "\n",
      "GCUAAACCCCUCCUGGGAAGGAGGACCCGCCCAGGGCCUAGGCAGCACGCGAAAUUAGGCGACGGGAGAGGGUCGGAUCCCGACUGGGCAGCUGGGCAAUUUGUAAUUUGUGAGACCC\n",
      "........((((((....))))))....((((((.((((((.......((........))..(((((((...))...))))).))))))..)))))).....................\t-39.20\n",
      "--------------------------++++++++++++++++++++++++++++++++++++++++++++++++++++++++++++++++++++++++++++++++++++++++++++\n",
      "\n",
      "GCUAAACCCCUCCUGGGAAGGAGGACCCGCCCAGGGCCUAGGCAGCACGCGAAAUUAGGCGACGGGAGAGGGUCGGAUCCCGACUGGGCAGCUGGGCAAUUUGUAAUUUGUGAGACCC\n",
      ".((..((.((((((....))))))....((((((.((((((......(((........))).(((((..(...)...))))).))))))..))))))............)).))....\t-39.10\n",
      "--------------------------++++++++++++++++++++++++++++++++++++++++++++++++++++++++++++++++++++++++++++++++++++++++++++\n",
      "\n",
      "GCUAAACCCCUCCUGGGAAGGAGGACCCGCCCAGGGCCUAGGCAGCACGCGAAAUUAGGCGACGGGAGAGGGUCGGAUCCCGACUGGGCAGCUGGGCAAUUUGUAAUUUGUGAGACCC\n",
      "........((((((....))))))(...((((((.((((((......(((........))).(((((..........))))).))))))..))))))...).................\t-39.10\n",
      "--------------------------++++++++++++++++++++++++++++++++++++++++++++++++++++++++++++++++++++++++++++++++++++++++++++\n",
      "\n",
      "GCUAAACCCCUCCUGGGAAGGAGGACCCGCCCAGGGCCUAGGCAGCACGCGAAAUUAGGCGACGGGAGAGGGUCGGAUCCCGACUGGGCAGCUGGGCAAUUUGUAAUUUGUGAGACCC\n",
      "........((((((....))))))....((((((.((((((...(..(((........))).)((((..........))))..))))))..)))))).....................\t-39.10\n",
      "--------------------------++++++++++++++++++++++++++++++++++++++++++++++++++++++++++++++++++++++++++++++++++++++++++++\n",
      "\n",
      "GCUAAACCCCUCCUGGGAAGGAGGACCCGCCCAGGGCCUAGGCAGCACGCGAAAUUAGGCGACGGGAGAGGGUCGGAUCCCGACUGGGCAGCUGGGCAAUUUGUAAUUUGUGAGACCC\n",
      "........((((((....))))))....((((((.((((((......(((........))).(((((..........))))).))))))..))))))..((..........)).....\t-39.10\n",
      "--------------------------++++++++++++++++++++++++++++++++++++++++++++++++++++++++++++++++++++++++++++++++++++++++++++\n",
      "\n",
      "GCUAAACCCCUCCUGGGAAGGAGGACCCGCCCAGGGCCUAGGCAGCACGCGAAAUUAGGCGACGGGAGAGGGUCGGAUCCCGACUGGGCAGCUGGGCAAUUUGUAAUUUGUGAGACCC\n",
      "........((((((....))))))....((((((.((((((......(((........))).(((((..........))))).))))))..))))))...........(.....)...\t-39.10\n",
      "--------------------------++++++++++++++++++++++++++++++++++++++++++++++++++++++++++++++++++++++++++++++++++++++++++++\n",
      "\n",
      "GCUAAACCCCUCCUGGGAAGGAGGACCCGCCCAGGGCCUAGGCAGCACGCGAAAUUAGGCGACGGGAGAGGGUCGGAUCCCGACUGGGCAGCUGGGCAAUUUGUAAUUUGUGAGACCC\n",
      "........((((((....))))))....((((((.((((((.......((........))...((((..........))))..))))))..)))))).....................\t-39.10\n",
      "--------------------------++++++++++++++++++++++++++++++++++++++++++++++++++++++++++++++++++++++++++++++++++++++++++++\n",
      "\n",
      "GCUAAACCCCUCCUGGGAAGGAGGACCCGCCCAGGGCCUAGGCAGCACGCGAAAUUAGGCGACGGGAGAGGGUCGGAUCCCGACUGGGCAGCUGGGCAAUUUGUAAUUUGUGAGACCC\n",
      "........((((((....)))))).....(((((.((((((......(((........))).(((((..........))))).))))))..)))))(((........)))........\t-39.10\n",
      "--------------------------++++++++++++++++++++++++++++++++++++++++++++++++++++++++++++++++++++++++++++++++++++++++++++\n",
      "\n"
     ]
    },
    {
     "data": {
      "text/plain": [
       "True"
      ]
     },
     "execution_count": 82,
     "metadata": {},
     "output_type": "execute_result"
    }
   ],
   "source": [
    "print_suboptimal_ss(best_seq, xrRNA_seq, xrRNA_ss[0], 400)\n"
   ]
  },
  {
   "cell_type": "code",
   "execution_count": 83,
   "metadata": {
    "execution": {
     "iopub.execute_input": "2024-07-21T19:42:32.649938Z",
     "iopub.status.busy": "2024-07-21T19:42:32.649748Z",
     "iopub.status.idle": "2024-07-21T19:42:33.449710Z",
     "shell.execute_reply": "2024-07-21T19:42:33.448485Z",
     "shell.execute_reply.started": "2024-07-21T19:42:32.649925Z"
    }
   },
   "outputs": [
    {
     "name": "stdout",
     "output_type": "stream",
     "text": [
      "GCUAAACCCCUCCUGGGAAGGAGGACCCGCCCAGGGCCUAGGCAGCACGCGAAAUUAGGCGACGGGAGAGGGUCGGAUCCCGACUGGGCAGCUGGGCAAUUUGUAAUUUGUGAGACCC\n",
      "........((((((....))))))....((((((.((((((......(((........))).(((((..........))))).))))))..)))))).....................\u001b[32m (-43.10)\u001b[0m\n",
      "........((((((....))))))....((((((.((((((......(((........))).(((((..........))))).))))))..)))))).....................\u001b[32m [-43.50]\u001b[0m\n",
      "........((((((....))))))....((((((.((((((......(((........))).(((((..........))))).))))))..)))))).....................\u001b[32m {-43.10 d=1.53}\u001b[0m\n",
      "........((((((....))))))....((((((.((((((......(((........))).(((((..........))))).))))))..)))))).....................\u001b[32m {-43.10 MEA=115.29}\u001b[0m\n",
      "\u001b[32m frequency of mfe structure in ensemble 0.519738; ensemble diversity 2.97  \u001b[0m\n"
     ]
    },
    {
     "data": {
      "text/plain": [
       "<matplotlib.image.AxesImage at 0x1372ff4d0>"
      ]
     },
     "execution_count": 83,
     "metadata": {},
     "output_type": "execute_result"
    },
    {
     "data": {
      "image/png": "[encoded data removed]",
      "text/plain": [
       "<Figure size 700x700 with 1 Axes>"
      ]
     },
     "metadata": {},
     "output_type": "display_data"
    }
   ],
   "source": [
    "seq = best_seq.replace('-', '') + xrRNA_seq\n",
    "!echo $seq > test.seq\n",
    "!RNAfold -p --MEA < test.seq\n",
    "!convert dot.ps dot.png\n",
    "\n",
    "import matplotlib.pyplot as plt\n",
    "import matplotlib.image as mpimg\n",
    "image = mpimg.imread(\"dot.png\")\n",
    "fig, ax = plt.subplots(figsize=(7, 7))\n",
    "ax.imshow(image)"
   ]
  },
  {
   "cell_type": "code",
   "execution_count": 85,
   "metadata": {},
   "outputs": [
    {
     "name": "stdout",
     "output_type": "stream",
     "text": [
      "........((((((....))))))....((((((.((((((......(((........))).(((((..........))))).))))))..)))))).....................\n",
      "............................................(((.............................................................))).......\n",
      ".....................................................................(((((.......................................)))))\n"
     ]
    }
   ],
   "source": [
    "print('........((((((....))))))....((((((.((((((......(((........))).(((((..........))))).))))))..)))))).....................')\n",
    "print('.' * len(best_seq.replace('-', '')) + xrRNA_ss[1])\n",
    "print('.' * len(best_seq.replace('-', '')) + xrRNA_ss[2])"
   ]
  },
  {
   "cell_type": "code",
   "execution_count": null,
   "metadata": {},
   "outputs": [
    {
     "name": "stderr",
     "output_type": "stream",
     "text": [
      "Output file: /var/folders/54/ry4wc1s953jdm1j76gdcpwpc0000gn/T/tmp4e9bkp_l.svg\n",
      "\n"
     ]
    },
    {
     "data": {
      "text/html": [
       "<img src=\"data:image/svg+xml;utf8,<?xml version=%221.0%22 encoding=%22UTF-8%22?>\n",
       "<!DOCTYPE svg PUBLIC %22-//W3C//DTD SVG 1.1//EN%22 \n",
       "%22http://www.w3.org/Graphics/SVG/1.1/DTD/svg11.dtd%22>\n",
       "\n",
       "<svg width=%22600px%22 height=%22387px%22 version=%221.1%22 viewBox=%220 0 700 500%22 \n",
       "xmlns=%22http://www.w3.org/2000/svg%22>\n",
       "<line x1=%2215.0%22 y1=%22422.5096036616385%22 x2=%2222.5%22 y2=%22422.5096036616385%22 stroke=%22rgb(35%25, 35%25, 35%25)%22 stroke-width=%221.0%22 />\n",
       "<line x1=%2232.5%22 y1=%22422.5096036616385%22 x2=%2240.0%22 y2=%22422.5096036616385%22 stroke=%22rgb(35%25, 35%25, 35%25)%22 stroke-width=%221.0%22 />\n",
       "<line x1=%2250.0%22 y1=%22422.5096036616385%22 x2=%2257.5%22 y2=%22422.5096036616385%22 stroke=%22rgb(35%25, 35%25, 35%25)%22 stroke-width=%221.0%22 />\n",
       "<line x1=%2267.5%22 y1=%22422.5096036616385%22 x2=%2275.0%22 y2=%22422.5096036616385%22 stroke=%22rgb(35%25, 35%25, 35%25)%22 stroke-width=%221.0%22 />\n",
       "<line x1=%2285.0%22 y1=%22422.5096036616385%22 x2=%2292.5%22 y2=%22422.5096036616385%22 stroke=%22rgb(35%25, 35%25, 35%25)%22 stroke-width=%221.0%22 />\n",
       "<line x1=%22102.5%22 y1=%22422.5096036616385%22 x2=%22110.0%22 y2=%22422.5096036616385%22 stroke=%22rgb(35%25, 35%25, 35%25)%22 stroke-width=%221.0%22 />\n",
       "<line x1=%22120.0%22 y1=%22422.5096036616385%22 x2=%22127.5%22 y2=%22422.5096036616385%22 stroke=%22rgb(35%25, 35%25, 35%25)%22 stroke-width=%221.0%22 />\n",
       "<line x1=%22137.5%22 y1=%22422.5096036616385%22 x2=%22145.0%22 y2=%22422.5096036616385%22 stroke=%22rgb(35%25, 35%25, 35%25)%22 stroke-width=%221.0%22 />\n",
       "<line x1=%22150.0%22 y1=%22417.5096036616385%22 x2=%22150.0%22 y2=%22407.5096036616385%22 stroke=%22rgb(35%25, 35%25, 35%25)%22 stroke-width=%221.0%22 />\n",
       "<line x1=%22150.0%22 y1=%22397.5096036616385%22 x2=%22150.0%22 y2=%22387.50960366163855%22 stroke=%22rgb(35%25, 35%25, 35%25)%22 stroke-width=%221.0%22 />\n",
       "<line x1=%22150.0%22 y1=%22377.50960366163855%22 x2=%22150.0%22 y2=%22367.50960366163855%22 stroke=%22rgb(35%25, 35%25, 35%25)%22 stroke-width=%221.0%22 />\n",
       "<line x1=%22150.0%22 y1=%22357.50960366163855%22 x2=%22150.0%22 y2=%22347.50960366163855%22 stroke=%22rgb(35%25, 35%25, 35%25)%22 stroke-width=%221.0%22 />\n",
       "<line x1=%22150.0%22 y1=%22337.50960366163855%22 x2=%22150.0%22 y2=%22327.50960366163855%22 stroke=%22rgb(35%25, 35%25, 35%25)%22 stroke-width=%221.0%22 />\n",
       "<line x1=%22148.10052547530273%22 y1=%22317.88445539049894%22 x2=%22145.25130491987935%22 y2=%22310.9467116331235%22 stroke=%22rgb(35%25, 35%25, 35%25)%22 stroke-width=%221.0%22 />\n",
       "<line x1=%22145.27360479081668%22 y1=%22301.7056362425112%22 x2=%22148.15627525558693%22 y2=%22294.78172425520324%22 stroke=%22rgb(35%25, 35%25, 35%25)%22 stroke-width=%221.0%22 />\n",
       "<line x1=%22154.69860079960264%22 y1=%22288.2551671126246%22 x2=%22161.6294488516189%22 y2=%22285.389213258092%22 stroke=%22rgb(35%25, 35%25, 35%25)%22 stroke-width=%221.0%22 />\n",
       "<line x1=%22170.8705511483811%22 y1=%22285.389213258092%22 x2=%22177.80139920039738%22 y2=%22288.2551671126246%22 stroke=%22rgb(35%25, 35%25, 35%25)%22 stroke-width=%221.0%22 />\n",
       "<line x1=%22184.34372474441307%22 y1=%22294.78172425520324%22 x2=%22187.22639520918335%22 y2=%22301.7056362425112%22 stroke=%22rgb(35%25, 35%25, 35%25)%22 stroke-width=%221.0%22 />\n",
       "<line x1=%22187.24869508012065%22 y1=%22310.9467116331235%22 x2=%22184.39947452469727%22 y2=%22317.88445539049894%22 stroke=%22rgb(35%25, 35%25, 35%25)%22 stroke-width=%221.0%22 />\n",
       "<line x1=%22182.5%22 y1=%22327.50960366163855%22 x2=%22182.5%22 y2=%22337.50960366163855%22 stroke=%22rgb(35%25, 35%25, 35%25)%22 stroke-width=%221.0%22 />\n",
       "<line x1=%22182.5%22 y1=%22347.50960366163855%22 x2=%22182.5%22 y2=%22357.50960366163855%22 stroke=%22rgb(35%25, 35%25, 35%25)%22 stroke-width=%221.0%22 />\n",
       "<line x1=%22182.5%22 y1=%22367.50960366163855%22 x2=%22182.5%22 y2=%22377.50960366163855%22 stroke=%22rgb(35%25, 35%25, 35%25)%22 stroke-width=%221.0%22 />\n",
       "<line x1=%22182.5%22 y1=%22387.50960366163855%22 x2=%22182.5%22 y2=%22397.5096036616385%22 stroke=%22rgb(35%25, 35%25, 35%25)%22 stroke-width=%221.0%22 />\n",
       "<line x1=%22182.5%22 y1=%22407.5096036616385%22 x2=%22182.5%22 y2=%22417.5096036616385%22 stroke=%22rgb(35%25, 35%25, 35%25)%22 stroke-width=%221.0%22 />\n",
       "<line x1=%22187.5%22 y1=%22422.5096036616385%22 x2=%22195.0%22 y2=%22422.5096036616385%22 stroke=%22rgb(35%25, 35%25, 35%25)%22 stroke-width=%221.0%22 />\n",
       "<line x1=%22205.0%22 y1=%22422.5096036616385%22 x2=%22212.5%22 y2=%22422.5096036616385%22 stroke=%22rgb(35%25, 35%25, 35%25)%22 stroke-width=%221.0%22 />\n",
       "<line x1=%22222.5%22 y1=%22422.5096036616385%22 x2=%22230.0%22 y2=%22422.5096036616385%22 stroke=%22rgb(35%25, 35%25, 35%25)%22 stroke-width=%221.0%22 />\n",
       "<line x1=%22240.0%22 y1=%22422.50960366163855%22 x2=%22247.5%22 y2=%22422.50960366163855%22 stroke=%22rgb(35%25, 35%25, 35%25)%22 stroke-width=%221.0%22 />\n",
       "<line x1=%22257.5%22 y1=%22422.50960366163855%22 x2=%22265.0%22 y2=%22422.50960366163855%22 stroke=%22rgb(35%25, 35%25, 35%25)%22 stroke-width=%221.0%22 />\n",
       "<line x1=%22270.0%22 y1=%22417.50960366163855%22 x2=%22270.0%22 y2=%22407.50960366163855%22 stroke=%22rgb(35%25, 35%25, 35%25)%22 stroke-width=%221.0%22 />\n",
       "<line x1=%22270.0%22 y1=%22397.50960366163855%22 x2=%22270.0%22 y2=%22387.50960366163855%22 stroke=%22rgb(35%25, 35%25, 35%25)%22 stroke-width=%221.0%22 />\n",
       "<line x1=%22270.0%22 y1=%22377.50960366163855%22 x2=%22270.0%22 y2=%22367.50960366163855%22 stroke=%22rgb(35%25, 35%25, 35%25)%22 stroke-width=%221.0%22 />\n",
       "<line x1=%22270.0%22 y1=%22357.50960366163855%22 x2=%22270.0%22 y2=%22347.50960366163855%22 stroke=%22rgb(35%25, 35%25, 35%25)%22 stroke-width=%221.0%22 />\n",
       "<line x1=%22270.0%22 y1=%22337.50960366163855%22 x2=%22270.0%22 y2=%22327.50960366163855%22 stroke=%22rgb(35%25, 35%25, 35%25)%22 stroke-width=%221.0%22 />\n",
       "<line x1=%22267.48652357861585%22 y1=%22318.18728526994806%22 x2=%22263.71634595915117%22 y2=%22311.7038713314248%22 stroke=%22rgb(35%25, 35%25, 35%25)%22 stroke-width=%221.0%22 />\n",
       "<line x1=%22262.07620766121664%22 y1=%22302.4584156755369%22 x2=%22263.38620198590644%22 y2=%22295.0737822757105%22 stroke=%22rgb(35%25, 35%25, 35%25)%22 stroke-width=%221.0%22 />\n",
       "<line x1=%22262.5396713094266%22 y1=%22285.45574870690433%22 x2=%22259.09993370956767%22 y2=%22276.0659560976868%22 stroke=%22rgb(35%25, 35%25, 35%25)%22 stroke-width=%221.0%22 />\n",
       "<line x1=%22255.6601961097087%22 y1=%22266.67616348846923%22 x2=%22252.22045850984978%22 y2=%22257.2863708792517%22 stroke=%22rgb(35%25, 35%25, 35%25)%22 stroke-width=%221.0%22 />\n",
       "<line x1=%22248.7807209099908%22 y1=%22247.89657827003413%22 x2=%22245.3409833101319%22 y2=%22238.5067856608166%22 stroke=%22rgb(35%25, 35%25, 35%25)%22 stroke-width=%221.0%22 />\n",
       "<line x1=%22241.90124571027292%22 y1=%22229.11699305159902%22 x2=%22238.461508110414%22 y2=%22219.7272004423815%22 stroke=%22rgb(35%25, 35%25, 35%25)%22 stroke-width=%221.0%22 />\n",
       "<line x1=%22235.02177051055503%22 y1=%22210.33740783316392%22 x2=%22231.5820329106961%22 y2=%22200.9476152239464%22 stroke=%22rgb(35%25, 35%25, 35%25)%22 stroke-width=%221.0%22 />\n",
       "<line x1=%22224.96500866300312%22 y1=%22195.2438242169825%22 x2=%22216.71596123618158%22 y2=%22193.54438454487706%22 stroke=%22rgb(35%25, 35%25, 35%25)%22 stroke-width=%221.0%22 />\n",
       "<line x1=%22207.69360695922128%22 y1=%22189.71011648319518%22 x2=%22200.74488720750216%22 y2=%22184.95089675080783%22 stroke=%22rgb(35%25, 35%25, 35%25)%22 stroke-width=%221.0%22 />\n",
       "<line x1=%22193.90923658514413%22 y1=%22177.9239223779448%22 x2=%22189.34359728118622%22 y2=%22170.84650643741736%22 stroke=%22rgb(35%25, 35%25, 35%25)%22 stroke-width=%221.0%22 />\n",
       "<line x1=%22185.75978460129025%22 y1=%22161.72177219782253%22 x2=%22184.2886458040328%22 y2=%22153.4289663223493%22 stroke=%22rgb(35%25, 35%25, 35%25)%22 stroke-width=%221.0%22 />\n",
       "<line x1=%22184.51510244021804%22 y1=%22143.6282925873582%22 x2=%22186.36769768743642%22 y2=%22135.4122856801642%22 stroke=%22rgb(35%25, 35%25, 35%25)%22 stroke-width=%221.0%22 />\n",
       "<line x1=%22190.3691370603793%22 y1=%22126.46281803049476%22 x2=%22195.25679409125257%22 y2=%22119.60383214352623%22 stroke=%22rgb(35%25, 35%25, 35%25)%22 stroke-width=%221.0%22 />\n",
       "<line x1=%22202.40971004003646%22 y1=%22112.90008082822146%22 x2=%22209.57083184229853%22 y2=%22108.46688636122099%22 stroke=%22rgb(35%25, 35%25, 35%25)%22 stroke-width=%221.0%22 />\n",
       "<line x1=%22213.8221259410595%22 y1=%22100.83506218665309%22 x2=%22213.8221259410595%22 y2=%2290.83506218665309%22 stroke=%22rgb(35%25, 35%25, 35%25)%22 stroke-width=%221.0%22 />\n",
       "<line x1=%22213.8221259410595%22 y1=%2280.83506218665309%22 x2=%22213.8221259410595%22 y2=%2270.83506218665309%22 stroke=%22rgb(35%25, 35%25, 35%25)%22 stroke-width=%221.0%22 />\n",
       "<line x1=%22210.4921092588697%22 y1=%2262.10531837556664%22 x2=%22205.49707454896563%22 y2=%2256.510691809559376%22 stroke=%22rgb(35%25, 35%25, 35%25)%22 stroke-width=%221.0%22 />\n",
       "<line x1=%22201.40044632783767%22 y1=%2247.84006682722759%22 x2=%22200.25052678944937%22 y2=%2240.42873069792847%22 stroke=%22rgb(35%25, 35%25, 35%25)%22 stroke-width=%221.0%22 />\n",
       "<line x1=%22201.5271867191432%22 y1=%2230.92440327352375%22 x2=%22204.5920998657229%22 y2=%2224.07922061926655%22 stroke=%22rgb(35%25, 35%25, 35%25)%22 stroke-width=%221.0%22 />\n",
       "<line x1=%22210.8315813709927%22 y1=%2216.79698394968665%22 x2=%22217.12590863222138%22 y2=%2212.718790416420518%22 stroke=%22rgb(35%25, 35%25, 35%25)%22 stroke-width=%221.0%22 />\n",
       "<line x1=%22226.3221186688592%22 y1=%2210.0%22 x2=%22233.8221332132598%22 y2=%2210.0%22 stroke=%22rgb(35%25, 35%25, 35%25)%22 stroke-width=%221.0%22 />\n",
       "<line x1=%22243.0183432498976%22 y1=%2212.718790416420518%22 x2=%22249.31267051112633%22 y2=%2216.79698394968665%22 stroke=%22rgb(35%25, 35%25, 35%25)%22 stroke-width=%221.0%22 />\n",
       "<line x1=%22255.55215201639612%22 y1=%2224.07922061926655%22 x2=%22258.61706516297585%22 y2=%2230.92440327352375%22 stroke=%22rgb(35%25, 35%25, 35%25)%22 stroke-width=%221.0%22 />\n",
       "<line x1=%22259.8937250926697%22 y1=%2240.42873069792847%22 x2=%22258.7438055542814%22 y2=%2247.84006682722759%22 stroke=%22rgb(35%25, 35%25, 35%25)%22 stroke-width=%221.0%22 />\n",
       "<line x1=%22254.64717733315342%22 y1=%2256.510691809559376%22 x2=%22249.65214262324935%22 y2=%2262.10531837556664%22 stroke=%22rgb(35%25, 35%25, 35%25)%22 stroke-width=%221.0%22 />\n",
       "<line x1=%22246.32212594105954%22 y1=%2270.83506218665309%22 x2=%22246.32212594105954%22 y2=%2280.83506218665309%22 stroke=%22rgb(35%25, 35%25, 35%25)%22 stroke-width=%221.0%22 />\n",
       "<line x1=%22246.32212594105954%22 y1=%2290.83506218665309%22 x2=%22246.32212594105954%22 y2=%22100.83506218665309%22 stroke=%22rgb(35%25, 35%25, 35%25)%22 stroke-width=%221.0%22 />\n",
       "<line x1=%22250.6882722806979%22 y1=%22108.27161018348437%22 x2=%22254.40692173183106%22 y2=%22110.34681957095239%22 stroke=%22rgb(35%25, 35%25, 35%25)%22 stroke-width=%221.0%22 />\n",
       "<line x1=%22262.1997558687894%22 y1=%22116.42449524196627%22 x2=%22265.1182679170511%22 y2=%22119.52564586172002%22 stroke=%22rgb(35%25, 35%25, 35%25)%22 stroke-width=%221.0%22 />\n",
       "<line x1=%22273.394352825394%22 y1=%22121.94884592737958%22 x2=%22283.09314704743986%22 y2=%22119.5129907103335%22 stroke=%22rgb(35%25, 35%25, 35%25)%22 stroke-width=%221.0%22 />\n",
       "<line x1=%22292.7919412694856%22 y1=%22117.07713549328741%22 x2=%22302.4907354915315%22 y2=%22114.64128027624122%22 stroke=%22rgb(35%25, 35%25, 35%25)%22 stroke-width=%221.0%22 />\n",
       "<line x1=%22312.18952971357726%22 y1=%22112.20542505919514%22 x2=%22321.88832393562313%22 y2=%22109.76956984214905%22 stroke=%22rgb(35%25, 35%25, 35%25)%22 stroke-width=%221.0%22 />\n",
       "<line x1=%22331.5871181576689%22 y1=%22107.33371462510297%22 x2=%22341.2859123797148%22 y2=%22104.89785940805677%22 stroke=%22rgb(35%25, 35%25, 35%25)%22 stroke-width=%221.0%22 />\n",
       "<line x1=%22348.3614406179113%22 y1=%2299.20284120355194%22 x2=%22351.70062602165103%22 y2=%2292.48722800950628%22 stroke=%22rgb(35%25, 35%25, 35%25)%22 stroke-width=%221.0%22 />\n",
       "<line x1=%22357.98873242672295%22 y1=%2285.09460026889008%22 x2=%22364.0816747483779%22 y2=%2280.72130933441372%22 stroke=%22rgb(35%25, 35%25, 35%25)%22 stroke-width=%221.0%22 />\n",
       "<line x1=%22373.09766577389644%22 y1=%2277.1292162258481%22 x2=%22380.52866427727434%22 y2=%2276.11438571025298%22 stroke=%22rgb(35%25, 35%25, 35%25)%22 stroke-width=%221.0%22 />\n",
       "<line x1=%22390.17766614001573%22 y1=%2277.1574533617736%22 x2=%22397.2201215079876%22 y2=%2279.73688006604573%22 stroke=%22rgb(35%25, 35%25, 35%25)%22 stroke-width=%221.0%22 />\n",
       "<line x1=%22405.2601797761736%22 y1=%2285.17275075223847%22 x2=%22410.27777104544964%22 y2=%2290.74710251608246%22 stroke=%22rgb(35%25, 35%25, 35%25)%22 stroke-width=%221.0%22 />\n",
       "<line x1=%22414.84077080703753%22 y1=%2299.31274669784625%22 x2=%22416.667656044636%22 y2=%22106.58681777676986%22 stroke=%22rgb(35%25, 35%25, 35%25)%22 stroke-width=%221.0%22 />\n",
       "<line x1=%22416.6933801203549%22 y1=%22116.29200017303441%22 x2=%22414.9050808659076%22 y2=%22123.5756534808965%22 stroke=%22rgb(35%25, 35%25, 35%25)%22 stroke-width=%221.0%22 />\n",
       "<line x1=%22410.3875522431731%22 y1=%22132.1653660613971%22 x2=%22405.3995814684763%22 y2=%22137.76623807237513%22 stroke=%22rgb(35%25, 35%25, 35%25)%22 stroke-width=%221.0%22 />\n",
       "<line x1=%22397.38845206574564%22 y1=%22143.24465324152214%22 x2=%22390.3597693547012%22 y2=%22145.86137620738083%22 stroke=%22rgb(35%25, 35%25, 35%25)%22 stroke-width=%221.0%22 />\n",
       "<line x1=%22380.7164324355983%22 y1=%22146.9555791764418%22 x2=%22373.28015866202804%22 y2=%22145.98015511630217%22 stroke=%22rgb(35%25, 35%25, 35%25)%22 stroke-width=%221.0%22 />\n",
       "<line x1=%22364.24525240348146%22 y1=%22142.4359068219369%22 x2=%22358.12921259838146%22 y2=%22138.09497641072073%22 stroke=%22rgb(35%25, 35%25, 35%25)%22 stroke-width=%221.0%22 />\n",
       "<line x1=%22349.20244183511466%22 y1=%22136.41894062970562%22 x2=%22339.5036476130688%22 y2=%22138.8547958467518%22 stroke=%22rgb(35%25, 35%25, 35%25)%22 stroke-width=%221.0%22 />\n",
       "<line x1=%22329.804853391023%22 y1=%22141.2906510637979%22 x2=%22320.10605916897714%22 y2=%22143.72650628084398%22 stroke=%22rgb(35%25, 35%25, 35%25)%22 stroke-width=%221.0%22 />\n",
       "<line x1=%22310.4072649469314%22 y1=%22146.16236149789006%22 x2=%22300.7084707248855%22 y2=%22148.59821671493626%22 stroke=%22rgb(35%25, 35%25, 35%25)%22 stroke-width=%221.0%22 />\n",
       "<line x1=%22291.00967650283974%22 y1=%22151.03407193198234%22 x2=%22281.31088228079386%22 y2=%22153.46992714902842%22 stroke=%22rgb(35%25, 35%25, 35%25)%22 stroke-width=%221.0%22 />\n",
       "<line x1=%22274.99253617837616%22 y1=%22159.46720501262593%22 x2=%22272.78911269128395%22 y2=%22166.63623039523765%22 stroke=%22rgb(35%25, 35%25, 35%25)%22 stroke-width=%221.0%22 />\n",
       "<line x1=%22268.1941140972704%22 y1=%22175.3178638130218%22 x2=%22263.5050396933424%22 y2=%22181.1712885570863%22 stroke=%22rgb(35%25, 35%25, 35%25)%22 stroke-width=%221.0%22 />\n",
       "<line x1=%22262.09885889065316%22 y1=%22189.7684680244048%22 x2=%22265.5385964905121%22 y2=%22199.15826063362232%22 stroke=%22rgb(35%25, 35%25, 35%25)%22 stroke-width=%221.0%22 />\n",
       "<line x1=%22268.97833409037105%22 y1=%22208.5480532428399%22 x2=%22272.41807169022997%22 y2=%22217.93784585205742%22 stroke=%22rgb(35%25, 35%25, 35%25)%22 stroke-width=%221.0%22 />\n",
       "<line x1=%22275.85780929008894%22 y1=%22227.327638461275%22 x2=%22279.29754688994785%22 y2=%22236.71743107049252%22 stroke=%22rgb(35%25, 35%25, 35%25)%22 stroke-width=%221.0%22 />\n",
       "<line x1=%22282.7372844898068%22 y1=%22246.1072236797101%22 x2=%22286.17702208966574%22 y2=%22255.49701628892763%22 stroke=%22rgb(35%25, 35%25, 35%25)%22 stroke-width=%221.0%22 />\n",
       "<line x1=%22289.6167596895247%22 y1=%22264.8868088981452%22 x2=%22293.0564972893836%22 y2=%22274.2766015073627%22 stroke=%22rgb(35%25, 35%25, 35%25)%22 stroke-width=%221.0%22 />\n",
       "<line x1=%22298.6232275081149%22 y1=%22282.1655011345331%22 x2=%22304.39351963631754%22 y2=%22286.95650611837544%22 stroke=%22rgb(35%25, 35%25, 35%25)%22 stroke-width=%221.0%22 />\n",
       "<line x1=%22309.113741941854%22 y1=%22295.0736426669956%22 x2=%22310.42378327195615%22 y2=%22302.45834250608345%22 stroke=%22rgb(35%25, 35%25, 35%25)%22 stroke-width=%221.0%22 />\n",
       "<line x1=%22308.7836743990649%22 y1=%22311.7037979977125%22 x2=%22305.01346975962593%22 y2=%22318.1872813960681%22 stroke=%22rgb(35%25, 35%25, 35%25)%22 stroke-width=%221.0%22 />\n",
       "<line x1=%22302.5%22 y1=%22327.50960366163855%22 x2=%22302.5%22 y2=%22337.50960366163855%22 stroke=%22rgb(35%25, 35%25, 35%25)%22 stroke-width=%221.0%22 />\n",
       "<line x1=%22302.5%22 y1=%22347.50960366163855%22 x2=%22302.5%22 y2=%22357.50960366163855%22 stroke=%22rgb(35%25, 35%25, 35%25)%22 stroke-width=%221.0%22 />\n",
       "<line x1=%22302.5%22 y1=%22367.50960366163855%22 x2=%22302.5%22 y2=%22377.50960366163855%22 stroke=%22rgb(35%25, 35%25, 35%25)%22 stroke-width=%221.0%22 />\n",
       "<line x1=%22302.5%22 y1=%22387.50960366163855%22 x2=%22302.5%22 y2=%22397.50960366163855%22 stroke=%22rgb(35%25, 35%25, 35%25)%22 stroke-width=%221.0%22 />\n",
       "<line x1=%22302.5%22 y1=%22407.50960366163855%22 x2=%22302.5%22 y2=%22417.50960366163855%22 stroke=%22rgb(35%25, 35%25, 35%25)%22 stroke-width=%221.0%22 />\n",
       "<line x1=%22307.5%22 y1=%22422.50960366163855%22 x2=%22315.0%22 y2=%22422.50960366163855%22 stroke=%22rgb(35%25, 35%25, 35%25)%22 stroke-width=%221.0%22 />\n",
       "<line x1=%22325.0%22 y1=%22422.50960366163855%22 x2=%22332.5%22 y2=%22422.50960366163855%22 stroke=%22rgb(35%25, 35%25, 35%25)%22 stroke-width=%221.0%22 />\n",
       "<line x1=%22342.5%22 y1=%22422.50960366163855%22 x2=%22350.0%22 y2=%22422.50960366163855%22 stroke=%22rgb(35%25, 35%25, 35%25)%22 stroke-width=%221.0%22 />\n",
       "<line x1=%22360.0%22 y1=%22422.50960366163855%22 x2=%22367.5%22 y2=%22422.50960366163855%22 stroke=%22rgb(35%25, 35%25, 35%25)%22 stroke-width=%221.0%22 />\n",
       "<line x1=%22377.5%22 y1=%22422.50960366163855%22 x2=%22385.0%22 y2=%22422.50960366163855%22 stroke=%22rgb(35%25, 35%25, 35%25)%22 stroke-width=%221.0%22 />\n",
       "<line x1=%22395.0%22 y1=%22422.50960366163855%22 x2=%22402.5%22 y2=%22422.50960366163855%22 stroke=%22rgb(35%25, 35%25, 35%25)%22 stroke-width=%221.0%22 />\n",
       "<line x1=%22412.5%22 y1=%22422.50960366163855%22 x2=%22420.0%22 y2=%22422.50960366163855%22 stroke=%22rgb(35%25, 35%25, 35%25)%22 stroke-width=%221.0%22 />\n",
       "<line x1=%22430.0%22 y1=%22422.50960366163855%22 x2=%22437.5%22 y2=%22422.50960366163855%22 stroke=%22rgb(35%25, 35%25, 35%25)%22 stroke-width=%221.0%22 />\n",
       "<line x1=%22447.5%22 y1=%22422.50960366163855%22 x2=%22455.0%22 y2=%22422.50960366163855%22 stroke=%22rgb(35%25, 35%25, 35%25)%22 stroke-width=%221.0%22 />\n",
       "<line x1=%22465.0%22 y1=%22422.50960366163855%22 x2=%22472.5%22 y2=%22422.50960366163855%22 stroke=%22rgb(35%25, 35%25, 35%25)%22 stroke-width=%221.0%22 />\n",
       "<line x1=%22482.5%22 y1=%22422.50960366163855%22 x2=%22490.0%22 y2=%22422.50960366163855%22 stroke=%22rgb(35%25, 35%25, 35%25)%22 stroke-width=%221.0%22 />\n",
       "<line x1=%22500.0%22 y1=%22422.50960366163855%22 x2=%22507.5%22 y2=%22422.50960366163855%22 stroke=%22rgb(35%25, 35%25, 35%25)%22 stroke-width=%221.0%22 />\n",
       "<line x1=%22517.5%22 y1=%22422.50960366163855%22 x2=%22525.0%22 y2=%22422.50960366163855%22 stroke=%22rgb(35%25, 35%25, 35%25)%22 stroke-width=%221.0%22 />\n",
       "<line x1=%22535.0%22 y1=%22422.50960366163855%22 x2=%22542.5%22 y2=%22422.50960366163855%22 stroke=%22rgb(35%25, 35%25, 35%25)%22 stroke-width=%221.0%22 />\n",
       "<line x1=%22552.5%22 y1=%22422.50960366163855%22 x2=%22560.0%22 y2=%22422.50960366163855%22 stroke=%22rgb(35%25, 35%25, 35%25)%22 stroke-width=%221.0%22 />\n",
       "<line x1=%22570.0%22 y1=%22422.50960366163855%22 x2=%22577.5%22 y2=%22422.50960366163855%22 stroke=%22rgb(35%25, 35%25, 35%25)%22 stroke-width=%221.0%22 />\n",
       "<line x1=%22587.5%22 y1=%22422.50960366163855%22 x2=%22595.0%22 y2=%22422.50960366163855%22 stroke=%22rgb(35%25, 35%25, 35%25)%22 stroke-width=%221.0%22 />\n",
       "<line x1=%22605.0%22 y1=%22422.50960366163855%22 x2=%22612.5%22 y2=%22422.50960366163855%22 stroke=%22rgb(35%25, 35%25, 35%25)%22 stroke-width=%221.0%22 />\n",
       "<line x1=%22622.5%22 y1=%22422.50960366163855%22 x2=%22630.0%22 y2=%22422.50960366163855%22 stroke=%22rgb(35%25, 35%25, 35%25)%22 stroke-width=%221.0%22 />\n",
       "<line x1=%22640.0%22 y1=%22422.50960366163855%22 x2=%22647.5%22 y2=%22422.50960366163855%22 stroke=%22rgb(35%25, 35%25, 35%25)%22 stroke-width=%221.0%22 />\n",
       "<line x1=%22657.5%22 y1=%22422.50960366163855%22 x2=%22665.0%22 y2=%22422.50960366163855%22 stroke=%22rgb(35%25, 35%25, 35%25)%22 stroke-width=%221.0%22 />\n",
       "<line x1=%22155.0%22 y1=%22422.5096036616385%22 x2=%22177.5%22 y2=%22422.5096036616385%22 stroke=%22rgb(0%25, 39%25, 0%25)%22 stroke-width=%221.0%22 />\n",
       "<line x1=%22155.0%22 y1=%22402.5096036616385%22 x2=%22177.5%22 y2=%22402.5096036616385%22 stroke=%22rgb(0%25, 39%25, 0%25)%22 stroke-width=%221.0%22 />\n",
       "<line x1=%22155.0%22 y1=%22382.50960366163855%22 x2=%22177.5%22 y2=%22382.50960366163855%22 stroke=%22rgb(0%25, 39%25, 0%25)%22 stroke-width=%221.0%22 />\n",
       "<line x1=%22155.0%22 y1=%22362.50960366163855%22 x2=%22177.5%22 y2=%22362.50960366163855%22 stroke=%22rgb(0%25, 39%25, 0%25)%22 stroke-width=%221.0%22 />\n",
       "<line x1=%22155.0%22 y1=%22342.50960366163855%22 x2=%22177.5%22 y2=%22342.50960366163855%22 stroke=%22rgb(0%25, 39%25, 0%25)%22 stroke-width=%221.0%22 />\n",
       "<line x1=%22155.0%22 y1=%22322.50960366163855%22 x2=%22177.5%22 y2=%22322.50960366163855%22 stroke=%22rgb(0%25, 39%25, 0%25)%22 stroke-width=%221.0%22 />\n",
       "<line x1=%22275.0%22 y1=%22422.50960366163855%22 x2=%22297.5%22 y2=%22422.50960366163855%22 stroke=%22rgb(0%25, 39%25, 0%25)%22 stroke-width=%221.0%22 />\n",
       "<line x1=%22275.0%22 y1=%22402.50960366163855%22 x2=%22297.5%22 y2=%22402.50960366163855%22 stroke=%22rgb(0%25, 39%25, 0%25)%22 stroke-width=%221.0%22 />\n",
       "<line x1=%22275.0%22 y1=%22382.50960366163855%22 x2=%22297.5%22 y2=%22382.50960366163855%22 stroke=%22rgb(0%25, 39%25, 0%25)%22 stroke-width=%221.0%22 />\n",
       "<line x1=%22275.0%22 y1=%22362.50960366163855%22 x2=%22297.5%22 y2=%22362.50960366163855%22 stroke=%22rgb(0%25, 39%25, 0%25)%22 stroke-width=%221.0%22 />\n",
       "<line x1=%22275.0%22 y1=%22342.50960366163855%22 x2=%22297.5%22 y2=%22342.50960366163855%22 stroke=%22rgb(0%25, 39%25, 0%25)%22 stroke-width=%221.0%22 />\n",
       "<line x1=%22275.0%22 y1=%22322.50960366163855%22 x2=%22297.5%22 y2=%22322.50960366163855%22 stroke=%22rgb(0%25, 39%25, 0%25)%22 stroke-width=%221.0%22 />\n",
       "<line x1=%22268.95443641396486%22 y1=%22288.43077621158363%22 x2=%22290.0814697847043%22 y2=%22280.691366611901%22 stroke=%22rgb(0%25, 39%25, 0%25)%22 stroke-width=%221.0%22 />\n",
       "<line x1=%22262.07496121424697%22 y1=%22269.65119099314853%22 x2=%22283.20199458498644%22 y2=%22261.9117813934659%22 stroke=%22rgb(0%25, 39%25, 0%25)%22 stroke-width=%221.0%22 />\n",
       "<line x1=%22255.19548601452908%22 y1=%22250.87160577471343%22 x2=%22276.32251938526855%22 y2=%22243.1321961750308%22 stroke=%22rgb(0%25, 39%25, 0%25)%22 stroke-width=%221.0%22 />\n",
       "<line x1=%22248.3160108148112%22 y1=%22232.09202055627833%22 x2=%22269.44304418555066%22 y2=%22224.3526109565957%22 stroke=%22rgb(0%25, 39%25, 0%25)%22 stroke-width=%221.0%22 />\n",
       "<line x1=%22241.4365356150933%22 y1=%22213.31243533784323%22 x2=%22262.5635689858328%22 y2=%22205.5730257381606%22 stroke=%22rgb(0%25, 39%25, 0%25)%22 stroke-width=%221.0%22 />\n",
       "<line x1=%22234.55706041537542%22 y1=%22194.53285011940812%22 x2=%22255.6840937861149%22 y2=%22186.7934405197255%22 stroke=%22rgb(0%25, 39%25, 0%25)%22 stroke-width=%221.0%22 />\n",
       "<line x1=%22218.8221259410595%22 y1=%22105.83506218665309%22 x2=%22241.32212594105954%22 y2=%22105.83506218665309%22 stroke=%22rgb(0%25, 39%25, 0%25)%22 stroke-width=%221.0%22 />\n",
       "<line x1=%22218.8221259410595%22 y1=%2285.83506218665309%22 x2=%22241.32212594105954%22 y2=%2285.83506218665309%22 stroke=%22rgb(0%25, 39%25, 0%25)%22 stroke-width=%221.0%22 />\n",
       "<line x1=%22218.8221259410595%22 y1=%2265.83506218665309%22 x2=%22241.32212594105954%22 y2=%2265.83506218665309%22 stroke=%22rgb(0%25, 39%25, 0%25)%22 stroke-width=%221.0%22 />\n",
       "<line x1=%22269.76288332289414%22 y1=%22128.0161706469255%22 x2=%22275.24355756124794%22 y2=%22149.83845764652858%22 stroke=%22rgb(0%25, 39%25, 0%25)%22 stroke-width=%221.0%22 />\n",
       "<line x1=%22289.1604717669858%22 y1=%22123.14446021283334%22 x2=%22294.6411460053396%22 y2=%22144.96674721243642%22 stroke=%22rgb(0%25, 39%25, 0%25)%22 stroke-width=%221.0%22 />\n",
       "<line x1=%22308.5580602110774%22 y1=%22118.27274977874106%22 x2=%22314.0387344494312%22 y2=%22140.09503677834414%22 stroke=%22rgb(0%25, 39%25, 0%25)%22 stroke-width=%221.0%22 />\n",
       "<line x1=%22327.95564865516906%22 y1=%22113.4010393446489%22 x2=%22333.43632289352286%22 y2=%22135.22332634425197%22 stroke=%22rgb(0%25, 39%25, 0%25)%22 stroke-width=%221.0%22 />\n",
       "<line x1=%22347.3532370992607%22 y1=%22108.52932891055661%22 x2=%22352.8339113376145%22 y2=%22130.3516159101597%22 stroke=%22rgb(0%25, 39%25, 0%25)%22 stroke-width=%221.0%22 />\n",
       "<circle cx=%2210.0%22 cy=%22422.5096036616385%22 r=%225.0%22 stroke=%22none%22 stroke-width=%221.0%22 fill=%22rgb(0%25, 0%25, 100%25)%22/>\n",
       "<circle cx=%2210.0%22 cy=%22422.5096036616385%22 r=%225.0%22 stroke=%22rgb(35%25, 35%25, 35%25)%22 stroke-width=%221.0%22 fill=%22none%22/>\n",
       "<text x=%2210.0%22 y=%22425.5096036616385%22 text-anchor=%22middle%22 font-family=%22Verdana%22 font-size=%227.5%22 fill=%22rgb(100%25, 100%25, 100%25)%22 >G</text>\n",
       "<circle cx=%2227.5%22 cy=%22422.5096036616385%22 r=%225.0%22 stroke=%22none%22 stroke-width=%221.0%22 fill=%22rgb(0%25, 0%25, 100%25)%22/>\n",
       "<circle cx=%2227.5%22 cy=%22422.5096036616385%22 r=%225.0%22 stroke=%22rgb(35%25, 35%25, 35%25)%22 stroke-width=%221.0%22 fill=%22none%22/>\n",
       "<text x=%2227.5%22 y=%22425.5096036616385%22 text-anchor=%22middle%22 font-family=%22Verdana%22 font-size=%227.5%22 fill=%22rgb(100%25, 100%25, 100%25)%22 >C</text>\n",
       "<circle cx=%2245.0%22 cy=%22422.5096036616385%22 r=%225.0%22 stroke=%22none%22 stroke-width=%221.0%22 fill=%22rgb(0%25, 0%25, 100%25)%22/>\n",
       "<circle cx=%2245.0%22 cy=%22422.5096036616385%22 r=%225.0%22 stroke=%22rgb(35%25, 35%25, 35%25)%22 stroke-width=%221.0%22 fill=%22none%22/>\n",
       "<text x=%2245.0%22 y=%22425.5096036616385%22 text-anchor=%22middle%22 font-family=%22Verdana%22 font-size=%227.5%22 fill=%22rgb(100%25, 100%25, 100%25)%22 >U</text>\n",
       "<circle cx=%2262.5%22 cy=%22422.5096036616385%22 r=%225.0%22 stroke=%22none%22 stroke-width=%221.0%22 fill=%22rgb(0%25, 0%25, 100%25)%22/>\n",
       "<circle cx=%2262.5%22 cy=%22422.5096036616385%22 r=%225.0%22 stroke=%22rgb(35%25, 35%25, 35%25)%22 stroke-width=%221.0%22 fill=%22none%22/>\n",
       "<text x=%2262.5%22 y=%22425.5096036616385%22 text-anchor=%22middle%22 font-family=%22Verdana%22 font-size=%227.5%22 fill=%22rgb(100%25, 100%25, 100%25)%22 >A</text>\n",
       "<circle cx=%2280.0%22 cy=%22422.5096036616385%22 r=%225.0%22 stroke=%22none%22 stroke-width=%221.0%22 fill=%22rgb(0%25, 0%25, 100%25)%22/>\n",
       "<circle cx=%2280.0%22 cy=%22422.5096036616385%22 r=%225.0%22 stroke=%22rgb(35%25, 35%25, 35%25)%22 stroke-width=%221.0%22 fill=%22none%22/>\n",
       "<text x=%2280.0%22 y=%22425.5096036616385%22 text-anchor=%22middle%22 font-family=%22Verdana%22 font-size=%227.5%22 fill=%22rgb(100%25, 100%25, 100%25)%22 >A</text>\n",
       "<circle cx=%2297.5%22 cy=%22422.5096036616385%22 r=%225.0%22 stroke=%22none%22 stroke-width=%221.0%22 fill=%22rgb(0%25, 0%25, 100%25)%22/>\n",
       "<circle cx=%2297.5%22 cy=%22422.5096036616385%22 r=%225.0%22 stroke=%22rgb(35%25, 35%25, 35%25)%22 stroke-width=%221.0%22 fill=%22none%22/>\n",
       "<text x=%2297.5%22 y=%22425.5096036616385%22 text-anchor=%22middle%22 font-family=%22Verdana%22 font-size=%227.5%22 fill=%22rgb(100%25, 100%25, 100%25)%22 >A</text>\n",
       "<circle cx=%22115.0%22 cy=%22422.5096036616385%22 r=%225.0%22 stroke=%22none%22 stroke-width=%221.0%22 fill=%22rgb(0%25, 0%25, 100%25)%22/>\n",
       "<circle cx=%22115.0%22 cy=%22422.5096036616385%22 r=%225.0%22 stroke=%22rgb(35%25, 35%25, 35%25)%22 stroke-width=%221.0%22 fill=%22none%22/>\n",
       "<text x=%22115.0%22 y=%22425.5096036616385%22 text-anchor=%22middle%22 font-family=%22Verdana%22 font-size=%227.5%22 fill=%22rgb(100%25, 100%25, 100%25)%22 >G</text>\n",
       "<circle cx=%22132.5%22 cy=%22422.5096036616385%22 r=%225.0%22 stroke=%22none%22 stroke-width=%221.0%22 fill=%22rgb(0%25, 0%25, 100%25)%22/>\n",
       "<circle cx=%22132.5%22 cy=%22422.5096036616385%22 r=%225.0%22 stroke=%22rgb(35%25, 35%25, 35%25)%22 stroke-width=%221.0%22 fill=%22none%22/>\n",
       "<text x=%22132.5%22 y=%22425.5096036616385%22 text-anchor=%22middle%22 font-family=%22Verdana%22 font-size=%227.5%22 fill=%22rgb(100%25, 100%25, 100%25)%22 >A</text>\n",
       "<circle cx=%22150.0%22 cy=%22422.5096036616385%22 r=%225.0%22 stroke=%22none%22 stroke-width=%221.0%22 fill=%22rgb(0%25, 0%25, 100%25)%22/>\n",
       "<circle cx=%22150.0%22 cy=%22422.5096036616385%22 r=%225.0%22 stroke=%22rgb(35%25, 35%25, 35%25)%22 stroke-width=%221.0%22 fill=%22none%22/>\n",
       "<text x=%22150.0%22 y=%22425.5096036616385%22 text-anchor=%22middle%22 font-family=%22Verdana%22 font-size=%227.5%22 fill=%22rgb(100%25, 100%25, 100%25)%22 >G</text>\n",
       "<circle cx=%22150.0%22 cy=%22402.5096036616385%22 r=%225.0%22 stroke=%22none%22 stroke-width=%221.0%22 fill=%22rgb(0%25, 0%25, 100%25)%22/>\n",
       "<circle cx=%22150.0%22 cy=%22402.5096036616385%22 r=%225.0%22 stroke=%22rgb(35%25, 35%25, 35%25)%22 stroke-width=%221.0%22 fill=%22none%22/>\n",
       "<text x=%22150.0%22 y=%22405.5096036616385%22 text-anchor=%22middle%22 font-family=%22Verdana%22 font-size=%227.5%22 fill=%22rgb(100%25, 100%25, 100%25)%22 >C</text>\n",
       "<circle cx=%22150.0%22 cy=%22382.50960366163855%22 r=%225.0%22 stroke=%22none%22 stroke-width=%221.0%22 fill=%22rgb(0%25, 0%25, 100%25)%22/>\n",
       "<circle cx=%22150.0%22 cy=%22382.50960366163855%22 r=%225.0%22 stroke=%22rgb(35%25, 35%25, 35%25)%22 stroke-width=%221.0%22 fill=%22none%22/>\n",
       "<text x=%22150.0%22 y=%22385.50960366163855%22 text-anchor=%22middle%22 font-family=%22Verdana%22 font-size=%227.5%22 fill=%22rgb(100%25, 100%25, 100%25)%22 >U</text>\n",
       "<circle cx=%22150.0%22 cy=%22362.50960366163855%22 r=%225.0%22 stroke=%22none%22 stroke-width=%221.0%22 fill=%22rgb(0%25, 0%25, 100%25)%22/>\n",
       "<circle cx=%22150.0%22 cy=%22362.50960366163855%22 r=%225.0%22 stroke=%22rgb(35%25, 35%25, 35%25)%22 stroke-width=%221.0%22 fill=%22none%22/>\n",
       "<text x=%22150.0%22 y=%22365.50960366163855%22 text-anchor=%22middle%22 font-family=%22Verdana%22 font-size=%227.5%22 fill=%22rgb(100%25, 100%25, 100%25)%22 >U</text>\n",
       "<circle cx=%22150.0%22 cy=%22342.50960366163855%22 r=%225.0%22 stroke=%22none%22 stroke-width=%221.0%22 fill=%22rgb(0%25, 0%25, 100%25)%22/>\n",
       "<circle cx=%22150.0%22 cy=%22342.50960366163855%22 r=%225.0%22 stroke=%22rgb(35%25, 35%25, 35%25)%22 stroke-width=%221.0%22 fill=%22none%22/>\n",
       "<text x=%22150.0%22 y=%22345.50960366163855%22 text-anchor=%22middle%22 font-family=%22Verdana%22 font-size=%227.5%22 fill=%22rgb(100%25, 100%25, 100%25)%22 >G</text>\n",
       "<circle cx=%22150.0%22 cy=%22322.50960366163855%22 r=%225.0%22 stroke=%22none%22 stroke-width=%221.0%22 fill=%22rgb(0%25, 0%25, 100%25)%22/>\n",
       "<circle cx=%22150.0%22 cy=%22322.50960366163855%22 r=%225.0%22 stroke=%22rgb(35%25, 35%25, 35%25)%22 stroke-width=%221.0%22 fill=%22none%22/>\n",
       "<text x=%22150.0%22 y=%22325.50960366163855%22 text-anchor=%22middle%22 font-family=%22Verdana%22 font-size=%227.5%22 fill=%22rgb(100%25, 100%25, 100%25)%22 >C</text>\n",
       "<circle cx=%22143.35183039518208%22 cy=%22306.3215633619839%22 r=%225.0%22 stroke=%22none%22 stroke-width=%221.0%22 fill=%22rgb(0%25, 0%25, 100%25)%22/>\n",
       "<circle cx=%22143.35183039518208%22 cy=%22306.3215633619839%22 r=%225.0%22 stroke=%22rgb(35%25, 35%25, 35%25)%22 stroke-width=%221.0%22 fill=%22none%22/>\n",
       "<text x=%22143.35183039518208%22 y=%22309.3215633619839%22 text-anchor=%22middle%22 font-family=%22Verdana%22 font-size=%227.5%22 fill=%22rgb(100%25, 100%25, 100%25)%22 >G</text>\n",
       "<circle cx=%22150.07804965122153%22 cy=%22290.16579713573054%22 r=%225.0%22 stroke=%22none%22 stroke-width=%221.0%22 fill=%22rgb(0%25, 0%25, 100%25)%22/>\n",
       "<circle cx=%22150.07804965122153%22 cy=%22290.16579713573054%22 r=%225.0%22 stroke=%22rgb(35%25, 35%25, 35%25)%22 stroke-width=%221.0%22 fill=%22none%22/>\n",
       "<text x=%22150.07804965122153%22 y=%22293.16579713573054%22 text-anchor=%22middle%22 font-family=%22Verdana%22 font-size=%227.5%22 fill=%22rgb(100%25, 100%25, 100%25)%22 >U</text>\n",
       "<circle cx=%22166.25%22 cy=%22283.47858323498605%22 r=%225.0%22 stroke=%22none%22 stroke-width=%221.0%22 fill=%22rgb(0%25, 0%25, 100%25)%22/>\n",
       "<circle cx=%22166.25%22 cy=%22283.47858323498605%22 r=%225.0%22 stroke=%22rgb(35%25, 35%25, 35%25)%22 stroke-width=%221.0%22 fill=%22none%22/>\n",
       "<text x=%22166.25%22 y=%22286.47858323498605%22 text-anchor=%22middle%22 font-family=%22Verdana%22 font-size=%227.5%22 fill=%22rgb(100%25, 100%25, 100%25)%22 >A</text>\n",
       "<circle cx=%22182.4219503487785%22 cy=%22290.16579713573054%22 r=%225.0%22 stroke=%22none%22 stroke-width=%221.0%22 fill=%22rgb(0%25, 0%25, 100%25)%22/>\n",
       "<circle cx=%22182.4219503487785%22 cy=%22290.16579713573054%22 r=%225.0%22 stroke=%22rgb(35%25, 35%25, 35%25)%22 stroke-width=%221.0%22 fill=%22none%22/>\n",
       "<text x=%22182.4219503487785%22 y=%22293.16579713573054%22 text-anchor=%22middle%22 font-family=%22Verdana%22 font-size=%227.5%22 fill=%22rgb(100%25, 100%25, 100%25)%22 >A</text>\n",
       "<circle cx=%22189.14816960481792%22 cy=%22306.3215633619839%22 r=%225.0%22 stroke=%22none%22 stroke-width=%221.0%22 fill=%22rgb(0%25, 0%25, 100%25)%22/>\n",
       "<circle cx=%22189.14816960481792%22 cy=%22306.3215633619839%22 r=%225.0%22 stroke=%22rgb(35%25, 35%25, 35%25)%22 stroke-width=%221.0%22 fill=%22none%22/>\n",
       "<text x=%22189.14816960481792%22 y=%22309.3215633619839%22 text-anchor=%22middle%22 font-family=%22Verdana%22 font-size=%227.5%22 fill=%22rgb(100%25, 100%25, 100%25)%22 >A</text>\n",
       "<circle cx=%22182.5%22 cy=%22322.50960366163855%22 r=%225.0%22 stroke=%22none%22 stroke-width=%221.0%22 fill=%22rgb(0%25, 0%25, 100%25)%22/>\n",
       "<circle cx=%22182.5%22 cy=%22322.50960366163855%22 r=%225.0%22 stroke=%22rgb(35%25, 35%25, 35%25)%22 stroke-width=%221.0%22 fill=%22none%22/>\n",
       "<text x=%22182.5%22 y=%22325.50960366163855%22 text-anchor=%22middle%22 font-family=%22Verdana%22 font-size=%227.5%22 fill=%22rgb(100%25, 100%25, 100%25)%22 >G</text>\n",
       "<circle cx=%22182.5%22 cy=%22342.50960366163855%22 r=%225.0%22 stroke=%22none%22 stroke-width=%221.0%22 fill=%22rgb(0%25, 0%25, 100%25)%22/>\n",
       "<circle cx=%22182.5%22 cy=%22342.50960366163855%22 r=%225.0%22 stroke=%22rgb(35%25, 35%25, 35%25)%22 stroke-width=%221.0%22 fill=%22none%22/>\n",
       "<text x=%22182.5%22 y=%22345.50960366163855%22 text-anchor=%22middle%22 font-family=%22Verdana%22 font-size=%227.5%22 fill=%22rgb(100%25, 100%25, 100%25)%22 >C</text>\n",
       "<circle cx=%22182.5%22 cy=%22362.50960366163855%22 r=%225.0%22 stroke=%22none%22 stroke-width=%221.0%22 fill=%22rgb(0%25, 0%25, 100%25)%22/>\n",
       "<circle cx=%22182.5%22 cy=%22362.50960366163855%22 r=%225.0%22 stroke=%22rgb(35%25, 35%25, 35%25)%22 stroke-width=%221.0%22 fill=%22none%22/>\n",
       "<text x=%22182.5%22 y=%22365.50960366163855%22 text-anchor=%22middle%22 font-family=%22Verdana%22 font-size=%227.5%22 fill=%22rgb(100%25, 100%25, 100%25)%22 >A</text>\n",
       "<circle cx=%22182.5%22 cy=%22382.50960366163855%22 r=%225.0%22 stroke=%22none%22 stroke-width=%221.0%22 fill=%22rgb(0%25, 0%25, 100%25)%22/>\n",
       "<circle cx=%22182.5%22 cy=%22382.50960366163855%22 r=%225.0%22 stroke=%22rgb(35%25, 35%25, 35%25)%22 stroke-width=%221.0%22 fill=%22none%22/>\n",
       "<text x=%22182.5%22 y=%22385.50960366163855%22 text-anchor=%22middle%22 font-family=%22Verdana%22 font-size=%227.5%22 fill=%22rgb(100%25, 100%25, 100%25)%22 >A</text>\n",
       "<circle cx=%22182.5%22 cy=%22402.5096036616385%22 r=%225.0%22 stroke=%22none%22 stroke-width=%221.0%22 fill=%22rgb(0%25, 0%25, 100%25)%22/>\n",
       "<circle cx=%22182.5%22 cy=%22402.5096036616385%22 r=%225.0%22 stroke=%22rgb(35%25, 35%25, 35%25)%22 stroke-width=%221.0%22 fill=%22none%22/>\n",
       "<text x=%22182.5%22 y=%22405.5096036616385%22 text-anchor=%22middle%22 font-family=%22Verdana%22 font-size=%227.5%22 fill=%22rgb(100%25, 100%25, 100%25)%22 >G</text>\n",
       "<circle cx=%22182.5%22 cy=%22422.5096036616385%22 r=%225.0%22 stroke=%22none%22 stroke-width=%221.0%22 fill=%22rgb(0%25, 0%25, 100%25)%22/>\n",
       "<circle cx=%22182.5%22 cy=%22422.5096036616385%22 r=%225.0%22 stroke=%22rgb(35%25, 35%25, 35%25)%22 stroke-width=%221.0%22 fill=%22none%22/>\n",
       "<text x=%22182.5%22 y=%22425.5096036616385%22 text-anchor=%22middle%22 font-family=%22Verdana%22 font-size=%227.5%22 fill=%22rgb(100%25, 100%25, 100%25)%22 >C</text>\n",
       "<circle cx=%22200.0%22 cy=%22422.5096036616385%22 r=%225.0%22 stroke=%22none%22 stroke-width=%221.0%22 fill=%22rgb(0%25, 0%25, 100%25)%22/>\n",
       "<circle cx=%22200.0%22 cy=%22422.5096036616385%22 r=%225.0%22 stroke=%22rgb(35%25, 35%25, 35%25)%22 stroke-width=%221.0%22 fill=%22none%22/>\n",
       "<text x=%22200.0%22 y=%22425.5096036616385%22 text-anchor=%22middle%22 font-family=%22Verdana%22 font-size=%227.5%22 fill=%22rgb(100%25, 100%25, 100%25)%22 >A</text>\n",
       "<circle cx=%22217.5%22 cy=%22422.5096036616385%22 r=%225.0%22 stroke=%22none%22 stroke-width=%221.0%22 fill=%22rgb(0%25, 0%25, 100%25)%22/>\n",
       "<circle cx=%22217.5%22 cy=%22422.5096036616385%22 r=%225.0%22 stroke=%22rgb(35%25, 35%25, 35%25)%22 stroke-width=%221.0%22 fill=%22none%22/>\n",
       "<text x=%22217.5%22 y=%22425.5096036616385%22 text-anchor=%22middle%22 font-family=%22Verdana%22 font-size=%227.5%22 fill=%22rgb(100%25, 100%25, 100%25)%22 >A</text>\n",
       "<circle cx=%22235.0%22 cy=%22422.5096036616385%22 r=%225.0%22 stroke=%22none%22 stroke-width=%221.0%22 fill=%22rgb(100%25, 0%25, 0%25)%22/>\n",
       "<circle cx=%22235.0%22 cy=%22422.5096036616385%22 r=%225.0%22 stroke=%22rgb(35%25, 35%25, 35%25)%22 stroke-width=%221.0%22 fill=%22none%22/>\n",
       "<text x=%22235.0%22 y=%22425.5096036616385%22 text-anchor=%22middle%22 font-family=%22Verdana%22 font-size=%227.5%22 fill=%22rgb(0%25, 0%25, 0%25)%22 >C</text>\n",
       "<circle cx=%22252.5%22 cy=%22422.50960366163855%22 r=%225.0%22 stroke=%22none%22 stroke-width=%221.0%22 fill=%22rgb(100%25, 0%25, 0%25)%22/>\n",
       "<circle cx=%22252.5%22 cy=%22422.50960366163855%22 r=%225.0%22 stroke=%22rgb(35%25, 35%25, 35%25)%22 stroke-width=%221.0%22 fill=%22none%22/>\n",
       "<text x=%22252.5%22 y=%22425.50960366163855%22 text-anchor=%22middle%22 font-family=%22Verdana%22 font-size=%227.5%22 fill=%22rgb(0%25, 0%25, 0%25)%22 >C</text>\n",
       "<circle cx=%22270.0%22 cy=%22422.50960366163855%22 r=%225.0%22 stroke=%22none%22 stroke-width=%221.0%22 fill=%22rgb(100%25, 0%25, 0%25)%22/>\n",
       "<circle cx=%22270.0%22 cy=%22422.50960366163855%22 r=%225.0%22 stroke=%22rgb(35%25, 35%25, 35%25)%22 stroke-width=%221.0%22 fill=%22none%22/>\n",
       "<text x=%22270.0%22 y=%22425.50960366163855%22 text-anchor=%22middle%22 font-family=%22Verdana%22 font-size=%227.5%22 fill=%22rgb(0%25, 0%25, 0%25)%22 >G</text>\n",
       "<circle cx=%22270.0%22 cy=%22402.50960366163855%22 r=%225.0%22 stroke=%22none%22 stroke-width=%221.0%22 fill=%22rgb(100%25, 0%25, 0%25)%22/>\n",
       "<circle cx=%22270.0%22 cy=%22402.50960366163855%22 r=%225.0%22 stroke=%22rgb(35%25, 35%25, 35%25)%22 stroke-width=%221.0%22 fill=%22none%22/>\n",
       "<text x=%22270.0%22 y=%22405.50960366163855%22 text-anchor=%22middle%22 font-family=%22Verdana%22 font-size=%227.5%22 fill=%22rgb(0%25, 0%25, 0%25)%22 >C</text>\n",
       "<circle cx=%22270.0%22 cy=%22382.50960366163855%22 r=%225.0%22 stroke=%22none%22 stroke-width=%221.0%22 fill=%22rgb(100%25, 0%25, 0%25)%22/>\n",
       "<circle cx=%22270.0%22 cy=%22382.50960366163855%22 r=%225.0%22 stroke=%22rgb(35%25, 35%25, 35%25)%22 stroke-width=%221.0%22 fill=%22none%22/>\n",
       "<text x=%22270.0%22 y=%22385.50960366163855%22 text-anchor=%22middle%22 font-family=%22Verdana%22 font-size=%227.5%22 fill=%22rgb(0%25, 0%25, 0%25)%22 >C</text>\n",
       "<circle cx=%22270.0%22 cy=%22362.50960366163855%22 r=%225.0%22 stroke=%22none%22 stroke-width=%221.0%22 fill=%22rgb(100%25, 0%25, 0%25)%22/>\n",
       "<circle cx=%22270.0%22 cy=%22362.50960366163855%22 r=%225.0%22 stroke=%22rgb(35%25, 35%25, 35%25)%22 stroke-width=%221.0%22 fill=%22none%22/>\n",
       "<text x=%22270.0%22 y=%22365.50960366163855%22 text-anchor=%22middle%22 font-family=%22Verdana%22 font-size=%227.5%22 fill=%22rgb(0%25, 0%25, 0%25)%22 >C</text>\n",
       "<circle cx=%22270.0%22 cy=%22342.50960366163855%22 r=%225.0%22 stroke=%22none%22 stroke-width=%221.0%22 fill=%22rgb(100%25, 0%25, 0%25)%22/>\n",
       "<circle cx=%22270.0%22 cy=%22342.50960366163855%22 r=%225.0%22 stroke=%22rgb(35%25, 35%25, 35%25)%22 stroke-width=%221.0%22 fill=%22none%22/>\n",
       "<text x=%22270.0%22 y=%22345.50960366163855%22 text-anchor=%22middle%22 font-family=%22Verdana%22 font-size=%227.5%22 fill=%22rgb(0%25, 0%25, 0%25)%22 >A</text>\n",
       "<circle cx=%22270.0%22 cy=%22322.50960366163855%22 r=%225.0%22 stroke=%22none%22 stroke-width=%221.0%22 fill=%22rgb(100%25, 0%25, 0%25)%22/>\n",
       "<circle cx=%22270.0%22 cy=%22322.50960366163855%22 r=%225.0%22 stroke=%22rgb(35%25, 35%25, 35%25)%22 stroke-width=%221.0%22 fill=%22none%22/>\n",
       "<text x=%22270.0%22 y=%22325.50960366163855%22 text-anchor=%22middle%22 font-family=%22Verdana%22 font-size=%227.5%22 fill=%22rgb(0%25, 0%25, 0%25)%22 >G</text>\n",
       "<circle cx=%22261.202869537767%22 cy=%22307.3815529397343%22 r=%225.0%22 stroke=%22none%22 stroke-width=%221.0%22 fill=%22rgb(100%25, 0%25, 0%25)%22/>\n",
       "<circle cx=%22261.202869537767%22 cy=%22307.3815529397343%22 r=%225.0%22 stroke=%22rgb(35%25, 35%25, 35%25)%22 stroke-width=%221.0%22 fill=%22none%22/>\n",
       "<text x=%22261.202869537767%22 y=%22310.3815529397343%22 text-anchor=%22middle%22 font-family=%22Verdana%22 font-size=%227.5%22 fill=%22rgb(0%25, 0%25, 0%25)%22 >G</text>\n",
       "<circle cx=%22264.25954010935607%22 cy=%22290.1506450115131%22 r=%225.0%22 stroke=%22none%22 stroke-width=%221.0%22 fill=%22rgb(100%25, 0%25, 0%25)%22/>\n",
       "<circle cx=%22264.25954010935607%22 cy=%22290.1506450115131%22 r=%225.0%22 stroke=%22rgb(35%25, 35%25, 35%25)%22 stroke-width=%221.0%22 fill=%22none%22/>\n",
       "<text x=%22264.25954010935607%22 y=%22293.1506450115131%22 text-anchor=%22middle%22 font-family=%22Verdana%22 font-size=%227.5%22 fill=%22rgb(0%25, 0%25, 0%25)%22 >G</text>\n",
       "<circle cx=%22257.3800649096382%22 cy=%22271.371059793078%22 r=%225.0%22 stroke=%22none%22 stroke-width=%221.0%22 fill=%22rgb(100%25, 0%25, 0%25)%22/>\n",
       "<circle cx=%22257.3800649096382%22 cy=%22271.371059793078%22 r=%225.0%22 stroke=%22rgb(35%25, 35%25, 35%25)%22 stroke-width=%221.0%22 fill=%22none%22/>\n",
       "<text x=%22257.3800649096382%22 y=%22274.371059793078%22 text-anchor=%22middle%22 font-family=%22Verdana%22 font-size=%227.5%22 fill=%22rgb(0%25, 0%25, 0%25)%22 >C</text>\n",
       "<circle cx=%22250.5005897099203%22 cy=%22252.59147457464292%22 r=%225.0%22 stroke=%22none%22 stroke-width=%221.0%22 fill=%22rgb(100%25, 0%25, 0%25)%22/>\n",
       "<circle cx=%22250.5005897099203%22 cy=%22252.59147457464292%22 r=%225.0%22 stroke=%22rgb(35%25, 35%25, 35%25)%22 stroke-width=%221.0%22 fill=%22none%22/>\n",
       "<text x=%22250.5005897099203%22 y=%22255.59147457464292%22 text-anchor=%22middle%22 font-family=%22Verdana%22 font-size=%227.5%22 fill=%22rgb(0%25, 0%25, 0%25)%22 >C</text>\n",
       "<circle cx=%22243.6211145102024%22 cy=%22233.81188935620781%22 r=%225.0%22 stroke=%22none%22 stroke-width=%221.0%22 fill=%22rgb(100%25, 0%25, 0%25)%22/>\n",
       "<circle cx=%22243.6211145102024%22 cy=%22233.81188935620781%22 r=%225.0%22 stroke=%22rgb(35%25, 35%25, 35%25)%22 stroke-width=%221.0%22 fill=%22none%22/>\n",
       "<text x=%22243.6211145102024%22 y=%22236.81188935620781%22 text-anchor=%22middle%22 font-family=%22Verdana%22 font-size=%227.5%22 fill=%22rgb(0%25, 0%25, 0%25)%22 >U</text>\n",
       "<circle cx=%22236.74163931048452%22 cy=%22215.0323041377727%22 r=%225.0%22 stroke=%22none%22 stroke-width=%221.0%22 fill=%22rgb(100%25, 0%25, 0%25)%22/>\n",
       "<circle cx=%22236.74163931048452%22 cy=%22215.0323041377727%22 r=%225.0%22 stroke=%22rgb(35%25, 35%25, 35%25)%22 stroke-width=%221.0%22 fill=%22none%22/>\n",
       "<text x=%22236.74163931048452%22 y=%22218.0323041377727%22 text-anchor=%22middle%22 font-family=%22Verdana%22 font-size=%227.5%22 fill=%22rgb(0%25, 0%25, 0%25)%22 >A</text>\n",
       "<circle cx=%22229.86216411076663%22 cy=%22196.2527189193376%22 r=%225.0%22 stroke=%22none%22 stroke-width=%221.0%22 fill=%22rgb(100%25, 0%25, 0%25)%22/>\n",
       "<circle cx=%22229.86216411076663%22 cy=%22196.2527189193376%22 r=%225.0%22 stroke=%22rgb(35%25, 35%25, 35%25)%22 stroke-width=%221.0%22 fill=%22none%22/>\n",
       "<text x=%22229.86216411076663%22 y=%22199.2527189193376%22 text-anchor=%22middle%22 font-family=%22Verdana%22 font-size=%227.5%22 fill=%22rgb(0%25, 0%25, 0%25)%22 >G</text>\n",
       "<circle cx=%22211.81880578841808%22 cy=%22192.53548984252194%22 r=%225.0%22 stroke=%22none%22 stroke-width=%221.0%22 fill=%22rgb(100%25, 0%25, 0%25)%22/>\n",
       "<circle cx=%22211.81880578841808%22 cy=%22192.53548984252194%22 r=%225.0%22 stroke=%22rgb(35%25, 35%25, 35%25)%22 stroke-width=%221.0%22 fill=%22none%22/>\n",
       "<text x=%22211.81880578841808%22 y=%22195.53548984252194%22 text-anchor=%22middle%22 font-family=%22Verdana%22 font-size=%227.5%22 fill=%22rgb(0%25, 0%25, 0%25)%22 >G</text>\n",
       "<circle cx=%22196.61968837830537%22 cy=%22182.12552339148107%22 r=%225.0%22 stroke=%22none%22 stroke-width=%221.0%22 fill=%22rgb(100%25, 0%25, 0%25)%22/>\n",
       "<circle cx=%22196.61968837830537%22 cy=%22182.12552339148107%22 r=%225.0%22 stroke=%22rgb(35%25, 35%25, 35%25)%22 stroke-width=%221.0%22 fill=%22none%22/>\n",
       "<text x=%22196.61968837830537%22 y=%22185.12552339148107%22 text-anchor=%22middle%22 font-family=%22Verdana%22 font-size=%227.5%22 fill=%22rgb(0%25, 0%25, 0%25)%22 >C</text>\n",
       "<circle cx=%22186.63314548802498%22 cy=%22166.64490542388108%22 r=%225.0%22 stroke=%22none%22 stroke-width=%221.0%22 fill=%22rgb(100%25, 0%25, 0%25)%22/>\n",
       "<circle cx=%22186.63314548802498%22 cy=%22166.64490542388108%22 r=%225.0%22 stroke=%22rgb(35%25, 35%25, 35%25)%22 stroke-width=%221.0%22 fill=%22none%22/>\n",
       "<text x=%22186.63314548802498%22 y=%22169.64490542388108%22 text-anchor=%22middle%22 font-family=%22Verdana%22 font-size=%227.5%22 fill=%22rgb(0%25, 0%25, 0%25)%22 >A</text>\n",
       "<circle cx=%22183.41528491729807%22 cy=%22148.50583309629076%22 r=%225.0%22 stroke=%22none%22 stroke-width=%221.0%22 fill=%22rgb(100%25, 0%25, 0%25)%22/>\n",
       "<circle cx=%22183.41528491729807%22 cy=%22148.50583309629076%22 r=%225.0%22 stroke=%22rgb(35%25, 35%25, 35%25)%22 stroke-width=%221.0%22 fill=%22none%22/>\n",
       "<text x=%22183.41528491729807%22 y=%22151.50583309629076%22 text-anchor=%22middle%22 font-family=%22Verdana%22 font-size=%227.5%22 fill=%22rgb(0%25, 0%25, 0%25)%22 >G</text>\n",
       "<circle cx=%22187.4675152103564%22 cy=%22130.53474517123163%22 r=%225.0%22 stroke=%22none%22 stroke-width=%221.0%22 fill=%22rgb(100%25, 0%25, 0%25)%22/>\n",
       "<circle cx=%22187.4675152103564%22 cy=%22130.53474517123163%22 r=%225.0%22 stroke=%22rgb(35%25, 35%25, 35%25)%22 stroke-width=%221.0%22 fill=%22none%22/>\n",
       "<text x=%22187.4675152103564%22 y=%22133.53474517123163%22 text-anchor=%22middle%22 font-family=%22Verdana%22 font-size=%227.5%22 fill=%22rgb(0%25, 0%25, 0%25)%22 >C</text>\n",
       "<circle cx=%22198.15841594127548%22 cy=%22115.53190500278936%22 r=%225.0%22 stroke=%22none%22 stroke-width=%221.0%22 fill=%22rgb(100%25, 0%25, 0%25)%22/>\n",
       "<circle cx=%22198.15841594127548%22 cy=%22115.53190500278936%22 r=%225.0%22 stroke=%22rgb(35%25, 35%25, 35%25)%22 stroke-width=%221.0%22 fill=%22none%22/>\n",
       "<text x=%22198.15841594127548%22 y=%22118.53190500278936%22 text-anchor=%22middle%22 font-family=%22Verdana%22 font-size=%227.5%22 fill=%22rgb(0%25, 0%25, 0%25)%22 >A</text>\n",
       "<circle cx=%22213.8221259410595%22 cy=%22105.83506218665309%22 r=%225.0%22 stroke=%22none%22 stroke-width=%221.0%22 fill=%22rgb(100%25, 0%25, 0%25)%22/>\n",
       "<circle cx=%22213.8221259410595%22 cy=%22105.83506218665309%22 r=%225.0%22 stroke=%22rgb(35%25, 35%25, 35%25)%22 stroke-width=%221.0%22 fill=%22none%22/>\n",
       "<text x=%22213.8221259410595%22 y=%22108.83506218665309%22 text-anchor=%22middle%22 font-family=%22Verdana%22 font-size=%227.5%22 fill=%22rgb(0%25, 0%25, 0%25)%22 >C</text>\n",
       "<circle cx=%22213.8221259410595%22 cy=%2285.83506218665309%22 r=%225.0%22 stroke=%22none%22 stroke-width=%221.0%22 fill=%22rgb(100%25, 0%25, 0%25)%22/>\n",
       "<circle cx=%22213.8221259410595%22 cy=%2285.83506218665309%22 r=%225.0%22 stroke=%22rgb(35%25, 35%25, 35%25)%22 stroke-width=%221.0%22 fill=%22none%22/>\n",
       "<text x=%22213.8221259410595%22 y=%2288.83506218665309%22 text-anchor=%22middle%22 font-family=%22Verdana%22 font-size=%227.5%22 fill=%22rgb(0%25, 0%25, 0%25)%22 >G</text>\n",
       "<circle cx=%22213.8221259410595%22 cy=%2265.83506218665309%22 r=%225.0%22 stroke=%22none%22 stroke-width=%221.0%22 fill=%22rgb(100%25, 0%25, 0%25)%22/>\n",
       "<circle cx=%22213.8221259410595%22 cy=%2265.83506218665309%22 r=%225.0%22 stroke=%22rgb(35%25, 35%25, 35%25)%22 stroke-width=%221.0%22 fill=%22none%22/>\n",
       "<text x=%22213.8221259410595%22 y=%2268.83506218665309%22 text-anchor=%22middle%22 font-family=%22Verdana%22 font-size=%227.5%22 fill=%22rgb(0%25, 0%25, 0%25)%22 >C</text>\n",
       "<circle cx=%22202.16705786677582%22 cy=%2252.780947998472925%22 r=%225.0%22 stroke=%22none%22 stroke-width=%221.0%22 fill=%22rgb(100%25, 0%25, 0%25)%22/>\n",
       "<circle cx=%22202.16705786677582%22 cy=%2252.780947998472925%22 r=%225.0%22 stroke=%22rgb(35%25, 35%25, 35%25)%22 stroke-width=%221.0%22 fill=%22none%22/>\n",
       "<text x=%22202.16705786677582%22 y=%2255.780947998472925%22 text-anchor=%22middle%22 font-family=%22Verdana%22 font-size=%227.5%22 fill=%22rgb(0%25, 0%25, 0%25)%22 >G</text>\n",
       "<circle cx=%22199.48391525051122%22 cy=%2235.487849526683135%22 r=%225.0%22 stroke=%22none%22 stroke-width=%221.0%22 fill=%22rgb(100%25, 0%25, 0%25)%22/>\n",
       "<circle cx=%22199.48391525051122%22 cy=%2235.487849526683135%22 r=%225.0%22 stroke=%22rgb(35%25, 35%25, 35%25)%22 stroke-width=%221.0%22 fill=%22none%22/>\n",
       "<text x=%22199.48391525051122%22 y=%2238.487849526683135%22 text-anchor=%22middle%22 font-family=%22Verdana%22 font-size=%227.5%22 fill=%22rgb(0%25, 0%25, 0%25)%22 >A</text>\n",
       "<circle cx=%22206.6353713343549%22 cy=%2219.515774366107166%22 r=%225.0%22 stroke=%22none%22 stroke-width=%221.0%22 fill=%22rgb(100%25, 0%25, 0%25)%22/>\n",
       "<circle cx=%22206.6353713343549%22 cy=%2219.515774366107166%22 r=%225.0%22 stroke=%22rgb(35%25, 35%25, 35%25)%22 stroke-width=%221.0%22 fill=%22none%22/>\n",
       "<text x=%22206.6353713343549%22 y=%2222.515774366107166%22 text-anchor=%22middle%22 font-family=%22Verdana%22 font-size=%227.5%22 fill=%22rgb(0%25, 0%25, 0%25)%22 >A</text>\n",
       "<circle cx=%22221.3221186688592%22 cy=%2210.0%22 r=%225.0%22 stroke=%22none%22 stroke-width=%221.0%22 fill=%22rgb(100%25, 0%25, 0%25)%22/>\n",
       "<circle cx=%22221.3221186688592%22 cy=%2210.0%22 r=%225.0%22 stroke=%22rgb(35%25, 35%25, 35%25)%22 stroke-width=%221.0%22 fill=%22none%22/>\n",
       "<text x=%22221.3221186688592%22 y=%2213.0%22 text-anchor=%22middle%22 font-family=%22Verdana%22 font-size=%227.5%22 fill=%22rgb(0%25, 0%25, 0%25)%22 >A</text>\n",
       "<circle cx=%22238.8221332132598%22 cy=%2210.0%22 r=%225.0%22 stroke=%22none%22 stroke-width=%221.0%22 fill=%22rgb(100%25, 0%25, 0%25)%22/>\n",
       "<circle cx=%22238.8221332132598%22 cy=%2210.0%22 r=%225.0%22 stroke=%22rgb(35%25, 35%25, 35%25)%22 stroke-width=%221.0%22 fill=%22none%22/>\n",
       "<text x=%22238.8221332132598%22 y=%2213.0%22 text-anchor=%22middle%22 font-family=%22Verdana%22 font-size=%227.5%22 fill=%22rgb(0%25, 0%25, 0%25)%22 >U</text>\n",
       "<circle cx=%22253.50888054776414%22 cy=%2219.515774366107166%22 r=%225.0%22 stroke=%22none%22 stroke-width=%221.0%22 fill=%22rgb(100%25, 0%25, 0%25)%22/>\n",
       "<circle cx=%22253.50888054776414%22 cy=%2219.515774366107166%22 r=%225.0%22 stroke=%22rgb(35%25, 35%25, 35%25)%22 stroke-width=%221.0%22 fill=%22none%22/>\n",
       "<text x=%22253.50888054776414%22 y=%2222.515774366107166%22 text-anchor=%22middle%22 font-family=%22Verdana%22 font-size=%227.5%22 fill=%22rgb(0%25, 0%25, 0%25)%22 >U</text>\n",
       "<circle cx=%22260.66033663160783%22 cy=%2235.487849526683135%22 r=%225.0%22 stroke=%22none%22 stroke-width=%221.0%22 fill=%22rgb(100%25, 0%25, 0%25)%22/>\n",
       "<circle cx=%22260.66033663160783%22 cy=%2235.487849526683135%22 r=%225.0%22 stroke=%22rgb(35%25, 35%25, 35%25)%22 stroke-width=%221.0%22 fill=%22none%22/>\n",
       "<text x=%22260.66033663160783%22 y=%2238.487849526683135%22 text-anchor=%22middle%22 font-family=%22Verdana%22 font-size=%227.5%22 fill=%22rgb(0%25, 0%25, 0%25)%22 >A</text>\n",
       "<circle cx=%22257.97719401534323%22 cy=%2252.780947998472925%22 r=%225.0%22 stroke=%22none%22 stroke-width=%221.0%22 fill=%22rgb(100%25, 0%25, 0%25)%22/>\n",
       "<circle cx=%22257.97719401534323%22 cy=%2252.780947998472925%22 r=%225.0%22 stroke=%22rgb(35%25, 35%25, 35%25)%22 stroke-width=%221.0%22 fill=%22none%22/>\n",
       "<text x=%22257.97719401534323%22 y=%2255.780947998472925%22 text-anchor=%22middle%22 font-family=%22Verdana%22 font-size=%227.5%22 fill=%22rgb(0%25, 0%25, 0%25)%22 >G</text>\n",
       "<circle cx=%22246.32212594105954%22 cy=%2265.83506218665309%22 r=%225.0%22 stroke=%22none%22 stroke-width=%221.0%22 fill=%22rgb(100%25, 0%25, 0%25)%22/>\n",
       "<circle cx=%22246.32212594105954%22 cy=%2265.83506218665309%22 r=%225.0%22 stroke=%22rgb(35%25, 35%25, 35%25)%22 stroke-width=%221.0%22 fill=%22none%22/>\n",
       "<text x=%22246.32212594105954%22 y=%2268.83506218665309%22 text-anchor=%22middle%22 font-family=%22Verdana%22 font-size=%227.5%22 fill=%22rgb(0%25, 0%25, 0%25)%22 >G</text>\n",
       "<circle cx=%22246.32212594105954%22 cy=%2285.83506218665309%22 r=%225.0%22 stroke=%22none%22 stroke-width=%221.0%22 fill=%22rgb(100%25, 0%25, 0%25)%22/>\n",
       "<circle cx=%22246.32212594105954%22 cy=%2285.83506218665309%22 r=%225.0%22 stroke=%22rgb(35%25, 35%25, 35%25)%22 stroke-width=%221.0%22 fill=%22none%22/>\n",
       "<text x=%22246.32212594105954%22 y=%2288.83506218665309%22 text-anchor=%22middle%22 font-family=%22Verdana%22 font-size=%227.5%22 fill=%22rgb(0%25, 0%25, 0%25)%22 >C</text>\n",
       "<circle cx=%22246.32212594105954%22 cy=%22105.83506218665309%22 r=%225.0%22 stroke=%22none%22 stroke-width=%221.0%22 fill=%22rgb(100%25, 0%25, 0%25)%22/>\n",
       "<circle cx=%22246.32212594105954%22 cy=%22105.83506218665309%22 r=%225.0%22 stroke=%22rgb(35%25, 35%25, 35%25)%22 stroke-width=%221.0%22 fill=%22none%22/>\n",
       "<text x=%22246.32212594105954%22 y=%22108.83506218665309%22 text-anchor=%22middle%22 font-family=%22Verdana%22 font-size=%227.5%22 fill=%22rgb(0%25, 0%25, 0%25)%22 >G</text>\n",
       "<circle cx=%22258.7730680714694%22 cy=%22112.78336756778367%22 r=%225.0%22 stroke=%22none%22 stroke-width=%221.0%22 fill=%22rgb(100%25, 0%25, 0%25)%22/>\n",
       "<circle cx=%22258.7730680714694%22 cy=%22112.78336756778367%22 r=%225.0%22 stroke=%22rgb(35%25, 35%25, 35%25)%22 stroke-width=%221.0%22 fill=%22none%22/>\n",
       "<text x=%22258.7730680714694%22 y=%22115.78336756778367%22 text-anchor=%22middle%22 font-family=%22Verdana%22 font-size=%227.5%22 fill=%22rgb(0%25, 0%25, 0%25)%22 >A</text>\n",
       "<circle cx=%22268.5449557143711%22 cy=%22123.16677353590262%22 r=%225.0%22 stroke=%22none%22 stroke-width=%221.0%22 fill=%22rgb(100%25, 0%25, 0%25)%22/>\n",
       "<circle cx=%22268.5449557143711%22 cy=%22123.16677353590262%22 r=%225.0%22 stroke=%22rgb(35%25, 35%25, 35%25)%22 stroke-width=%221.0%22 fill=%22none%22/>\n",
       "<text x=%22268.5449557143711%22 y=%22126.16677353590262%22 text-anchor=%22middle%22 font-family=%22Verdana%22 font-size=%227.5%22 fill=%22rgb(0%25, 0%25, 0%25)%22 >C</text>\n",
       "<circle cx=%22287.94254415846274%22 cy=%22118.29506310181046%22 r=%225.0%22 stroke=%22none%22 stroke-width=%221.0%22 fill=%22rgb(100%25, 0%25, 0%25)%22/>\n",
       "<circle cx=%22287.94254415846274%22 cy=%22118.29506310181046%22 r=%225.0%22 stroke=%22rgb(35%25, 35%25, 35%25)%22 stroke-width=%221.0%22 fill=%22none%22/>\n",
       "<text x=%22287.94254415846274%22 y=%22121.29506310181046%22 text-anchor=%22middle%22 font-family=%22Verdana%22 font-size=%227.5%22 fill=%22rgb(0%25, 0%25, 0%25)%22 >G</text>\n",
       "<circle cx=%22307.3401326025544%22 cy=%22113.42335266771818%22 r=%225.0%22 stroke=%22none%22 stroke-width=%221.0%22 fill=%22rgb(100%25, 0%25, 0%25)%22/>\n",
       "<circle cx=%22307.3401326025544%22 cy=%22113.42335266771818%22 r=%225.0%22 stroke=%22rgb(35%25, 35%25, 35%25)%22 stroke-width=%221.0%22 fill=%22none%22/>\n",
       "<text x=%22307.3401326025544%22 y=%22116.42335266771818%22 text-anchor=%22middle%22 font-family=%22Verdana%22 font-size=%227.5%22 fill=%22rgb(0%25, 0%25, 0%25)%22 >G</text>\n",
       "<circle cx=%22326.737721046646%22 cy=%22108.55164223362601%22 r=%225.0%22 stroke=%22none%22 stroke-width=%221.0%22 fill=%22rgb(100%25, 0%25, 0%25)%22/>\n",
       "<circle cx=%22326.737721046646%22 cy=%22108.55164223362601%22 r=%225.0%22 stroke=%22rgb(35%25, 35%25, 35%25)%22 stroke-width=%221.0%22 fill=%22none%22/>\n",
       "<text x=%22326.737721046646%22 y=%22111.55164223362601%22 text-anchor=%22middle%22 font-family=%22Verdana%22 font-size=%227.5%22 fill=%22rgb(0%25, 0%25, 0%25)%22 >G</text>\n",
       "<circle cx=%22346.13530949073765%22 cy=%22103.67993179953373%22 r=%225.0%22 stroke=%22none%22 stroke-width=%221.0%22 fill=%22rgb(100%25, 0%25, 0%25)%22/>\n",
       "<circle cx=%22346.13530949073765%22 cy=%22103.67993179953373%22 r=%225.0%22 stroke=%22rgb(35%25, 35%25, 35%25)%22 stroke-width=%221.0%22 fill=%22none%22/>\n",
       "<text x=%22346.13530949073765%22 y=%22106.67993179953373%22 text-anchor=%22middle%22 font-family=%22Verdana%22 font-size=%227.5%22 fill=%22rgb(0%25, 0%25, 0%25)%22 >A</text>\n",
       "<circle cx=%22353.92675714882466%22 cy=%2288.01013741352449%22 r=%225.0%22 stroke=%22none%22 stroke-width=%221.0%22 fill=%22rgb(100%25, 0%25, 0%25)%22/>\n",
       "<circle cx=%22353.92675714882466%22 cy=%2288.01013741352449%22 r=%225.0%22 stroke=%22rgb(35%25, 35%25, 35%25)%22 stroke-width=%221.0%22 fill=%22none%22/>\n",
       "<text x=%22353.92675714882466%22 y=%2291.01013741352449%22 text-anchor=%22middle%22 font-family=%22Verdana%22 font-size=%227.5%22 fill=%22rgb(0%25, 0%25, 0%25)%22 >G</text>\n",
       "<circle cx=%22368.1436500262762%22 cy=%2277.8057721897793%22 r=%225.0%22 stroke=%22none%22 stroke-width=%221.0%22 fill=%22rgb(100%25, 0%25, 0%25)%22/>\n",
       "<circle cx=%22368.1436500262762%22 cy=%2277.8057721897793%22 r=%225.0%22 stroke=%22rgb(35%25, 35%25, 35%25)%22 stroke-width=%221.0%22 fill=%22none%22/>\n",
       "<text x=%22368.1436500262762%22 y=%2280.8057721897793%22 text-anchor=%22middle%22 font-family=%22Verdana%22 font-size=%227.5%22 fill=%22rgb(0%25, 0%25, 0%25)%22 >A</text>\n",
       "<circle cx=%22385.4826800248946%22 cy=%2275.43782974632177%22 r=%225.0%22 stroke=%22none%22 stroke-width=%221.0%22 fill=%22rgb(100%25, 0%25, 0%25)%22/>\n",
       "<circle cx=%22385.4826800248946%22 cy=%2275.43782974632177%22 r=%225.0%22 stroke=%22rgb(35%25, 35%25, 35%25)%22 stroke-width=%221.0%22 fill=%22none%22/>\n",
       "<text x=%22385.4826800248946%22 y=%2278.43782974632177%22 text-anchor=%22middle%22 font-family=%22Verdana%22 font-size=%227.5%22 fill=%22rgb(0%25, 0%25, 0%25)%22 >G</text>\n",
       "<circle cx=%22401.9151076231087%22 cy=%2281.45650368149757%22 r=%225.0%22 stroke=%22none%22 stroke-width=%221.0%22 fill=%22rgb(100%25, 0%25, 0%25)%22/>\n",
       "<circle cx=%22401.9151076231087%22 cy=%2281.45650368149757%22 r=%225.0%22 stroke=%22rgb(35%25, 35%25, 35%25)%22 stroke-width=%221.0%22 fill=%22none%22/>\n",
       "<text x=%22401.9151076231087%22 y=%2284.45650368149757%22 text-anchor=%22middle%22 font-family=%22Verdana%22 font-size=%227.5%22 fill=%22rgb(0%25, 0%25, 0%25)%22 >G</text>\n",
       "<circle cx=%22413.6228431985145%22 cy=%2294.46334958682337%22 r=%225.0%22 stroke=%22none%22 stroke-width=%221.0%22 fill=%22rgb(100%25, 0%25, 0%25)%22/>\n",
       "<circle cx=%22413.6228431985145%22 cy=%2294.46334958682337%22 r=%225.0%22 stroke=%22rgb(35%25, 35%25, 35%25)%22 stroke-width=%221.0%22 fill=%22none%22/>\n",
       "<text x=%22413.6228431985145%22 y=%2297.46334958682337%22 text-anchor=%22middle%22 font-family=%22Verdana%22 font-size=%227.5%22 fill=%22rgb(0%25, 0%25, 0%25)%22 >G</text>\n",
       "<circle cx=%22417.885583653159%22 cy=%22111.43621488779274%22 r=%225.0%22 stroke=%22none%22 stroke-width=%221.0%22 fill=%22rgb(100%25, 0%25, 0%25)%22/>\n",
       "<circle cx=%22417.885583653159%22 cy=%22111.43621488779274%22 r=%225.0%22 stroke=%22rgb(35%25, 35%25, 35%25)%22 stroke-width=%221.0%22 fill=%22none%22/>\n",
       "<text x=%22417.885583653159%22 y=%22114.43621488779274%22 text-anchor=%22middle%22 font-family=%22Verdana%22 font-size=%227.5%22 fill=%22rgb(0%25, 0%25, 0%25)%22 >U</text>\n",
       "<circle cx=%22413.7128773331035%22 cy=%22128.43143876613817%22 r=%225.0%22 stroke=%22none%22 stroke-width=%221.0%22 fill=%22rgb(100%25, 0%25, 0%25)%22/>\n",
       "<circle cx=%22413.7128773331035%22 cy=%22128.43143876613817%22 r=%225.0%22 stroke=%22rgb(35%25, 35%25, 35%25)%22 stroke-width=%221.0%22 fill=%22none%22/>\n",
       "<text x=%22413.7128773331035%22 y=%22131.43143876613817%22 text-anchor=%22middle%22 font-family=%22Verdana%22 font-size=%227.5%22 fill=%22rgb(0%25, 0%25, 0%25)%22 >C</text>\n",
       "<circle cx=%22402.0742563785459%22 cy=%22141.50016536763405%22 r=%225.0%22 stroke=%22none%22 stroke-width=%221.0%22 fill=%22rgb(100%25, 0%25, 0%25)%22/>\n",
       "<circle cx=%22402.0742563785459%22 cy=%22141.50016536763405%22 r=%225.0%22 stroke=%22rgb(35%25, 35%25, 35%25)%22 stroke-width=%221.0%22 fill=%22none%22/>\n",
       "<text x=%22402.0742563785459%22 y=%22144.50016536763405%22 text-anchor=%22middle%22 font-family=%22Verdana%22 font-size=%227.5%22 fill=%22rgb(0%25, 0%25, 0%25)%22 >G</text>\n",
       "<circle cx=%22385.67396504190094%22 cy=%22147.60586408126892%22 r=%225.0%22 stroke=%22none%22 stroke-width=%221.0%22 fill=%22rgb(100%25, 0%25, 0%25)%22/>\n",
       "<circle cx=%22385.67396504190094%22 cy=%22147.60586408126892%22 r=%225.0%22 stroke=%22rgb(35%25, 35%25, 35%25)%22 stroke-width=%221.0%22 fill=%22none%22/>\n",
       "<text x=%22385.67396504190094%22 y=%22150.60586408126892%22 text-anchor=%22middle%22 font-family=%22Verdana%22 font-size=%227.5%22 fill=%22rgb(0%25, 0%25, 0%25)%22 >G</text>\n",
       "<circle cx=%22368.3226260557254%22 cy=%22145.32987021147505%22 r=%225.0%22 stroke=%22none%22 stroke-width=%221.0%22 fill=%22rgb(100%25, 0%25, 0%25)%22/>\n",
       "<circle cx=%22368.3226260557254%22 cy=%22145.32987021147505%22 r=%225.0%22 stroke=%22rgb(35%25, 35%25, 35%25)%22 stroke-width=%221.0%22 fill=%22none%22/>\n",
       "<text x=%22368.3226260557254%22 y=%22148.32987021147505%22 text-anchor=%22middle%22 font-family=%22Verdana%22 font-size=%227.5%22 fill=%22rgb(0%25, 0%25, 0%25)%22 >A</text>\n",
       "<circle cx=%22354.05183894613754%22 cy=%22135.20101302118258%22 r=%225.0%22 stroke=%22none%22 stroke-width=%221.0%22 fill=%22rgb(100%25, 0%25, 0%25)%22/>\n",
       "<circle cx=%22354.05183894613754%22 cy=%22135.20101302118258%22 r=%225.0%22 stroke=%22rgb(35%25, 35%25, 35%25)%22 stroke-width=%221.0%22 fill=%22none%22/>\n",
       "<text x=%22354.05183894613754%22 y=%22138.20101302118258%22 text-anchor=%22middle%22 font-family=%22Verdana%22 font-size=%227.5%22 fill=%22rgb(0%25, 0%25, 0%25)%22 >U</text>\n",
       "<circle cx=%22334.6542505020459%22 cy=%22140.07272345527485%22 r=%225.0%22 stroke=%22none%22 stroke-width=%221.0%22 fill=%22rgb(100%25, 0%25, 0%25)%22/>\n",
       "<circle cx=%22334.6542505020459%22 cy=%22140.07272345527485%22 r=%225.0%22 stroke=%22rgb(35%25, 35%25, 35%25)%22 stroke-width=%221.0%22 fill=%22none%22/>\n",
       "<text x=%22334.6542505020459%22 y=%22143.07272345527485%22 text-anchor=%22middle%22 font-family=%22Verdana%22 font-size=%227.5%22 fill=%22rgb(0%25, 0%25, 0%25)%22 >C</text>\n",
       "<circle cx=%22315.25666205795426%22 cy=%22144.94443388936702%22 r=%225.0%22 stroke=%22none%22 stroke-width=%221.0%22 fill=%22rgb(100%25, 0%25, 0%25)%22/>\n",
       "<circle cx=%22315.25666205795426%22 cy=%22144.94443388936702%22 r=%225.0%22 stroke=%22rgb(35%25, 35%25, 35%25)%22 stroke-width=%221.0%22 fill=%22none%22/>\n",
       "<text x=%22315.25666205795426%22 y=%22147.94443388936702%22 text-anchor=%22middle%22 font-family=%22Verdana%22 font-size=%227.5%22 fill=%22rgb(0%25, 0%25, 0%25)%22 >C</text>\n",
       "<circle cx=%22295.8590736138626%22 cy=%22149.8161443234593%22 r=%225.0%22 stroke=%22none%22 stroke-width=%221.0%22 fill=%22rgb(100%25, 0%25, 0%25)%22/>\n",
       "<circle cx=%22295.8590736138626%22 cy=%22149.8161443234593%22 r=%225.0%22 stroke=%22rgb(35%25, 35%25, 35%25)%22 stroke-width=%221.0%22 fill=%22none%22/>\n",
       "<text x=%22295.8590736138626%22 y=%22152.8161443234593%22 text-anchor=%22middle%22 font-family=%22Verdana%22 font-size=%227.5%22 fill=%22rgb(0%25, 0%25, 0%25)%22 >C</text>\n",
       "<circle cx=%22276.461485169771%22 cy=%22154.68785475755146%22 r=%225.0%22 stroke=%22none%22 stroke-width=%221.0%22 fill=%22rgb(100%25, 0%25, 0%25)%22/>\n",
       "<circle cx=%22276.461485169771%22 cy=%22154.68785475755146%22 r=%225.0%22 stroke=%22rgb(35%25, 35%25, 35%25)%22 stroke-width=%221.0%22 fill=%22none%22/>\n",
       "<text x=%22276.461485169771%22 y=%22157.68785475755146%22 text-anchor=%22middle%22 font-family=%22Verdana%22 font-size=%227.5%22 fill=%22rgb(0%25, 0%25, 0%25)%22 >G</text>\n",
       "<circle cx=%22271.3201636998891%22 cy=%22171.4155806503121%22 r=%225.0%22 stroke=%22none%22 stroke-width=%221.0%22 fill=%22rgb(100%25, 0%25, 0%25)%22/>\n",
       "<circle cx=%22271.3201636998891%22 cy=%22171.4155806503121%22 r=%225.0%22 stroke=%22rgb(35%25, 35%25, 35%25)%22 stroke-width=%221.0%22 fill=%22none%22/>\n",
       "<text x=%22271.3201636998891%22 y=%22174.4155806503121%22 text-anchor=%22middle%22 font-family=%22Verdana%22 font-size=%227.5%22 fill=%22rgb(0%25, 0%25, 0%25)%22 >A</text>\n",
       "<circle cx=%22260.3789900907237%22 cy=%22185.073571719796%22 r=%225.0%22 stroke=%22none%22 stroke-width=%221.0%22 fill=%22rgb(100%25, 0%25, 0%25)%22/>\n",
       "<circle cx=%22260.3789900907237%22 cy=%22185.073571719796%22 r=%225.0%22 stroke=%22rgb(35%25, 35%25, 35%25)%22 stroke-width=%221.0%22 fill=%22none%22/>\n",
       "<text x=%22260.3789900907237%22 y=%22188.073571719796%22 text-anchor=%22middle%22 font-family=%22Verdana%22 font-size=%227.5%22 fill=%22rgb(0%25, 0%25, 0%25)%22 >C</text>\n",
       "<circle cx=%22267.25846529044156%22 cy=%22203.8531569382311%22 r=%225.0%22 stroke=%22none%22 stroke-width=%221.0%22 fill=%22rgb(100%25, 0%25, 0%25)%22/>\n",
       "<circle cx=%22267.25846529044156%22 cy=%22203.8531569382311%22 r=%225.0%22 stroke=%22rgb(35%25, 35%25, 35%25)%22 stroke-width=%221.0%22 fill=%22none%22/>\n",
       "<text x=%22267.25846529044156%22 y=%22206.8531569382311%22 text-anchor=%22middle%22 font-family=%22Verdana%22 font-size=%227.5%22 fill=%22rgb(0%25, 0%25, 0%25)%22 >U</text>\n",
       "<circle cx=%22274.13794049015945%22 cy=%22222.6327421566662%22 r=%225.0%22 stroke=%22none%22 stroke-width=%221.0%22 fill=%22rgb(100%25, 0%25, 0%25)%22/>\n",
       "<circle cx=%22274.13794049015945%22 cy=%22222.6327421566662%22 r=%225.0%22 stroke=%22rgb(35%25, 35%25, 35%25)%22 stroke-width=%221.0%22 fill=%22none%22/>\n",
       "<text x=%22274.13794049015945%22 y=%22225.6327421566662%22 text-anchor=%22middle%22 font-family=%22Verdana%22 font-size=%227.5%22 fill=%22rgb(0%25, 0%25, 0%25)%22 >G</text>\n",
       "<circle cx=%22281.01741568987734%22 cy=%22241.4123273751013%22 r=%225.0%22 stroke=%22none%22 stroke-width=%221.0%22 fill=%22rgb(100%25, 0%25, 0%25)%22/>\n",
       "<circle cx=%22281.01741568987734%22 cy=%22241.4123273751013%22 r=%225.0%22 stroke=%22rgb(35%25, 35%25, 35%25)%22 stroke-width=%221.0%22 fill=%22none%22/>\n",
       "<text x=%22281.01741568987734%22 y=%22244.4123273751013%22 text-anchor=%22middle%22 font-family=%22Verdana%22 font-size=%227.5%22 fill=%22rgb(0%25, 0%25, 0%25)%22 >G</text>\n",
       "<circle cx=%22287.8968908895952%22 cy=%22260.1919125935364%22 r=%225.0%22 stroke=%22none%22 stroke-width=%221.0%22 fill=%22rgb(100%25, 0%25, 0%25)%22/>\n",
       "<circle cx=%22287.8968908895952%22 cy=%22260.1919125935364%22 r=%225.0%22 stroke=%22rgb(35%25, 35%25, 35%25)%22 stroke-width=%221.0%22 fill=%22none%22/>\n",
       "<text x=%22287.8968908895952%22 y=%22263.1919125935364%22 text-anchor=%22middle%22 font-family=%22Verdana%22 font-size=%227.5%22 fill=%22rgb(0%25, 0%25, 0%25)%22 >G</text>\n",
       "<circle cx=%22294.7763660893131%22 cy=%22278.9714978119715%22 r=%225.0%22 stroke=%22none%22 stroke-width=%221.0%22 fill=%22rgb(100%25, 0%25, 0%25)%22/>\n",
       "<circle cx=%22294.7763660893131%22 cy=%22278.9714978119715%22 r=%225.0%22 stroke=%22rgb(35%25, 35%25, 35%25)%22 stroke-width=%221.0%22 fill=%22none%22/>\n",
       "<text x=%22294.7763660893131%22 y=%22281.9714978119715%22 text-anchor=%22middle%22 font-family=%22Verdana%22 font-size=%227.5%22 fill=%22rgb(0%25, 0%25, 0%25)%22 >C</text>\n",
       "<circle cx=%22308.2403810551193%22 cy=%22290.150509440937%22 r=%225.0%22 stroke=%22none%22 stroke-width=%221.0%22 fill=%22rgb(100%25, 0%25, 0%25)%22/>\n",
       "<circle cx=%22308.2403810551193%22 cy=%22290.150509440937%22 r=%225.0%22 stroke=%22rgb(35%25, 35%25, 35%25)%22 stroke-width=%221.0%22 fill=%22none%22/>\n",
       "<text x=%22308.2403810551193%22 y=%22293.150509440937%22 text-anchor=%22middle%22 font-family=%22Verdana%22 font-size=%227.5%22 fill=%22rgb(0%25, 0%25, 0%25)%22 >A</text>\n",
       "<circle cx=%22311.29714415869086%22 cy=%22307.38147573214206%22 r=%225.0%22 stroke=%22none%22 stroke-width=%221.0%22 fill=%22rgb(100%25, 0%25, 0%25)%22/>\n",
       "<circle cx=%22311.29714415869086%22 cy=%22307.38147573214206%22 r=%225.0%22 stroke=%22rgb(35%25, 35%25, 35%25)%22 stroke-width=%221.0%22 fill=%22none%22/>\n",
       "<text x=%22311.29714415869086%22 y=%22310.38147573214206%22 text-anchor=%22middle%22 font-family=%22Verdana%22 font-size=%227.5%22 fill=%22rgb(0%25, 0%25, 0%25)%22 >G</text>\n",
       "<circle cx=%22302.5%22 cy=%22322.50960366163855%22 r=%225.0%22 stroke=%22none%22 stroke-width=%221.0%22 fill=%22rgb(100%25, 0%25, 0%25)%22/>\n",
       "<circle cx=%22302.5%22 cy=%22322.50960366163855%22 r=%225.0%22 stroke=%22rgb(35%25, 35%25, 35%25)%22 stroke-width=%221.0%22 fill=%22none%22/>\n",
       "<text x=%22302.5%22 y=%22325.50960366163855%22 text-anchor=%22middle%22 font-family=%22Verdana%22 font-size=%227.5%22 fill=%22rgb(0%25, 0%25, 0%25)%22 >C</text>\n",
       "<circle cx=%22302.5%22 cy=%22342.50960366163855%22 r=%225.0%22 stroke=%22none%22 stroke-width=%221.0%22 fill=%22rgb(100%25, 0%25, 0%25)%22/>\n",
       "<circle cx=%22302.5%22 cy=%22342.50960366163855%22 r=%225.0%22 stroke=%22rgb(35%25, 35%25, 35%25)%22 stroke-width=%221.0%22 fill=%22none%22/>\n",
       "<text x=%22302.5%22 y=%22345.50960366163855%22 text-anchor=%22middle%22 font-family=%22Verdana%22 font-size=%227.5%22 fill=%22rgb(0%25, 0%25, 0%25)%22 >U</text>\n",
       "<circle cx=%22302.5%22 cy=%22362.50960366163855%22 r=%225.0%22 stroke=%22none%22 stroke-width=%221.0%22 fill=%22rgb(100%25, 0%25, 0%25)%22/>\n",
       "<circle cx=%22302.5%22 cy=%22362.50960366163855%22 r=%225.0%22 stroke=%22rgb(35%25, 35%25, 35%25)%22 stroke-width=%221.0%22 fill=%22none%22/>\n",
       "<text x=%22302.5%22 y=%22365.50960366163855%22 text-anchor=%22middle%22 font-family=%22Verdana%22 font-size=%227.5%22 fill=%22rgb(0%25, 0%25, 0%25)%22 >G</text>\n",
       "<circle cx=%22302.5%22 cy=%22382.50960366163855%22 r=%225.0%22 stroke=%22none%22 stroke-width=%221.0%22 fill=%22rgb(100%25, 0%25, 0%25)%22/>\n",
       "<circle cx=%22302.5%22 cy=%22382.50960366163855%22 r=%225.0%22 stroke=%22rgb(35%25, 35%25, 35%25)%22 stroke-width=%221.0%22 fill=%22none%22/>\n",
       "<text x=%22302.5%22 y=%22385.50960366163855%22 text-anchor=%22middle%22 font-family=%22Verdana%22 font-size=%227.5%22 fill=%22rgb(0%25, 0%25, 0%25)%22 >G</text>\n",
       "<circle cx=%22302.5%22 cy=%22402.50960366163855%22 r=%225.0%22 stroke=%22none%22 stroke-width=%221.0%22 fill=%22rgb(100%25, 0%25, 0%25)%22/>\n",
       "<circle cx=%22302.5%22 cy=%22402.50960366163855%22 r=%225.0%22 stroke=%22rgb(35%25, 35%25, 35%25)%22 stroke-width=%221.0%22 fill=%22none%22/>\n",
       "<text x=%22302.5%22 y=%22405.50960366163855%22 text-anchor=%22middle%22 font-family=%22Verdana%22 font-size=%227.5%22 fill=%22rgb(0%25, 0%25, 0%25)%22 >G</text>\n",
       "<circle cx=%22302.5%22 cy=%22422.50960366163855%22 r=%225.0%22 stroke=%22none%22 stroke-width=%221.0%22 fill=%22rgb(100%25, 0%25, 0%25)%22/>\n",
       "<circle cx=%22302.5%22 cy=%22422.50960366163855%22 r=%225.0%22 stroke=%22rgb(35%25, 35%25, 35%25)%22 stroke-width=%221.0%22 fill=%22none%22/>\n",
       "<text x=%22302.5%22 y=%22425.50960366163855%22 text-anchor=%22middle%22 font-family=%22Verdana%22 font-size=%227.5%22 fill=%22rgb(0%25, 0%25, 0%25)%22 >C</text>\n",
       "<circle cx=%22320.0%22 cy=%22422.50960366163855%22 r=%225.0%22 stroke=%22none%22 stroke-width=%221.0%22 fill=%22rgb(100%25, 0%25, 0%25)%22/>\n",
       "<circle cx=%22320.0%22 cy=%22422.50960366163855%22 r=%225.0%22 stroke=%22rgb(35%25, 35%25, 35%25)%22 stroke-width=%221.0%22 fill=%22none%22/>\n",
       "<text x=%22320.0%22 y=%22425.50960366163855%22 text-anchor=%22middle%22 font-family=%22Verdana%22 font-size=%227.5%22 fill=%22rgb(0%25, 0%25, 0%25)%22 >A</text>\n",
       "<circle cx=%22337.5%22 cy=%22422.50960366163855%22 r=%225.0%22 stroke=%22none%22 stroke-width=%221.0%22 fill=%22rgb(100%25, 0%25, 0%25)%22/>\n",
       "<circle cx=%22337.5%22 cy=%22422.50960366163855%22 r=%225.0%22 stroke=%22rgb(35%25, 35%25, 35%25)%22 stroke-width=%221.0%22 fill=%22none%22/>\n",
       "<text x=%22337.5%22 y=%22425.50960366163855%22 text-anchor=%22middle%22 font-family=%22Verdana%22 font-size=%227.5%22 fill=%22rgb(0%25, 0%25, 0%25)%22 >A</text>\n",
       "<circle cx=%22355.0%22 cy=%22422.50960366163855%22 r=%225.0%22 stroke=%22none%22 stroke-width=%221.0%22 fill=%22rgb(100%25, 0%25, 0%25)%22/>\n",
       "<circle cx=%22355.0%22 cy=%22422.50960366163855%22 r=%225.0%22 stroke=%22rgb(35%25, 35%25, 35%25)%22 stroke-width=%221.0%22 fill=%22none%22/>\n",
       "<text x=%22355.0%22 y=%22425.50960366163855%22 text-anchor=%22middle%22 font-family=%22Verdana%22 font-size=%227.5%22 fill=%22rgb(0%25, 0%25, 0%25)%22 >U</text>\n",
       "<circle cx=%22372.5%22 cy=%22422.50960366163855%22 r=%225.0%22 stroke=%22none%22 stroke-width=%221.0%22 fill=%22rgb(100%25, 0%25, 0%25)%22/>\n",
       "<circle cx=%22372.5%22 cy=%22422.50960366163855%22 r=%225.0%22 stroke=%22rgb(35%25, 35%25, 35%25)%22 stroke-width=%221.0%22 fill=%22none%22/>\n",
       "<text x=%22372.5%22 y=%22425.50960366163855%22 text-anchor=%22middle%22 font-family=%22Verdana%22 font-size=%227.5%22 fill=%22rgb(0%25, 0%25, 0%25)%22 >U</text>\n",
       "<circle cx=%22390.0%22 cy=%22422.50960366163855%22 r=%225.0%22 stroke=%22none%22 stroke-width=%221.0%22 fill=%22rgb(100%25, 0%25, 0%25)%22/>\n",
       "<circle cx=%22390.0%22 cy=%22422.50960366163855%22 r=%225.0%22 stroke=%22rgb(35%25, 35%25, 35%25)%22 stroke-width=%221.0%22 fill=%22none%22/>\n",
       "<text x=%22390.0%22 y=%22425.50960366163855%22 text-anchor=%22middle%22 font-family=%22Verdana%22 font-size=%227.5%22 fill=%22rgb(0%25, 0%25, 0%25)%22 >U</text>\n",
       "<circle cx=%22407.5%22 cy=%22422.50960366163855%22 r=%225.0%22 stroke=%22none%22 stroke-width=%221.0%22 fill=%22rgb(100%25, 0%25, 0%25)%22/>\n",
       "<circle cx=%22407.5%22 cy=%22422.50960366163855%22 r=%225.0%22 stroke=%22rgb(35%25, 35%25, 35%25)%22 stroke-width=%221.0%22 fill=%22none%22/>\n",
       "<text x=%22407.5%22 y=%22425.50960366163855%22 text-anchor=%22middle%22 font-family=%22Verdana%22 font-size=%227.5%22 fill=%22rgb(0%25, 0%25, 0%25)%22 >G</text>\n",
       "<circle cx=%22425.0%22 cy=%22422.50960366163855%22 r=%225.0%22 stroke=%22none%22 stroke-width=%221.0%22 fill=%22rgb(100%25, 0%25, 0%25)%22/>\n",
       "<circle cx=%22425.0%22 cy=%22422.50960366163855%22 r=%225.0%22 stroke=%22rgb(35%25, 35%25, 35%25)%22 stroke-width=%221.0%22 fill=%22none%22/>\n",
       "<text x=%22425.0%22 y=%22425.50960366163855%22 text-anchor=%22middle%22 font-family=%22Verdana%22 font-size=%227.5%22 fill=%22rgb(0%25, 0%25, 0%25)%22 >U</text>\n",
       "<circle cx=%22442.5%22 cy=%22422.50960366163855%22 r=%225.0%22 stroke=%22none%22 stroke-width=%221.0%22 fill=%22rgb(100%25, 0%25, 0%25)%22/>\n",
       "<circle cx=%22442.5%22 cy=%22422.50960366163855%22 r=%225.0%22 stroke=%22rgb(35%25, 35%25, 35%25)%22 stroke-width=%221.0%22 fill=%22none%22/>\n",
       "<text x=%22442.5%22 y=%22425.50960366163855%22 text-anchor=%22middle%22 font-family=%22Verdana%22 font-size=%227.5%22 fill=%22rgb(0%25, 0%25, 0%25)%22 >A</text>\n",
       "<circle cx=%22460.0%22 cy=%22422.50960366163855%22 r=%225.0%22 stroke=%22none%22 stroke-width=%221.0%22 fill=%22rgb(100%25, 0%25, 0%25)%22/>\n",
       "<circle cx=%22460.0%22 cy=%22422.50960366163855%22 r=%225.0%22 stroke=%22rgb(35%25, 35%25, 35%25)%22 stroke-width=%221.0%22 fill=%22none%22/>\n",
       "<text x=%22460.0%22 y=%22425.50960366163855%22 text-anchor=%22middle%22 font-family=%22Verdana%22 font-size=%227.5%22 fill=%22rgb(0%25, 0%25, 0%25)%22 >A</text>\n",
       "<circle cx=%22477.5%22 cy=%22422.50960366163855%22 r=%225.0%22 stroke=%22none%22 stroke-width=%221.0%22 fill=%22rgb(100%25, 0%25, 0%25)%22/>\n",
       "<circle cx=%22477.5%22 cy=%22422.50960366163855%22 r=%225.0%22 stroke=%22rgb(35%25, 35%25, 35%25)%22 stroke-width=%221.0%22 fill=%22none%22/>\n",
       "<text x=%22477.5%22 y=%22425.50960366163855%22 text-anchor=%22middle%22 font-family=%22Verdana%22 font-size=%227.5%22 fill=%22rgb(0%25, 0%25, 0%25)%22 >U</text>\n",
       "<circle cx=%22495.0%22 cy=%22422.50960366163855%22 r=%225.0%22 stroke=%22none%22 stroke-width=%221.0%22 fill=%22rgb(100%25, 0%25, 0%25)%22/>\n",
       "<circle cx=%22495.0%22 cy=%22422.50960366163855%22 r=%225.0%22 stroke=%22rgb(35%25, 35%25, 35%25)%22 stroke-width=%221.0%22 fill=%22none%22/>\n",
       "<text x=%22495.0%22 y=%22425.50960366163855%22 text-anchor=%22middle%22 font-family=%22Verdana%22 font-size=%227.5%22 fill=%22rgb(0%25, 0%25, 0%25)%22 >U</text>\n",
       "<circle cx=%22512.5%22 cy=%22422.50960366163855%22 r=%225.0%22 stroke=%22none%22 stroke-width=%221.0%22 fill=%22rgb(100%25, 0%25, 0%25)%22/>\n",
       "<circle cx=%22512.5%22 cy=%22422.50960366163855%22 r=%225.0%22 stroke=%22rgb(35%25, 35%25, 35%25)%22 stroke-width=%221.0%22 fill=%22none%22/>\n",
       "<text x=%22512.5%22 y=%22425.50960366163855%22 text-anchor=%22middle%22 font-family=%22Verdana%22 font-size=%227.5%22 fill=%22rgb(0%25, 0%25, 0%25)%22 >U</text>\n",
       "<circle cx=%22530.0%22 cy=%22422.50960366163855%22 r=%225.0%22 stroke=%22none%22 stroke-width=%221.0%22 fill=%22rgb(100%25, 0%25, 0%25)%22/>\n",
       "<circle cx=%22530.0%22 cy=%22422.50960366163855%22 r=%225.0%22 stroke=%22rgb(35%25, 35%25, 35%25)%22 stroke-width=%221.0%22 fill=%22none%22/>\n",
       "<text x=%22530.0%22 y=%22425.50960366163855%22 text-anchor=%22middle%22 font-family=%22Verdana%22 font-size=%227.5%22 fill=%22rgb(0%25, 0%25, 0%25)%22 >G</text>\n",
       "<circle cx=%22547.5%22 cy=%22422.50960366163855%22 r=%225.0%22 stroke=%22none%22 stroke-width=%221.0%22 fill=%22rgb(100%25, 0%25, 0%25)%22/>\n",
       "<circle cx=%22547.5%22 cy=%22422.50960366163855%22 r=%225.0%22 stroke=%22rgb(35%25, 35%25, 35%25)%22 stroke-width=%221.0%22 fill=%22none%22/>\n",
       "<text x=%22547.5%22 y=%22425.50960366163855%22 text-anchor=%22middle%22 font-family=%22Verdana%22 font-size=%227.5%22 fill=%22rgb(0%25, 0%25, 0%25)%22 >U</text>\n",
       "<circle cx=%22565.0%22 cy=%22422.50960366163855%22 r=%225.0%22 stroke=%22none%22 stroke-width=%221.0%22 fill=%22rgb(100%25, 0%25, 0%25)%22/>\n",
       "<circle cx=%22565.0%22 cy=%22422.50960366163855%22 r=%225.0%22 stroke=%22rgb(35%25, 35%25, 35%25)%22 stroke-width=%221.0%22 fill=%22none%22/>\n",
       "<text x=%22565.0%22 y=%22425.50960366163855%22 text-anchor=%22middle%22 font-family=%22Verdana%22 font-size=%227.5%22 fill=%22rgb(0%25, 0%25, 0%25)%22 >G</text>\n",
       "<circle cx=%22582.5%22 cy=%22422.50960366163855%22 r=%225.0%22 stroke=%22none%22 stroke-width=%221.0%22 fill=%22rgb(100%25, 0%25, 0%25)%22/>\n",
       "<circle cx=%22582.5%22 cy=%22422.50960366163855%22 r=%225.0%22 stroke=%22rgb(35%25, 35%25, 35%25)%22 stroke-width=%221.0%22 fill=%22none%22/>\n",
       "<text x=%22582.5%22 y=%22425.50960366163855%22 text-anchor=%22middle%22 font-family=%22Verdana%22 font-size=%227.5%22 fill=%22rgb(0%25, 0%25, 0%25)%22 >A</text>\n",
       "<circle cx=%22600.0%22 cy=%22422.50960366163855%22 r=%225.0%22 stroke=%22none%22 stroke-width=%221.0%22 fill=%22rgb(100%25, 0%25, 0%25)%22/>\n",
       "<circle cx=%22600.0%22 cy=%22422.50960366163855%22 r=%225.0%22 stroke=%22rgb(35%25, 35%25, 35%25)%22 stroke-width=%221.0%22 fill=%22none%22/>\n",
       "<text x=%22600.0%22 y=%22425.50960366163855%22 text-anchor=%22middle%22 font-family=%22Verdana%22 font-size=%227.5%22 fill=%22rgb(0%25, 0%25, 0%25)%22 >G</text>\n",
       "<circle cx=%22617.5%22 cy=%22422.50960366163855%22 r=%225.0%22 stroke=%22none%22 stroke-width=%221.0%22 fill=%22rgb(100%25, 0%25, 0%25)%22/>\n",
       "<circle cx=%22617.5%22 cy=%22422.50960366163855%22 r=%225.0%22 stroke=%22rgb(35%25, 35%25, 35%25)%22 stroke-width=%221.0%22 fill=%22none%22/>\n",
       "<text x=%22617.5%22 y=%22425.50960366163855%22 text-anchor=%22middle%22 font-family=%22Verdana%22 font-size=%227.5%22 fill=%22rgb(0%25, 0%25, 0%25)%22 >A</text>\n",
       "<circle cx=%22635.0%22 cy=%22422.50960366163855%22 r=%225.0%22 stroke=%22none%22 stroke-width=%221.0%22 fill=%22rgb(100%25, 0%25, 0%25)%22/>\n",
       "<circle cx=%22635.0%22 cy=%22422.50960366163855%22 r=%225.0%22 stroke=%22rgb(35%25, 35%25, 35%25)%22 stroke-width=%221.0%22 fill=%22none%22/>\n",
       "<text x=%22635.0%22 y=%22425.50960366163855%22 text-anchor=%22middle%22 font-family=%22Verdana%22 font-size=%227.5%22 fill=%22rgb(0%25, 0%25, 0%25)%22 >C</text>\n",
       "<circle cx=%22652.5%22 cy=%22422.50960366163855%22 r=%225.0%22 stroke=%22none%22 stroke-width=%221.0%22 fill=%22rgb(100%25, 0%25, 0%25)%22/>\n",
       "<circle cx=%22652.5%22 cy=%22422.50960366163855%22 r=%225.0%22 stroke=%22rgb(35%25, 35%25, 35%25)%22 stroke-width=%221.0%22 fill=%22none%22/>\n",
       "<text x=%22652.5%22 y=%22425.50960366163855%22 text-anchor=%22middle%22 font-family=%22Verdana%22 font-size=%227.5%22 fill=%22rgb(0%25, 0%25, 0%25)%22 >C</text>\n",
       "<circle cx=%22670.0%22 cy=%22422.50960366163855%22 r=%225.0%22 stroke=%22none%22 stroke-width=%221.0%22 fill=%22rgb(100%25, 0%25, 0%25)%22/>\n",
       "<circle cx=%22670.0%22 cy=%22422.50960366163855%22 r=%225.0%22 stroke=%22rgb(35%25, 35%25, 35%25)%22 stroke-width=%221.0%22 fill=%22none%22/>\n",
       "<text x=%22670.0%22 y=%22425.50960366163855%22 text-anchor=%22middle%22 font-family=%22Verdana%22 font-size=%227.5%22 fill=%22rgb(0%25, 0%25, 0%25)%22 >C</text>\n",
       "<line x1=%2210.0%22 y1=%22430.0096036616385%22 x2=%2210.0%22 y2=%22435.0096036616385%22 stroke=%22rgb(25%25, 25%25, 25%25)%22 stroke-width=%221.0%22 />\n",
       "<text x=%2210.0%22 y=%22445.5096036616385%22 text-anchor=%22middle%22 font-family=%22Verdana%22 font-size=%227.5%22 fill=%22rgb(25%25, 25%25, 25%25)%22 >1</text>\n",
       "<line x1=%22142.5%22 y1=%22402.5096036616385%22 x2=%22137.5%22 y2=%22402.5096036616385%22 stroke=%22rgb(25%25, 25%25, 25%25)%22 stroke-width=%221.0%22 />\n",
       "<text x=%22130.0%22 y=%22405.5096036616385%22 text-anchor=%22middle%22 font-family=%22Verdana%22 font-size=%227.5%22 fill=%22rgb(25%25, 25%25, 25%25)%22 >10</text>\n",
       "<line x1=%22189.99999454079742%22 y1=%22322.50055446228987%22 x2=%22194.99999090132903%22 y2=%22322.4945216627241%22 stroke=%22rgb(25%25, 25%25, 25%25)%22 stroke-width=%221.0%22 />\n",
       "<text x=%22202.49998544212647%22 y=%22325.48547246337534%22 text-anchor=%22middle%22 font-family=%22Verdana%22 font-size=%227.5%22 fill=%22rgb(25%25, 25%25, 25%25)%22 >20</text>\n",
       "<line x1=%22264.6966991411009%22 y1=%22427.81290452053764%22 x2=%22261.16116523516814%22 y2=%22431.3484384264704%22 stroke=%22rgb(25%25, 25%25, 25%25)%22 stroke-width=%221.0%22 />\n",
       "<text x=%22255.85786437626905%22 y=%22439.6517392853695%22 text-anchor=%22middle%22 font-family=%22Verdana%22 font-size=%227.5%22 fill=%22rgb(25%25, 25%25, 25%25)%22 >30</text>\n",
       "<line x1=%22236.57877005328925%22 y1=%22236.39169255610204%22 x2=%22231.88387374868046%22 y2=%22238.1115613560315%22 stroke=%22rgb(25%25, 25%25, 25%25)%22 stroke-width=%221.0%22 />\n",
       "<text x=%22224.8415292917673%22 y=%22243.69136455592573%22 text-anchor=%22middle%22 font-family=%22Verdana%22 font-size=%227.5%22 fill=%22rgb(25%25, 25%25, 25%25)%22 >40</text>\n",
       "<line x1=%22206.3221259410595%22 y1=%2285.83506218665309%22 x2=%22201.3221259410595%22 y2=%2285.83506218665309%22 stroke=%22rgb(25%25, 25%25, 25%25)%22 stroke-width=%221.0%22 />\n",
       "<text x=%22193.8221259410595%22 y=%2288.83506218665309%22 text-anchor=%22middle%22 font-family=%22Verdana%22 font-size=%227.5%22 fill=%22rgb(25%25, 25%25, 25%25)%22 >50</text>\n",
       "<line x1=%22253.64022264320693%22 y1=%2267.47684800033869%22 x2=%22258.5189537779719%22 y2=%2268.57137187612909%22 stroke=%22rgb(25%25, 25%25, 25%25)%22 stroke-width=%221.0%22 />\n",
       "<text x=%22265.8370504801193%22 y=%2273.21315768981464%22 text-anchor=%22middle%22 font-family=%22Verdana%22 font-size=%227.5%22 fill=%22rgb(25%25, 25%25, 25%25)%22 >60</text>\n",
       "<line x1=%22365.36775127652373%22 y1=%2270.83839204146511%22 x2=%22363.5171521100221%22 y2=%2266.19347194258899%22 stroke=%22rgb(25%25, 25%25, 25%25)%22 stroke-width=%221.0%22 />\n",
       "<text x=%22360.74125336026964%22 y=%2262.226091794274794%22 text-anchor=%22middle%22 font-family=%22Verdana%22 font-size=%227.5%22 fill=%22rgb(25%25, 25%25, 25%25)%22 >70</text>\n",
       "<line x1=%22336.48114191483046%22 y1=%22147.34681912180923%22 x2=%22337.69906952335356%22 y2=%22152.1962162328321%22 stroke=%22rgb(25%25, 25%25, 25%25)%22 stroke-width=%221.0%22 />\n",
       "<text x=%22339.5259609361381%22 y=%22162.4703118993665%22 text-anchor=%22middle%22 font-family=%22Verdana%22 font-size=%227.5%22 fill=%22rgb(25%25, 25%25, 25%25)%22 >80</text>\n",
       "<line x1=%22301.5654162429453%22 y1=%22275.78421087611724%22 x2=%22306.09144967870003%22 y2=%22273.65935291888104%22 stroke=%22rgb(25%25, 25%25, 25%25)%22 stroke-width=%221.0%22 />\n",
       "<text x=%22312.8804998323322%22 y=%22273.4720659830268%22 text-anchor=%22middle%22 font-family=%22Verdana%22 font-size=%227.5%22 fill=%22rgb(25%25, 25%25, 25%25)%22 >90</text>\n",
       "<line x1=%22337.5%22 y1=%22430.00960366163855%22 x2=%22337.5%22 y2=%22435.00960366163855%22 stroke=%22rgb(25%25, 25%25, 25%25)%22 stroke-width=%221.0%22 />\n",
       "<text x=%22337.5%22 y=%22445.50960366163855%22 text-anchor=%22middle%22 font-family=%22Verdana%22 font-size=%227.5%22 fill=%22rgb(25%25, 25%25, 25%25)%22 >100</text>\n",
       "<line x1=%22512.5%22 y1=%22430.00960366163855%22 x2=%22512.5%22 y2=%22435.00960366163855%22 stroke=%22rgb(25%25, 25%25, 25%25)%22 stroke-width=%221.0%22 />\n",
       "<text x=%22512.5%22 y=%22445.50960366163855%22 text-anchor=%22middle%22 font-family=%22Verdana%22 font-size=%227.5%22 fill=%22rgb(25%25, 25%25, 25%25)%22 >110</text>\n",
       "<line x1=%22670.0%22 y1=%22430.00960366163855%22 x2=%22670.0%22 y2=%22435.00960366163855%22 stroke=%22rgb(25%25, 25%25, 25%25)%22 stroke-width=%221.0%22 />\n",
       "<text x=%22670.0%22 y=%22445.50960366163855%22 text-anchor=%22middle%22 font-family=%22Verdana%22 font-size=%227.5%22 fill=%22rgb(25%25, 25%25, 25%25)%22 >119</text>\n",
       "</svg>\n",
       "\">"
      ],
      "text/plain": [
       "JupyterSvgImage(svg='<?xml version=\"1.0\" encoding=\"UTF-8\"?>\\n<!DOCTYPE svg PUBLIC \"-//W3C//DTD SVG 1.1//EN\" \\n\"http://www.w3.org/Graphics/SVG/1.1/DTD/svg11.dtd\">\\n\\n<svg width=\"600px\" height=\"387px\" version=\"1.1\" viewBox=\"0 0 700 500\" \\nxmlns=\"http://www.w3.org/2000/svg\">\\n<line x1=\"15.0\" y1=\"422.5096036616385\" x2=\"22.5\" y2=\"422.5096036616385\" stroke=\"rgb(35%, 35%, 35%)\" stroke-width=\"1.0\" />\\n<line x1=\"32.5\" y1=\"422.5096036616385\" x2=\"40.0\" y2=\"422.5096036616385\" stroke=\"rgb(35%, 35%, 35%)\" stroke-width=\"1.0\" />\\n<line x1=\"50.0\" y1=\"422.5096036616385\" x2=\"57.5\" y2=\"422.5096036616385\" stroke=\"rgb(35%, 35%, 35%)\" stroke-width=\"1.0\" />\\n<line x1=\"67.5\" y1=\"422.5096036616385\" x2=\"75.0\" y2=\"422.5096036616385\" stroke=\"rgb(35%, 35%, 35%)\" stroke-width=\"1.0\" />\\n<line x1=\"85.0\" y1=\"422.5096036616385\" x2=\"92.5\" y2=\"422.5096036616385\" stroke=\"rgb(35%, 35%, 35%)\" stroke-width=\"1.0\" />\\n<line x1=\"102.5\" y1=\"422.5096036616385\" x2=\"110.0\" y2=\"422.5096036616385\" stroke=\"rgb(35%, 35%, 35%)\" stroke-width=\"1.0\" />\\n<line x1=\"120.0\" y1=\"422.5096036616385\" x2=\"127.5\" y2=\"422.5096036616385\" stroke=\"rgb(35%, 35%, 35%)\" stroke-width=\"1.0\" />\\n<line x1=\"137.5\" y1=\"422.5096036616385\" x2=\"145.0\" y2=\"422.5096036616385\" stroke=\"rgb(35%, 35%, 35%)\" stroke-width=\"1.0\" />\\n<line x1=\"150.0\" y1=\"417.5096036616385\" x2=\"150.0\" y2=\"407.5096036616385\" stroke=\"rgb(35%, 35%, 35%)\" stroke-width=\"1.0\" />\\n<line x1=\"150.0\" y1=\"397.5096036616385\" x2=\"150.0\" y2=\"387.50960366163855\" stroke=\"rgb(35%, 35%, 35%)\" stroke-width=\"1.0\" />\\n<line x1=\"150.0\" y1=\"377.50960366163855\" x2=\"150.0\" y2=\"367.50960366163855\" stroke=\"rgb(35%, 35%, 35%)\" stroke-width=\"1.0\" />\\n<line x1=\"150.0\" y1=\"357.50960366163855\" x2=\"150.0\" y2=\"347.50960366163855\" stroke=\"rgb(35%, 35%, 35%)\" stroke-width=\"1.0\" />\\n<line x1=\"150.0\" y1=\"337.50960366163855\" x2=\"150.0\" y2=\"327.50960366163855\" stroke=\"rgb(35%, 35%, 35%)\" stroke-width=\"1.0\" />\\n<line x1=\"148.10052547530273\" y1=\"317.88445539049894\" x2=\"145.25130491987935\" y2=\"310.9467116331235\" stroke=\"rgb(35%, 35%, 35%)\" stroke-width=\"1.0\" />\\n<line x1=\"145.27360479081668\" y1=\"301.7056362425112\" x2=\"148.15627525558693\" y2=\"294.78172425520324\" stroke=\"rgb(35%, 35%, 35%)\" stroke-width=\"1.0\" />\\n<line x1=\"154.69860079960264\" y1=\"288.2551671126246\" x2=\"161.6294488516189\" y2=\"285.389213258092\" stroke=\"rgb(35%, 35%, 35%)\" stroke-width=\"1.0\" />\\n<line x1=\"170.8705511483811\" y1=\"285.389213258092\" x2=\"177.80139920039738\" y2=\"288.2551671126246\" stroke=\"rgb(35%, 35%, 35%)\" stroke-width=\"1.0\" />\\n<line x1=\"184.34372474441307\" y1=\"294.78172425520324\" x2=\"187.22639520918335\" y2=\"301.7056362425112\" stroke=\"rgb(35%, 35%, 35%)\" stroke-width=\"1.0\" />\\n<line x1=\"187.24869508012065\" y1=\"310.9467116331235\" x2=\"184.39947452469727\" y2=\"317.88445539049894\" stroke=\"rgb(35%, 35%, 35%)\" stroke-width=\"1.0\" />\\n<line x1=\"182.5\" y1=\"327.50960366163855\" x2=\"182.5\" y2=\"337.50960366163855\" stroke=\"rgb(35%, 35%, 35%)\" stroke-width=\"1.0\" />\\n<line x1=\"182.5\" y1=\"347.50960366163855\" x2=\"182.5\" y2=\"357.50960366163855\" stroke=\"rgb(35%, 35%, 35%)\" stroke-width=\"1.0\" />\\n<line x1=\"182.5\" y1=\"367.50960366163855\" x2=\"182.5\" y2=\"377.50960366163855\" stroke=\"rgb(35%, 35%, 35%)\" stroke-width=\"1.0\" />\\n<line x1=\"182.5\" y1=\"387.50960366163855\" x2=\"182.5\" y2=\"397.5096036616385\" stroke=\"rgb(35%, 35%, 35%)\" stroke-width=\"1.0\" />\\n<line x1=\"182.5\" y1=\"407.5096036616385\" x2=\"182.5\" y2=\"417.5096036616385\" stroke=\"rgb(35%, 35%, 35%)\" stroke-width=\"1.0\" />\\n<line x1=\"187.5\" y1=\"422.5096036616385\" x2=\"195.0\" y2=\"422.5096036616385\" stroke=\"rgb(35%, 35%, 35%)\" stroke-width=\"1.0\" />\\n<line x1=\"205.0\" y1=\"422.5096036616385\" x2=\"212.5\" y2=\"422.5096036616385\" stroke=\"rgb(35%, 35%, 35%)\" stroke-width=\"1.0\" />\\n<line x1=\"222.5\" y1=\"422.5096036616385\" x2=\"230.0\" y2=\"422.5096036616385\" stroke=\"rgb(35%, 35%, 35%)\" stroke-width=\"1.0\" />\\n<line x1=\"240.0\" y1=\"422.50960366163855\" x2=\"247.5\" y2=\"422.50960366163855\" stroke=\"rgb(35%, 35%, 35%)\" stroke-width=\"1.0\" />\\n<line x1=\"257.5\" y1=\"422.50960366163855\" x2=\"265.0\" y2=\"422.50960366163855\" stroke=\"rgb(35%, 35%, 35%)\" stroke-width=\"1.0\" />\\n<line x1=\"270.0\" y1=\"417.50960366163855\" x2=\"270.0\" y2=\"407.50960366163855\" stroke=\"rgb(35%, 35%, 35%)\" stroke-width=\"1.0\" />\\n<line x1=\"270.0\" y1=\"397.50960366163855\" x2=\"270.0\" y2=\"387.50960366163855\" stroke=\"rgb(35%, 35%, 35%)\" stroke-width=\"1.0\" />\\n<line x1=\"270.0\" y1=\"377.50960366163855\" x2=\"270.0\" y2=\"367.50960366163855\" stroke=\"rgb(35%, 35%, 35%)\" stroke-width=\"1.0\" />\\n<line x1=\"270.0\" y1=\"357.50960366163855\" x2=\"270.0\" y2=\"347.50960366163855\" stroke=\"rgb(35%, 35%, 35%)\" stroke-width=\"1.0\" />\\n<line x1=\"270.0\" y1=\"337.50960366163855\" x2=\"270.0\" y2=\"327.50960366163855\" stroke=\"rgb(35%, 35%, 35%)\" stroke-width=\"1.0\" />\\n<line x1=\"267.48652357861585\" y1=\"318.18728526994806\" x2=\"263.71634595915117\" y2=\"311.7038713314248\" stroke=\"rgb(35%, 35%, 35%)\" stroke-width=\"1.0\" />\\n<line x1=\"262.07620766121664\" y1=\"302.4584156755369\" x2=\"263.38620198590644\" y2=\"295.0737822757105\" stroke=\"rgb(35%, 35%, 35%)\" stroke-width=\"1.0\" />\\n<line x1=\"262.5396713094266\" y1=\"285.45574870690433\" x2=\"259.09993370956767\" y2=\"276.0659560976868\" stroke=\"rgb(35%, 35%, 35%)\" stroke-width=\"1.0\" />\\n<line x1=\"255.6601961097087\" y1=\"266.67616348846923\" x2=\"252.22045850984978\" y2=\"257.2863708792517\" stroke=\"rgb(35%, 35%, 35%)\" stroke-width=\"1.0\" />\\n<line x1=\"248.7807209099908\" y1=\"247.89657827003413\" x2=\"245.3409833101319\" y2=\"238.5067856608166\" stroke=\"rgb(35%, 35%, 35%)\" stroke-width=\"1.0\" />\\n<line x1=\"241.90124571027292\" y1=\"229.11699305159902\" x2=\"238.461508110414\" y2=\"219.7272004423815\" stroke=\"rgb(35%, 35%, 35%)\" stroke-width=\"1.0\" />\\n<line x1=\"235.02177051055503\" y1=\"210.33740783316392\" x2=\"231.5820329106961\" y2=\"200.9476152239464\" stroke=\"rgb(35%, 35%, 35%)\" stroke-width=\"1.0\" />\\n<line x1=\"224.96500866300312\" y1=\"195.2438242169825\" x2=\"216.71596123618158\" y2=\"193.54438454487706\" stroke=\"rgb(35%, 35%, 35%)\" stroke-width=\"1.0\" />\\n<line x1=\"207.69360695922128\" y1=\"189.71011648319518\" x2=\"200.74488720750216\" y2=\"184.95089675080783\" stroke=\"rgb(35%, 35%, 35%)\" stroke-width=\"1.0\" />\\n<line x1=\"193.90923658514413\" y1=\"177.9239223779448\" x2=\"189.34359728118622\" y2=\"170.84650643741736\" stroke=\"rgb(35%, 35%, 35%)\" stroke-width=\"1.0\" />\\n<line x1=\"185.75978460129025\" y1=\"161.72177219782253\" x2=\"184.2886458040328\" y2=\"153.4289663223493\" stroke=\"rgb(35%, 35%, 35%)\" stroke-width=\"1.0\" />\\n<line x1=\"184.51510244021804\" y1=\"143.6282925873582\" x2=\"186.36769768743642\" y2=\"135.4122856801642\" stroke=\"rgb(35%, 35%, 35%)\" stroke-width=\"1.0\" />\\n<line x1=\"190.3691370603793\" y1=\"126.46281803049476\" x2=\"195.25679409125257\" y2=\"119.60383214352623\" stroke=\"rgb(35%, 35%, 35%)\" stroke-width=\"1.0\" />\\n<line x1=\"202.40971004003646\" y1=\"112.90008082822146\" x2=\"209.57083184229853\" y2=\"108.46688636122099\" stroke=\"rgb(35%, 35%, 35%)\" stroke-width=\"1.0\" />\\n<line x1=\"213.8221259410595\" y1=\"100.83506218665309\" x2=\"213.8221259410595\" y2=\"90.83506218665309\" stroke=\"rgb(35%, 35%, 35%)\" stroke-width=\"1.0\" />\\n<line x1=\"213.8221259410595\" y1=\"80.83506218665309\" x2=\"213.8221259410595\" y2=\"70.83506218665309\" stroke=\"rgb(35%, 35%, 35%)\" stroke-width=\"1.0\" />\\n<line x1=\"210.4921092588697\" y1=\"62.10531837556664\" x2=\"205.49707454896563\" y2=\"56.510691809559376\" stroke=\"rgb(35%, 35%, 35%)\" stroke-width=\"1.0\" />\\n<line x1=\"201.40044632783767\" y1=\"47.84006682722759\" x2=\"200.25052678944937\" y2=\"40.42873069792847\" stroke=\"rgb(35%, 35%, 35%)\" stroke-width=\"1.0\" />\\n<line x1=\"201.5271867191432\" y1=\"30.92440327352375\" x2=\"204.5920998657229\" y2=\"24.07922061926655\" stroke=\"rgb(35%, 35%, 35%)\" stroke-width=\"1.0\" />\\n<line x1=\"210.8315813709927\" y1=\"16.79698394968665\" x2=\"217.12590863222138\" y2=\"12.718790416420518\" stroke=\"rgb(35%, 35%, 35%)\" stroke-width=\"1.0\" />\\n<line x1=\"226.3221186688592\" y1=\"10.0\" x2=\"233.8221332132598\" y2=\"10.0\" stroke=\"rgb(35%, 35%, 35%)\" stroke-width=\"1.0\" />\\n<line x1=\"243.0183432498976\" y1=\"12.718790416420518\" x2=\"249.31267051112633\" y2=\"16.79698394968665\" stroke=\"rgb(35%, 35%, 35%)\" stroke-width=\"1.0\" />\\n<line x1=\"255.55215201639612\" y1=\"24.07922061926655\" x2=\"258.61706516297585\" y2=\"30.92440327352375\" stroke=\"rgb(35%, 35%, 35%)\" stroke-width=\"1.0\" />\\n<line x1=\"259.8937250926697\" y1=\"40.42873069792847\" x2=\"258.7438055542814\" y2=\"47.84006682722759\" stroke=\"rgb(35%, 35%, 35%)\" stroke-width=\"1.0\" />\\n<line x1=\"254.64717733315342\" y1=\"56.510691809559376\" x2=\"249.65214262324935\" y2=\"62.10531837556664\" stroke=\"rgb(35%, 35%, 35%)\" stroke-width=\"1.0\" />\\n<line x1=\"246.32212594105954\" y1=\"70.83506218665309\" x2=\"246.32212594105954\" y2=\"80.83506218665309\" stroke=\"rgb(35%, 35%, 35%)\" stroke-width=\"1.0\" />\\n<line x1=\"246.32212594105954\" y1=\"90.83506218665309\" x2=\"246.32212594105954\" y2=\"100.83506218665309\" stroke=\"rgb(35%, 35%, 35%)\" stroke-width=\"1.0\" />\\n<line x1=\"250.6882722806979\" y1=\"108.27161018348437\" x2=\"254.40692173183106\" y2=\"110.34681957095239\" stroke=\"rgb(35%, 35%, 35%)\" stroke-width=\"1.0\" />\\n<line x1=\"262.1997558687894\" y1=\"116.42449524196627\" x2=\"265.1182679170511\" y2=\"119.52564586172002\" stroke=\"rgb(35%, 35%, 35%)\" stroke-width=\"1.0\" />\\n<line x1=\"273.394352825394\" y1=\"121.94884592737958\" x2=\"283.09314704743986\" y2=\"119.5129907103335\" stroke=\"rgb(35%, 35%, 35%)\" stroke-width=\"1.0\" />\\n<line x1=\"292.7919412694856\" y1=\"117.07713549328741\" x2=\"302.4907354915315\" y2=\"114.64128027624122\" stroke=\"rgb(35%, 35%, 35%)\" stroke-width=\"1.0\" />\\n<line x1=\"312.18952971357726\" y1=\"112.20542505919514\" x2=\"321.88832393562313\" y2=\"109.76956984214905\" stroke=\"rgb(35%, 35%, 35%)\" stroke-width=\"1.0\" />\\n<line x1=\"331.5871181576689\" y1=\"107.33371462510297\" x2=\"341.2859123797148\" y2=\"104.89785940805677\" stroke=\"rgb(35%, 35%, 35%)\" stroke-width=\"1.0\" />\\n<line x1=\"348.3614406179113\" y1=\"99.20284120355194\" x2=\"351.70062602165103\" y2=\"92.48722800950628\" stroke=\"rgb(35%, 35%, 35%)\" stroke-width=\"1.0\" />\\n<line x1=\"357.98873242672295\" y1=\"85.09460026889008\" x2=\"364.0816747483779\" y2=\"80.72130933441372\" stroke=\"rgb(35%, 35%, 35%)\" stroke-width=\"1.0\" />\\n<line x1=\"373.09766577389644\" y1=\"77.1292162258481\" x2=\"380.52866427727434\" y2=\"76.11438571025298\" stroke=\"rgb(35%, 35%, 35%)\" stroke-width=\"1.0\" />\\n<line x1=\"390.17766614001573\" y1=\"77.1574533617736\" x2=\"397.2201215079876\" y2=\"79.73688006604573\" stroke=\"rgb(35%, 35%, 35%)\" stroke-width=\"1.0\" />\\n<line x1=\"405.2601797761736\" y1=\"85.17275075223847\" x2=\"410.27777104544964\" y2=\"90.74710251608246\" stroke=\"rgb(35%, 35%, 35%)\" stroke-width=\"1.0\" />\\n<line x1=\"414.84077080703753\" y1=\"99.31274669784625\" x2=\"416.667656044636\" y2=\"106.58681777676986\" stroke=\"rgb(35%, 35%, 35%)\" stroke-width=\"1.0\" />\\n<line x1=\"416.6933801203549\" y1=\"116.29200017303441\" x2=\"414.9050808659076\" y2=\"123.5756534808965\" stroke=\"rgb(35%, 35%, 35%)\" stroke-width=\"1.0\" />\\n<line x1=\"410.3875522431731\" y1=\"132.1653660613971\" x2=\"405.3995814684763\" y2=\"137.76623807237513\" stroke=\"rgb(35%, 35%, 35%)\" stroke-width=\"1.0\" />\\n<line x1=\"397.38845206574564\" y1=\"143.24465324152214\" x2=\"390.3597693547012\" y2=\"145.86137620738083\" stroke=\"rgb(35%, 35%, 35%)\" stroke-width=\"1.0\" />\\n<line x1=\"380.7164324355983\" y1=\"146.9555791764418\" x2=\"373.28015866202804\" y2=\"145.98015511630217\" stroke=\"rgb(35%, 35%, 35%)\" stroke-width=\"1.0\" />\\n<line x1=\"364.24525240348146\" y1=\"142.4359068219369\" x2=\"358.12921259838146\" y2=\"138.09497641072073\" stroke=\"rgb(35%, 35%, 35%)\" stroke-width=\"1.0\" />\\n<line x1=\"349.20244183511466\" y1=\"136.41894062970562\" x2=\"339.5036476130688\" y2=\"138.8547958467518\" stroke=\"rgb(35%, 35%, 35%)\" stroke-width=\"1.0\" />\\n<line x1=\"329.804853391023\" y1=\"141.2906510637979\" x2=\"320.10605916897714\" y2=\"143.72650628084398\" stroke=\"rgb(35%, 35%, 35%)\" stroke-width=\"1.0\" />\\n<line x1=\"310.4072649469314\" y1=\"146.16236149789006\" x2=\"300.7084707248855\" y2=\"148.59821671493626\" stroke=\"rgb(35%, 35%, 35%)\" stroke-width=\"1.0\" />\\n<line x1=\"291.00967650283974\" y1=\"151.03407193198234\" x2=\"281.31088228079386\" y2=\"153.46992714902842\" stroke=\"rgb(35%, 35%, 35%)\" stroke-width=\"1.0\" />\\n<line x1=\"274.99253617837616\" y1=\"159.46720501262593\" x2=\"272.78911269128395\" y2=\"166.63623039523765\" stroke=\"rgb(35%, 35%, 35%)\" stroke-width=\"1.0\" />\\n<line x1=\"268.1941140972704\" y1=\"175.3178638130218\" x2=\"263.5050396933424\" y2=\"181.1712885570863\" stroke=\"rgb(35%, 35%, 35%)\" stroke-width=\"1.0\" />\\n<line x1=\"262.09885889065316\" y1=\"189.7684680244048\" x2=\"265.5385964905121\" y2=\"199.15826063362232\" stroke=\"rgb(35%, 35%, 35%)\" stroke-width=\"1.0\" />\\n<line x1=\"268.97833409037105\" y1=\"208.5480532428399\" x2=\"272.41807169022997\" y2=\"217.93784585205742\" stroke=\"rgb(35%, 35%, 35%)\" stroke-width=\"1.0\" />\\n<line x1=\"275.85780929008894\" y1=\"227.327638461275\" x2=\"279.29754688994785\" y2=\"236.71743107049252\" stroke=\"rgb(35%, 35%, 35%)\" stroke-width=\"1.0\" />\\n<line x1=\"282.7372844898068\" y1=\"246.1072236797101\" x2=\"286.17702208966574\" y2=\"255.49701628892763\" stroke=\"rgb(35%, 35%, 35%)\" stroke-width=\"1.0\" />\\n<line x1=\"289.6167596895247\" y1=\"264.8868088981452\" x2=\"293.0564972893836\" y2=\"274.2766015073627\" stroke=\"rgb(35%, 35%, 35%)\" stroke-width=\"1.0\" />\\n<line x1=\"298.6232275081149\" y1=\"282.1655011345331\" x2=\"304.39351963631754\" y2=\"286.95650611837544\" stroke=\"rgb(35%, 35%, 35%)\" stroke-width=\"1.0\" />\\n<line x1=\"309.113741941854\" y1=\"295.0736426669956\" x2=\"310.42378327195615\" y2=\"302.45834250608345\" stroke=\"rgb(35%, 35%, 35%)\" stroke-width=\"1.0\" />\\n<line x1=\"308.7836743990649\" y1=\"311.7037979977125\" x2=\"305.01346975962593\" y2=\"318.1872813960681\" stroke=\"rgb(35%, 35%, 35%)\" stroke-width=\"1.0\" />\\n<line x1=\"302.5\" y1=\"327.50960366163855\" x2=\"302.5\" y2=\"337.50960366163855\" stroke=\"rgb(35%, 35%, 35%)\" stroke-width=\"1.0\" />\\n<line x1=\"302.5\" y1=\"347.50960366163855\" x2=\"302.5\" y2=\"357.50960366163855\" stroke=\"rgb(35%, 35%, 35%)\" stroke-width=\"1.0\" />\\n<line x1=\"302.5\" y1=\"367.50960366163855\" x2=\"302.5\" y2=\"377.50960366163855\" stroke=\"rgb(35%, 35%, 35%)\" stroke-width=\"1.0\" />\\n<line x1=\"302.5\" y1=\"387.50960366163855\" x2=\"302.5\" y2=\"397.50960366163855\" stroke=\"rgb(35%, 35%, 35%)\" stroke-width=\"1.0\" />\\n<line x1=\"302.5\" y1=\"407.50960366163855\" x2=\"302.5\" y2=\"417.50960366163855\" stroke=\"rgb(35%, 35%, 35%)\" stroke-width=\"1.0\" />\\n<line x1=\"307.5\" y1=\"422.50960366163855\" x2=\"315.0\" y2=\"422.50960366163855\" stroke=\"rgb(35%, 35%, 35%)\" stroke-width=\"1.0\" />\\n<line x1=\"325.0\" y1=\"422.50960366163855\" x2=\"332.5\" y2=\"422.50960366163855\" stroke=\"rgb(35%, 35%, 35%)\" stroke-width=\"1.0\" />\\n<line x1=\"342.5\" y1=\"422.50960366163855\" x2=\"350.0\" y2=\"422.50960366163855\" stroke=\"rgb(35%, 35%, 35%)\" stroke-width=\"1.0\" />\\n<line x1=\"360.0\" y1=\"422.50960366163855\" x2=\"367.5\" y2=\"422.50960366163855\" stroke=\"rgb(35%, 35%, 35%)\" stroke-width=\"1.0\" />\\n<line x1=\"377.5\" y1=\"422.50960366163855\" x2=\"385.0\" y2=\"422.50960366163855\" stroke=\"rgb(35%, 35%, 35%)\" stroke-width=\"1.0\" />\\n<line x1=\"395.0\" y1=\"422.50960366163855\" x2=\"402.5\" y2=\"422.50960366163855\" stroke=\"rgb(35%, 35%, 35%)\" stroke-width=\"1.0\" />\\n<line x1=\"412.5\" y1=\"422.50960366163855\" x2=\"420.0\" y2=\"422.50960366163855\" stroke=\"rgb(35%, 35%, 35%)\" stroke-width=\"1.0\" />\\n<line x1=\"430.0\" y1=\"422.50960366163855\" x2=\"437.5\" y2=\"422.50960366163855\" stroke=\"rgb(35%, 35%, 35%)\" stroke-width=\"1.0\" />\\n<line x1=\"447.5\" y1=\"422.50960366163855\" x2=\"455.0\" y2=\"422.50960366163855\" stroke=\"rgb(35%, 35%, 35%)\" stroke-width=\"1.0\" />\\n<line x1=\"465.0\" y1=\"422.50960366163855\" x2=\"472.5\" y2=\"422.50960366163855\" stroke=\"rgb(35%, 35%, 35%)\" stroke-width=\"1.0\" />\\n<line x1=\"482.5\" y1=\"422.50960366163855\" x2=\"490.0\" y2=\"422.50960366163855\" stroke=\"rgb(35%, 35%, 35%)\" stroke-width=\"1.0\" />\\n<line x1=\"500.0\" y1=\"422.50960366163855\" x2=\"507.5\" y2=\"422.50960366163855\" stroke=\"rgb(35%, 35%, 35%)\" stroke-width=\"1.0\" />\\n<line x1=\"517.5\" y1=\"422.50960366163855\" x2=\"525.0\" y2=\"422.50960366163855\" stroke=\"rgb(35%, 35%, 35%)\" stroke-width=\"1.0\" />\\n<line x1=\"535.0\" y1=\"422.50960366163855\" x2=\"542.5\" y2=\"422.50960366163855\" stroke=\"rgb(35%, 35%, 35%)\" stroke-width=\"1.0\" />\\n<line x1=\"552.5\" y1=\"422.50960366163855\" x2=\"560.0\" y2=\"422.50960366163855\" stroke=\"rgb(35%, 35%, 35%)\" stroke-width=\"1.0\" />\\n<line x1=\"570.0\" y1=\"422.50960366163855\" x2=\"577.5\" y2=\"422.50960366163855\" stroke=\"rgb(35%, 35%, 35%)\" stroke-width=\"1.0\" />\\n<line x1=\"587.5\" y1=\"422.50960366163855\" x2=\"595.0\" y2=\"422.50960366163855\" stroke=\"rgb(35%, 35%, 35%)\" stroke-width=\"1.0\" />\\n<line x1=\"605.0\" y1=\"422.50960366163855\" x2=\"612.5\" y2=\"422.50960366163855\" stroke=\"rgb(35%, 35%, 35%)\" stroke-width=\"1.0\" />\\n<line x1=\"622.5\" y1=\"422.50960366163855\" x2=\"630.0\" y2=\"422.50960366163855\" stroke=\"rgb(35%, 35%, 35%)\" stroke-width=\"1.0\" />\\n<line x1=\"640.0\" y1=\"422.50960366163855\" x2=\"647.5\" y2=\"422.50960366163855\" stroke=\"rgb(35%, 35%, 35%)\" stroke-width=\"1.0\" />\\n<line x1=\"657.5\" y1=\"422.50960366163855\" x2=\"665.0\" y2=\"422.50960366163855\" stroke=\"rgb(35%, 35%, 35%)\" stroke-width=\"1.0\" />\\n<line x1=\"155.0\" y1=\"422.5096036616385\" x2=\"177.5\" y2=\"422.5096036616385\" stroke=\"rgb(0%, 39%, 0%)\" stroke-width=\"1.0\" />\\n<line x1=\"155.0\" y1=\"402.5096036616385\" x2=\"177.5\" y2=\"402.5096036616385\" stroke=\"rgb(0%, 39%, 0%)\" stroke-width=\"1.0\" />\\n<line x1=\"155.0\" y1=\"382.50960366163855\" x2=\"177.5\" y2=\"382.50960366163855\" stroke=\"rgb(0%, 39%, 0%)\" stroke-width=\"1.0\" />\\n<line x1=\"155.0\" y1=\"362.50960366163855\" x2=\"177.5\" y2=\"362.50960366163855\" stroke=\"rgb(0%, 39%, 0%)\" stroke-width=\"1.0\" />\\n<line x1=\"155.0\" y1=\"342.50960366163855\" x2=\"177.5\" y2=\"342.50960366163855\" stroke=\"rgb(0%, 39%, 0%)\" stroke-width=\"1.0\" />\\n<line x1=\"155.0\" y1=\"322.50960366163855\" x2=\"177.5\" y2=\"322.50960366163855\" stroke=\"rgb(0%, 39%, 0%)\" stroke-width=\"1.0\" />\\n<line x1=\"275.0\" y1=\"422.50960366163855\" x2=\"297.5\" y2=\"422.50960366163855\" stroke=\"rgb(0%, 39%, 0%)\" stroke-width=\"1.0\" />\\n<line x1=\"275.0\" y1=\"402.50960366163855\" x2=\"297.5\" y2=\"402.50960366163855\" stroke=\"rgb(0%, 39%, 0%)\" stroke-width=\"1.0\" />\\n<line x1=\"275.0\" y1=\"382.50960366163855\" x2=\"297.5\" y2=\"382.50960366163855\" stroke=\"rgb(0%, 39%, 0%)\" stroke-width=\"1.0\" />\\n<line x1=\"275.0\" y1=\"362.50960366163855\" x2=\"297.5\" y2=\"362.50960366163855\" stroke=\"rgb(0%, 39%, 0%)\" stroke-width=\"1.0\" />\\n<line x1=\"275.0\" y1=\"342.50960366163855\" x2=\"297.5\" y2=\"342.50960366163855\" stroke=\"rgb(0%, 39%, 0%)\" stroke-width=\"1.0\" />\\n<line x1=\"275.0\" y1=\"322.50960366163855\" x2=\"297.5\" y2=\"322.50960366163855\" stroke=\"rgb(0%, 39%, 0%)\" stroke-width=\"1.0\" />\\n<line x1=\"268.95443641396486\" y1=\"288.43077621158363\" x2=\"290.0814697847043\" y2=\"280.691366611901\" stroke=\"rgb(0%, 39%, 0%)\" stroke-width=\"1.0\" />\\n<line x1=\"262.07496121424697\" y1=\"269.65119099314853\" x2=\"283.20199458498644\" y2=\"261.9117813934659\" stroke=\"rgb(0%, 39%, 0%)\" stroke-width=\"1.0\" />\\n<line x1=\"255.19548601452908\" y1=\"250.87160577471343\" x2=\"276.32251938526855\" y2=\"243.1321961750308\" stroke=\"rgb(0%, 39%, 0%)\" stroke-width=\"1.0\" />\\n<line x1=\"248.3160108148112\" y1=\"232.09202055627833\" x2=\"269.44304418555066\" y2=\"224.3526109565957\" stroke=\"rgb(0%, 39%, 0%)\" stroke-width=\"1.0\" />\\n<line x1=\"241.4365356150933\" y1=\"213.31243533784323\" x2=\"262.5635689858328\" y2=\"205.5730257381606\" stroke=\"rgb(0%, 39%, 0%)\" stroke-width=\"1.0\" />\\n<line x1=\"234.55706041537542\" y1=\"194.53285011940812\" x2=\"255.6840937861149\" y2=\"186.7934405197255\" stroke=\"rgb(0%, 39%, 0%)\" stroke-width=\"1.0\" />\\n<line x1=\"218.8221259410595\" y1=\"105.83506218665309\" x2=\"241.32212594105954\" y2=\"105.83506218665309\" stroke=\"rgb(0%, 39%, 0%)\" stroke-width=\"1.0\" />\\n<line x1=\"218.8221259410595\" y1=\"85.83506218665309\" x2=\"241.32212594105954\" y2=\"85.83506218665309\" stroke=\"rgb(0%, 39%, 0%)\" stroke-width=\"1.0\" />\\n<line x1=\"218.8221259410595\" y1=\"65.83506218665309\" x2=\"241.32212594105954\" y2=\"65.83506218665309\" stroke=\"rgb(0%, 39%, 0%)\" stroke-width=\"1.0\" />\\n<line x1=\"269.76288332289414\" y1=\"128.0161706469255\" x2=\"275.24355756124794\" y2=\"149.83845764652858\" stroke=\"rgb(0%, 39%, 0%)\" stroke-width=\"1.0\" />\\n<line x1=\"289.1604717669858\" y1=\"123.14446021283334\" x2=\"294.6411460053396\" y2=\"144.96674721243642\" stroke=\"rgb(0%, 39%, 0%)\" stroke-width=\"1.0\" />\\n<line x1=\"308.5580602110774\" y1=\"118.27274977874106\" x2=\"314.0387344494312\" y2=\"140.09503677834414\" stroke=\"rgb(0%, 39%, 0%)\" stroke-width=\"1.0\" />\\n<line x1=\"327.95564865516906\" y1=\"113.4010393446489\" x2=\"333.43632289352286\" y2=\"135.22332634425197\" stroke=\"rgb(0%, 39%, 0%)\" stroke-width=\"1.0\" />\\n<line x1=\"347.3532370992607\" y1=\"108.52932891055661\" x2=\"352.8339113376145\" y2=\"130.3516159101597\" stroke=\"rgb(0%, 39%, 0%)\" stroke-width=\"1.0\" />\\n<circle cx=\"10.0\" cy=\"422.5096036616385\" r=\"5.0\" stroke=\"none\" stroke-width=\"1.0\" fill=\"rgb(0%, 0%, 100%)\"/>\\n<circle cx=\"10.0\" cy=\"422.5096036616385\" r=\"5.0\" stroke=\"rgb(35%, 35%, 35%)\" stroke-width=\"1.0\" fill=\"none\"/>\\n<text x=\"10.0\" y=\"425.5096036616385\" text-anchor=\"middle\" font-family=\"Verdana\" font-size=\"7.5\" fill=\"rgb(100%, 100%, 100%)\" >G</text>\\n<circle cx=\"27.5\" cy=\"422.5096036616385\" r=\"5.0\" stroke=\"none\" stroke-width=\"1.0\" fill=\"rgb(0%, 0%, 100%)\"/>\\n<circle cx=\"27.5\" cy=\"422.5096036616385\" r=\"5.0\" stroke=\"rgb(35%, 35%, 35%)\" stroke-width=\"1.0\" fill=\"none\"/>\\n<text x=\"27.5\" y=\"425.5096036616385\" text-anchor=\"middle\" font-family=\"Verdana\" font-size=\"7.5\" fill=\"rgb(100%, 100%, 100%)\" >C</text>\\n<circle cx=\"45.0\" cy=\"422.5096036616385\" r=\"5.0\" stroke=\"none\" stroke-width=\"1.0\" fill=\"rgb(0%, 0%, 100%)\"/>\\n<circle cx=\"45.0\" cy=\"422.5096036616385\" r=\"5.0\" stroke=\"rgb(35%, 35%, 35%)\" stroke-width=\"1.0\" fill=\"none\"/>\\n<text x=\"45.0\" y=\"425.5096036616385\" text-anchor=\"middle\" font-family=\"Verdana\" font-size=\"7.5\" fill=\"rgb(100%, 100%, 100%)\" >U</text>\\n<circle cx=\"62.5\" cy=\"422.5096036616385\" r=\"5.0\" stroke=\"none\" stroke-width=\"1.0\" fill=\"rgb(0%, 0%, 100%)\"/>\\n<circle cx=\"62.5\" cy=\"422.5096036616385\" r=\"5.0\" stroke=\"rgb(35%, 35%, 35%)\" stroke-width=\"1.0\" fill=\"none\"/>\\n<text x=\"62.5\" y=\"425.5096036616385\" text-anchor=\"middle\" font-family=\"Verdana\" font-size=\"7.5\" fill=\"rgb(100%, 100%, 100%)\" >A</text>\\n<circle cx=\"80.0\" cy=\"422.5096036616385\" r=\"5.0\" stroke=\"none\" stroke-width=\"1.0\" fill=\"rgb(0%, 0%, 100%)\"/>\\n<circle cx=\"80.0\" cy=\"422.5096036616385\" r=\"5.0\" stroke=\"rgb(35%, 35%, 35%)\" stroke-width=\"1.0\" fill=\"none\"/>\\n<text x=\"80.0\" y=\"425.5096036616385\" text-anchor=\"middle\" font-family=\"Verdana\" font-size=\"7.5\" fill=\"rgb(100%, 100%, 100%)\" >A</text>\\n<circle cx=\"97.5\" cy=\"422.5096036616385\" r=\"5.0\" stroke=\"none\" stroke-width=\"1.0\" fill=\"rgb(0%, 0%, 100%)\"/>\\n<circle cx=\"97.5\" cy=\"422.5096036616385\" r=\"5.0\" stroke=\"rgb(35%, 35%, 35%)\" stroke-width=\"1.0\" fill=\"none\"/>\\n<text x=\"97.5\" y=\"425.5096036616385\" text-anchor=\"middle\" font-family=\"Verdana\" font-size=\"7.5\" fill=\"rgb(100%, 100%, 100%)\" >A</text>\\n<circle cx=\"115.0\" cy=\"422.5096036616385\" r=\"5.0\" stroke=\"none\" stroke-width=\"1.0\" fill=\"rgb(0%, 0%, 100%)\"/>\\n<circle cx=\"115.0\" cy=\"422.5096036616385\" r=\"5.0\" stroke=\"rgb(35%, 35%, 35%)\" stroke-width=\"1.0\" fill=\"none\"/>\\n<text x=\"115.0\" y=\"425.5096036616385\" text-anchor=\"middle\" font-family=\"Verdana\" font-size=\"7.5\" fill=\"rgb(100%, 100%, 100%)\" >G</text>\\n<circle cx=\"132.5\" cy=\"422.5096036616385\" r=\"5.0\" stroke=\"none\" stroke-width=\"1.0\" fill=\"rgb(0%, 0%, 100%)\"/>\\n<circle cx=\"132.5\" cy=\"422.5096036616385\" r=\"5.0\" stroke=\"rgb(35%, 35%, 35%)\" stroke-width=\"1.0\" fill=\"none\"/>\\n<text x=\"132.5\" y=\"425.5096036616385\" text-anchor=\"middle\" font-family=\"Verdana\" font-size=\"7.5\" fill=\"rgb(100%, 100%, 100%)\" >A</text>\\n<circle cx=\"150.0\" cy=\"422.5096036616385\" r=\"5.0\" stroke=\"none\" stroke-width=\"1.0\" fill=\"rgb(0%, 0%, 100%)\"/>\\n<circle cx=\"150.0\" cy=\"422.5096036616385\" r=\"5.0\" stroke=\"rgb(35%, 35%, 35%)\" stroke-width=\"1.0\" fill=\"none\"/>\\n<text x=\"150.0\" y=\"425.5096036616385\" text-anchor=\"middle\" font-family=\"Verdana\" font-size=\"7.5\" fill=\"rgb(100%, 100%, 100%)\" >G</text>\\n<circle cx=\"150.0\" cy=\"402.5096036616385\" r=\"5.0\" stroke=\"none\" stroke-width=\"1.0\" fill=\"rgb(0%, 0%, 100%)\"/>\\n<circle cx=\"150.0\" cy=\"402.5096036616385\" r=\"5.0\" stroke=\"rgb(35%, 35%, 35%)\" stroke-width=\"1.0\" fill=\"none\"/>\\n<text x=\"150.0\" y=\"405.5096036616385\" text-anchor=\"middle\" font-family=\"Verdana\" font-size=\"7.5\" fill=\"rgb(100%, 100%, 100%)\" >C</text>\\n<circle cx=\"150.0\" cy=\"382.50960366163855\" r=\"5.0\" stroke=\"none\" stroke-width=\"1.0\" fill=\"rgb(0%, 0%, 100%)\"/>\\n<circle cx=\"150.0\" cy=\"382.50960366163855\" r=\"5.0\" stroke=\"rgb(35%, 35%, 35%)\" stroke-width=\"1.0\" fill=\"none\"/>\\n<text x=\"150.0\" y=\"385.50960366163855\" text-anchor=\"middle\" font-family=\"Verdana\" font-size=\"7.5\" fill=\"rgb(100%, 100%, 100%)\" >U</text>\\n<circle cx=\"150.0\" cy=\"362.50960366163855\" r=\"5.0\" stroke=\"none\" stroke-width=\"1.0\" fill=\"rgb(0%, 0%, 100%)\"/>\\n<circle cx=\"150.0\" cy=\"362.50960366163855\" r=\"5.0\" stroke=\"rgb(35%, 35%, 35%)\" stroke-width=\"1.0\" fill=\"none\"/>\\n<text x=\"150.0\" y=\"365.50960366163855\" text-anchor=\"middle\" font-family=\"Verdana\" font-size=\"7.5\" fill=\"rgb(100%, 100%, 100%)\" >U</text>\\n<circle cx=\"150.0\" cy=\"342.50960366163855\" r=\"5.0\" stroke=\"none\" stroke-width=\"1.0\" fill=\"rgb(0%, 0%, 100%)\"/>\\n<circle cx=\"150.0\" cy=\"342.50960366163855\" r=\"5.0\" stroke=\"rgb(35%, 35%, 35%)\" stroke-width=\"1.0\" fill=\"none\"/>\\n<text x=\"150.0\" y=\"345.50960366163855\" text-anchor=\"middle\" font-family=\"Verdana\" font-size=\"7.5\" fill=\"rgb(100%, 100%, 100%)\" >G</text>\\n<circle cx=\"150.0\" cy=\"322.50960366163855\" r=\"5.0\" stroke=\"none\" stroke-width=\"1.0\" fill=\"rgb(0%, 0%, 100%)\"/>\\n<circle cx=\"150.0\" cy=\"322.50960366163855\" r=\"5.0\" stroke=\"rgb(35%, 35%, 35%)\" stroke-width=\"1.0\" fill=\"none\"/>\\n<text x=\"150.0\" y=\"325.50960366163855\" text-anchor=\"middle\" font-family=\"Verdana\" font-size=\"7.5\" fill=\"rgb(100%, 100%, 100%)\" >C</text>\\n<circle cx=\"143.35183039518208\" cy=\"306.3215633619839\" r=\"5.0\" stroke=\"none\" stroke-width=\"1.0\" fill=\"rgb(0%, 0%, 100%)\"/>\\n<circle cx=\"143.35183039518208\" cy=\"306.3215633619839\" r=\"5.0\" stroke=\"rgb(35%, 35%, 35%)\" stroke-width=\"1.0\" fill=\"none\"/>\\n<text x=\"143.35183039518208\" y=\"309.3215633619839\" text-anchor=\"middle\" font-family=\"Verdana\" font-size=\"7.5\" fill=\"rgb(100%, 100%, 100%)\" >G</text>\\n<circle cx=\"150.07804965122153\" cy=\"290.16579713573054\" r=\"5.0\" stroke=\"none\" stroke-width=\"1.0\" fill=\"rgb(0%, 0%, 100%)\"/>\\n<circle cx=\"150.07804965122153\" cy=\"290.16579713573054\" r=\"5.0\" stroke=\"rgb(35%, 35%, 35%)\" stroke-width=\"1.0\" fill=\"none\"/>\\n<text x=\"150.07804965122153\" y=\"293.16579713573054\" text-anchor=\"middle\" font-family=\"Verdana\" font-size=\"7.5\" fill=\"rgb(100%, 100%, 100%)\" >U</text>\\n<circle cx=\"166.25\" cy=\"283.47858323498605\" r=\"5.0\" stroke=\"none\" stroke-width=\"1.0\" fill=\"rgb(0%, 0%, 100%)\"/>\\n<circle cx=\"166.25\" cy=\"283.47858323498605\" r=\"5.0\" stroke=\"rgb(35%, 35%, 35%)\" stroke-width=\"1.0\" fill=\"none\"/>\\n<text x=\"166.25\" y=\"286.47858323498605\" text-anchor=\"middle\" font-family=\"Verdana\" font-size=\"7.5\" fill=\"rgb(100%, 100%, 100%)\" >A</text>\\n<circle cx=\"182.4219503487785\" cy=\"290.16579713573054\" r=\"5.0\" stroke=\"none\" stroke-width=\"1.0\" fill=\"rgb(0%, 0%, 100%)\"/>\\n<circle cx=\"182.4219503487785\" cy=\"290.16579713573054\" r=\"5.0\" stroke=\"rgb(35%, 35%, 35%)\" stroke-width=\"1.0\" fill=\"none\"/>\\n<text x=\"182.4219503487785\" y=\"293.16579713573054\" text-anchor=\"middle\" font-family=\"Verdana\" font-size=\"7.5\" fill=\"rgb(100%, 100%, 100%)\" >A</text>\\n<circle cx=\"189.14816960481792\" cy=\"306.3215633619839\" r=\"5.0\" stroke=\"none\" stroke-width=\"1.0\" fill=\"rgb(0%, 0%, 100%)\"/>\\n<circle cx=\"189.14816960481792\" cy=\"306.3215633619839\" r=\"5.0\" stroke=\"rgb(35%, 35%, 35%)\" stroke-width=\"1.0\" fill=\"none\"/>\\n<text x=\"189.14816960481792\" y=\"309.3215633619839\" text-anchor=\"middle\" font-family=\"Verdana\" font-size=\"7.5\" fill=\"rgb(100%, 100%, 100%)\" >A</text>\\n<circle cx=\"182.5\" cy=\"322.50960366163855\" r=\"5.0\" stroke=\"none\" stroke-width=\"1.0\" fill=\"rgb(0%, 0%, 100%)\"/>\\n<circle cx=\"182.5\" cy=\"322.50960366163855\" r=\"5.0\" stroke=\"rgb(35%, 35%, 35%)\" stroke-width=\"1.0\" fill=\"none\"/>\\n<text x=\"182.5\" y=\"325.50960366163855\" text-anchor=\"middle\" font-family=\"Verdana\" font-size=\"7.5\" fill=\"rgb(100%, 100%, 100%)\" >G</text>\\n<circle cx=\"182.5\" cy=\"342.50960366163855\" r=\"5.0\" stroke=\"none\" stroke-width=\"1.0\" fill=\"rgb(0%, 0%, 100%)\"/>\\n<circle cx=\"182.5\" cy=\"342.50960366163855\" r=\"5.0\" stroke=\"rgb(35%, 35%, 35%)\" stroke-width=\"1.0\" fill=\"none\"/>\\n<text x=\"182.5\" y=\"345.50960366163855\" text-anchor=\"middle\" font-family=\"Verdana\" font-size=\"7.5\" fill=\"rgb(100%, 100%, 100%)\" >C</text>\\n<circle cx=\"182.5\" cy=\"362.50960366163855\" r=\"5.0\" stroke=\"none\" stroke-width=\"1.0\" fill=\"rgb(0%, 0%, 100%)\"/>\\n<circle cx=\"182.5\" cy=\"362.50960366163855\" r=\"5.0\" stroke=\"rgb(35%, 35%, 35%)\" stroke-width=\"1.0\" fill=\"none\"/>\\n<text x=\"182.5\" y=\"365.50960366163855\" text-anchor=\"middle\" font-family=\"Verdana\" font-size=\"7.5\" fill=\"rgb(100%, 100%, 100%)\" >A</text>\\n<circle cx=\"182.5\" cy=\"382.50960366163855\" r=\"5.0\" stroke=\"none\" stroke-width=\"1.0\" fill=\"rgb(0%, 0%, 100%)\"/>\\n<circle cx=\"182.5\" cy=\"382.50960366163855\" r=\"5.0\" stroke=\"rgb(35%, 35%, 35%)\" stroke-width=\"1.0\" fill=\"none\"/>\\n<text x=\"182.5\" y=\"385.50960366163855\" text-anchor=\"middle\" font-family=\"Verdana\" font-size=\"7.5\" fill=\"rgb(100%, 100%, 100%)\" >A</text>\\n<circle cx=\"182.5\" cy=\"402.5096036616385\" r=\"5.0\" stroke=\"none\" stroke-width=\"1.0\" fill=\"rgb(0%, 0%, 100%)\"/>\\n<circle cx=\"182.5\" cy=\"402.5096036616385\" r=\"5.0\" stroke=\"rgb(35%, 35%, 35%)\" stroke-width=\"1.0\" fill=\"none\"/>\\n<text x=\"182.5\" y=\"405.5096036616385\" text-anchor=\"middle\" font-family=\"Verdana\" font-size=\"7.5\" fill=\"rgb(100%, 100%, 100%)\" >G</text>\\n<circle cx=\"182.5\" cy=\"422.5096036616385\" r=\"5.0\" stroke=\"none\" stroke-width=\"1.0\" fill=\"rgb(0%, 0%, 100%)\"/>\\n<circle cx=\"182.5\" cy=\"422.5096036616385\" r=\"5.0\" stroke=\"rgb(35%, 35%, 35%)\" stroke-width=\"1.0\" fill=\"none\"/>\\n<text x=\"182.5\" y=\"425.5096036616385\" text-anchor=\"middle\" font-family=\"Verdana\" font-size=\"7.5\" fill=\"rgb(100%, 100%, 100%)\" >C</text>\\n<circle cx=\"200.0\" cy=\"422.5096036616385\" r=\"5.0\" stroke=\"none\" stroke-width=\"1.0\" fill=\"rgb(0%, 0%, 100%)\"/>\\n<circle cx=\"200.0\" cy=\"422.5096036616385\" r=\"5.0\" stroke=\"rgb(35%, 35%, 35%)\" stroke-width=\"1.0\" fill=\"none\"/>\\n<text x=\"200.0\" y=\"425.5096036616385\" text-anchor=\"middle\" font-family=\"Verdana\" font-size=\"7.5\" fill=\"rgb(100%, 100%, 100%)\" >A</text>\\n<circle cx=\"217.5\" cy=\"422.5096036616385\" r=\"5.0\" stroke=\"none\" stroke-width=\"1.0\" fill=\"rgb(0%, 0%, 100%)\"/>\\n<circle cx=\"217.5\" cy=\"422.5096036616385\" r=\"5.0\" stroke=\"rgb(35%, 35%, 35%)\" stroke-width=\"1.0\" fill=\"none\"/>\\n<text x=\"217.5\" y=\"425.5096036616385\" text-anchor=\"middle\" font-family=\"Verdana\" font-size=\"7.5\" fill=\"rgb(100%, 100%, 100%)\" >A</text>\\n<circle cx=\"235.0\" cy=\"422.5096036616385\" r=\"5.0\" stroke=\"none\" stroke-width=\"1.0\" fill=\"rgb(100%, 0%, 0%)\"/>\\n<circle cx=\"235.0\" cy=\"422.5096036616385\" r=\"5.0\" stroke=\"rgb(35%, 35%, 35%)\" stroke-width=\"1.0\" fill=\"none\"/>\\n<text x=\"235.0\" y=\"425.5096036616385\" text-anchor=\"middle\" font-family=\"Verdana\" font-size=\"7.5\" fill=\"rgb(0%, 0%, 0%)\" >C</text>\\n<circle cx=\"252.5\" cy=\"422.50960366163855\" r=\"5.0\" stroke=\"none\" stroke-width=\"1.0\" fill=\"rgb(100%, 0%, 0%)\"/>\\n<circle cx=\"252.5\" cy=\"422.50960366163855\" r=\"5.0\" stroke=\"rgb(35%, 35%, 35%)\" stroke-width=\"1.0\" fill=\"none\"/>\\n<text x=\"252.5\" y=\"425.50960366163855\" text-anchor=\"middle\" font-family=\"Verdana\" font-size=\"7.5\" fill=\"rgb(0%, 0%, 0%)\" >C</text>\\n<circle cx=\"270.0\" cy=\"422.50960366163855\" r=\"5.0\" stroke=\"none\" stroke-width=\"1.0\" fill=\"rgb(100%, 0%, 0%)\"/>\\n<circle cx=\"270.0\" cy=\"422.50960366163855\" r=\"5.0\" stroke=\"rgb(35%, 35%, 35%)\" stroke-width=\"1.0\" fill=\"none\"/>\\n<text x=\"270.0\" y=\"425.50960366163855\" text-anchor=\"middle\" font-family=\"Verdana\" font-size=\"7.5\" fill=\"rgb(0%, 0%, 0%)\" >G</text>\\n<circle cx=\"270.0\" cy=\"402.50960366163855\" r=\"5.0\" stroke=\"none\" stroke-width=\"1.0\" fill=\"rgb(100%, 0%, 0%)\"/>\\n<circle cx=\"270.0\" cy=\"402.50960366163855\" r=\"5.0\" stroke=\"rgb(35%, 35%, 35%)\" stroke-width=\"1.0\" fill=\"none\"/>\\n<text x=\"270.0\" y=\"405.50960366163855\" text-anchor=\"middle\" font-family=\"Verdana\" font-size=\"7.5\" fill=\"rgb(0%, 0%, 0%)\" >C</text>\\n<circle cx=\"270.0\" cy=\"382.50960366163855\" r=\"5.0\" stroke=\"none\" stroke-width=\"1.0\" fill=\"rgb(100%, 0%, 0%)\"/>\\n<circle cx=\"270.0\" cy=\"382.50960366163855\" r=\"5.0\" stroke=\"rgb(35%, 35%, 35%)\" stroke-width=\"1.0\" fill=\"none\"/>\\n<text x=\"270.0\" y=\"385.50960366163855\" text-anchor=\"middle\" font-family=\"Verdana\" font-size=\"7.5\" fill=\"rgb(0%, 0%, 0%)\" >C</text>\\n<circle cx=\"270.0\" cy=\"362.50960366163855\" r=\"5.0\" stroke=\"none\" stroke-width=\"1.0\" fill=\"rgb(100%, 0%, 0%)\"/>\\n<circle cx=\"270.0\" cy=\"362.50960366163855\" r=\"5.0\" stroke=\"rgb(35%, 35%, 35%)\" stroke-width=\"1.0\" fill=\"none\"/>\\n<text x=\"270.0\" y=\"365.50960366163855\" text-anchor=\"middle\" font-family=\"Verdana\" font-size=\"7.5\" fill=\"rgb(0%, 0%, 0%)\" >C</text>\\n<circle cx=\"270.0\" cy=\"342.50960366163855\" r=\"5.0\" stroke=\"none\" stroke-width=\"1.0\" fill=\"rgb(100%, 0%, 0%)\"/>\\n<circle cx=\"270.0\" cy=\"342.50960366163855\" r=\"5.0\" stroke=\"rgb(35%, 35%, 35%)\" stroke-width=\"1.0\" fill=\"none\"/>\\n<text x=\"270.0\" y=\"345.50960366163855\" text-anchor=\"middle\" font-family=\"Verdana\" font-size=\"7.5\" fill=\"rgb(0%, 0%, 0%)\" >A</text>\\n<circle cx=\"270.0\" cy=\"322.50960366163855\" r=\"5.0\" stroke=\"none\" stroke-width=\"1.0\" fill=\"rgb(100%, 0%, 0%)\"/>\\n<circle cx=\"270.0\" cy=\"322.50960366163855\" r=\"5.0\" stroke=\"rgb(35%, 35%, 35%)\" stroke-width=\"1.0\" fill=\"none\"/>\\n<text x=\"270.0\" y=\"325.50960366163855\" text-anchor=\"middle\" font-family=\"Verdana\" font-size=\"7.5\" fill=\"rgb(0%, 0%, 0%)\" >G</text>\\n<circle cx=\"261.202869537767\" cy=\"307.3815529397343\" r=\"5.0\" stroke=\"none\" stroke-width=\"1.0\" fill=\"rgb(100%, 0%, 0%)\"/>\\n<circle cx=\"261.202869537767\" cy=\"307.3815529397343\" r=\"5.0\" stroke=\"rgb(35%, 35%, 35%)\" stroke-width=\"1.0\" fill=\"none\"/>\\n<text x=\"261.202869537767\" y=\"310.3815529397343\" text-anchor=\"middle\" font-family=\"Verdana\" font-size=\"7.5\" fill=\"rgb(0%, 0%, 0%)\" >G</text>\\n<circle cx=\"264.25954010935607\" cy=\"290.1506450115131\" r=\"5.0\" stroke=\"none\" stroke-width=\"1.0\" fill=\"rgb(100%, 0%, 0%)\"/>\\n<circle cx=\"264.25954010935607\" cy=\"290.1506450115131\" r=\"5.0\" stroke=\"rgb(35%, 35%, 35%)\" stroke-width=\"1.0\" fill=\"none\"/>\\n<text x=\"264.25954010935607\" y=\"293.1506450115131\" text-anchor=\"middle\" font-family=\"Verdana\" font-size=\"7.5\" fill=\"rgb(0%, 0%, 0%)\" >G</text>\\n<circle cx=\"257.3800649096382\" cy=\"271.371059793078\" r=\"5.0\" stroke=\"none\" stroke-width=\"1.0\" fill=\"rgb(100%, 0%, 0%)\"/>\\n<circle cx=\"257.3800649096382\" cy=\"271.371059793078\" r=\"5.0\" stroke=\"rgb(35%, 35%, 35%)\" stroke-width=\"1.0\" fill=\"none\"/>\\n<text x=\"257.3800649096382\" y=\"274.371059793078\" text-anchor=\"middle\" font-family=\"Verdana\" font-size=\"7.5\" fill=\"rgb(0%, 0%, 0%)\" >C</text>\\n<circle cx=\"250.5005897099203\" cy=\"252.59147457464292\" r=\"5.0\" stroke=\"none\" stroke-width=\"1.0\" fill=\"rgb(100%, 0%, 0%)\"/>\\n<circle cx=\"250.5005897099203\" cy=\"252.59147457464292\" r=\"5.0\" stroke=\"rgb(35%, 35%, 35%)\" stroke-width=\"1.0\" fill=\"none\"/>\\n<text x=\"250.5005897099203\" y=\"255.59147457464292\" text-anchor=\"middle\" font-family=\"Verdana\" font-size=\"7.5\" fill=\"rgb(0%, 0%, 0%)\" >C</text>\\n<circle cx=\"243.6211145102024\" cy=\"233.81188935620781\" r=\"5.0\" stroke=\"none\" stroke-width=\"1.0\" fill=\"rgb(100%, 0%, 0%)\"/>\\n<circle cx=\"243.6211145102024\" cy=\"233.81188935620781\" r=\"5.0\" stroke=\"rgb(35%, 35%, 35%)\" stroke-width=\"1.0\" fill=\"none\"/>\\n<text x=\"243.6211145102024\" y=\"236.81188935620781\" text-anchor=\"middle\" font-family=\"Verdana\" font-size=\"7.5\" fill=\"rgb(0%, 0%, 0%)\" >U</text>\\n<circle cx=\"236.74163931048452\" cy=\"215.0323041377727\" r=\"5.0\" stroke=\"none\" stroke-width=\"1.0\" fill=\"rgb(100%, 0%, 0%)\"/>\\n<circle cx=\"236.74163931048452\" cy=\"215.0323041377727\" r=\"5.0\" stroke=\"rgb(35%, 35%, 35%)\" stroke-width=\"1.0\" fill=\"none\"/>\\n<text x=\"236.74163931048452\" y=\"218.0323041377727\" text-anchor=\"middle\" font-family=\"Verdana\" font-size=\"7.5\" fill=\"rgb(0%, 0%, 0%)\" >A</text>\\n<circle cx=\"229.86216411076663\" cy=\"196.2527189193376\" r=\"5.0\" stroke=\"none\" stroke-width=\"1.0\" fill=\"rgb(100%, 0%, 0%)\"/>\\n<circle cx=\"229.86216411076663\" cy=\"196.2527189193376\" r=\"5.0\" stroke=\"rgb(35%, 35%, 35%)\" stroke-width=\"1.0\" fill=\"none\"/>\\n<text x=\"229.86216411076663\" y=\"199.2527189193376\" text-anchor=\"middle\" font-family=\"Verdana\" font-size=\"7.5\" fill=\"rgb(0%, 0%, 0%)\" >G</text>\\n<circle cx=\"211.81880578841808\" cy=\"192.53548984252194\" r=\"5.0\" stroke=\"none\" stroke-width=\"1.0\" fill=\"rgb(100%, 0%, 0%)\"/>\\n<circle cx=\"211.81880578841808\" cy=\"192.53548984252194\" r=\"5.0\" stroke=\"rgb(35%, 35%, 35%)\" stroke-width=\"1.0\" fill=\"none\"/>\\n<text x=\"211.81880578841808\" y=\"195.53548984252194\" text-anchor=\"middle\" font-family=\"Verdana\" font-size=\"7.5\" fill=\"rgb(0%, 0%, 0%)\" >G</text>\\n<circle cx=\"196.61968837830537\" cy=\"182.12552339148107\" r=\"5.0\" stroke=\"none\" stroke-width=\"1.0\" fill=\"rgb(100%, 0%, 0%)\"/>\\n<circle cx=\"196.61968837830537\" cy=\"182.12552339148107\" r=\"5.0\" stroke=\"rgb(35%, 35%, 35%)\" stroke-width=\"1.0\" fill=\"none\"/>\\n<text x=\"196.61968837830537\" y=\"185.12552339148107\" text-anchor=\"middle\" font-family=\"Verdana\" font-size=\"7.5\" fill=\"rgb(0%, 0%, 0%)\" >C</text>\\n<circle cx=\"186.63314548802498\" cy=\"166.64490542388108\" r=\"5.0\" stroke=\"none\" stroke-width=\"1.0\" fill=\"rgb(100%, 0%, 0%)\"/>\\n<circle cx=\"186.63314548802498\" cy=\"166.64490542388108\" r=\"5.0\" stroke=\"rgb(35%, 35%, 35%)\" stroke-width=\"1.0\" fill=\"none\"/>\\n<text x=\"186.63314548802498\" y=\"169.64490542388108\" text-anchor=\"middle\" font-family=\"Verdana\" font-size=\"7.5\" fill=\"rgb(0%, 0%, 0%)\" >A</text>\\n<circle cx=\"183.41528491729807\" cy=\"148.50583309629076\" r=\"5.0\" stroke=\"none\" stroke-width=\"1.0\" fill=\"rgb(100%, 0%, 0%)\"/>\\n<circle cx=\"183.41528491729807\" cy=\"148.50583309629076\" r=\"5.0\" stroke=\"rgb(35%, 35%, 35%)\" stroke-width=\"1.0\" fill=\"none\"/>\\n<text x=\"183.41528491729807\" y=\"151.50583309629076\" text-anchor=\"middle\" font-family=\"Verdana\" font-size=\"7.5\" fill=\"rgb(0%, 0%, 0%)\" >G</text>\\n<circle cx=\"187.4675152103564\" cy=\"130.53474517123163\" r=\"5.0\" stroke=\"none\" stroke-width=\"1.0\" fill=\"rgb(100%, 0%, 0%)\"/>\\n<circle cx=\"187.4675152103564\" cy=\"130.53474517123163\" r=\"5.0\" stroke=\"rgb(35%, 35%, 35%)\" stroke-width=\"1.0\" fill=\"none\"/>\\n<text x=\"187.4675152103564\" y=\"133.53474517123163\" text-anchor=\"middle\" font-family=\"Verdana\" font-size=\"7.5\" fill=\"rgb(0%, 0%, 0%)\" >C</text>\\n<circle cx=\"198.15841594127548\" cy=\"115.53190500278936\" r=\"5.0\" stroke=\"none\" stroke-width=\"1.0\" fill=\"rgb(100%, 0%, 0%)\"/>\\n<circle cx=\"198.15841594127548\" cy=\"115.53190500278936\" r=\"5.0\" stroke=\"rgb(35%, 35%, 35%)\" stroke-width=\"1.0\" fill=\"none\"/>\\n<text x=\"198.15841594127548\" y=\"118.53190500278936\" text-anchor=\"middle\" font-family=\"Verdana\" font-size=\"7.5\" fill=\"rgb(0%, 0%, 0%)\" >A</text>\\n<circle cx=\"213.8221259410595\" cy=\"105.83506218665309\" r=\"5.0\" stroke=\"none\" stroke-width=\"1.0\" fill=\"rgb(100%, 0%, 0%)\"/>\\n<circle cx=\"213.8221259410595\" cy=\"105.83506218665309\" r=\"5.0\" stroke=\"rgb(35%, 35%, 35%)\" stroke-width=\"1.0\" fill=\"none\"/>\\n<text x=\"213.8221259410595\" y=\"108.83506218665309\" text-anchor=\"middle\" font-family=\"Verdana\" font-size=\"7.5\" fill=\"rgb(0%, 0%, 0%)\" >C</text>\\n<circle cx=\"213.8221259410595\" cy=\"85.83506218665309\" r=\"5.0\" stroke=\"none\" stroke-width=\"1.0\" fill=\"rgb(100%, 0%, 0%)\"/>\\n<circle cx=\"213.8221259410595\" cy=\"85.83506218665309\" r=\"5.0\" stroke=\"rgb(35%, 35%, 35%)\" stroke-width=\"1.0\" fill=\"none\"/>\\n<text x=\"213.8221259410595\" y=\"88.83506218665309\" text-anchor=\"middle\" font-family=\"Verdana\" font-size=\"7.5\" fill=\"rgb(0%, 0%, 0%)\" >G</text>\\n<circle cx=\"213.8221259410595\" cy=\"65.83506218665309\" r=\"5.0\" stroke=\"none\" stroke-width=\"1.0\" fill=\"rgb(100%, 0%, 0%)\"/>\\n<circle cx=\"213.8221259410595\" cy=\"65.83506218665309\" r=\"5.0\" stroke=\"rgb(35%, 35%, 35%)\" stroke-width=\"1.0\" fill=\"none\"/>\\n<text x=\"213.8221259410595\" y=\"68.83506218665309\" text-anchor=\"middle\" font-family=\"Verdana\" font-size=\"7.5\" fill=\"rgb(0%, 0%, 0%)\" >C</text>\\n<circle cx=\"202.16705786677582\" cy=\"52.780947998472925\" r=\"5.0\" stroke=\"none\" stroke-width=\"1.0\" fill=\"rgb(100%, 0%, 0%)\"/>\\n<circle cx=\"202.16705786677582\" cy=\"52.780947998472925\" r=\"5.0\" stroke=\"rgb(35%, 35%, 35%)\" stroke-width=\"1.0\" fill=\"none\"/>\\n<text x=\"202.16705786677582\" y=\"55.780947998472925\" text-anchor=\"middle\" font-family=\"Verdana\" font-size=\"7.5\" fill=\"rgb(0%, 0%, 0%)\" >G</text>\\n<circle cx=\"199.48391525051122\" cy=\"35.487849526683135\" r=\"5.0\" stroke=\"none\" stroke-width=\"1.0\" fill=\"rgb(100%, 0%, 0%)\"/>\\n<circle cx=\"199.48391525051122\" cy=\"35.487849526683135\" r=\"5.0\" stroke=\"rgb(35%, 35%, 35%)\" stroke-width=\"1.0\" fill=\"none\"/>\\n<text x=\"199.48391525051122\" y=\"38.487849526683135\" text-anchor=\"middle\" font-family=\"Verdana\" font-size=\"7.5\" fill=\"rgb(0%, 0%, 0%)\" >A</text>\\n<circle cx=\"206.6353713343549\" cy=\"19.515774366107166\" r=\"5.0\" stroke=\"none\" stroke-width=\"1.0\" fill=\"rgb(100%, 0%, 0%)\"/>\\n<circle cx=\"206.6353713343549\" cy=\"19.515774366107166\" r=\"5.0\" stroke=\"rgb(35%, 35%, 35%)\" stroke-width=\"1.0\" fill=\"none\"/>\\n<text x=\"206.6353713343549\" y=\"22.515774366107166\" text-anchor=\"middle\" font-family=\"Verdana\" font-size=\"7.5\" fill=\"rgb(0%, 0%, 0%)\" >A</text>\\n<circle cx=\"221.3221186688592\" cy=\"10.0\" r=\"5.0\" stroke=\"none\" stroke-width=\"1.0\" fill=\"rgb(100%, 0%, 0%)\"/>\\n<circle cx=\"221.3221186688592\" cy=\"10.0\" r=\"5.0\" stroke=\"rgb(35%, 35%, 35%)\" stroke-width=\"1.0\" fill=\"none\"/>\\n<text x=\"221.3221186688592\" y=\"13.0\" text-anchor=\"middle\" font-family=\"Verdana\" font-size=\"7.5\" fill=\"rgb(0%, 0%, 0%)\" >A</text>\\n<circle cx=\"238.8221332132598\" cy=\"10.0\" r=\"5.0\" stroke=\"none\" stroke-width=\"1.0\" fill=\"rgb(100%, 0%, 0%)\"/>\\n<circle cx=\"238.8221332132598\" cy=\"10.0\" r=\"5.0\" stroke=\"rgb(35%, 35%, 35%)\" stroke-width=\"1.0\" fill=\"none\"/>\\n<text x=\"238.8221332132598\" y=\"13.0\" text-anchor=\"middle\" font-family=\"Verdana\" font-size=\"7.5\" fill=\"rgb(0%, 0%, 0%)\" >U</text>\\n<circle cx=\"253.50888054776414\" cy=\"19.515774366107166\" r=\"5.0\" stroke=\"none\" stroke-width=\"1.0\" fill=\"rgb(100%, 0%, 0%)\"/>\\n<circle cx=\"253.50888054776414\" cy=\"19.515774366107166\" r=\"5.0\" stroke=\"rgb(35%, 35%, 35%)\" stroke-width=\"1.0\" fill=\"none\"/>\\n<text x=\"253.50888054776414\" y=\"22.515774366107166\" text-anchor=\"middle\" font-family=\"Verdana\" font-size=\"7.5\" fill=\"rgb(0%, 0%, 0%)\" >U</text>\\n<circle cx=\"260.66033663160783\" cy=\"35.487849526683135\" r=\"5.0\" stroke=\"none\" stroke-width=\"1.0\" fill=\"rgb(100%, 0%, 0%)\"/>\\n<circle cx=\"260.66033663160783\" cy=\"35.487849526683135\" r=\"5.0\" stroke=\"rgb(35%, 35%, 35%)\" stroke-width=\"1.0\" fill=\"none\"/>\\n<text x=\"260.66033663160783\" y=\"38.487849526683135\" text-anchor=\"middle\" font-family=\"Verdana\" font-size=\"7.5\" fill=\"rgb(0%, 0%, 0%)\" >A</text>\\n<circle cx=\"257.97719401534323\" cy=\"52.780947998472925\" r=\"5.0\" stroke=\"none\" stroke-width=\"1.0\" fill=\"rgb(100%, 0%, 0%)\"/>\\n<circle cx=\"257.97719401534323\" cy=\"52.780947998472925\" r=\"5.0\" stroke=\"rgb(35%, 35%, 35%)\" stroke-width=\"1.0\" fill=\"none\"/>\\n<text x=\"257.97719401534323\" y=\"55.780947998472925\" text-anchor=\"middle\" font-family=\"Verdana\" font-size=\"7.5\" fill=\"rgb(0%, 0%, 0%)\" >G</text>\\n<circle cx=\"246.32212594105954\" cy=\"65.83506218665309\" r=\"5.0\" stroke=\"none\" stroke-width=\"1.0\" fill=\"rgb(100%, 0%, 0%)\"/>\\n<circle cx=\"246.32212594105954\" cy=\"65.83506218665309\" r=\"5.0\" stroke=\"rgb(35%, 35%, 35%)\" stroke-width=\"1.0\" fill=\"none\"/>\\n<text x=\"246.32212594105954\" y=\"68.83506218665309\" text-anchor=\"middle\" font-family=\"Verdana\" font-size=\"7.5\" fill=\"rgb(0%, 0%, 0%)\" >G</text>\\n<circle cx=\"246.32212594105954\" cy=\"85.83506218665309\" r=\"5.0\" stroke=\"none\" stroke-width=\"1.0\" fill=\"rgb(100%, 0%, 0%)\"/>\\n<circle cx=\"246.32212594105954\" cy=\"85.83506218665309\" r=\"5.0\" stroke=\"rgb(35%, 35%, 35%)\" stroke-width=\"1.0\" fill=\"none\"/>\\n<text x=\"246.32212594105954\" y=\"88.83506218665309\" text-anchor=\"middle\" font-family=\"Verdana\" font-size=\"7.5\" fill=\"rgb(0%, 0%, 0%)\" >C</text>\\n<circle cx=\"246.32212594105954\" cy=\"105.83506218665309\" r=\"5.0\" stroke=\"none\" stroke-width=\"1.0\" fill=\"rgb(100%, 0%, 0%)\"/>\\n<circle cx=\"246.32212594105954\" cy=\"105.83506218665309\" r=\"5.0\" stroke=\"rgb(35%, 35%, 35%)\" stroke-width=\"1.0\" fill=\"none\"/>\\n<text x=\"246.32212594105954\" y=\"108.83506218665309\" text-anchor=\"middle\" font-family=\"Verdana\" font-size=\"7.5\" fill=\"rgb(0%, 0%, 0%)\" >G</text>\\n<circle cx=\"258.7730680714694\" cy=\"112.78336756778367\" r=\"5.0\" stroke=\"none\" stroke-width=\"1.0\" fill=\"rgb(100%, 0%, 0%)\"/>\\n<circle cx=\"258.7730680714694\" cy=\"112.78336756778367\" r=\"5.0\" stroke=\"rgb(35%, 35%, 35%)\" stroke-width=\"1.0\" fill=\"none\"/>\\n<text x=\"258.7730680714694\" y=\"115.78336756778367\" text-anchor=\"middle\" font-family=\"Verdana\" font-size=\"7.5\" fill=\"rgb(0%, 0%, 0%)\" >A</text>\\n<circle cx=\"268.5449557143711\" cy=\"123.16677353590262\" r=\"5.0\" stroke=\"none\" stroke-width=\"1.0\" fill=\"rgb(100%, 0%, 0%)\"/>\\n<circle cx=\"268.5449557143711\" cy=\"123.16677353590262\" r=\"5.0\" stroke=\"rgb(35%, 35%, 35%)\" stroke-width=\"1.0\" fill=\"none\"/>\\n<text x=\"268.5449557143711\" y=\"126.16677353590262\" text-anchor=\"middle\" font-family=\"Verdana\" font-size=\"7.5\" fill=\"rgb(0%, 0%, 0%)\" >C</text>\\n<circle cx=\"287.94254415846274\" cy=\"118.29506310181046\" r=\"5.0\" stroke=\"none\" stroke-width=\"1.0\" fill=\"rgb(100%, 0%, 0%)\"/>\\n<circle cx=\"287.94254415846274\" cy=\"118.29506310181046\" r=\"5.0\" stroke=\"rgb(35%, 35%, 35%)\" stroke-width=\"1.0\" fill=\"none\"/>\\n<text x=\"287.94254415846274\" y=\"121.29506310181046\" text-anchor=\"middle\" font-family=\"Verdana\" font-size=\"7.5\" fill=\"rgb(0%, 0%, 0%)\" >G</text>\\n<circle cx=\"307.3401326025544\" cy=\"113.42335266771818\" r=\"5.0\" stroke=\"none\" stroke-width=\"1.0\" fill=\"rgb(100%, 0%, 0%)\"/>\\n<circle cx=\"307.3401326025544\" cy=\"113.42335266771818\" r=\"5.0\" stroke=\"rgb(35%, 35%, 35%)\" stroke-width=\"1.0\" fill=\"none\"/>\\n<text x=\"307.3401326025544\" y=\"116.42335266771818\" text-anchor=\"middle\" font-family=\"Verdana\" font-size=\"7.5\" fill=\"rgb(0%, 0%, 0%)\" >G</text>\\n<circle cx=\"326.737721046646\" cy=\"108.55164223362601\" r=\"5.0\" stroke=\"none\" stroke-width=\"1.0\" fill=\"rgb(100%, 0%, 0%)\"/>\\n<circle cx=\"326.737721046646\" cy=\"108.55164223362601\" r=\"5.0\" stroke=\"rgb(35%, 35%, 35%)\" stroke-width=\"1.0\" fill=\"none\"/>\\n<text x=\"326.737721046646\" y=\"111.55164223362601\" text-anchor=\"middle\" font-family=\"Verdana\" font-size=\"7.5\" fill=\"rgb(0%, 0%, 0%)\" >G</text>\\n<circle cx=\"346.13530949073765\" cy=\"103.67993179953373\" r=\"5.0\" stroke=\"none\" stroke-width=\"1.0\" fill=\"rgb(100%, 0%, 0%)\"/>\\n<circle cx=\"346.13530949073765\" cy=\"103.67993179953373\" r=\"5.0\" stroke=\"rgb(35%, 35%, 35%)\" stroke-width=\"1.0\" fill=\"none\"/>\\n<text x=\"346.13530949073765\" y=\"106.67993179953373\" text-anchor=\"middle\" font-family=\"Verdana\" font-size=\"7.5\" fill=\"rgb(0%, 0%, 0%)\" >A</text>\\n<circle cx=\"353.92675714882466\" cy=\"88.01013741352449\" r=\"5.0\" stroke=\"none\" stroke-width=\"1.0\" fill=\"rgb(100%, 0%, 0%)\"/>\\n<circle cx=\"353.92675714882466\" cy=\"88.01013741352449\" r=\"5.0\" stroke=\"rgb(35%, 35%, 35%)\" stroke-width=\"1.0\" fill=\"none\"/>\\n<text x=\"353.92675714882466\" y=\"91.01013741352449\" text-anchor=\"middle\" font-family=\"Verdana\" font-size=\"7.5\" fill=\"rgb(0%, 0%, 0%)\" >G</text>\\n<circle cx=\"368.1436500262762\" cy=\"77.8057721897793\" r=\"5.0\" stroke=\"none\" stroke-width=\"1.0\" fill=\"rgb(100%, 0%, 0%)\"/>\\n<circle cx=\"368.1436500262762\" cy=\"77.8057721897793\" r=\"5.0\" stroke=\"rgb(35%, 35%, 35%)\" stroke-width=\"1.0\" fill=\"none\"/>\\n<text x=\"368.1436500262762\" y=\"80.8057721897793\" text-anchor=\"middle\" font-family=\"Verdana\" font-size=\"7.5\" fill=\"rgb(0%, 0%, 0%)\" >A</text>\\n<circle cx=\"385.4826800248946\" cy=\"75.43782974632177\" r=\"5.0\" stroke=\"none\" stroke-width=\"1.0\" fill=\"rgb(100%, 0%, 0%)\"/>\\n<circle cx=\"385.4826800248946\" cy=\"75.43782974632177\" r=\"5.0\" stroke=\"rgb(35%, 35%, 35%)\" stroke-width=\"1.0\" fill=\"none\"/>\\n<text x=\"385.4826800248946\" y=\"78.43782974632177\" text-anchor=\"middle\" font-family=\"Verdana\" font-size=\"7.5\" fill=\"rgb(0%, 0%, 0%)\" >G</text>\\n<circle cx=\"401.9151076231087\" cy=\"81.45650368149757\" r=\"5.0\" stroke=\"none\" stroke-width=\"1.0\" fill=\"rgb(100%, 0%, 0%)\"/>\\n<circle cx=\"401.9151076231087\" cy=\"81.45650368149757\" r=\"5.0\" stroke=\"rgb(35%, 35%, 35%)\" stroke-width=\"1.0\" fill=\"none\"/>\\n<text x=\"401.9151076231087\" y=\"84.45650368149757\" text-anchor=\"middle\" font-family=\"Verdana\" font-size=\"7.5\" fill=\"rgb(0%, 0%, 0%)\" >G</text>\\n<circle cx=\"413.6228431985145\" cy=\"94.46334958682337\" r=\"5.0\" stroke=\"none\" stroke-width=\"1.0\" fill=\"rgb(100%, 0%, 0%)\"/>\\n<circle cx=\"413.6228431985145\" cy=\"94.46334958682337\" r=\"5.0\" stroke=\"rgb(35%, 35%, 35%)\" stroke-width=\"1.0\" fill=\"none\"/>\\n<text x=\"413.6228431985145\" y=\"97.46334958682337\" text-anchor=\"middle\" font-family=\"Verdana\" font-size=\"7.5\" fill=\"rgb(0%, 0%, 0%)\" >G</text>\\n<circle cx=\"417.885583653159\" cy=\"111.43621488779274\" r=\"5.0\" stroke=\"none\" stroke-width=\"1.0\" fill=\"rgb(100%, 0%, 0%)\"/>\\n<circle cx=\"417.885583653159\" cy=\"111.43621488779274\" r=\"5.0\" stroke=\"rgb(35%, 35%, 35%)\" stroke-width=\"1.0\" fill=\"none\"/>\\n<text x=\"417.885583653159\" y=\"114.43621488779274\" text-anchor=\"middle\" font-family=\"Verdana\" font-size=\"7.5\" fill=\"rgb(0%, 0%, 0%)\" >U</text>\\n<circle cx=\"413.7128773331035\" cy=\"128.43143876613817\" r=\"5.0\" stroke=\"none\" stroke-width=\"1.0\" fill=\"rgb(100%, 0%, 0%)\"/>\\n<circle cx=\"413.7128773331035\" cy=\"128.43143876613817\" r=\"5.0\" stroke=\"rgb(35%, 35%, 35%)\" stroke-width=\"1.0\" fill=\"none\"/>\\n<text x=\"413.7128773331035\" y=\"131.43143876613817\" text-anchor=\"middle\" font-family=\"Verdana\" font-size=\"7.5\" fill=\"rgb(0%, 0%, 0%)\" >C</text>\\n<circle cx=\"402.0742563785459\" cy=\"141.50016536763405\" r=\"5.0\" stroke=\"none\" stroke-width=\"1.0\" fill=\"rgb(100%, 0%, 0%)\"/>\\n<circle cx=\"402.0742563785459\" cy=\"141.50016536763405\" r=\"5.0\" stroke=\"rgb(35%, 35%, 35%)\" stroke-width=\"1.0\" fill=\"none\"/>\\n<text x=\"402.0742563785459\" y=\"144.50016536763405\" text-anchor=\"middle\" font-family=\"Verdana\" font-size=\"7.5\" fill=\"rgb(0%, 0%, 0%)\" >G</text>\\n<circle cx=\"385.67396504190094\" cy=\"147.60586408126892\" r=\"5.0\" stroke=\"none\" stroke-width=\"1.0\" fill=\"rgb(100%, 0%, 0%)\"/>\\n<circle cx=\"385.67396504190094\" cy=\"147.60586408126892\" r=\"5.0\" stroke=\"rgb(35%, 35%, 35%)\" stroke-width=\"1.0\" fill=\"none\"/>\\n<text x=\"385.67396504190094\" y=\"150.60586408126892\" text-anchor=\"middle\" font-family=\"Verdana\" font-size=\"7.5\" fill=\"rgb(0%, 0%, 0%)\" >G</text>\\n<circle cx=\"368.3226260557254\" cy=\"145.32987021147505\" r=\"5.0\" stroke=\"none\" stroke-width=\"1.0\" fill=\"rgb(100%, 0%, 0%)\"/>\\n<circle cx=\"368.3226260557254\" cy=\"145.32987021147505\" r=\"5.0\" stroke=\"rgb(35%, 35%, 35%)\" stroke-width=\"1.0\" fill=\"none\"/>\\n<text x=\"368.3226260557254\" y=\"148.32987021147505\" text-anchor=\"middle\" font-family=\"Verdana\" font-size=\"7.5\" fill=\"rgb(0%, 0%, 0%)\" >A</text>\\n<circle cx=\"354.05183894613754\" cy=\"135.20101302118258\" r=\"5.0\" stroke=\"none\" stroke-width=\"1.0\" fill=\"rgb(100%, 0%, 0%)\"/>\\n<circle cx=\"354.05183894613754\" cy=\"135.20101302118258\" r=\"5.0\" stroke=\"rgb(35%, 35%, 35%)\" stroke-width=\"1.0\" fill=\"none\"/>\\n<text x=\"354.05183894613754\" y=\"138.20101302118258\" text-anchor=\"middle\" font-family=\"Verdana\" font-size=\"7.5\" fill=\"rgb(0%, 0%, 0%)\" >U</text>\\n<circle cx=\"334.6542505020459\" cy=\"140.07272345527485\" r=\"5.0\" stroke=\"none\" stroke-width=\"1.0\" fill=\"rgb(100%, 0%, 0%)\"/>\\n<circle cx=\"334.6542505020459\" cy=\"140.07272345527485\" r=\"5.0\" stroke=\"rgb(35%, 35%, 35%)\" stroke-width=\"1.0\" fill=\"none\"/>\\n<text x=\"334.6542505020459\" y=\"143.07272345527485\" text-anchor=\"middle\" font-family=\"Verdana\" font-size=\"7.5\" fill=\"rgb(0%, 0%, 0%)\" >C</text>\\n<circle cx=\"315.25666205795426\" cy=\"144.94443388936702\" r=\"5.0\" stroke=\"none\" stroke-width=\"1.0\" fill=\"rgb(100%, 0%, 0%)\"/>\\n<circle cx=\"315.25666205795426\" cy=\"144.94443388936702\" r=\"5.0\" stroke=\"rgb(35%, 35%, 35%)\" stroke-width=\"1.0\" fill=\"none\"/>\\n<text x=\"315.25666205795426\" y=\"147.94443388936702\" text-anchor=\"middle\" font-family=\"Verdana\" font-size=\"7.5\" fill=\"rgb(0%, 0%, 0%)\" >C</text>\\n<circle cx=\"295.8590736138626\" cy=\"149.8161443234593\" r=\"5.0\" stroke=\"none\" stroke-width=\"1.0\" fill=\"rgb(100%, 0%, 0%)\"/>\\n<circle cx=\"295.8590736138626\" cy=\"149.8161443234593\" r=\"5.0\" stroke=\"rgb(35%, 35%, 35%)\" stroke-width=\"1.0\" fill=\"none\"/>\\n<text x=\"295.8590736138626\" y=\"152.8161443234593\" text-anchor=\"middle\" font-family=\"Verdana\" font-size=\"7.5\" fill=\"rgb(0%, 0%, 0%)\" >C</text>\\n<circle cx=\"276.461485169771\" cy=\"154.68785475755146\" r=\"5.0\" stroke=\"none\" stroke-width=\"1.0\" fill=\"rgb(100%, 0%, 0%)\"/>\\n<circle cx=\"276.461485169771\" cy=\"154.68785475755146\" r=\"5.0\" stroke=\"rgb(35%, 35%, 35%)\" stroke-width=\"1.0\" fill=\"none\"/>\\n<text x=\"276.461485169771\" y=\"157.68785475755146\" text-anchor=\"middle\" font-family=\"Verdana\" font-size=\"7.5\" fill=\"rgb(0%, 0%, 0%)\" >G</text>\\n<circle cx=\"271.3201636998891\" cy=\"171.4155806503121\" r=\"5.0\" stroke=\"none\" stroke-width=\"1.0\" fill=\"rgb(100%, 0%, 0%)\"/>\\n<circle cx=\"271.3201636998891\" cy=\"171.4155806503121\" r=\"5.0\" stroke=\"rgb(35%, 35%, 35%)\" stroke-width=\"1.0\" fill=\"none\"/>\\n<text x=\"271.3201636998891\" y=\"174.4155806503121\" text-anchor=\"middle\" font-family=\"Verdana\" font-size=\"7.5\" fill=\"rgb(0%, 0%, 0%)\" >A</text>\\n<circle cx=\"260.3789900907237\" cy=\"185.073571719796\" r=\"5.0\" stroke=\"none\" stroke-width=\"1.0\" fill=\"rgb(100%, 0%, 0%)\"/>\\n<circle cx=\"260.3789900907237\" cy=\"185.073571719796\" r=\"5.0\" stroke=\"rgb(35%, 35%, 35%)\" stroke-width=\"1.0\" fill=\"none\"/>\\n<text x=\"260.3789900907237\" y=\"188.073571719796\" text-anchor=\"middle\" font-family=\"Verdana\" font-size=\"7.5\" fill=\"rgb(0%, 0%, 0%)\" >C</text>\\n<circle cx=\"267.25846529044156\" cy=\"203.8531569382311\" r=\"5.0\" stroke=\"none\" stroke-width=\"1.0\" fill=\"rgb(100%, 0%, 0%)\"/>\\n<circle cx=\"267.25846529044156\" cy=\"203.8531569382311\" r=\"5.0\" stroke=\"rgb(35%, 35%, 35%)\" stroke-width=\"1.0\" fill=\"none\"/>\\n<text x=\"267.25846529044156\" y=\"206.8531569382311\" text-anchor=\"middle\" font-family=\"Verdana\" font-size=\"7.5\" fill=\"rgb(0%, 0%, 0%)\" >U</text>\\n<circle cx=\"274.13794049015945\" cy=\"222.6327421566662\" r=\"5.0\" stroke=\"none\" stroke-width=\"1.0\" fill=\"rgb(100%, 0%, 0%)\"/>\\n<circle cx=\"274.13794049015945\" cy=\"222.6327421566662\" r=\"5.0\" stroke=\"rgb(35%, 35%, 35%)\" stroke-width=\"1.0\" fill=\"none\"/>\\n<text x=\"274.13794049015945\" y=\"225.6327421566662\" text-anchor=\"middle\" font-family=\"Verdana\" font-size=\"7.5\" fill=\"rgb(0%, 0%, 0%)\" >G</text>\\n<circle cx=\"281.01741568987734\" cy=\"241.4123273751013\" r=\"5.0\" stroke=\"none\" stroke-width=\"1.0\" fill=\"rgb(100%, 0%, 0%)\"/>\\n<circle cx=\"281.01741568987734\" cy=\"241.4123273751013\" r=\"5.0\" stroke=\"rgb(35%, 35%, 35%)\" stroke-width=\"1.0\" fill=\"none\"/>\\n<text x=\"281.01741568987734\" y=\"244.4123273751013\" text-anchor=\"middle\" font-family=\"Verdana\" font-size=\"7.5\" fill=\"rgb(0%, 0%, 0%)\" >G</text>\\n<circle cx=\"287.8968908895952\" cy=\"260.1919125935364\" r=\"5.0\" stroke=\"none\" stroke-width=\"1.0\" fill=\"rgb(100%, 0%, 0%)\"/>\\n<circle cx=\"287.8968908895952\" cy=\"260.1919125935364\" r=\"5.0\" stroke=\"rgb(35%, 35%, 35%)\" stroke-width=\"1.0\" fill=\"none\"/>\\n<text x=\"287.8968908895952\" y=\"263.1919125935364\" text-anchor=\"middle\" font-family=\"Verdana\" font-size=\"7.5\" fill=\"rgb(0%, 0%, 0%)\" >G</text>\\n<circle cx=\"294.7763660893131\" cy=\"278.9714978119715\" r=\"5.0\" stroke=\"none\" stroke-width=\"1.0\" fill=\"rgb(100%, 0%, 0%)\"/>\\n<circle cx=\"294.7763660893131\" cy=\"278.9714978119715\" r=\"5.0\" stroke=\"rgb(35%, 35%, 35%)\" stroke-width=\"1.0\" fill=\"none\"/>\\n<text x=\"294.7763660893131\" y=\"281.9714978119715\" text-anchor=\"middle\" font-family=\"Verdana\" font-size=\"7.5\" fill=\"rgb(0%, 0%, 0%)\" >C</text>\\n<circle cx=\"308.2403810551193\" cy=\"290.150509440937\" r=\"5.0\" stroke=\"none\" stroke-width=\"1.0\" fill=\"rgb(100%, 0%, 0%)\"/>\\n<circle cx=\"308.2403810551193\" cy=\"290.150509440937\" r=\"5.0\" stroke=\"rgb(35%, 35%, 35%)\" stroke-width=\"1.0\" fill=\"none\"/>\\n<text x=\"308.2403810551193\" y=\"293.150509440937\" text-anchor=\"middle\" font-family=\"Verdana\" font-size=\"7.5\" fill=\"rgb(0%, 0%, 0%)\" >A</text>\\n<circle cx=\"311.29714415869086\" cy=\"307.38147573214206\" r=\"5.0\" stroke=\"none\" stroke-width=\"1.0\" fill=\"rgb(100%, 0%, 0%)\"/>\\n<circle cx=\"311.29714415869086\" cy=\"307.38147573214206\" r=\"5.0\" stroke=\"rgb(35%, 35%, 35%)\" stroke-width=\"1.0\" fill=\"none\"/>\\n<text x=\"311.29714415869086\" y=\"310.38147573214206\" text-anchor=\"middle\" font-family=\"Verdana\" font-size=\"7.5\" fill=\"rgb(0%, 0%, 0%)\" >G</text>\\n<circle cx=\"302.5\" cy=\"322.50960366163855\" r=\"5.0\" stroke=\"none\" stroke-width=\"1.0\" fill=\"rgb(100%, 0%, 0%)\"/>\\n<circle cx=\"302.5\" cy=\"322.50960366163855\" r=\"5.0\" stroke=\"rgb(35%, 35%, 35%)\" stroke-width=\"1.0\" fill=\"none\"/>\\n<text x=\"302.5\" y=\"325.50960366163855\" text-anchor=\"middle\" font-family=\"Verdana\" font-size=\"7.5\" fill=\"rgb(0%, 0%, 0%)\" >C</text>\\n<circle cx=\"302.5\" cy=\"342.50960366163855\" r=\"5.0\" stroke=\"none\" stroke-width=\"1.0\" fill=\"rgb(100%, 0%, 0%)\"/>\\n<circle cx=\"302.5\" cy=\"342.50960366163855\" r=\"5.0\" stroke=\"rgb(35%, 35%, 35%)\" stroke-width=\"1.0\" fill=\"none\"/>\\n<text x=\"302.5\" y=\"345.50960366163855\" text-anchor=\"middle\" font-family=\"Verdana\" font-size=\"7.5\" fill=\"rgb(0%, 0%, 0%)\" >U</text>\\n<circle cx=\"302.5\" cy=\"362.50960366163855\" r=\"5.0\" stroke=\"none\" stroke-width=\"1.0\" fill=\"rgb(100%, 0%, 0%)\"/>\\n<circle cx=\"302.5\" cy=\"362.50960366163855\" r=\"5.0\" stroke=\"rgb(35%, 35%, 35%)\" stroke-width=\"1.0\" fill=\"none\"/>\\n<text x=\"302.5\" y=\"365.50960366163855\" text-anchor=\"middle\" font-family=\"Verdana\" font-size=\"7.5\" fill=\"rgb(0%, 0%, 0%)\" >G</text>\\n<circle cx=\"302.5\" cy=\"382.50960366163855\" r=\"5.0\" stroke=\"none\" stroke-width=\"1.0\" fill=\"rgb(100%, 0%, 0%)\"/>\\n<circle cx=\"302.5\" cy=\"382.50960366163855\" r=\"5.0\" stroke=\"rgb(35%, 35%, 35%)\" stroke-width=\"1.0\" fill=\"none\"/>\\n<text x=\"302.5\" y=\"385.50960366163855\" text-anchor=\"middle\" font-family=\"Verdana\" font-size=\"7.5\" fill=\"rgb(0%, 0%, 0%)\" >G</text>\\n<circle cx=\"302.5\" cy=\"402.50960366163855\" r=\"5.0\" stroke=\"none\" stroke-width=\"1.0\" fill=\"rgb(100%, 0%, 0%)\"/>\\n<circle cx=\"302.5\" cy=\"402.50960366163855\" r=\"5.0\" stroke=\"rgb(35%, 35%, 35%)\" stroke-width=\"1.0\" fill=\"none\"/>\\n<text x=\"302.5\" y=\"405.50960366163855\" text-anchor=\"middle\" font-family=\"Verdana\" font-size=\"7.5\" fill=\"rgb(0%, 0%, 0%)\" >G</text>\\n<circle cx=\"302.5\" cy=\"422.50960366163855\" r=\"5.0\" stroke=\"none\" stroke-width=\"1.0\" fill=\"rgb(100%, 0%, 0%)\"/>\\n<circle cx=\"302.5\" cy=\"422.50960366163855\" r=\"5.0\" stroke=\"rgb(35%, 35%, 35%)\" stroke-width=\"1.0\" fill=\"none\"/>\\n<text x=\"302.5\" y=\"425.50960366163855\" text-anchor=\"middle\" font-family=\"Verdana\" font-size=\"7.5\" fill=\"rgb(0%, 0%, 0%)\" >C</text>\\n<circle cx=\"320.0\" cy=\"422.50960366163855\" r=\"5.0\" stroke=\"none\" stroke-width=\"1.0\" fill=\"rgb(100%, 0%, 0%)\"/>\\n<circle cx=\"320.0\" cy=\"422.50960366163855\" r=\"5.0\" stroke=\"rgb(35%, 35%, 35%)\" stroke-width=\"1.0\" fill=\"none\"/>\\n<text x=\"320.0\" y=\"425.50960366163855\" text-anchor=\"middle\" font-family=\"Verdana\" font-size=\"7.5\" fill=\"rgb(0%, 0%, 0%)\" >A</text>\\n<circle cx=\"337.5\" cy=\"422.50960366163855\" r=\"5.0\" stroke=\"none\" stroke-width=\"1.0\" fill=\"rgb(100%, 0%, 0%)\"/>\\n<circle cx=\"337.5\" cy=\"422.50960366163855\" r=\"5.0\" stroke=\"rgb(35%, 35%, 35%)\" stroke-width=\"1.0\" fill=\"none\"/>\\n<text x=\"337.5\" y=\"425.50960366163855\" text-anchor=\"middle\" font-family=\"Verdana\" font-size=\"7.5\" fill=\"rgb(0%, 0%, 0%)\" >A</text>\\n<circle cx=\"355.0\" cy=\"422.50960366163855\" r=\"5.0\" stroke=\"none\" stroke-width=\"1.0\" fill=\"rgb(100%, 0%, 0%)\"/>\\n<circle cx=\"355.0\" cy=\"422.50960366163855\" r=\"5.0\" stroke=\"rgb(35%, 35%, 35%)\" stroke-width=\"1.0\" fill=\"none\"/>\\n<text x=\"355.0\" y=\"425.50960366163855\" text-anchor=\"middle\" font-family=\"Verdana\" font-size=\"7.5\" fill=\"rgb(0%, 0%, 0%)\" >U</text>\\n<circle cx=\"372.5\" cy=\"422.50960366163855\" r=\"5.0\" stroke=\"none\" stroke-width=\"1.0\" fill=\"rgb(100%, 0%, 0%)\"/>\\n<circle cx=\"372.5\" cy=\"422.50960366163855\" r=\"5.0\" stroke=\"rgb(35%, 35%, 35%)\" stroke-width=\"1.0\" fill=\"none\"/>\\n<text x=\"372.5\" y=\"425.50960366163855\" text-anchor=\"middle\" font-family=\"Verdana\" font-size=\"7.5\" fill=\"rgb(0%, 0%, 0%)\" >U</text>\\n<circle cx=\"390.0\" cy=\"422.50960366163855\" r=\"5.0\" stroke=\"none\" stroke-width=\"1.0\" fill=\"rgb(100%, 0%, 0%)\"/>\\n<circle cx=\"390.0\" cy=\"422.50960366163855\" r=\"5.0\" stroke=\"rgb(35%, 35%, 35%)\" stroke-width=\"1.0\" fill=\"none\"/>\\n<text x=\"390.0\" y=\"425.50960366163855\" text-anchor=\"middle\" font-family=\"Verdana\" font-size=\"7.5\" fill=\"rgb(0%, 0%, 0%)\" >U</text>\\n<circle cx=\"407.5\" cy=\"422.50960366163855\" r=\"5.0\" stroke=\"none\" stroke-width=\"1.0\" fill=\"rgb(100%, 0%, 0%)\"/>\\n<circle cx=\"407.5\" cy=\"422.50960366163855\" r=\"5.0\" stroke=\"rgb(35%, 35%, 35%)\" stroke-width=\"1.0\" fill=\"none\"/>\\n<text x=\"407.5\" y=\"425.50960366163855\" text-anchor=\"middle\" font-family=\"Verdana\" font-size=\"7.5\" fill=\"rgb(0%, 0%, 0%)\" >G</text>\\n<circle cx=\"425.0\" cy=\"422.50960366163855\" r=\"5.0\" stroke=\"none\" stroke-width=\"1.0\" fill=\"rgb(100%, 0%, 0%)\"/>\\n<circle cx=\"425.0\" cy=\"422.50960366163855\" r=\"5.0\" stroke=\"rgb(35%, 35%, 35%)\" stroke-width=\"1.0\" fill=\"none\"/>\\n<text x=\"425.0\" y=\"425.50960366163855\" text-anchor=\"middle\" font-family=\"Verdana\" font-size=\"7.5\" fill=\"rgb(0%, 0%, 0%)\" >U</text>\\n<circle cx=\"442.5\" cy=\"422.50960366163855\" r=\"5.0\" stroke=\"none\" stroke-width=\"1.0\" fill=\"rgb(100%, 0%, 0%)\"/>\\n<circle cx=\"442.5\" cy=\"422.50960366163855\" r=\"5.0\" stroke=\"rgb(35%, 35%, 35%)\" stroke-width=\"1.0\" fill=\"none\"/>\\n<text x=\"442.5\" y=\"425.50960366163855\" text-anchor=\"middle\" font-family=\"Verdana\" font-size=\"7.5\" fill=\"rgb(0%, 0%, 0%)\" >A</text>\\n<circle cx=\"460.0\" cy=\"422.50960366163855\" r=\"5.0\" stroke=\"none\" stroke-width=\"1.0\" fill=\"rgb(100%, 0%, 0%)\"/>\\n<circle cx=\"460.0\" cy=\"422.50960366163855\" r=\"5.0\" stroke=\"rgb(35%, 35%, 35%)\" stroke-width=\"1.0\" fill=\"none\"/>\\n<text x=\"460.0\" y=\"425.50960366163855\" text-anchor=\"middle\" font-family=\"Verdana\" font-size=\"7.5\" fill=\"rgb(0%, 0%, 0%)\" >A</text>\\n<circle cx=\"477.5\" cy=\"422.50960366163855\" r=\"5.0\" stroke=\"none\" stroke-width=\"1.0\" fill=\"rgb(100%, 0%, 0%)\"/>\\n<circle cx=\"477.5\" cy=\"422.50960366163855\" r=\"5.0\" stroke=\"rgb(35%, 35%, 35%)\" stroke-width=\"1.0\" fill=\"none\"/>\\n<text x=\"477.5\" y=\"425.50960366163855\" text-anchor=\"middle\" font-family=\"Verdana\" font-size=\"7.5\" fill=\"rgb(0%, 0%, 0%)\" >U</text>\\n<circle cx=\"495.0\" cy=\"422.50960366163855\" r=\"5.0\" stroke=\"none\" stroke-width=\"1.0\" fill=\"rgb(100%, 0%, 0%)\"/>\\n<circle cx=\"495.0\" cy=\"422.50960366163855\" r=\"5.0\" stroke=\"rgb(35%, 35%, 35%)\" stroke-width=\"1.0\" fill=\"none\"/>\\n<text x=\"495.0\" y=\"425.50960366163855\" text-anchor=\"middle\" font-family=\"Verdana\" font-size=\"7.5\" fill=\"rgb(0%, 0%, 0%)\" >U</text>\\n<circle cx=\"512.5\" cy=\"422.50960366163855\" r=\"5.0\" stroke=\"none\" stroke-width=\"1.0\" fill=\"rgb(100%, 0%, 0%)\"/>\\n<circle cx=\"512.5\" cy=\"422.50960366163855\" r=\"5.0\" stroke=\"rgb(35%, 35%, 35%)\" stroke-width=\"1.0\" fill=\"none\"/>\\n<text x=\"512.5\" y=\"425.50960366163855\" text-anchor=\"middle\" font-family=\"Verdana\" font-size=\"7.5\" fill=\"rgb(0%, 0%, 0%)\" >U</text>\\n<circle cx=\"530.0\" cy=\"422.50960366163855\" r=\"5.0\" stroke=\"none\" stroke-width=\"1.0\" fill=\"rgb(100%, 0%, 0%)\"/>\\n<circle cx=\"530.0\" cy=\"422.50960366163855\" r=\"5.0\" stroke=\"rgb(35%, 35%, 35%)\" stroke-width=\"1.0\" fill=\"none\"/>\\n<text x=\"530.0\" y=\"425.50960366163855\" text-anchor=\"middle\" font-family=\"Verdana\" font-size=\"7.5\" fill=\"rgb(0%, 0%, 0%)\" >G</text>\\n<circle cx=\"547.5\" cy=\"422.50960366163855\" r=\"5.0\" stroke=\"none\" stroke-width=\"1.0\" fill=\"rgb(100%, 0%, 0%)\"/>\\n<circle cx=\"547.5\" cy=\"422.50960366163855\" r=\"5.0\" stroke=\"rgb(35%, 35%, 35%)\" stroke-width=\"1.0\" fill=\"none\"/>\\n<text x=\"547.5\" y=\"425.50960366163855\" text-anchor=\"middle\" font-family=\"Verdana\" font-size=\"7.5\" fill=\"rgb(0%, 0%, 0%)\" >U</text>\\n<circle cx=\"565.0\" cy=\"422.50960366163855\" r=\"5.0\" stroke=\"none\" stroke-width=\"1.0\" fill=\"rgb(100%, 0%, 0%)\"/>\\n<circle cx=\"565.0\" cy=\"422.50960366163855\" r=\"5.0\" stroke=\"rgb(35%, 35%, 35%)\" stroke-width=\"1.0\" fill=\"none\"/>\\n<text x=\"565.0\" y=\"425.50960366163855\" text-anchor=\"middle\" font-family=\"Verdana\" font-size=\"7.5\" fill=\"rgb(0%, 0%, 0%)\" >G</text>\\n<circle cx=\"582.5\" cy=\"422.50960366163855\" r=\"5.0\" stroke=\"none\" stroke-width=\"1.0\" fill=\"rgb(100%, 0%, 0%)\"/>\\n<circle cx=\"582.5\" cy=\"422.50960366163855\" r=\"5.0\" stroke=\"rgb(35%, 35%, 35%)\" stroke-width=\"1.0\" fill=\"none\"/>\\n<text x=\"582.5\" y=\"425.50960366163855\" text-anchor=\"middle\" font-family=\"Verdana\" font-size=\"7.5\" fill=\"rgb(0%, 0%, 0%)\" >A</text>\\n<circle cx=\"600.0\" cy=\"422.50960366163855\" r=\"5.0\" stroke=\"none\" stroke-width=\"1.0\" fill=\"rgb(100%, 0%, 0%)\"/>\\n<circle cx=\"600.0\" cy=\"422.50960366163855\" r=\"5.0\" stroke=\"rgb(35%, 35%, 35%)\" stroke-width=\"1.0\" fill=\"none\"/>\\n<text x=\"600.0\" y=\"425.50960366163855\" text-anchor=\"middle\" font-family=\"Verdana\" font-size=\"7.5\" fill=\"rgb(0%, 0%, 0%)\" >G</text>\\n<circle cx=\"617.5\" cy=\"422.50960366163855\" r=\"5.0\" stroke=\"none\" stroke-width=\"1.0\" fill=\"rgb(100%, 0%, 0%)\"/>\\n<circle cx=\"617.5\" cy=\"422.50960366163855\" r=\"5.0\" stroke=\"rgb(35%, 35%, 35%)\" stroke-width=\"1.0\" fill=\"none\"/>\\n<text x=\"617.5\" y=\"425.50960366163855\" text-anchor=\"middle\" font-family=\"Verdana\" font-size=\"7.5\" fill=\"rgb(0%, 0%, 0%)\" >A</text>\\n<circle cx=\"635.0\" cy=\"422.50960366163855\" r=\"5.0\" stroke=\"none\" stroke-width=\"1.0\" fill=\"rgb(100%, 0%, 0%)\"/>\\n<circle cx=\"635.0\" cy=\"422.50960366163855\" r=\"5.0\" stroke=\"rgb(35%, 35%, 35%)\" stroke-width=\"1.0\" fill=\"none\"/>\\n<text x=\"635.0\" y=\"425.50960366163855\" text-anchor=\"middle\" font-family=\"Verdana\" font-size=\"7.5\" fill=\"rgb(0%, 0%, 0%)\" >C</text>\\n<circle cx=\"652.5\" cy=\"422.50960366163855\" r=\"5.0\" stroke=\"none\" stroke-width=\"1.0\" fill=\"rgb(100%, 0%, 0%)\"/>\\n<circle cx=\"652.5\" cy=\"422.50960366163855\" r=\"5.0\" stroke=\"rgb(35%, 35%, 35%)\" stroke-width=\"1.0\" fill=\"none\"/>\\n<text x=\"652.5\" y=\"425.50960366163855\" text-anchor=\"middle\" font-family=\"Verdana\" font-size=\"7.5\" fill=\"rgb(0%, 0%, 0%)\" >C</text>\\n<circle cx=\"670.0\" cy=\"422.50960366163855\" r=\"5.0\" stroke=\"none\" stroke-width=\"1.0\" fill=\"rgb(100%, 0%, 0%)\"/>\\n<circle cx=\"670.0\" cy=\"422.50960366163855\" r=\"5.0\" stroke=\"rgb(35%, 35%, 35%)\" stroke-width=\"1.0\" fill=\"none\"/>\\n<text x=\"670.0\" y=\"425.50960366163855\" text-anchor=\"middle\" font-family=\"Verdana\" font-size=\"7.5\" fill=\"rgb(0%, 0%, 0%)\" >C</text>\\n<line x1=\"10.0\" y1=\"430.0096036616385\" x2=\"10.0\" y2=\"435.0096036616385\" stroke=\"rgb(25%, 25%, 25%)\" stroke-width=\"1.0\" />\\n<text x=\"10.0\" y=\"445.5096036616385\" text-anchor=\"middle\" font-family=\"Verdana\" font-size=\"7.5\" fill=\"rgb(25%, 25%, 25%)\" >1</text>\\n<line x1=\"142.5\" y1=\"402.5096036616385\" x2=\"137.5\" y2=\"402.5096036616385\" stroke=\"rgb(25%, 25%, 25%)\" stroke-width=\"1.0\" />\\n<text x=\"130.0\" y=\"405.5096036616385\" text-anchor=\"middle\" font-family=\"Verdana\" font-size=\"7.5\" fill=\"rgb(25%, 25%, 25%)\" >10</text>\\n<line x1=\"189.99999454079742\" y1=\"322.50055446228987\" x2=\"194.99999090132903\" y2=\"322.4945216627241\" stroke=\"rgb(25%, 25%, 25%)\" stroke-width=\"1.0\" />\\n<text x=\"202.49998544212647\" y=\"325.48547246337534\" text-anchor=\"middle\" font-family=\"Verdana\" font-size=\"7.5\" fill=\"rgb(25%, 25%, 25%)\" >20</text>\\n<line x1=\"264.6966991411009\" y1=\"427.81290452053764\" x2=\"261.16116523516814\" y2=\"431.3484384264704\" stroke=\"rgb(25%, 25%, 25%)\" stroke-width=\"1.0\" />\\n<text x=\"255.85786437626905\" y=\"439.6517392853695\" text-anchor=\"middle\" font-family=\"Verdana\" font-size=\"7.5\" fill=\"rgb(25%, 25%, 25%)\" >30</text>\\n<line x1=\"236.57877005328925\" y1=\"236.39169255610204\" x2=\"231.88387374868046\" y2=\"238.1115613560315\" stroke=\"rgb(25%, 25%, 25%)\" stroke-width=\"1.0\" />\\n<text x=\"224.8415292917673\" y=\"243.69136455592573\" text-anchor=\"middle\" font-family=\"Verdana\" font-size=\"7.5\" fill=\"rgb(25%, 25%, 25%)\" >40</text>\\n<line x1=\"206.3221259410595\" y1=\"85.83506218665309\" x2=\"201.3221259410595\" y2=\"85.83506218665309\" stroke=\"rgb(25%, 25%, 25%)\" stroke-width=\"1.0\" />\\n<text x=\"193.8221259410595\" y=\"88.83506218665309\" text-anchor=\"middle\" font-family=\"Verdana\" font-size=\"7.5\" fill=\"rgb(25%, 25%, 25%)\" >50</text>\\n<line x1=\"253.64022264320693\" y1=\"67.47684800033869\" x2=\"258.5189537779719\" y2=\"68.57137187612909\" stroke=\"rgb(25%, 25%, 25%)\" stroke-width=\"1.0\" />\\n<text x=\"265.8370504801193\" y=\"73.21315768981464\" text-anchor=\"middle\" font-family=\"Verdana\" font-size=\"7.5\" fill=\"rgb(25%, 25%, 25%)\" >60</text>\\n<line x1=\"365.36775127652373\" y1=\"70.83839204146511\" x2=\"363.5171521100221\" y2=\"66.19347194258899\" stroke=\"rgb(25%, 25%, 25%)\" stroke-width=\"1.0\" />\\n<text x=\"360.74125336026964\" y=\"62.226091794274794\" text-anchor=\"middle\" font-family=\"Verdana\" font-size=\"7.5\" fill=\"rgb(25%, 25%, 25%)\" >70</text>\\n<line x1=\"336.48114191483046\" y1=\"147.34681912180923\" x2=\"337.69906952335356\" y2=\"152.1962162328321\" stroke=\"rgb(25%, 25%, 25%)\" stroke-width=\"1.0\" />\\n<text x=\"339.5259609361381\" y=\"162.4703118993665\" text-anchor=\"middle\" font-family=\"Verdana\" font-size=\"7.5\" fill=\"rgb(25%, 25%, 25%)\" >80</text>\\n<line x1=\"301.5654162429453\" y1=\"275.78421087611724\" x2=\"306.09144967870003\" y2=\"273.65935291888104\" stroke=\"rgb(25%, 25%, 25%)\" stroke-width=\"1.0\" />\\n<text x=\"312.8804998323322\" y=\"273.4720659830268\" text-anchor=\"middle\" font-family=\"Verdana\" font-size=\"7.5\" fill=\"rgb(25%, 25%, 25%)\" >90</text>\\n<line x1=\"337.5\" y1=\"430.00960366163855\" x2=\"337.5\" y2=\"435.00960366163855\" stroke=\"rgb(25%, 25%, 25%)\" stroke-width=\"1.0\" />\\n<text x=\"337.5\" y=\"445.50960366163855\" text-anchor=\"middle\" font-family=\"Verdana\" font-size=\"7.5\" fill=\"rgb(25%, 25%, 25%)\" >100</text>\\n<line x1=\"512.5\" y1=\"430.00960366163855\" x2=\"512.5\" y2=\"435.00960366163855\" stroke=\"rgb(25%, 25%, 25%)\" stroke-width=\"1.0\" />\\n<text x=\"512.5\" y=\"445.50960366163855\" text-anchor=\"middle\" font-family=\"Verdana\" font-size=\"7.5\" fill=\"rgb(25%, 25%, 25%)\" >110</text>\\n<line x1=\"670.0\" y1=\"430.00960366163855\" x2=\"670.0\" y2=\"435.00960366163855\" stroke=\"rgb(25%, 25%, 25%)\" stroke-width=\"1.0\" />\\n<text x=\"670.0\" y=\"445.50960366163855\" text-anchor=\"middle\" font-family=\"Verdana\" font-size=\"7.5\" fill=\"rgb(25%, 25%, 25%)\" >119</text>\\n</svg>\\n')"
      ]
     },
     "metadata": {},
     "output_type": "display_data"
    }
   ],
   "source": [
    "from varnaapi import Structure\n",
    "import varnaapi\n",
    "seq =  'GCUAAAACCGGCUUCGCUGGAAGCCUCCCGCCCAGGGCCUAGGCAGCACGCGAAAUUAGGCGACGGGAGAGGGUCGGAUCCCGACUGGGCAGCUGGGCAAUUUGUAAUUUGUGAGACCC'\n",
    "ss =  r'........((((((.....))))))....((((((.((((((...{{{(((........))).(((((..[[[[[...))))).))))))..))))))...........}}}..]]]]]'\n",
    "ss =  r'........((((((.....))))))....((((((.((((((......(((........))).(((((..........))))).))))))..)))))).....................'\n",
    "\n",
    "v = varnaapi.Structure(sequence=seq, structure=ss)\n",
    "# .update(bpStyle='simple', drawBackbone=True, bp='#006400', fillBases=True, spaceBetweenBases=1, resolution=2)\n",
    "\n",
    "\n",
    "v.update(bpStyle='simple', drawBackbone=True, bp='#006400', fillBases=True, spaceBetweenBases=1, resolution=2)\n",
    "style_leader = varnaapi.param.BasesStyle(fill=\"blue\")\n",
    "style_xrRNA = varnaapi.param.BasesStyle(fill=\"red\")\n",
    "\n",
    "v.add_bases_style(style_leader, list(range(1,28)))\n",
    "v.add_bases_style(style_xrRNA, list(range(28,len(ss)+1)))\n",
    "\n",
    "v.update(bpStyle='simple', drawBackbone=True, bp='#006400', fillBases=True, spaceBetweenBases=1, resolution=2)\n",
    "\n",
    "v.show()\n",
    "#v.savefig('/scr/aldea/kgutenbrunner/github/MA/xrRNA_design/MBFV_design/leader_design/structure.png')\n"
   ]
  },
  {
   "cell_type": "code",
   "execution_count": null,
   "metadata": {},
   "outputs": [],
   "source": []
  }
 ],
 "metadata": {
  "kernelspec": {
   "display_name": "thesis",
   "language": "python",
   "name": "python3"
  },
  "language_info": {
   "codemirror_mode": {
    "name": "ipython",
    "version": 3
   },
   "file_extension": ".py",
   "mimetype": "text/x-python",
   "name": "python",
   "nbconvert_exporter": "python",
   "pygments_lexer": "ipython3",
   "version": "3.12.2"
  }
 },
 "nbformat": 4,
 "nbformat_minor": 4
}
