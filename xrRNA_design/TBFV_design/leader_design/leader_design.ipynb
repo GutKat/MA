{
 "cells": [
  {
   "cell_type": "markdown",
   "metadata": {},
   "source": [
    "## design leader sequence"
   ]
  },
  {
   "cell_type": "code",
   "execution_count": 2,
   "metadata": {
    "execution": {
     "iopub.execute_input": "2024-07-21T12:04:54.990237Z",
     "iopub.status.busy": "2024-07-21T12:04:54.989928Z",
     "iopub.status.idle": "2024-07-21T12:04:55.572138Z",
     "shell.execute_reply": "2024-07-21T12:04:55.571882Z",
     "shell.execute_reply.started": "2024-07-21T12:04:54.990210Z"
    }
   },
   "outputs": [
    {
     "name": "stderr",
     "output_type": "stream",
     "text": [
      "/tmp/ipykernel_617654/185338957.py:7: DeprecationWarning: \n",
      "Pyarrow will become a required dependency of pandas in the next major release of pandas (pandas 3.0),\n",
      "(to allow more performant data types, such as the Arrow string type, and better interoperability with other libraries)\n",
      "but was not found to be installed on your system.\n",
      "If this would cause problems for you,\n",
      "please provide us feedback at https://github.com/pandas-dev/pandas/issues/54466\n",
      "        \n",
      "  import pandas as pd\n"
     ]
    }
   ],
   "source": [
    "import infrared as ir\n",
    "import infrared.rna as rna\n",
    "import RNA\n",
    "from tqdm import tqdm\n",
    "from matplotlib import pyplot as plt\n",
    "import numpy as np\n",
    "import pandas as pd"
   ]
  },
  {
   "cell_type": "code",
   "execution_count": 3,
   "metadata": {
    "execution": {
     "iopub.execute_input": "2024-07-21T12:04:55.573187Z",
     "iopub.status.busy": "2024-07-21T12:04:55.573051Z",
     "iopub.status.idle": "2024-07-21T12:04:55.575242Z",
     "shell.execute_reply": "2024-07-21T12:04:55.574975Z",
     "shell.execute_reply.started": "2024-07-21T12:04:55.573178Z"
    }
   },
   "outputs": [],
   "source": [
    "def remove_positioned_gaps(sequence, structure):\n",
    "    remove = [i for i, nt in enumerate(sequence) if nt == '-']\n",
    "    new_ss = [structure[i] for i in range(len(structure)) if i not in remove]\n",
    "    return ''.join(new_ss)"
   ]
  },
  {
   "cell_type": "code",
   "execution_count": 104,
   "metadata": {
    "execution": {
     "iopub.execute_input": "2024-07-21T12:04:55.575717Z",
     "iopub.status.busy": "2024-07-21T12:04:55.575635Z",
     "iopub.status.idle": "2024-07-21T12:04:55.577763Z",
     "shell.execute_reply": "2024-07-21T12:04:55.577534Z",
     "shell.execute_reply.started": "2024-07-21T12:04:55.575709Z"
    }
   },
   "outputs": [
    {
     "name": "stdout",
     "output_type": "stream",
     "text": [
      "CCGCCCAGGGCCUAGGCAGCACGCGAAAUUAGGCGACGGGAGAGGGUCGGAUCCCGACUGGGCAGCUGGGCAAUUUGUAAUUUGUGAGACCC\n",
      "..((((((.((((((......(((........))).(((((..........))))).))))))..)))))).....................\n",
      "..................(((.............................................................))).......\n",
      "...........................................(((((.......................................)))))\n"
     ]
    }
   ],
   "source": [
    "design_09 =   'CCGCCCAG-G-GCCUA-GGCAGCACGC--GAAAUUAG---GCGACGGGA--GA--GGGUCGGA--UCCCGAC-UGGGCAG-CUGGGCAAUUUGUAA----UUUGUGAGACCC'\n",
    "a =           \"NNNNNNNNXXXNNNNXXGGCAGCRCRCXXNNNXXXXXXXXGYGACGGGXXXXXXXXGGUCXXXXXXCCCGACXXNNNNXXXNNNNNNNNNNNNXXXXXXXUUYGUGAXGACC\"\n",
    "structures = ['..(((((((..(((((((......(((((.........))))).(((((((............))))))).)))))))..))))))).........................',\n",
    "\t\t      '.....................(((..............................................................................))).......',\n",
    "\t\t      '.......................................................(((((...............................................)))))']\n",
    " \n",
    "xrRNA_ss = [remove_positioned_gaps(design_09, ss) for ss in structures]\n",
    "xrRNA_seq = design_09.replace('-','')\n",
    "print(xrRNA_seq)\n",
    "for i in xrRNA_ss: print(i)"
   ]
  },
  {
   "cell_type": "code",
   "execution_count": 6,
   "metadata": {
    "execution": {
     "iopub.execute_input": "2024-07-21T12:04:55.580173Z",
     "iopub.status.busy": "2024-07-21T12:04:55.580102Z",
     "iopub.status.idle": "2024-07-21T12:04:55.582050Z",
     "shell.execute_reply": "2024-07-21T12:04:55.581810Z",
     "shell.execute_reply.started": "2024-07-21T12:04:55.580165Z"
    }
   },
   "outputs": [],
   "source": [
    "extended_iupac_nucleotides = {\n",
    "    'A': 'A',\n",
    "    'C': 'C',\n",
    "    'G': 'G',\n",
    "    'U': 'U',\n",
    "    'R': 'AG',\n",
    "    'N': 'ACGU',\n",
    "    'X': 'ACGU-',\n",
    "    '-': '-',\n",
    "    '.': '-'\n",
    "}\n",
    "\n",
    "\n",
    "def iupacvalues(symbol):\n",
    "    return [ rna.nucleotide_to_value(x) for x in extended_iupac_nucleotides[symbol] ]\n",
    "\n",
    "def sample_to_seq(sample):\n",
    "    return rna.values_to_seq(sample.values())\n",
    "\n",
    "def calculate_gc(seq):\n",
    "    seq = seq.upper()\n",
    "    return (seq.count('G') + seq.count('C')) / len(seq)"
   ]
  },
  {
   "cell_type": "code",
   "execution_count": 47,
   "metadata": {
    "execution": {
     "iopub.execute_input": "2024-07-21T12:04:55.593791Z",
     "iopub.status.busy": "2024-07-21T12:04:55.593698Z",
     "iopub.status.idle": "2024-07-21T12:06:43.751939Z",
     "shell.execute_reply": "2024-07-21T12:06:43.751661Z",
     "shell.execute_reply.started": "2024-07-21T12:04:55.593782Z"
    }
   },
   "outputs": [
    {
     "name": "stderr",
     "output_type": "stream",
     "text": [
      "100%|██████████| 10000/10000 [00:01<00:00, 9836.87it/s]\n"
     ]
    }
   ],
   "source": [
    "## GCUAA stays unpaired\n",
    "target_leader =         \".........((((((....))))))....\"\n",
    "iupac_sequence = 'GCUAANNNXNNNNNXNNNXXNNNNNNNXX'\n",
    "n = len(target_leader)\n",
    "model = ir.Model()\n",
    "model.add_variables(n, 5)\n",
    "\n",
    "for i, x in enumerate(iupac_sequence):\n",
    "    model.add_constraints(ir.ValueIn(i, iupacvalues(x)))\n",
    "\n",
    "model.add_constraints(rna.BPComp(i,j) for (i,j) in rna.parse(target_leader))\n",
    "model.add_functions([rna.GCCont(i) for i in range(n)], 'gc')\n",
    "\n",
    "sampler = ir.Sampler(model)\n",
    "# samples = [sample_to_seq(sampler.sample()) for _ in range(10000)]\n",
    "sampler.set_target( 0.5 * n, 0.1 * n, 'gc' )\n",
    "samples = [sample_to_seq(sampler.targeted_sample()) for _ in tqdm(range(10000))]"
   ]
  },
  {
   "cell_type": "code",
   "execution_count": 48,
   "metadata": {
    "execution": {
     "iopub.execute_input": "2024-07-21T12:06:43.752576Z",
     "iopub.status.busy": "2024-07-21T12:06:43.752478Z",
     "iopub.status.idle": "2024-07-21T12:06:43.755001Z",
     "shell.execute_reply": "2024-07-21T12:06:43.754527Z",
     "shell.execute_reply.started": "2024-07-21T12:06:43.752565Z"
    }
   },
   "outputs": [],
   "source": [
    "def target_frequency(sequence, ss):\n",
    "    fc = RNA.fold_compound(sequence.replace('-',''))\n",
    "    fc.pf()\n",
    "    return fc.pr_structure(ss)\n",
    "\n",
    "def acceptable_seq(seq, ss):\n",
    "    if not ss.startswith('........'):\n",
    "        return False\n",
    "    return True"
   ]
  },
  {
   "cell_type": "code",
   "execution_count": 49,
   "metadata": {
    "execution": {
     "iopub.execute_input": "2024-07-21T12:06:43.759015Z",
     "iopub.status.busy": "2024-07-21T12:06:43.758894Z",
     "iopub.status.idle": "2024-07-21T12:13:05.206014Z",
     "shell.execute_reply": "2024-07-21T12:13:05.205727Z",
     "shell.execute_reply.started": "2024-07-21T12:06:43.759004Z"
    }
   },
   "outputs": [
    {
     "name": "stderr",
     "output_type": "stream",
     "text": [
      "  0%|          | 0/10000 [00:00<?, ?it/s]"
     ]
    },
    {
     "name": "stderr",
     "output_type": "stream",
     "text": [
      "100%|██████████| 10000/10000 [00:02<00:00, 4634.38it/s]\n"
     ]
    }
   ],
   "source": [
    "ok_leader= []\n",
    "for seq in tqdm(samples):\n",
    "    seq_ = seq.replace('-','')\n",
    "    fc  = RNA.fold_compound(seq_)\n",
    "    (ss, mfe) = fc.mfe()\n",
    "    if acceptable_seq(seq_, ss):\n",
    "        ok_leader.append(seq)"
   ]
  },
  {
   "cell_type": "code",
   "execution_count": 50,
   "metadata": {
    "execution": {
     "iopub.execute_input": "2024-07-21T12:13:05.206599Z",
     "iopub.status.busy": "2024-07-21T12:13:05.206510Z",
     "iopub.status.idle": "2024-07-21T12:13:05.209154Z",
     "shell.execute_reply": "2024-07-21T12:13:05.208890Z",
     "shell.execute_reply.started": "2024-07-21T12:13:05.206590Z"
    }
   },
   "outputs": [
    {
     "data": {
      "text/plain": [
       "4102"
      ]
     },
     "execution_count": 50,
     "metadata": {},
     "output_type": "execute_result"
    }
   ],
   "source": [
    "len(ok_leader)"
   ]
  },
  {
   "cell_type": "code",
   "execution_count": 51,
   "metadata": {
    "execution": {
     "iopub.execute_input": "2024-07-21T19:30:14.919629Z",
     "iopub.status.busy": "2024-07-21T19:30:14.919469Z",
     "iopub.status.idle": "2024-07-21T19:30:14.922542Z",
     "shell.execute_reply": "2024-07-21T19:30:14.921964Z",
     "shell.execute_reply.started": "2024-07-21T19:30:14.919619Z"
    }
   },
   "outputs": [],
   "source": [
    "def test_suboptimal_ss(leader_seq, xrRNA_seq, xrRNA_ss):\n",
    "    target_ss = remove_positioned_gaps(leader_seq, target)\n",
    "    target_ss = target_ss + xrRNA_ss\n",
    "\n",
    "\n",
    "    seq = leader_seq.replace('-','') + xrRNA_seq\n",
    "\n",
    "    fc = RNA.fold_compound(seq)\n",
    "    (ss, mfe) = fc.mfe()\n",
    "    strikes = 0\n",
    "    for s in fc.subopt(500):\n",
    "        if s.structure[len(leader_seq):] != xrRNA_ss or not s.structure.startswith('.....'):\n",
    "            return False\n",
    "    return True"
   ]
  },
  {
   "cell_type": "code",
   "execution_count": 62,
   "metadata": {
    "execution": {
     "iopub.execute_input": "2024-07-21T19:42:08.509657Z",
     "iopub.status.busy": "2024-07-21T19:42:08.509426Z",
     "iopub.status.idle": "2024-07-21T19:42:08.512875Z",
     "shell.execute_reply": "2024-07-21T19:42:08.512339Z",
     "shell.execute_reply.started": "2024-07-21T19:42:08.509641Z"
    }
   },
   "outputs": [],
   "source": [
    "def print_suboptimal_ss(leader_seq, xrRNA_seq, xrRNA_ss, sample_size=1000):\n",
    "    ss_leader = remove_positioned_gaps(leader_seq, target)\n",
    "    target_ss = ss_leader + xrRNA_ss\n",
    "\n",
    "    seq = leader_seq.replace('-','') + xrRNA_seq\n",
    "    \n",
    "    fc = RNA.fold_compound(seq)\n",
    "    (ss, mfe) = fc.mfe()\n",
    "    suboptimal_ss = []\n",
    "    for s in fc.subopt(sample_size):\n",
    "        if s.structure not in suboptimal_ss:\n",
    "            print(seq)\n",
    "            print(f\"{s.structure}\\t{s.energy:6.2f}\")\n",
    "            print(f'{\"-\" * len(ss_leader) + \"+\" * len(xrRNA_seq)}\\n')\n",
    "            suboptimal_ss.append(s.structure)\n",
    "    return True"
   ]
  },
  {
   "cell_type": "code",
   "execution_count": 53,
   "metadata": {
    "execution": {
     "iopub.execute_input": "2024-07-21T12:13:05.215488Z",
     "iopub.status.busy": "2024-07-21T12:13:05.215387Z",
     "iopub.status.idle": "2024-07-21T12:13:05.218378Z",
     "shell.execute_reply": "2024-07-21T12:13:05.218023Z",
     "shell.execute_reply.started": "2024-07-21T12:13:05.215477Z"
    }
   },
   "outputs": [],
   "source": [
    "def test_interaction(leader_seq, xrRNA_seq, xrRNA_ss,threshold = 0.01):\n",
    "    leader_seq = leader_seq.replace('-','')\n",
    "\n",
    "    seq = leader_seq + xrRNA_seq\n",
    "    fold_compound = RNA.fold_compound(seq)\n",
    "    fold_compound.pf()\n",
    "    base_pair_probs = np.array(fold_compound.bpp())\n",
    "    for i in range(len(leader_seq)):\n",
    "        for j in range(len(leader_seq), len(seq)):\n",
    "            if base_pair_probs[i][j] > threshold:  # Adjust threshold as needed\n",
    "                return False\n",
    "    return True"
   ]
  },
  {
   "cell_type": "code",
   "execution_count": 54,
   "metadata": {
    "execution": {
     "iopub.execute_input": "2024-07-21T12:13:05.219023Z",
     "iopub.status.busy": "2024-07-21T12:13:05.218910Z",
     "iopub.status.idle": "2024-07-21T14:11:23.495452Z",
     "shell.execute_reply": "2024-07-21T14:11:23.495002Z",
     "shell.execute_reply.started": "2024-07-21T12:13:05.219011Z"
    }
   },
   "outputs": [
    {
     "name": "stderr",
     "output_type": "stream",
     "text": [
      "100%|██████████| 4102/4102 [01:40<00:00, 40.93it/s]\n"
     ]
    }
   ],
   "source": [
    "good_candidates = []\n",
    "\n",
    "for seq in tqdm(ok_leader):\n",
    "    if test_interaction(seq, xrRNA_seq, xrRNA_ss[0], 0.05):\n",
    "        good_candidates.append(seq)\n",
    "\n"
   ]
  },
  {
   "cell_type": "code",
   "execution_count": 55,
   "metadata": {
    "execution": {
     "iopub.execute_input": "2024-07-21T14:11:23.496489Z",
     "iopub.status.busy": "2024-07-21T14:11:23.496261Z",
     "iopub.status.idle": "2024-07-21T14:11:23.499768Z",
     "shell.execute_reply": "2024-07-21T14:11:23.499457Z",
     "shell.execute_reply.started": "2024-07-21T14:11:23.496473Z"
    }
   },
   "outputs": [
    {
     "data": {
      "text/plain": [
       "29"
      ]
     },
     "execution_count": 55,
     "metadata": {},
     "output_type": "execute_result"
    }
   ],
   "source": [
    "len(good_candidates)"
   ]
  },
  {
   "cell_type": "code",
   "execution_count": 56,
   "metadata": {
    "execution": {
     "iopub.execute_input": "2024-07-21T14:25:17.465170Z",
     "iopub.status.busy": "2024-07-21T14:25:17.464797Z",
     "iopub.status.idle": "2024-07-21T16:15:53.529770Z",
     "shell.execute_reply": "2024-07-21T16:15:53.529260Z",
     "shell.execute_reply.started": "2024-07-21T14:25:17.465143Z"
    }
   },
   "outputs": [
    {
     "name": "stderr",
     "output_type": "stream",
     "text": [
      "  0%|          | 0/4102 [00:00<?, ?it/s]"
     ]
    },
    {
     "name": "stderr",
     "output_type": "stream",
     "text": [
      "  0%|          | 3/4102 [00:00<03:04, 22.28it/s]"
     ]
    },
    {
     "name": "stdout",
     "output_type": "stream",
     "text": [
      "0.07\n",
      "0.09\n"
     ]
    },
    {
     "name": "stderr",
     "output_type": "stream",
     "text": [
      "  0%|          | 12/4102 [00:00<02:01, 33.55it/s]"
     ]
    },
    {
     "name": "stdout",
     "output_type": "stream",
     "text": [
      "0.24\n"
     ]
    },
    {
     "name": "stderr",
     "output_type": "stream",
     "text": [
      "  3%|▎         | 121/4102 [00:03<01:36, 41.45it/s]"
     ]
    },
    {
     "name": "stdout",
     "output_type": "stream",
     "text": [
      "0.24\n"
     ]
    },
    {
     "name": "stderr",
     "output_type": "stream",
     "text": [
      "  3%|▎         | 135/4102 [00:03<01:45, 37.66it/s]"
     ]
    },
    {
     "name": "stdout",
     "output_type": "stream",
     "text": [
      "0.26\n"
     ]
    },
    {
     "name": "stderr",
     "output_type": "stream",
     "text": [
      "  6%|▋         | 257/4102 [00:06<01:30, 42.55it/s]"
     ]
    },
    {
     "name": "stdout",
     "output_type": "stream",
     "text": [
      "0.42\n"
     ]
    },
    {
     "name": "stderr",
     "output_type": "stream",
     "text": [
      " 17%|█▋        | 715/4102 [00:16<01:19, 42.75it/s]"
     ]
    },
    {
     "name": "stdout",
     "output_type": "stream",
     "text": [
      "0.43\n"
     ]
    },
    {
     "name": "stderr",
     "output_type": "stream",
     "text": [
      " 22%|██▏       | 909/4102 [00:21<01:11, 44.43it/s]"
     ]
    },
    {
     "name": "stdout",
     "output_type": "stream",
     "text": [
      "0.5\n"
     ]
    },
    {
     "name": "stderr",
     "output_type": "stream",
     "text": [
      "100%|██████████| 4102/4102 [01:37<00:00, 41.90it/s]\n"
     ]
    }
   ],
   "source": [
    "best_seq = None\n",
    "best_freq = 0\n",
    "for seq in tqdm(ok_leader):\n",
    "    target_ss = remove_positioned_gaps(seq, target_leader)\n",
    "    target_ss += xrRNA_ss[0]\n",
    "    \n",
    "    whole_seq = seq + xrRNA_seq\n",
    "    cur_freq = target_frequency(whole_seq, target_ss)\n",
    "    if cur_freq > best_freq:\n",
    "        best_freq = cur_freq\n",
    "        best_seq = seq\n",
    "        print(round(target_frequency(whole_seq, target_ss), 2))\n",
    "print(best_seq)"
   ]
  },
  {
   "cell_type": "code",
   "execution_count": 59,
   "metadata": {},
   "outputs": [
    {
     "name": "stderr",
     "output_type": "stream",
     "text": [
      " 41%|████▏     | 12/29 [00:00<00:00, 40.18it/s]"
     ]
    },
    {
     "name": "stdout",
     "output_type": "stream",
     "text": [
      "0.42\n",
      "0.5\n"
     ]
    },
    {
     "name": "stderr",
     "output_type": "stream",
     "text": [
      "100%|██████████| 29/29 [00:00<00:00, 42.03it/s]"
     ]
    },
    {
     "name": "stdout",
     "output_type": "stream",
     "text": [
      "GCUAAACUAGGAGGGGAAACCCUCCAUCC\n"
     ]
    },
    {
     "name": "stderr",
     "output_type": "stream",
     "text": [
      "\n"
     ]
    }
   ],
   "source": [
    "best_seq = None\n",
    "best_freq = 0\n",
    "for seq in tqdm(good_candidates):\n",
    "    target_ss = remove_positioned_gaps(seq, target_leader)\n",
    "    target_ss += xrRNA_ss[0]\n",
    "    \n",
    "    whole_seq = seq + xrRNA_seq\n",
    "    cur_freq = target_frequency(whole_seq, target_ss)\n",
    "    if cur_freq > best_freq:\n",
    "        best_freq = cur_freq\n",
    "        best_seq = seq\n",
    "        print(round(target_frequency(whole_seq, target_ss), 2))\n",
    "\n",
    "print(best_seq)"
   ]
  },
  {
   "cell_type": "code",
   "execution_count": 73,
   "metadata": {
    "execution": {
     "iopub.execute_input": "2024-07-21T14:11:23.503617Z",
     "iopub.status.busy": "2024-07-21T14:11:23.503521Z",
     "iopub.status.idle": "2024-07-21T14:11:23.505954Z",
     "shell.execute_reply": "2024-07-21T14:11:23.505655Z",
     "shell.execute_reply.started": "2024-07-21T14:11:23.503607Z"
    }
   },
   "outputs": [],
   "source": [
    "good_candidates_stored = ['GCUAAAAC-CAUAGCCGUAGCUAUGAU-C', 'GCUAAACUAGGAGGGGAAACCCUCCAUCC','GCUAAAGA-GCUUGCGUAAAGCAAGCAA--']"
   ]
  },
  {
   "cell_type": "code",
   "execution_count": 70,
   "metadata": {},
   "outputs": [],
   "source": [
    "best_seq = 'GCUAAACUAGGAGGGGAAACCCUCCAUCC'"
   ]
  },
  {
   "cell_type": "code",
   "execution_count": 76,
   "metadata": {
    "execution": {
     "iopub.execute_input": "2024-07-21T19:43:04.156957Z",
     "iopub.status.busy": "2024-07-21T19:43:04.156743Z",
     "iopub.status.idle": "2024-07-21T19:43:04.165266Z",
     "shell.execute_reply": "2024-07-21T19:43:04.164968Z",
     "shell.execute_reply.started": "2024-07-21T19:43:04.156943Z"
    }
   },
   "outputs": [
    {
     "name": "stdout",
     "output_type": "stream",
     "text": [
      "GCUAAAGAGCUUGCGUAAAGCAAGCAACCGCCCAGGGCCUAGGCAGCACGCGAAAUUAGGCGACGGGAGAGGGUCGGAUCCCGACUGGGCAGCUGGGCAAUUUGUAAUUUGUGAGACCC\n",
      "........((((((.....))))))....((((((.((((((......(((........))).(((((..........))))).))))))..)))))).....................\t-42.50\n",
      "---------------------------++++++++++++++++++++++++++++++++++++++++++++++++++++++++++++++++++++++++++++++++++++++++++++\n",
      "\n",
      "GCUAAAGAGCUUGCGUAAAGCAAGCAACCGCCCAGGGCCUAGGCAGCACGCGAAAUUAGGCGACGGGAGAGGGUCGGAUCCCGACUGGGCAGCUGGGCAAUUUGUAAUUUGUGAGACCC\n",
      "........((((((.....))))))....((((((.((((((......(((........))).(((((..(...)...))))).))))))..)))))).....................\t-41.30\n",
      "---------------------------++++++++++++++++++++++++++++++++++++++++++++++++++++++++++++++++++++++++++++++++++++++++++++\n",
      "\n",
      "GCUAAAGAGCUUGCGUAAAGCAAGCAACCGCCCAGGGCCUAGGCAGCACGCGAAAUUAGGCGACGGGAGAGGGUCGGAUCCCGACUGGGCAGCUGGGCAAUUUGUAAUUUGUGAGACCC\n",
      "........((((((.....))))))....((((((.((((((......(((........))).(((((((...))...))))).))))))..)))))).....................\t-40.60\n",
      "---------------------------++++++++++++++++++++++++++++++++++++++++++++++++++++++++++++++++++++++++++++++++++++++++++++\n",
      "\n",
      "GCUAAAGAGCUUGCGUAAAGCAAGCAACCGCCCAGGGCCUAGGCAGCACGCGAAAUUAGGCGACGGGAGAGGGUCGGAUCCCGACUGGGCAGCUGGGCAAUUUGUAAUUUGUGAGACCC\n",
      "........((((((.....))))))....((((((.((((((......(((........)))..((((..........))))..))))))..)))))).....................\t-40.50\n",
      "---------------------------++++++++++++++++++++++++++++++++++++++++++++++++++++++++++++++++++++++++++++++++++++++++++++\n",
      "\n",
      "GCUAAAGAGCUUGCGUAAAGCAAGCAACCGCCCAGGGCCUAGGCAGCACGCGAAAUUAGGCGACGGGAGAGGGUCGGAUCCCGACUGGGCAGCUGGGCAAUUUGUAAUUUGUGAGACCC\n",
      "........((((((.....))))))....((((((.((((((.......((........))..(((((..........))))).))))))..)))))).....................\t-40.50\n",
      "---------------------------++++++++++++++++++++++++++++++++++++++++++++++++++++++++++++++++++++++++++++++++++++++++++++\n",
      "\n",
      "GCUAAAGAGCUUGCGUAAAGCAAGCAACCGCCCAGGGCCUAGGCAGCACGCGAAAUUAGGCGACGGGAGAGGGUCGGAUCCCGACUGGGCAGCUGGGCAAUUUGUAAUUUGUGAGACCC\n",
      "........((((((.....))))))....((((((.((((((......(((........))).((((............)))).))))))..)))))).....................\t-40.20\n",
      "---------------------------++++++++++++++++++++++++++++++++++++++++++++++++++++++++++++++++++++++++++++++++++++++++++++\n",
      "\n",
      "GCUAAAGAGCUUGCGUAAAGCAAGCAACCGCCCAGGGCCUAGGCAGCACGCGAAAUUAGGCGACGGGAGAGGGUCGGAUCCCGACUGGGCAGCUGGGCAAUUUGUAAUUUGUGAGACCC\n",
      "......(.((((((.....))))))...)((((((.((((((......(((........))).(((((..........))))).))))))..)))))).....................\t-40.10\n",
      "---------------------------++++++++++++++++++++++++++++++++++++++++++++++++++++++++++++++++++++++++++++++++++++++++++++\n",
      "\n",
      "GCUAAAGAGCUUGCGUAAAGCAAGCAACCGCCCAGGGCCUAGGCAGCACGCGAAAUUAGGCGACGGGAGAGGGUCGGAUCCCGACUGGGCAGCUGGGCAAUUUGUAAUUUGUGAGACCC\n",
      ".((.....((((((.....))))))....((((((.((((((......(((........))).(((((..........))))).))))))..))))))...............))....\t-39.90\n",
      "---------------------------++++++++++++++++++++++++++++++++++++++++++++++++++++++++++++++++++++++++++++++++++++++++++++\n",
      "\n",
      "GCUAAAGAGCUUGCGUAAAGCAAGCAACCGCCCAGGGCCUAGGCAGCACGCGAAAUUAGGCGACGGGAGAGGGUCGGAUCCCGACUGGGCAGCUGGGCAAUUUGUAAUUUGUGAGACCC\n",
      "........((((((.....))))))((..((((((.((((((......(((........))).(((((..........))))).))))))..))))))..)).................\t-39.90\n",
      "---------------------------++++++++++++++++++++++++++++++++++++++++++++++++++++++++++++++++++++++++++++++++++++++++++++\n",
      "\n",
      "GCUAAAGAGCUUGCGUAAAGCAAGCAACCGCCCAGGGCCUAGGCAGCACGCGAAAUUAGGCGACGGGAGAGGGUCGGAUCCCGACUGGGCAGCUGGGCAAUUUGUAAUUUGUGAGACCC\n",
      "........((((((.....))))))....((((((.((((((.(....(((........)))..((((..........))))).))))))..)))))).....................\t-39.90\n",
      "---------------------------++++++++++++++++++++++++++++++++++++++++++++++++++++++++++++++++++++++++++++++++++++++++++++\n",
      "\n",
      "GCUAAAGAGCUUGCGUAAAGCAAGCAACCGCCCAGGGCCUAGGCAGCACGCGAAAUUAGGCGACGGGAGAGGGUCGGAUCCCGACUGGGCAGCUGGGCAAUUUGUAAUUUGUGAGACCC\n",
      "........((((((.....))))))....((((((.((((((......(((........))).((((((.....)...))))).))))))..)))))).....................\t-39.90\n",
      "---------------------------++++++++++++++++++++++++++++++++++++++++++++++++++++++++++++++++++++++++++++++++++++++++++++\n",
      "\n",
      "GCUAAAGAGCUUGCGUAAAGCAAGCAACCGCCCAGGGCCUAGGCAGCACGCGAAAUUAGGCGACGGGAGAGGGUCGGAUCCCGACUGGGCAGCUGGGCAAUUUGUAAUUUGUGAGACCC\n",
      "((......((((((.....))))))....((((((.((((((......(((........))).(((((..........))))).))))))..)))))).....))..............\t-39.80\n",
      "---------------------------++++++++++++++++++++++++++++++++++++++++++++++++++++++++++++++++++++++++++++++++++++++++++++\n",
      "\n",
      "GCUAAAGAGCUUGCGUAAAGCAAGCAACCGCCCAGGGCCUAGGCAGCACGCGAAAUUAGGCGACGGGAGAGGGUCGGAUCCCGACUGGGCAGCUGGGCAAUUUGUAAUUUGUGAGACCC\n",
      "((......((((((.....))))))....((((((.((((((......(((........))).(((((..........))))).))))))..))))))............)).......\t-39.80\n",
      "---------------------------++++++++++++++++++++++++++++++++++++++++++++++++++++++++++++++++++++++++++++++++++++++++++++\n",
      "\n",
      "GCUAAAGAGCUUGCGUAAAGCAAGCAACCGCCCAGGGCCUAGGCAGCACGCGAAAUUAGGCGACGGGAGAGGGUCGGAUCCCGACUGGGCAGCUGGGCAAUUUGUAAUUUGUGAGACCC\n",
      "........((((((.....))))))....((((((.((((((......(((........))).(((((..........))))).))))))..))))))((((...))))..........\t-39.60\n",
      "---------------------------++++++++++++++++++++++++++++++++++++++++++++++++++++++++++++++++++++++++++++++++++++++++++++\n",
      "\n",
      "GCUAAAGAGCUUGCGUAAAGCAAGCAACCGCCCAGGGCCUAGGCAGCACGCGAAAUUAGGCGACGGGAGAGGGUCGGAUCCCGACUGGGCAGCUGGGCAAUUUGUAAUUUGUGAGACCC\n",
      "........((((((.....))))))....((((((.((((((......(((........))).(((((..........))))).))))))..))))))............((...))..\t-39.60\n",
      "---------------------------++++++++++++++++++++++++++++++++++++++++++++++++++++++++++++++++++++++++++++++++++++++++++++\n",
      "\n",
      "GCUAAAGAGCUUGCGUAAAGCAAGCAACCGCCCAGGGCCUAGGCAGCACGCGAAAUUAGGCGACGGGAGAGGGUCGGAUCCCGACUGGGCAGCUGGGCAAUUUGUAAUUUGUGAGACCC\n",
      ".((...((((((((.....))))))....((((((.((((((......(((........))).(((((..........))))).))))))..))))))..........))...))....\t-39.50\n",
      "---------------------------++++++++++++++++++++++++++++++++++++++++++++++++++++++++++++++++++++++++++++++++++++++++++++\n",
      "\n",
      "GCUAAAGAGCUUGCGUAAAGCAAGCAACCGCCCAGGGCCUAGGCAGCACGCGAAAUUAGGCGACGGGAGAGGGUCGGAUCCCGACUGGGCAGCUGGGCAAUUUGUAAUUUGUGAGACCC\n",
      "......(.((((((.....))))))..).((((((.((((((......(((........))).(((((..........))))).))))))..)))))).....................\t-39.50\n",
      "---------------------------++++++++++++++++++++++++++++++++++++++++++++++++++++++++++++++++++++++++++++++++++++++++++++\n",
      "\n",
      "GCUAAAGAGCUUGCGUAAAGCAAGCAACCGCCCAGGGCCUAGGCAGCACGCGAAAUUAGGCGACGGGAGAGGGUCGGAUCCCGACUGGGCAGCUGGGCAAUUUGUAAUUUGUGAGACCC\n",
      "........((((((.....))))))....((((((.((((((((.....))............(((((..........))))).))))))..)))))).....................\t-39.50\n",
      "---------------------------++++++++++++++++++++++++++++++++++++++++++++++++++++++++++++++++++++++++++++++++++++++++++++\n",
      "\n",
      "GCUAAAGAGCUUGCGUAAAGCAAGCAACCGCCCAGGGCCUAGGCAGCACGCGAAAUUAGGCGACGGGAGAGGGUCGGAUCCCGACUGGGCAGCUGGGCAAUUUGUAAUUUGUGAGACCC\n",
      "........((((((.....))))))....((((((.((((((......(((........))).(((((..........))))).))))))..))))))..(((..........)))...\t-39.50\n",
      "---------------------------++++++++++++++++++++++++++++++++++++++++++++++++++++++++++++++++++++++++++++++++++++++++++++\n",
      "\n",
      "GCUAAAGAGCUUGCGUAAAGCAAGCAACCGCCCAGGGCCUAGGCAGCACGCGAAAUUAGGCGACGGGAGAGGGUCGGAUCCCGACUGGGCAGCUGGGCAAUUUGUAAUUUGUGAGACCC\n",
      "........((((((.....))))))....((((((.((((((......(((........))).(((((..........))))).))))))..)))))).....((..........))..\t-39.50\n",
      "---------------------------++++++++++++++++++++++++++++++++++++++++++++++++++++++++++++++++++++++++++++++++++++++++++++\n",
      "\n",
      "GCUAAAGAGCUUGCGUAAAGCAAGCAACCGCCCAGGGCCUAGGCAGCACGCGAAAUUAGGCGACGGGAGAGGGUCGGAUCCCGACUGGGCAGCUGGGCAAUUUGUAAUUUGUGAGACCC\n",
      "........((((((.....))))))....((((((.((((((......(((........)))........(((......)))..))))))..)))))).....................\t-39.50\n",
      "---------------------------++++++++++++++++++++++++++++++++++++++++++++++++++++++++++++++++++++++++++++++++++++++++++++\n",
      "\n",
      "GCUAAAGAGCUUGCGUAAAGCAAGCAACCGCCCAGGGCCUAGGCAGCACGCGAAAUUAGGCGACGGGAGAGGGUCGGAUCCCGACUGGGCAGCUGGGCAAUUUGUAAUUUGUGAGACCC\n",
      "........((((((.....))))))....((((((.(((((((...).(((........))).(((((..........))))).))))))..)))))).....................\t-39.40\n",
      "---------------------------++++++++++++++++++++++++++++++++++++++++++++++++++++++++++++++++++++++++++++++++++++++++++++\n",
      "\n",
      "GCUAAAGAGCUUGCGUAAAGCAAGCAACCGCCCAGGGCCUAGGCAGCACGCGAAAUUAGGCGACGGGAGAGGGUCGGAUCCCGACUGGGCAGCUGGGCAAUUUGUAAUUUGUGAGACCC\n",
      "........((((((.....))))))....((((((.((((((......(((........))).(((((..........))))).))))))..))))))((........)).........\t-39.40\n",
      "---------------------------++++++++++++++++++++++++++++++++++++++++++++++++++++++++++++++++++++++++++++++++++++++++++++\n",
      "\n",
      "GCUAAAGAGCUUGCGUAAAGCAAGCAACCGCCCAGGGCCUAGGCAGCACGCGAAAUUAGGCGACGGGAGAGGGUCGGAUCCCGACUGGGCAGCUGGGCAAUUUGUAAUUUGUGAGACCC\n",
      "..((((..((((((.....))))))....((((((.((((((......(((........))).(((((..........))))).))))))..))))))..))))...............\t-39.30\n",
      "---------------------------++++++++++++++++++++++++++++++++++++++++++++++++++++++++++++++++++++++++++++++++++++++++++++\n",
      "\n",
      "GCUAAAGAGCUUGCGUAAAGCAAGCAACCGCCCAGGGCCUAGGCAGCACGCGAAAUUAGGCGACGGGAGAGGGUCGGAUCCCGACUGGGCAGCUGGGCAAUUUGUAAUUUGUGAGACCC\n",
      "..((((..((((((.....))))))....((((((.((((((......(((........))).(((((..........))))).))))))..)))))).........))))........\t-39.30\n",
      "---------------------------++++++++++++++++++++++++++++++++++++++++++++++++++++++++++++++++++++++++++++++++++++++++++++\n",
      "\n",
      "GCUAAAGAGCUUGCGUAAAGCAAGCAACCGCCCAGGGCCUAGGCAGCACGCGAAAUUAGGCGACGGGAGAGGGUCGGAUCCCGACUGGGCAGCUGGGCAAUUUGUAAUUUGUGAGACCC\n",
      "........((((((.....)))))).((.((((((.((((((......(((........))).(((((..........))))).))))))..)))))).....))..............\t-39.30\n",
      "---------------------------++++++++++++++++++++++++++++++++++++++++++++++++++++++++++++++++++++++++++++++++++++++++++++\n",
      "\n",
      "GCUAAAGAGCUUGCGUAAAGCAAGCAACCGCCCAGGGCCUAGGCAGCACGCGAAAUUAGGCGACGGGAGAGGGUCGGAUCCCGACUGGGCAGCUGGGCAAUUUGUAAUUUGUGAGACCC\n",
      "........((((((.....))))))....((((((.((((((......(((........))).(((((..........))))).))))))..))))))..........((....))...\t-39.30\n",
      "---------------------------++++++++++++++++++++++++++++++++++++++++++++++++++++++++++++++++++++++++++++++++++++++++++++\n",
      "\n",
      "GCUAAAGAGCUUGCGUAAAGCAAGCAACCGCCCAGGGCCUAGGCAGCACGCGAAAUUAGGCGACGGGAGAGGGUCGGAUCCCGACUGGGCAGCUGGGCAAUUUGUAAUUUGUGAGACCC\n",
      "........((((((.....))))))....((((((.((((((......(((........)))..((((..(...)...))))..))))))..)))))).....................\t-39.30\n",
      "---------------------------++++++++++++++++++++++++++++++++++++++++++++++++++++++++++++++++++++++++++++++++++++++++++++\n",
      "\n",
      "GCUAAAGAGCUUGCGUAAAGCAAGCAACCGCCCAGGGCCUAGGCAGCACGCGAAAUUAGGCGACGGGAGAGGGUCGGAUCCCGACUGGGCAGCUGGGCAAUUUGUAAUUUGUGAGACCC\n",
      "........((((((.....))))))....((((((.((((((.......((........))..(((((..(...)...))))).))))))..)))))).....................\t-39.30\n",
      "---------------------------++++++++++++++++++++++++++++++++++++++++++++++++++++++++++++++++++++++++++++++++++++++++++++\n",
      "\n",
      "GCUAAAGAGCUUGCGUAAAGCAAGCAACCGCCCAGGGCCUAGGCAGCACGCGAAAUUAGGCGACGGGAGAGGGUCGGAUCCCGACUGGGCAGCUGGGCAAUUUGUAAUUUGUGAGACCC\n",
      "........((((((.....))))))....((((((.(((((.......(((........))).(((((..........)))))..)))))..)))))).....................\t-39.30\n",
      "---------------------------++++++++++++++++++++++++++++++++++++++++++++++++++++++++++++++++++++++++++++++++++++++++++++\n",
      "\n",
      "GCUAAAGAGCUUGCGUAAAGCAAGCAACCGCCCAGGGCCUAGGCAGCACGCGAAAUUAGGCGACGGGAGAGGGUCGGAUCCCGACUGGGCAGCUGGGCAAUUUGUAAUUUGUGAGACCC\n",
      ".(....).((((((.....))))))....((((((.((((((......(((........))).(((((..........))))).))))))..)))))).....................\t-39.20\n",
      "---------------------------++++++++++++++++++++++++++++++++++++++++++++++++++++++++++++++++++++++++++++++++++++++++++++\n",
      "\n",
      "GCUAAAGAGCUUGCGUAAAGCAAGCAACCGCCCAGGGCCUAGGCAGCACGCGAAAUUAGGCGACGGGAGAGGGUCGGAUCCCGACUGGGCAGCUGGGCAAUUUGUAAUUUGUGAGACCC\n",
      "........((((((.....))))))....((((((.((((((......(((........))).(((((..........))))).))))))..))))))..............(....).\t-39.20\n",
      "---------------------------++++++++++++++++++++++++++++++++++++++++++++++++++++++++++++++++++++++++++++++++++++++++++++\n",
      "\n",
      "GCUAAAGAGCUUGCGUAAAGCAAGCAACCGCCCAGGGCCUAGGCAGCACGCGAAAUUAGGCGACGGGAGAGGGUCGGAUCCCGACUGGGCAGCUGGGCAAUUUGUAAUUUGUGAGACCC\n",
      ".((..(((((((((.....))))))....((((((.((((((......(((........))).(((((..........))))).))))))..)))))).........)))...))....\t-39.10\n",
      "---------------------------++++++++++++++++++++++++++++++++++++++++++++++++++++++++++++++++++++++++++++++++++++++++++++\n",
      "\n",
      "GCUAAAGAGCUUGCGUAAAGCAAGCAACCGCCCAGGGCCUAGGCAGCACGCGAAAUUAGGCGACGGGAGAGGGUCGGAUCCCGACUGGGCAGCUGGGCAAUUUGUAAUUUGUGAGACCC\n",
      "........((((((.....)))))).(..((((((.((((((......(((........))).(((((..........))))).))))))..))))))..)..................\t-39.10\n",
      "---------------------------++++++++++++++++++++++++++++++++++++++++++++++++++++++++++++++++++++++++++++++++++++++++++++\n",
      "\n",
      "GCUAAAGAGCUUGCGUAAAGCAAGCAACCGCCCAGGGCCUAGGCAGCACGCGAAAUUAGGCGACGGGAGAGGGUCGGAUCCCGACUGGGCAGCUGGGCAAUUUGUAAUUUGUGAGACCC\n",
      "........((((((.....))))))....((((((.((((((......(((........))).(((((..........))))).))))))..))))))(((.....)))..........\t-39.10\n",
      "---------------------------++++++++++++++++++++++++++++++++++++++++++++++++++++++++++++++++++++++++++++++++++++++++++++\n",
      "\n",
      "GCUAAAGAGCUUGCGUAAAGCAAGCAACCGCCCAGGGCCUAGGCAGCACGCGAAAUUAGGCGACGGGAGAGGGUCGGAUCCCGACUGGGCAGCUGGGCAAUUUGUAAUUUGUGAGACCC\n",
      "(((.....((((((.....))))))....((((((.((((((......(((........))).(((((..........))))).))))))..))))))...............)).)..\t-39.00\n",
      "---------------------------++++++++++++++++++++++++++++++++++++++++++++++++++++++++++++++++++++++++++++++++++++++++++++\n",
      "\n",
      "GCUAAAGAGCUUGCGUAAAGCAAGCAACCGCCCAGGGCCUAGGCAGCACGCGAAAUUAGGCGACGGGAGAGGGUCGGAUCCCGACUGGGCAGCUGGGCAAUUUGUAAUUUGUGAGACCC\n",
      "((.(((..((((((.....))))))....((((((.((((((......(((........))).(((((..........))))).))))))..))))))..)))))..............\t-39.00\n",
      "---------------------------++++++++++++++++++++++++++++++++++++++++++++++++++++++++++++++++++++++++++++++++++++++++++++\n",
      "\n",
      "GCUAAAGAGCUUGCGUAAAGCAAGCAACCGCCCAGGGCCUAGGCAGCACGCGAAAUUAGGCGACGGGAGAGGGUCGGAUCCCGACUGGGCAGCUGGGCAAUUUGUAAUUUGUGAGACCC\n",
      "((.(((..((((((.....))))))....((((((.((((((......(((........))).(((((..........))))).))))))..)))))).........))))).......\t-39.00\n",
      "---------------------------++++++++++++++++++++++++++++++++++++++++++++++++++++++++++++++++++++++++++++++++++++++++++++\n",
      "\n",
      "GCUAAAGAGCUUGCGUAAAGCAAGCAACCGCCCAGGGCCUAGGCAGCACGCGAAAUUAGGCGACGGGAGAGGGUCGGAUCCCGACUGGGCAGCUGGGCAAUUUGUAAUUUGUGAGACCC\n",
      "........((((((.....))))))....((((((.((((((......(((........))).(((((..........))))).))))))..)))))).((.........)).......\t-39.00\n",
      "---------------------------++++++++++++++++++++++++++++++++++++++++++++++++++++++++++++++++++++++++++++++++++++++++++++\n",
      "\n",
      "GCUAAAGAGCUUGCGUAAAGCAAGCAACCGCCCAGGGCCUAGGCAGCACGCGAAAUUAGGCGACGGGAGAGGGUCGGAUCCCGACUGGGCAGCUGGGCAAUUUGUAAUUUGUGAGACCC\n",
      "......(.((((((.....))))))...)((((((.((((((......(((........))).(((((..(...)...))))).))))))..)))))).....................\t-38.90\n",
      "---------------------------++++++++++++++++++++++++++++++++++++++++++++++++++++++++++++++++++++++++++++++++++++++++++++\n",
      "\n",
      "GCUAAAGAGCUUGCGUAAAGCAAGCAACCGCCCAGGGCCUAGGCAGCACGCGAAAUUAGGCGACGGGAGAGGGUCGGAUCCCGACUGGGCAGCUGGGCAAUUUGUAAUUUGUGAGACCC\n",
      "........((((((.....))))))((..((((((.((((((......(((........))).(((((..........))))).))))))..))))))...))................\t-38.90\n",
      "---------------------------++++++++++++++++++++++++++++++++++++++++++++++++++++++++++++++++++++++++++++++++++++++++++++\n",
      "\n",
      "GCUAAAGAGCUUGCGUAAAGCAAGCAACCGCCCAGGGCCUAGGCAGCACGCGAAAUUAGGCGACGGGAGAGGGUCGGAUCCCGACUGGGCAGCUGGGCAAUUUGUAAUUUGUGAGACCC\n",
      "........((((((.....))))))....((((((.((((((.(....(((........)))........(((......)))).))))))..)))))).....................\t-38.90\n",
      "---------------------------++++++++++++++++++++++++++++++++++++++++++++++++++++++++++++++++++++++++++++++++++++++++++++\n",
      "\n",
      "GCUAAAGAGCUUGCGUAAAGCAAGCAACCGCCCAGGGCCUAGGCAGCACGCGAAAUUAGGCGACGGGAGAGGGUCGGAUCCCGACUGGGCAGCUGGGCAAUUUGUAAUUUGUGAGACCC\n",
      "........((((((.....))))))....((((((.((((((...((.(.........)))..(((((..........))))).))))))..)))))).....................\t-38.90\n",
      "---------------------------++++++++++++++++++++++++++++++++++++++++++++++++++++++++++++++++++++++++++++++++++++++++++++\n",
      "\n",
      "GCUAAAGAGCUUGCGUAAAGCAAGCAACCGCCCAGGGCCUAGGCAGCACGCGAAAUUAGGCGACGGGAGAGGGUCGGAUCCCGACUGGGCAGCUGGGCAAUUUGUAAUUUGUGAGACCC\n",
      "........((((((.....))))))....((((((.((((((......(((........))).(((((..........))))).))))))..))))))............(......).\t-38.90\n",
      "---------------------------++++++++++++++++++++++++++++++++++++++++++++++++++++++++++++++++++++++++++++++++++++++++++++\n",
      "\n",
      "GCUAAAGAGCUUGCGUAAAGCAAGCAACCGCCCAGGGCCUAGGCAGCACGCGAAAUUAGGCGACGGGAGAGGGUCGGAUCCCGACUGGGCAGCUGGGCAAUUUGUAAUUUGUGAGACCC\n",
      "(((....)))((((.....))))((((..((((((.((((((......(((........))).(((((..........))))).))))))..))))))...))))..............\t-38.80\n",
      "---------------------------++++++++++++++++++++++++++++++++++++++++++++++++++++++++++++++++++++++++++++++++++++++++++++\n",
      "\n",
      "GCUAAAGAGCUUGCGUAAAGCAAGCAACCGCCCAGGGCCUAGGCAGCACGCGAAAUUAGGCGACGGGAGAGGGUCGGAUCCCGACUGGGCAGCUGGGCAAUUUGUAAUUUGUGAGACCC\n",
      "........((((((.....))))))....((((((.((((((......(((........))).(((((..........))))).))))))..)))))).(((...)))...........\t-38.80\n",
      "---------------------------++++++++++++++++++++++++++++++++++++++++++++++++++++++++++++++++++++++++++++++++++++++++++++\n",
      "\n",
      "GCUAAAGAGCUUGCGUAAAGCAAGCAACCGCCCAGGGCCUAGGCAGCACGCGAAAUUAGGCGACGGGAGAGGGUCGGAUCCCGACUGGGCAGCUGGGCAAUUUGUAAUUUGUGAGACCC\n",
      ".((.....((((((.....))))))....((((((.((((((......(((........))).(((((..(...)...))))).))))))..))))))...............))....\t-38.70\n",
      "---------------------------++++++++++++++++++++++++++++++++++++++++++++++++++++++++++++++++++++++++++++++++++++++++++++\n",
      "\n",
      "GCUAAAGAGCUUGCGUAAAGCAAGCAACCGCCCAGGGCCUAGGCAGCACGCGAAAUUAGGCGACGGGAGAGGGUCGGAUCCCGACUGGGCAGCUGGGCAAUUUGUAAUUUGUGAGACCC\n",
      ".....(((((((((.....))))))....((((((.((((((......(((........))).(((((..........))))).))))))..))))))..)))................\t-38.70\n",
      "---------------------------++++++++++++++++++++++++++++++++++++++++++++++++++++++++++++++++++++++++++++++++++++++++++++\n",
      "\n",
      "GCUAAAGAGCUUGCGUAAAGCAAGCAACCGCCCAGGGCCUAGGCAGCACGCGAAAUUAGGCGACGGGAGAGGGUCGGAUCCCGACUGGGCAGCUGGGCAAUUUGUAAUUUGUGAGACCC\n",
      ".....(((((((((.....))))))....((((((.((((((......(((........))).(((((..........))))).))))))..)))))).........))).........\t-38.70\n",
      "---------------------------++++++++++++++++++++++++++++++++++++++++++++++++++++++++++++++++++++++++++++++++++++++++++++\n",
      "\n",
      "GCUAAAGAGCUUGCGUAAAGCAAGCAACCGCCCAGGGCCUAGGCAGCACGCGAAAUUAGGCGACGGGAGAGGGUCGGAUCCCGACUGGGCAGCUGGGCAAUUUGUAAUUUGUGAGACCC\n",
      "........((((((.....))))))((..((((((.((((((......(((........))).(((((..(...)...))))).))))))..))))))..)).................\t-38.70\n",
      "---------------------------++++++++++++++++++++++++++++++++++++++++++++++++++++++++++++++++++++++++++++++++++++++++++++\n",
      "\n",
      "GCUAAAGAGCUUGCGUAAAGCAAGCAACCGCCCAGGGCCUAGGCAGCACGCGAAAUUAGGCGACGGGAGAGGGUCGGAUCCCGACUGGGCAGCUGGGCAAUUUGUAAUUUGUGAGACCC\n",
      "........((((((.....))))))....((((((.((((((.(....(((........)))..((((..(...)...))))).))))))..)))))).....................\t-38.70\n",
      "---------------------------++++++++++++++++++++++++++++++++++++++++++++++++++++++++++++++++++++++++++++++++++++++++++++\n",
      "\n",
      "GCUAAAGAGCUUGCGUAAAGCAAGCAACCGCCCAGGGCCUAGGCAGCACGCGAAAUUAGGCGACGGGAGAGGGUCGGAUCCCGACUGGGCAGCUGGGCAAUUUGUAAUUUGUGAGACCC\n",
      "........((((((.....))))))....((((((.((((((......(((........))).(((((..........))))).))))))..))))))............(.....)..\t-38.70\n",
      "---------------------------++++++++++++++++++++++++++++++++++++++++++++++++++++++++++++++++++++++++++++++++++++++++++++\n",
      "\n",
      "GCUAAAGAGCUUGCGUAAAGCAAGCAACCGCCCAGGGCCUAGGCAGCACGCGAAAUUAGGCGACGGGAGAGGGUCGGAUCCCGACUGGGCAGCUGGGCAAUUUGUAAUUUGUGAGACCC\n",
      "........((((((.....))))))....(((((..((((((......(((........))).(((((..........))))).))))))...))))).....................\t-38.70\n",
      "---------------------------++++++++++++++++++++++++++++++++++++++++++++++++++++++++++++++++++++++++++++++++++++++++++++\n",
      "\n",
      "GCUAAAGAGCUUGCGUAAAGCAAGCAACCGCCCAGGGCCUAGGCAGCACGCGAAAUUAGGCGACGGGAGAGGGUCGGAUCCCGACUGGGCAGCUGGGCAAUUUGUAAUUUGUGAGACCC\n",
      "........((((((.....)))))).....(((((.((((((......(((........))).(((((..........))))).))))))..)))))......................\t-38.70\n",
      "---------------------------++++++++++++++++++++++++++++++++++++++++++++++++++++++++++++++++++++++++++++++++++++++++++++\n",
      "\n",
      "GCUAAAGAGCUUGCGUAAAGCAAGCAACCGCCCAGGGCCUAGGCAGCACGCGAAAUUAGGCGACGGGAGAGGGUCGGAUCCCGACUGGGCAGCUGGGCAAUUUGUAAUUUGUGAGACCC\n",
      ".........(((((.....))))).....((((((.((((((......(((........))).(((((..........))))).))))))..)))))).....................\t-38.70\n",
      "---------------------------++++++++++++++++++++++++++++++++++++++++++++++++++++++++++++++++++++++++++++++++++++++++++++\n",
      "\n",
      "GCUAAAGAGCUUGCGUAAAGCAAGCAACCGCCCAGGGCCUAGGCAGCACGCGAAAUUAGGCGACGGGAGAGGGUCGGAUCCCGACUGGGCAGCUGGGCAAUUUGUAAUUUGUGAGACCC\n",
      "(((...((((((((.....))))))....((((((.((((((......(((........))).(((((..........))))).))))))..))))))..........))...)).)..\t-38.60\n",
      "---------------------------++++++++++++++++++++++++++++++++++++++++++++++++++++++++++++++++++++++++++++++++++++++++++++\n",
      "\n",
      "GCUAAAGAGCUUGCGUAAAGCAAGCAACCGCCCAGGGCCUAGGCAGCACGCGAAAUUAGGCGACGGGAGAGGGUCGGAUCCCGACUGGGCAGCUGGGCAAUUUGUAAUUUGUGAGACCC\n",
      "((.((...((((((.....))))))....((((((.((((((......(((........))).(((((..........))))).))))))..))))))..)).))..............\t-38.60\n",
      "---------------------------++++++++++++++++++++++++++++++++++++++++++++++++++++++++++++++++++++++++++++++++++++++++++++\n",
      "\n",
      "GCUAAAGAGCUUGCGUAAAGCAAGCAACCGCCCAGGGCCUAGGCAGCACGCGAAAUUAGGCGACGGGAGAGGGUCGGAUCCCGACUGGGCAGCUGGGCAAUUUGUAAUUUGUGAGACCC\n",
      "((.((...((((((.....))))))....((((((.((((((......(((........))).(((((..........))))).))))))..)))))).........)).)).......\t-38.60\n",
      "---------------------------++++++++++++++++++++++++++++++++++++++++++++++++++++++++++++++++++++++++++++++++++++++++++++\n",
      "\n",
      "GCUAAAGAGCUUGCGUAAAGCAAGCAACCGCCCAGGGCCUAGGCAGCACGCGAAAUUAGGCGACGGGAGAGGGUCGGAUCCCGACUGGGCAGCUGGGCAAUUUGUAAUUUGUGAGACCC\n",
      "((......((((((.....))))))....((((((.((((((......(((........))).(((((..(...)...))))).))))))..)))))).....))..............\t-38.60\n",
      "---------------------------++++++++++++++++++++++++++++++++++++++++++++++++++++++++++++++++++++++++++++++++++++++++++++\n",
      "\n",
      "GCUAAAGAGCUUGCGUAAAGCAAGCAACCGCCCAGGGCCUAGGCAGCACGCGAAAUUAGGCGACGGGAGAGGGUCGGAUCCCGACUGGGCAGCUGGGCAAUUUGUAAUUUGUGAGACCC\n",
      "((......((((((.....))))))....((((((.((((((......(((........))).(((((..(...)...))))).))))))..))))))............)).......\t-38.60\n",
      "---------------------------++++++++++++++++++++++++++++++++++++++++++++++++++++++++++++++++++++++++++++++++++++++++++++\n",
      "\n",
      "GCUAAAGAGCUUGCGUAAAGCAAGCAACCGCCCAGGGCCUAGGCAGCACGCGAAAUUAGGCGACGGGAGAGGGUCGGAUCCCGACUGGGCAGCUGGGCAAUUUGUAAUUUGUGAGACCC\n",
      ".(((((..((((((.....))))))....((((((.((((((......(((........))).(((((..........))))).))))))..)))))).........)))).)......\t-38.60\n",
      "---------------------------++++++++++++++++++++++++++++++++++++++++++++++++++++++++++++++++++++++++++++++++++++++++++++\n",
      "\n",
      "GCUAAAGAGCUUGCGUAAAGCAAGCAACCGCCCAGGGCCUAGGCAGCACGCGAAAUUAGGCGACGGGAGAGGGUCGGAUCCCGACUGGGCAGCUGGGCAAUUUGUAAUUUGUGAGACCC\n",
      "..(((...((((((.....))))))....((((((.((((((......(((........))).(((((..........))))).))))))..))))))...)))...............\t-38.60\n",
      "---------------------------++++++++++++++++++++++++++++++++++++++++++++++++++++++++++++++++++++++++++++++++++++++++++++\n",
      "\n",
      "GCUAAAGAGCUUGCGUAAAGCAAGCAACCGCCCAGGGCCUAGGCAGCACGCGAAAUUAGGCGACGGGAGAGGGUCGGAUCCCGACUGGGCAGCUGGGCAAUUUGUAAUUUGUGAGACCC\n",
      "..(((...((((((.....))))))....((((((.((((((......(((........))).(((((..........))))).))))))..))))))..........)))........\t-38.60\n",
      "---------------------------++++++++++++++++++++++++++++++++++++++++++++++++++++++++++++++++++++++++++++++++++++++++++++\n",
      "\n",
      "GCUAAAGAGCUUGCGUAAAGCAAGCAACCGCCCAGGGCCUAGGCAGCACGCGAAAUUAGGCGACGGGAGAGGGUCGGAUCCCGACUGGGCAGCUGGGCAAUUUGUAAUUUGUGAGACCC\n",
      "........((((((.....))))))....((((((.((((((......(((........))).(((((..........))))).))))))..))))))...((..........))....\t-38.60\n",
      "---------------------------++++++++++++++++++++++++++++++++++++++++++++++++++++++++++++++++++++++++++++++++++++++++++++\n",
      "\n",
      "GCUAAAGAGCUUGCGUAAAGCAAGCAACCGCCCAGGGCCUAGGCAGCACGCGAAAUUAGGCGACGGGAGAGGGUCGGAUCCCGACUGGGCAGCUGGGCAAUUUGUAAUUUGUGAGACCC\n",
      "........((((((.....))))))....((((((.((((((......(((........))).(((((..........))))).))))))..)))))).........(((...)))...\t-38.60\n",
      "---------------------------++++++++++++++++++++++++++++++++++++++++++++++++++++++++++++++++++++++++++++++++++++++++++++\n",
      "\n",
      "GCUAAAGAGCUUGCGUAAAGCAAGCAACCGCCCAGGGCCUAGGCAGCACGCGAAAUUAGGCGACGGGAGAGGGUCGGAUCCCGACUGGGCAGCUGGGCAAUUUGUAAUUUGUGAGACCC\n",
      "........((((((.....))))))....((((((.((((((......(((........)))..((((((...))...))))..))))))..)))))).....................\t-38.60\n",
      "---------------------------++++++++++++++++++++++++++++++++++++++++++++++++++++++++++++++++++++++++++++++++++++++++++++\n",
      "\n",
      "GCUAAAGAGCUUGCGUAAAGCAAGCAACCGCCCAGGGCCUAGGCAGCACGCGAAAUUAGGCGACGGGAGAGGGUCGGAUCCCGACUGGGCAGCUGGGCAAUUUGUAAUUUGUGAGACCC\n",
      "........((((((.....))))))....((((((.((((((.......((........))..(((((((...))...))))).))))))..)))))).....................\t-38.60\n",
      "---------------------------++++++++++++++++++++++++++++++++++++++++++++++++++++++++++++++++++++++++++++++++++++++++++++\n",
      "\n",
      "GCUAAAGAGCUUGCGUAAAGCAAGCAACCGCCCAGGGCCUAGGCAGCACGCGAAAUUAGGCGACGGGAGAGGGUCGGAUCCCGACUGGGCAGCUGGGCAAUUUGUAAUUUGUGAGACCC\n",
      ".(..((..((((((.....))))))....((((((.((((((......(((........))).(((((..........))))).))))))..))))))..........))..)......\t-38.50\n",
      "---------------------------++++++++++++++++++++++++++++++++++++++++++++++++++++++++++++++++++++++++++++++++++++++++++++\n",
      "\n",
      "GCUAAAGAGCUUGCGUAAAGCAAGCAACCGCCCAGGGCCUAGGCAGCACGCGAAAUUAGGCGACGGGAGAGGGUCGGAUCCCGACUGGGCAGCUGGGCAAUUUGUAAUUUGUGAGACCC\n",
      "........((((((.....))))))....((((((.((((((...(..(((........))).)((((..........))))..))))))..)))))).....................\t-38.50\n",
      "---------------------------++++++++++++++++++++++++++++++++++++++++++++++++++++++++++++++++++++++++++++++++++++++++++++\n",
      "\n",
      "GCUAAAGAGCUUGCGUAAAGCAAGCAACCGCCCAGGGCCUAGGCAGCACGCGAAAUUAGGCGACGGGAGAGGGUCGGAUCCCGACUGGGCAGCUGGGCAAUUUGUAAUUUGUGAGACCC\n",
      "........((((((.....))))))....((((((.((((((......(((........))).(((((..........))))).))))))..))))))..((..........)).....\t-38.50\n",
      "---------------------------++++++++++++++++++++++++++++++++++++++++++++++++++++++++++++++++++++++++++++++++++++++++++++\n",
      "\n",
      "GCUAAAGAGCUUGCGUAAAGCAAGCAACCGCCCAGGGCCUAGGCAGCACGCGAAAUUAGGCGACGGGAGAGGGUCGGAUCCCGACUGGGCAGCUGGGCAAUUUGUAAUUUGUGAGACCC\n",
      "........((((((.....))))))....((((((.((((((......(((........))).(((((..........))))).))))))..))))))...........(.....)...\t-38.50\n",
      "---------------------------++++++++++++++++++++++++++++++++++++++++++++++++++++++++++++++++++++++++++++++++++++++++++++\n",
      "\n",
      "GCUAAAGAGCUUGCGUAAAGCAAGCAACCGCCCAGGGCCUAGGCAGCACGCGAAAUUAGGCGACGGGAGAGGGUCGGAUCCCGACUGGGCAGCUGGGCAAUUUGUAAUUUGUGAGACCC\n",
      "........((((((.....))))))....((((((.((((((.......((........))...((((..........))))..))))))..)))))).....................\t-38.50\n",
      "---------------------------++++++++++++++++++++++++++++++++++++++++++++++++++++++++++++++++++++++++++++++++++++++++++++\n",
      "\n",
      "GCUAAAGAGCUUGCGUAAAGCAAGCAACCGCCCAGGGCCUAGGCAGCACGCGAAAUUAGGCGACGGGAGAGGGUCGGAUCCCGACUGGGCAGCUGGGCAAUUUGUAAUUUGUGAGACCC\n",
      "........((((((.....)))))).....(((((.((((((......(((........))).(((((..........))))).))))))..)))))(((........)))........\t-38.50\n",
      "---------------------------++++++++++++++++++++++++++++++++++++++++++++++++++++++++++++++++++++++++++++++++++++++++++++\n",
      "\n"
     ]
    },
    {
     "data": {
      "text/plain": [
       "True"
      ]
     },
     "execution_count": 76,
     "metadata": {},
     "output_type": "execute_result"
    }
   ],
   "source": [
    "print_suboptimal_ss(good_candidates_stored[2], xrRNA_seq, xrRNA_ss[0], 400)\n"
   ]
  },
  {
   "cell_type": "code",
   "execution_count": 83,
   "metadata": {},
   "outputs": [],
   "source": [
    "best_seq = good_candidates_stored[2]"
   ]
  },
  {
   "cell_type": "code",
   "execution_count": 87,
   "metadata": {
    "execution": {
     "iopub.execute_input": "2024-07-21T19:42:32.649938Z",
     "iopub.status.busy": "2024-07-21T19:42:32.649748Z",
     "iopub.status.idle": "2024-07-21T19:42:33.449710Z",
     "shell.execute_reply": "2024-07-21T19:42:33.448485Z",
     "shell.execute_reply.started": "2024-07-21T19:42:32.649925Z"
    }
   },
   "outputs": [
    {
     "name": "stdout",
     "output_type": "stream",
     "text": [
      "GCUAAAGAGCUUGCGUAAAGCAAGCAACCGCCCAGGGCCUAGGCAGCACGCGAAAUUAGGCGACGGGAGAGGGUCGGAUCCCGACUGGGCAGCUGGGCAAUUUGUAAUUUGUGAGACCC\n",
      "........((((((.....))))))....((((((.((((((......(((........))).(((((..........))))).))))))..)))))).....................\u001b[32m (-42.50)\u001b[0m\n",
      "........((((((.....))))))....((((((.((((((......(((........))).(((((..........))))).))))))..)))))).....................\u001b[32m [-42.92]\u001b[0m\n",
      "........((((((.....))))))....((((((.((((((......(((........))).(((((..........))))).))))))..)))))).....................\u001b[32m {-42.50 d=1.51}\u001b[0m\n",
      "........((((((.....))))))....((((((.((((((......(((........))).(((((..........))))).))))))..)))))).....................\u001b[32m {-42.50 MEA=116.26}\u001b[0m\n",
      "\u001b[32m frequency of mfe structure in ensemble 0.507905; ensemble diversity 2.95  \u001b[0m\n",
      "WARNING: The convert command is deprecated in IMv7, use \"magick\" instead of \"convert\" or \"magick convert\"\n",
      "\n"
     ]
    },
    {
     "data": {
      "text/plain": [
       "<matplotlib.image.AxesImage at 0x7fc8aa319e80>"
      ]
     },
     "execution_count": 87,
     "metadata": {},
     "output_type": "execute_result"
    },
    {
     "data": {
      "image/png": "[encoded data removed]",
      "text/plain": [
       "<Figure size 700x700 with 1 Axes>"
      ]
     },
     "metadata": {},
     "output_type": "display_data"
    }
   ],
   "source": [
    "seq = best_seq.replace('-', '') + xrRNA_seq\n",
    "!echo $seq > test.seq\n",
    "!RNAfold -p --MEA < test.seq\n",
    "!convert dot.ps dot.png\n",
    "\n",
    "import matplotlib.pyplot as plt\n",
    "import matplotlib.image as mpimg\n",
    "image = mpimg.imread(\"dot.png\")\n",
    "fig, ax = plt.subplots(figsize=(7, 7))\n",
    "ax.imshow(image)"
   ]
  },
  {
   "cell_type": "code",
   "execution_count": 110,
   "metadata": {},
   "outputs": [
    {
     "name": "stdout",
     "output_type": "stream",
     "text": [
      "['java', '-cp', '/home/mescalin/kgutenbrunner/Downloads/VARNAv3-93.jar', 'fr.orsay.lri.varna.applications.VARNAcmd', '-sequenceDBN', 'GCUAAAGAGCUUGCGUAAAGCAAGCAACCGCCCAGGGCCUAGGCAGCACGCGAAAUUAGGCGACGGGAGAGGGUCGGAUCCCGACUGGGCAGCUGGGCAAUUUGUAAUUUGUGAGACCC', '-structureDBN', '........((((((.....))))))....((((((.((((((......(((........))).(((((..........))))).))))))..)))))).....................', '-o', '/tmp/tmp4r29rj2a.png', '-bp', '#006400', '-resolution', '2.0', '-bpStyle', 'simple', '-basesStyle1', 'fill=#0000ff', '-applyBasesStyle1on', '1,2,3,4,5,6,7,8,9,10,11,12,13,14,15,16,17,18,19,20,21,22,23,24,25,26,27', '-basesStyle2', 'fill=#ff0000', '-applyBasesStyle2on', '28,29,30,31,32,33,34,35,36,37,38,39,40,41,42,43,44,45,46,47,48,49,50,51,52,53,54,55,56,57,58,59,60,61,62,63,64,65,66,67,68,69,70,71,72,73,74,75,76,77,78,79,80,81,82,83,84,85,86,87,88,89,90,91,92,93,94,95,96,97,98,99,100,101,102,103,104,105,106,107,108,109,110,111,112,113,114,115,116,117,118,119']\n"
     ]
    },
    {
     "name": "stderr",
     "output_type": "stream",
     "text": [
      "Output file: /tmp/tmp4r29rj2a.png\n",
      "\n"
     ]
    },
    {
     "data": {
      "image/png": "[encoded data removed]",
      "text/plain": [
       "<IPython.core.display.Image object>"
      ]
     },
     "metadata": {},
     "output_type": "display_data"
    },
    {
     "name": "stdout",
     "output_type": "stream",
     "text": [
      "['java', '-cp', '/home/mescalin/kgutenbrunner/Downloads/VARNAv3-93.jar', 'fr.orsay.lri.varna.applications.VARNAcmd', '-sequenceDBN', 'GCUAAAGAGCUUGCGUAAAGCAAGCAACCGCCCAGGGCCUAGGCAGCACGCGAAAUUAGGCGACGGGAGAGGGUCGGAUCCCGACUGGGCAGCUGGGCAAUUUGUAAUUUGUGAGACCC', '-structureDBN', '........((((((.....))))))....((((((.((((((......(((........))).(((((..........))))).))))))..)))))).....................', '-o', '/scr/aldea/kgutenbrunner/working/xrRNA_design/MBFV_design/leader_design/structure.png', '-bp', '#006400', '-resolution', '2.0', '-bpStyle', 'simple', '-basesStyle1', 'fill=#0000ff', '-applyBasesStyle1on', '1,2,3,4,5,6,7,8,9,10,11,12,13,14,15,16,17,18,19,20,21,22,23,24,25,26,27', '-basesStyle2', 'fill=#ff0000', '-applyBasesStyle2on', '28,29,30,31,32,33,34,35,36,37,38,39,40,41,42,43,44,45,46,47,48,49,50,51,52,53,54,55,56,57,58,59,60,61,62,63,64,65,66,67,68,69,70,71,72,73,74,75,76,77,78,79,80,81,82,83,84,85,86,87,88,89,90,91,92,93,94,95,96,97,98,99,100,101,102,103,104,105,106,107,108,109,110,111,112,113,114,115,116,117,118,119']\n"
     ]
    },
    {
     "name": "stderr",
     "output_type": "stream",
     "text": [
      "Output file: /scr/aldea/kgutenbrunner/working/xrRNA_design/MBFV_design/leader_design/structure.png\n",
      "\n"
     ]
    }
   ],
   "source": [
    "from varnaapi import Structure\n",
    "import varnaapi\n",
    "seq =  'GCUAAAGAGCUUGCGUAAAGCAAGCAACCGCCCAGGGCCUAGGCAGCACGCGAAAUUAGGCGACGGGAGAGGGUCGGAUCCCGACUGGGCAGCUGGGCAAUUUGUAAUUUGUGAGACCC'\n",
    "ss =  r'........((((((.....))))))....((((((.((((((...{{{(((........))).(((((..[[[[[...))))).))))))..))))))...........}}}..]]]]]'\n",
    "ss =  r'........((((((.....))))))....((((((.((((((......(((........))).(((((..........))))).))))))..)))))).....................'\n",
    "\n",
    "v = varnaapi.Structure(sequence=seq, structure=ss)\n",
    "# .update(bpStyle='simple', drawBackbone=True, bp='#006400', fillBases=True, spaceBetweenBases=1, resolution=2)\n",
    "\n",
    "\n",
    "v.update(bpStyle='simple', drawBackbone=True, bp='#006400', fillBases=True, spaceBetweenBases=1, resolution=2)\n",
    "style_leader = varnaapi.param.BasesStyle(fill=\"blue\")\n",
    "style_xrRNA = varnaapi.param.BasesStyle(fill=\"red\")\n",
    "\n",
    "v.add_bases_style(style_leader, list(range(1,28)))\n",
    "v.add_bases_style(style_xrRNA, list(range(28,len(ss)+1)))\n",
    "\n",
    "v.update(bpStyle='simple', drawBackbone=True, bp='#006400', fillBases=True, spaceBetweenBases=1, resolution=2)\n",
    "\n",
    "v.show()\n",
    "v.savefig('/scr/aldea/kgutenbrunner/working/xrRNA_design/MBFV_design/leader_design/structure.png')\n"
   ]
  },
  {
   "cell_type": "code",
   "execution_count": 105,
   "metadata": {},
   "outputs": [
    {
     "name": "stdout",
     "output_type": "stream",
     "text": [
      "........((((((.....))))))....((((((.((((((......(((........))).(((((..........))))).))))))..)))))).....................\n",
      ".............................................(((.............................................................))).......\n",
      "......................................................................(((((.......................................)))))\n"
     ]
    }
   ],
   "source": [
    "print('........((((((.....))))))....((((((.((((((......(((........))).(((((..........))))).))))))..)))))).....................')\n",
    "print('...........................' + xrRNA_ss[1])\n",
    "print('...........................' + xrRNA_ss[2])"
   ]
  }
 ],
 "metadata": {
  "kernelspec": {
   "display_name": "Python 3 (ipykernel)",
   "language": "python",
   "name": "python3"
  },
  "language_info": {
   "codemirror_mode": {
    "name": "ipython",
    "version": 3
   },
   "file_extension": ".py",
   "mimetype": "text/x-python",
   "name": "python",
   "nbconvert_exporter": "python",
   "pygments_lexer": "ipython3",
   "version": "3.9.18"
  }
 },
 "nbformat": 4,
 "nbformat_minor": 4
}
