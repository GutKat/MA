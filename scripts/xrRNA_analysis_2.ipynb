{
 "cells": [
  {
   "cell_type": "code",
   "execution_count": 1,
   "id": "initial_id",
   "metadata": {
    "collapsed": true,
    "ExecuteTime": {
     "end_time": "2024-04-22T08:55:43.425292Z",
     "start_time": "2024-04-22T08:55:42.216115Z"
    }
   },
   "outputs": [
    {
     "name": "stdout",
     "output_type": "stream",
     "text": [
      "    name  xrRNA-no  ST-I IL-I BL-I BR-I ST-II HL-II BL-II BR-II  ...  BL-III  \\\n",
      "0   ALKV         1    11    4    -    -     4     4     -     -  ...       -   \n",
      "1    DTV         1    12    -    -    -     3     9     -     -  ...       -   \n",
      "2    DTV         2    10    -    -    1     3     3     -     -  ...       -   \n",
      "3    GGV         1    12    -    -    -     3     7     1     -  ...       -   \n",
      "4    GGV         2    12    -    1    2     7     4     -     -  ...       -   \n",
      "5   KFDV         1    12    2    -    -     4     4     -     -  ...       -   \n",
      "6   KSIV         1    14    2    -    -     4     3     -     -  ...       -   \n",
      "7   KSIV         2    13  3+2    -    -     4     9     -     -  ...       -   \n",
      "8   LGTV         1    12  2+2    -    -     5     3     -     -  ...       -   \n",
      "9   LGTV         2    14    -    -    1     5     7     -     -  ...       -   \n",
      "10   LIV         1    12    2    1    -     3     4     -     -  ...       -   \n",
      "11   LIV         2    13    -    1    1     5     7     -     -  ...       -   \n",
      "12  MPFV         1     8    -    -    1     2     7     -     -  ...       1   \n",
      "13  MPFV         2     8    -    -    1     2     7     -     -  ...       1   \n",
      "14  MPFV         3     8    -    -    1     2     7     -     -  ...       1   \n",
      "15  NEGV         1    13    -    1    -     3     4     -     -  ...       -   \n",
      "16  NEGV         2    13    2    -    -     5     7     -     -  ...       -   \n",
      "17  OHFV         1    12    2    2    -     3     4     -     -  ...       -   \n",
      "18  OHFV         2    11    4    -    -     5     7     -     -  ...       -   \n",
      "19  POWV         1    12    -    -    -     3     9     -     -  ...       -   \n",
      "20  POWV         2    11    -    -    1     3     3     -     -  ...       -   \n",
      "21  SGEV         1    13    2    1    -     3     4     -     -  ...       -   \n",
      "22  SGEV         2    13    -    1    1     5     7     -     -  ...       -   \n",
      "23  SREV         1    10  4+2    -    -     -     -     -     -  ...       -   \n",
      "24  TBEV         1    11  2+2    1    -     3     4     -     -  ...       -   \n",
      "25  TBEV         2    13    -    1    1     5     7     -     -  ...       -   \n",
      "26  TYUV         1    14    -    -    -     -     -     -     -  ...       -   \n",
      "27  XiFV         1     6    -    -    -     3     6     -     -  ...       -   \n",
      "28  XiFV         2     6    -    -    -     3     6     -     -  ...       -   \n",
      "29  XiFV         3     6    -    -    -     3     6     -     -  ...       -   \n",
      "30  XiFV         4     6    -    -    -     3     6     -     -  ...       -   \n",
      "31  XiFV         5     6    -    -    -     3     6     -     -  ...       -   \n",
      "\n",
      "    BR-III ML-I/II ML-II/III ML-III/I ML-I/III  uPK1 PK1bPK2  PKs? numSeqs  \n",
      "0        -       6         1        1        -     8       -   1+2       2  \n",
      "1        -       6         1        1        -    12       2   1+2       2  \n",
      "2        -       6         1        1        -    11       -   1+2       2  \n",
      "3        -       6         1        1        -    15       2   1+2       2  \n",
      "4        -       6         1        1        -    11       2   1+2       2  \n",
      "5        -       6         1        1        -     8       2   1+2       4  \n",
      "6        -       6         1        1        -     8       2   1+2       3  \n",
      "7        -       6         1        1        -     7       -   1+2       3  \n",
      "8        -       6         1        1        -    11       -   1+2       2  \n",
      "9        -       6         1        1        -     8       -   1+2       2  \n",
      "10       -       6         1        1        -    11       -   1+2      16  \n",
      "11       -       6         1        1        -    13       -     2      16  \n",
      "12       -       3         1        1        -     9       -     2       -  \n",
      "13       -       3         1        1        -     9       -     2       -  \n",
      "14       -       3         1        1        -     9       -     2       -  \n",
      "15       -       6         1        1        -    11       -   1+2       1  \n",
      "16       -       6         1        1        -     7       -     1       -  \n",
      "17       -       6         1        1        -    11       -   1+2      11  \n",
      "18       -       6         1        1        -     9       -   1+2       8  \n",
      "19       -       6         1        1        -    14       2   1+2      23  \n",
      "20       -       6         1        1        -    13       -   1+2      45  \n",
      "21       -       6         1        1        -    10       -   1+2       1  \n",
      "22       -       6         1        1        -     7       2   1+2       1  \n",
      "23       -       -         -        1       11     6       2   1+2       1  \n",
      "24       -       6         1        1        -    11       -   1+2      65  \n",
      "25       -       6         1        1        -     9       2   1+2      97  \n",
      "26       -       -         -        1       11     5       2   1+2       -  \n",
      "27       -       2         1        1        -    12       -     2       1  \n",
      "28       -       2         1        1        -    12       -     2       1  \n",
      "29       -       2         1        1        -    12       -     2       1  \n",
      "30       -       2         1        1        -    12       -     2       1  \n",
      "31       -       2         1        1        -    12       -     2       1  \n",
      "\n",
      "[32 rows x 22 columns]\n"
     ]
    }
   ],
   "source": [
    "import os\n",
    "import re\n",
    "import pandas as pd\n",
    "import numpy as np\n",
    "\n",
    "stats = 'TBFV_ss.csv'\n",
    "df = pd.read_csv(stats, skiprows=13, delimiter=\";\")\n",
    "print(df)\n"
   ]
  },
  {
   "cell_type": "code",
   "outputs": [
    {
     "name": "stdout",
     "output_type": "stream",
     "text": [
      "Columns have no data: ['BR-I', 'BR-II', 'BL-III', 'BR-III']\n",
      "Columns have only same value:\n",
      "\t ML-I/II = 6\n",
      "\t ML-II/III = 1\n",
      "\t ML-III/I = 1\n",
      "\n",
      "\n",
      "    name  ST-I IL-I BL-I  ST-II HL-II BL-II  ST-III  HL-III  uPK1 PK1bPK2  \\\n",
      "0   ALKV    22    4    0      8     4     0      10      10     8       0   \n",
      "1    DTV    24    0    0      6     9     0       8      11    12       2   \n",
      "3    GGV    24    0    0      6     7     1      14       4    15       2   \n",
      "5   KFDV    24    2    0      8     4     0      10      10     8       2   \n",
      "6   KSIV    28    2    0      8     3     0       8      12     8       2   \n",
      "8   LGTV    24    4    0     10     3     0      10      10    11       0   \n",
      "10   LIV    24    2    1      6     4     0       8      12    11       0   \n",
      "15  NEGV    26    0    1      6     4     0       8      12    11       0   \n",
      "17  OHFV    24    2    2      6     4     0       8      12    11       0   \n",
      "19  POWV    24    0    0      6     9     0       8      11    14       2   \n",
      "21  SGEV    26    2    1      6     4     0       8      12    10       0   \n",
      "24  TBEV    22    4    1      6     4     0       8      12    11       0   \n",
      "\n",
      "    IB-I  \n",
      "0      4  \n",
      "1      0  \n",
      "3      0  \n",
      "5      2  \n",
      "6      2  \n",
      "8      4  \n",
      "10     3  \n",
      "15     1  \n",
      "17     4  \n",
      "19     0  \n",
      "21     3  \n",
      "24     5   \n"
     ]
    }
   ],
   "source": [
    "#only want xrRNA1\n",
    "xrRNA1_df = df[df['xrRNA-no'] == 1]\n",
    "#only want samples with both pseudoknots\n",
    "xrRNA1_df_clean = xrRNA1_df[xrRNA1_df['PKs?'] == '1+2']\n",
    "xrRNA1_df_clean = xrRNA1_df_clean.drop(columns=['PKs?', 'xrRNA-no', 'numSeqs'])\n",
    "\n",
    "#only want samples with all 3 stems\n",
    "xrRNA1_df_clean = xrRNA1_df_clean[xrRNA1_df_clean['ML-I/III'] == \"-\"]\n",
    "xrRNA1_df_clean = xrRNA1_df_clean.drop(columns=['ML-I/III'])\n",
    "\n",
    "\n",
    "#remove columns which have only 0s / -\n",
    "col_no_values = xrRNA1_df_clean.columns[(xrRNA1_df_clean == \"-\").all()]\n",
    "print(\"Columns have no data:\", list(col_no_values))\n",
    "xrRNA1_df_clean = xrRNA1_df_clean.drop(columns=col_no_values)\n",
    "\n",
    "#remove columns which have only 0s / -\n",
    "same_value_columns = xrRNA1_df_clean.columns[xrRNA1_df_clean.nunique() == 1]\n",
    "print(\"Columns have only same value:\")\n",
    "for i in list(same_value_columns):\n",
    "    print(\"\\t\", i, \"=\", xrRNA1_df_clean[i][0])\n",
    "print(\"\\n\")\n",
    "xrRNA1_df_clean = xrRNA1_df_clean.drop(columns=same_value_columns)\n",
    "\n",
    "# change - to 0s\n",
    "xrRNA1_df_clean = xrRNA1_df_clean.replace('-', 0)\n",
    "\n",
    "# add Interloop 1 add up, (have some with 2 loops, add to one)\n",
    "xrRNA1_df_clean = xrRNA1_df_clean.replace('2+2', 4)\n",
    "\n",
    "temp_df = xrRNA1_df_clean.drop(columns='name').astype(int)\n",
    "xrRNA1_df_clean['IB-I'] = temp_df['IL-I'] + temp_df['BL-I']\n",
    "\n",
    "#double the nucleotides in Stems because we counted basepairs not nucleotides\n",
    "xrRNA1_df_clean['ST-I'] = temp_df['ST-I'] * 2\n",
    "xrRNA1_df_clean['ST-II'] = temp_df['ST-II'] * 2\n",
    "xrRNA1_df_clean['ST-III'] = temp_df['ST-III'] * 2\n",
    "\n",
    "print(xrRNA1_df_clean, '\\n')"
   ],
   "metadata": {
    "collapsed": false,
    "ExecuteTime": {
     "end_time": "2024-04-22T08:55:43.441779Z",
     "start_time": "2024-04-22T08:55:43.426619Z"
    }
   },
   "id": "483bbd9946ce0fe4",
   "execution_count": 2
  },
  {
   "cell_type": "code",
   "outputs": [
    {
     "data": {
      "text/plain": "            ST-I      ST-II     ST-III     HL-III       uPK1       IB-I\ncount  12.000000  12.000000  12.000000  12.000000  12.000000  12.000000\nmean   24.333333   6.833333   9.000000  10.666667  10.833333   2.333333\nstd     1.669694   1.337116   1.809068   2.269695   2.208798   1.775251\nmin    22.000000   6.000000   8.000000   4.000000   8.000000   0.000000\n25%    24.000000   6.000000   8.000000  10.000000   9.500000   0.750000\n50%    24.000000   6.000000   8.000000  11.500000  11.000000   2.500000\n75%    24.500000   8.000000  10.000000  12.000000  11.250000   4.000000\nmax    28.000000  10.000000  14.000000  12.000000  15.000000   5.000000",
      "text/html": "<div>\n<style scoped>\n    .dataframe tbody tr th:only-of-type {\n        vertical-align: middle;\n    }\n\n    .dataframe tbody tr th {\n        vertical-align: top;\n    }\n\n    .dataframe thead th {\n        text-align: right;\n    }\n</style>\n<table border=\"1\" class=\"dataframe\">\n  <thead>\n    <tr style=\"text-align: right;\">\n      <th></th>\n      <th>ST-I</th>\n      <th>ST-II</th>\n      <th>ST-III</th>\n      <th>HL-III</th>\n      <th>uPK1</th>\n      <th>IB-I</th>\n    </tr>\n  </thead>\n  <tbody>\n    <tr>\n      <th>count</th>\n      <td>12.000000</td>\n      <td>12.000000</td>\n      <td>12.000000</td>\n      <td>12.000000</td>\n      <td>12.000000</td>\n      <td>12.000000</td>\n    </tr>\n    <tr>\n      <th>mean</th>\n      <td>24.333333</td>\n      <td>6.833333</td>\n      <td>9.000000</td>\n      <td>10.666667</td>\n      <td>10.833333</td>\n      <td>2.333333</td>\n    </tr>\n    <tr>\n      <th>std</th>\n      <td>1.669694</td>\n      <td>1.337116</td>\n      <td>1.809068</td>\n      <td>2.269695</td>\n      <td>2.208798</td>\n      <td>1.775251</td>\n    </tr>\n    <tr>\n      <th>min</th>\n      <td>22.000000</td>\n      <td>6.000000</td>\n      <td>8.000000</td>\n      <td>4.000000</td>\n      <td>8.000000</td>\n      <td>0.000000</td>\n    </tr>\n    <tr>\n      <th>25%</th>\n      <td>24.000000</td>\n      <td>6.000000</td>\n      <td>8.000000</td>\n      <td>10.000000</td>\n      <td>9.500000</td>\n      <td>0.750000</td>\n    </tr>\n    <tr>\n      <th>50%</th>\n      <td>24.000000</td>\n      <td>6.000000</td>\n      <td>8.000000</td>\n      <td>11.500000</td>\n      <td>11.000000</td>\n      <td>2.500000</td>\n    </tr>\n    <tr>\n      <th>75%</th>\n      <td>24.500000</td>\n      <td>8.000000</td>\n      <td>10.000000</td>\n      <td>12.000000</td>\n      <td>11.250000</td>\n      <td>4.000000</td>\n    </tr>\n    <tr>\n      <th>max</th>\n      <td>28.000000</td>\n      <td>10.000000</td>\n      <td>14.000000</td>\n      <td>12.000000</td>\n      <td>15.000000</td>\n      <td>5.000000</td>\n    </tr>\n  </tbody>\n</table>\n</div>"
     },
     "execution_count": 3,
     "metadata": {},
     "output_type": "execute_result"
    }
   ],
   "source": [
    "xrRNA1_df_clean.describe()"
   ],
   "metadata": {
    "collapsed": false,
    "ExecuteTime": {
     "end_time": "2024-04-22T08:55:43.456952Z",
     "start_time": "2024-04-22T08:55:43.442859Z"
    }
   },
   "id": "8821ccd6b4fca437",
   "execution_count": 3
  },
  {
   "cell_type": "code",
   "outputs": [
    {
     "data": {
      "text/plain": "ST-I       24.0\nIL-I        2.0\nBL-I        0.0\nST-II       6.0\nHL-II       4.0\nBL-II       0.0\nST-III      8.0\nHL-III     11.5\nuPK1       11.0\nPK1bPK2     0.0\nIB-I        2.5\ndtype: object"
     },
     "execution_count": 4,
     "metadata": {},
     "output_type": "execute_result"
    }
   ],
   "source": [
    "xrRNA1_df_clean.drop(columns=['name']).median()"
   ],
   "metadata": {
    "collapsed": false,
    "ExecuteTime": {
     "end_time": "2024-04-22T08:55:43.462757Z",
     "start_time": "2024-04-22T08:55:43.457584Z"
    }
   },
   "id": "21c9670efa17bfe4",
   "execution_count": 4
  },
  {
   "cell_type": "code",
   "outputs": [
    {
     "data": {
      "text/plain": "            ST-I      ST-II     ST-III     HL-III       uPK1       IB-I\ncount  12.000000  12.000000  12.000000  12.000000  12.000000  12.000000\nmean   24.333333   6.833333   9.000000  10.666667  10.833333   2.333333\nstd     1.669694   1.337116   1.809068   2.269695   2.208798   1.775251\nmin    22.000000   6.000000   8.000000   4.000000   8.000000   0.000000\n25%    24.000000   6.000000   8.000000  10.000000   9.500000   0.750000\n50%    24.000000   6.000000   8.000000  11.500000  11.000000   2.500000\n75%    24.500000   8.000000  10.000000  12.000000  11.250000   4.000000\nmax    28.000000  10.000000  14.000000  12.000000  15.000000   5.000000",
      "text/html": "<div>\n<style scoped>\n    .dataframe tbody tr th:only-of-type {\n        vertical-align: middle;\n    }\n\n    .dataframe tbody tr th {\n        vertical-align: top;\n    }\n\n    .dataframe thead th {\n        text-align: right;\n    }\n</style>\n<table border=\"1\" class=\"dataframe\">\n  <thead>\n    <tr style=\"text-align: right;\">\n      <th></th>\n      <th>ST-I</th>\n      <th>ST-II</th>\n      <th>ST-III</th>\n      <th>HL-III</th>\n      <th>uPK1</th>\n      <th>IB-I</th>\n    </tr>\n  </thead>\n  <tbody>\n    <tr>\n      <th>count</th>\n      <td>12.000000</td>\n      <td>12.000000</td>\n      <td>12.000000</td>\n      <td>12.000000</td>\n      <td>12.000000</td>\n      <td>12.000000</td>\n    </tr>\n    <tr>\n      <th>mean</th>\n      <td>24.333333</td>\n      <td>6.833333</td>\n      <td>9.000000</td>\n      <td>10.666667</td>\n      <td>10.833333</td>\n      <td>2.333333</td>\n    </tr>\n    <tr>\n      <th>std</th>\n      <td>1.669694</td>\n      <td>1.337116</td>\n      <td>1.809068</td>\n      <td>2.269695</td>\n      <td>2.208798</td>\n      <td>1.775251</td>\n    </tr>\n    <tr>\n      <th>min</th>\n      <td>22.000000</td>\n      <td>6.000000</td>\n      <td>8.000000</td>\n      <td>4.000000</td>\n      <td>8.000000</td>\n      <td>0.000000</td>\n    </tr>\n    <tr>\n      <th>25%</th>\n      <td>24.000000</td>\n      <td>6.000000</td>\n      <td>8.000000</td>\n      <td>10.000000</td>\n      <td>9.500000</td>\n      <td>0.750000</td>\n    </tr>\n    <tr>\n      <th>50%</th>\n      <td>24.000000</td>\n      <td>6.000000</td>\n      <td>8.000000</td>\n      <td>11.500000</td>\n      <td>11.000000</td>\n      <td>2.500000</td>\n    </tr>\n    <tr>\n      <th>75%</th>\n      <td>24.500000</td>\n      <td>8.000000</td>\n      <td>10.000000</td>\n      <td>12.000000</td>\n      <td>11.250000</td>\n      <td>4.000000</td>\n    </tr>\n    <tr>\n      <th>max</th>\n      <td>28.000000</td>\n      <td>10.000000</td>\n      <td>14.000000</td>\n      <td>12.000000</td>\n      <td>15.000000</td>\n      <td>5.000000</td>\n    </tr>\n  </tbody>\n</table>\n</div>"
     },
     "execution_count": 5,
     "metadata": {},
     "output_type": "execute_result"
    }
   ],
   "source": [
    "xrRNA1_df_clean.drop(columns=['name']).describe()\n"
   ],
   "metadata": {
    "collapsed": false,
    "ExecuteTime": {
     "end_time": "2024-04-22T08:55:43.473470Z",
     "start_time": "2024-04-22T08:55:43.464041Z"
    }
   },
   "id": "b281326d368e047e",
   "execution_count": 5
  },
  {
   "cell_type": "code",
   "outputs": [
    {
     "name": "stderr",
     "output_type": "stream",
     "text": [
      "/var/folders/54/ry4wc1s953jdm1j76gdcpwpc0000gn/T/ipykernel_20960/3748053362.py:3: FutureWarning: Downcasting behavior in `replace` is deprecated and will be removed in a future version. To retain the old behavior, explicitly call `result.infer_objects(copy=False)`. To opt-in to the future behavior, set `pd.set_option('future.no_silent_downcasting', True)`\n",
      "  temp_df = df.drop(columns=['name', 'PKs?', 'numSeqs']).replace('-', 0)\n"
     ]
    }
   ],
   "source": [
    "df = pd.read_csv(stats, skiprows=13, delimiter=\";\")\n",
    "df_merge = df.copy()\n",
    "temp_df = df.drop(columns=['name', 'PKs?', 'numSeqs']).replace('-', 0)\n",
    "temp_df = temp_df.replace('3+2', 5).replace('2+2', 4).replace('4+2', 6)\n",
    "\n",
    "# want to count nucleotides not basepairs --> multiply stems by two\n",
    "\n",
    "temp_df = temp_df.astype(int)\n",
    "temp_df['ST-I'] = temp_df['ST-I'] * 2\n",
    "temp_df['ST-II'] = temp_df['ST-II'] * 2\n",
    "temp_df['ST-III'] = temp_df['ST-III'] * 2\n",
    "\n",
    "df_merge['I'] = temp_df['ST-I'] + temp_df['IL-I'] + temp_df['BL-I']\n",
    "df_merge['II'] = temp_df['ST-II'] + temp_df['HL-II'] + temp_df['BL-II']\n",
    "df_merge['III'] = temp_df['ST-III'] + temp_df['HL-III']\n",
    "df_merge['HL'] = temp_df['HL-II'] + temp_df['HL-III']\n",
    "df_merge['sum'] = temp_df[list(temp_df.columns)].sum(axis=1)\n",
    "df_merge['name_'] = [f'{i} xrRNA {j}'for i, j in zip(df_merge['name'], df_merge['xrRNA-no'])]\n",
    "temp_df['name_'] = [f'{i} xrRNA {j}'for i, j in zip(df_merge['name'], df_merge['xrRNA-no'])]\n",
    "df_merge = df_merge[['name', 'xrRNA-no', 'name_', 'I', 'II', 'III', 'HL', 'sum']]\n",
    "df_merge = df_merge.merge(temp_df, on='name_')\n",
    "# print(df_merge)\n",
    "df_merge = df_merge.drop(index= [28, 29, 30, 31, 26, 23, 12, 13,14]) # remove XiFV xrRNA 2 - 5, TYUV, SREV, MPFV"
   ],
   "metadata": {
    "collapsed": false,
    "ExecuteTime": {
     "end_time": "2024-04-22T09:13:32.138709Z",
     "start_time": "2024-04-22T09:13:32.118833Z"
    }
   },
   "id": "e3afc0466faac182",
   "execution_count": 18
  },
  {
   "cell_type": "code",
   "outputs": [
    {
     "data": {
      "text/plain": "    name  xrRNA-no_x         name_   I  II  III  HL  sum  xrRNA-no_y  ST-I  \\\n0   ALKV           1  ALKV xrRNA 1  26  12   20  14   75           1    22   \n1    DTV           1   DTV xrRNA 1  24  15   19  20   81           1    24   \n2    DTV           2   DTV xrRNA 2  20   9   20  13   71           2    20   \n3    GGV           1   GGV xrRNA 1  24  14   18  11   82           1    24   \n4    GGV           2   GGV xrRNA 2  25  18   19  15   87           2    24   \n5   KFDV           1  KFDV xrRNA 1  26  12   20  14   77           1    24   \n6   KSIV           1  KSIV xrRNA 1  30  11   20  15   80           1    28   \n7   KSIV           2  KSIV xrRNA 2  31  17   20  19   85           2    26   \n8   LGTV           1  LGTV xrRNA 1  28  13   20  13   81           1    24   \n9   LGTV           2  LGTV xrRNA 2  28  17   20  17   84           2    28   \n10   LIV           1   LIV xrRNA 1  27  10   20  16   77           1    24   \n11   LIV           2   LIV xrRNA 2  27  17   20  17   88           2    26   \n15  NEGV           1  NEGV xrRNA 1  27  10   20  16   77           1    26   \n16  NEGV           2  NEGV xrRNA 2  28  17   20  17   82           2    26   \n17  OHFV           1  OHFV xrRNA 1  28  10   20  16   78           1    24   \n18  OHFV           2  OHFV xrRNA 2  26  17   20  17   82           2    22   \n19  POWV           1  POWV xrRNA 1  24  15   19  20   83           1    24   \n20  POWV           2  POWV xrRNA 2  22   9   20  13   75           2    22   \n21  SGEV           1  SGEV xrRNA 1  29  10   20  16   78           1    26   \n22  SGEV           2  SGEV xrRNA 2  27  17   20  17   84           2    26   \n24  TBEV           1  TBEV xrRNA 1  27  10   20  16   77           1    22   \n25  TBEV           2  TBEV xrRNA 2  27  17   21  20   87           2    26   \n27  XiFV           1  XiFV xrRNA 1  12  12   17  15   58           1    12   \n\n    ...  ST-III  HL-III  BL-III  BR-III  ML-I/II  ML-II/III  ML-III/I  \\\n0   ...      10      10       0       0        6          1         1   \n1   ...       8      11       0       0        6          1         1   \n2   ...      10      10       0       0        6          1         1   \n3   ...      14       4       0       0        6          1         1   \n4   ...       8      11       0       0        6          1         1   \n5   ...      10      10       0       0        6          1         1   \n6   ...       8      12       0       0        6          1         1   \n7   ...      10      10       0       0        6          1         1   \n8   ...      10      10       0       0        6          1         1   \n9   ...      10      10       0       0        6          1         1   \n10  ...       8      12       0       0        6          1         1   \n11  ...      10      10       0       0        6          1         1   \n15  ...       8      12       0       0        6          1         1   \n16  ...      10      10       0       0        6          1         1   \n17  ...       8      12       0       0        6          1         1   \n18  ...      10      10       0       0        6          1         1   \n19  ...       8      11       0       0        6          1         1   \n20  ...      10      10       0       0        6          1         1   \n21  ...       8      12       0       0        6          1         1   \n22  ...      10      10       0       0        6          1         1   \n24  ...       8      12       0       0        6          1         1   \n25  ...       8      13       0       0        6          1         1   \n27  ...       8       9       0       0        2          1         1   \n\n    ML-I/III  uPK1  PK1bPK2  \n0          0     8        0  \n1          0    12        2  \n2          0    11        0  \n3          0    15        2  \n4          0    11        2  \n5          0     8        2  \n6          0     8        2  \n7          0     7        0  \n8          0    11        0  \n9          0     8        0  \n10         0    11        0  \n11         0    13        0  \n15         0    11        0  \n16         0     7        0  \n17         0    11        0  \n18         0     9        0  \n19         0    14        2  \n20         0    13        0  \n21         0    10        0  \n22         0     7        2  \n24         0    11        0  \n25         0     9        2  \n27         0    12        0  \n\n[23 rows x 27 columns]",
      "text/html": "<div>\n<style scoped>\n    .dataframe tbody tr th:only-of-type {\n        vertical-align: middle;\n    }\n\n    .dataframe tbody tr th {\n        vertical-align: top;\n    }\n\n    .dataframe thead th {\n        text-align: right;\n    }\n</style>\n<table border=\"1\" class=\"dataframe\">\n  <thead>\n    <tr style=\"text-align: right;\">\n      <th></th>\n      <th>name</th>\n      <th>xrRNA-no_x</th>\n      <th>name_</th>\n      <th>I</th>\n      <th>II</th>\n      <th>III</th>\n      <th>HL</th>\n      <th>sum</th>\n      <th>xrRNA-no_y</th>\n      <th>ST-I</th>\n      <th>...</th>\n      <th>ST-III</th>\n      <th>HL-III</th>\n      <th>BL-III</th>\n      <th>BR-III</th>\n      <th>ML-I/II</th>\n      <th>ML-II/III</th>\n      <th>ML-III/I</th>\n      <th>ML-I/III</th>\n      <th>uPK1</th>\n      <th>PK1bPK2</th>\n    </tr>\n  </thead>\n  <tbody>\n    <tr>\n      <th>0</th>\n      <td>ALKV</td>\n      <td>1</td>\n      <td>ALKV xrRNA 1</td>\n      <td>26</td>\n      <td>12</td>\n      <td>20</td>\n      <td>14</td>\n      <td>75</td>\n      <td>1</td>\n      <td>22</td>\n      <td>...</td>\n      <td>10</td>\n      <td>10</td>\n      <td>0</td>\n      <td>0</td>\n      <td>6</td>\n      <td>1</td>\n      <td>1</td>\n      <td>0</td>\n      <td>8</td>\n      <td>0</td>\n    </tr>\n    <tr>\n      <th>1</th>\n      <td>DTV</td>\n      <td>1</td>\n      <td>DTV xrRNA 1</td>\n      <td>24</td>\n      <td>15</td>\n      <td>19</td>\n      <td>20</td>\n      <td>81</td>\n      <td>1</td>\n      <td>24</td>\n      <td>...</td>\n      <td>8</td>\n      <td>11</td>\n      <td>0</td>\n      <td>0</td>\n      <td>6</td>\n      <td>1</td>\n      <td>1</td>\n      <td>0</td>\n      <td>12</td>\n      <td>2</td>\n    </tr>\n    <tr>\n      <th>2</th>\n      <td>DTV</td>\n      <td>2</td>\n      <td>DTV xrRNA 2</td>\n      <td>20</td>\n      <td>9</td>\n      <td>20</td>\n      <td>13</td>\n      <td>71</td>\n      <td>2</td>\n      <td>20</td>\n      <td>...</td>\n      <td>10</td>\n      <td>10</td>\n      <td>0</td>\n      <td>0</td>\n      <td>6</td>\n      <td>1</td>\n      <td>1</td>\n      <td>0</td>\n      <td>11</td>\n      <td>0</td>\n    </tr>\n    <tr>\n      <th>3</th>\n      <td>GGV</td>\n      <td>1</td>\n      <td>GGV xrRNA 1</td>\n      <td>24</td>\n      <td>14</td>\n      <td>18</td>\n      <td>11</td>\n      <td>82</td>\n      <td>1</td>\n      <td>24</td>\n      <td>...</td>\n      <td>14</td>\n      <td>4</td>\n      <td>0</td>\n      <td>0</td>\n      <td>6</td>\n      <td>1</td>\n      <td>1</td>\n      <td>0</td>\n      <td>15</td>\n      <td>2</td>\n    </tr>\n    <tr>\n      <th>4</th>\n      <td>GGV</td>\n      <td>2</td>\n      <td>GGV xrRNA 2</td>\n      <td>25</td>\n      <td>18</td>\n      <td>19</td>\n      <td>15</td>\n      <td>87</td>\n      <td>2</td>\n      <td>24</td>\n      <td>...</td>\n      <td>8</td>\n      <td>11</td>\n      <td>0</td>\n      <td>0</td>\n      <td>6</td>\n      <td>1</td>\n      <td>1</td>\n      <td>0</td>\n      <td>11</td>\n      <td>2</td>\n    </tr>\n    <tr>\n      <th>5</th>\n      <td>KFDV</td>\n      <td>1</td>\n      <td>KFDV xrRNA 1</td>\n      <td>26</td>\n      <td>12</td>\n      <td>20</td>\n      <td>14</td>\n      <td>77</td>\n      <td>1</td>\n      <td>24</td>\n      <td>...</td>\n      <td>10</td>\n      <td>10</td>\n      <td>0</td>\n      <td>0</td>\n      <td>6</td>\n      <td>1</td>\n      <td>1</td>\n      <td>0</td>\n      <td>8</td>\n      <td>2</td>\n    </tr>\n    <tr>\n      <th>6</th>\n      <td>KSIV</td>\n      <td>1</td>\n      <td>KSIV xrRNA 1</td>\n      <td>30</td>\n      <td>11</td>\n      <td>20</td>\n      <td>15</td>\n      <td>80</td>\n      <td>1</td>\n      <td>28</td>\n      <td>...</td>\n      <td>8</td>\n      <td>12</td>\n      <td>0</td>\n      <td>0</td>\n      <td>6</td>\n      <td>1</td>\n      <td>1</td>\n      <td>0</td>\n      <td>8</td>\n      <td>2</td>\n    </tr>\n    <tr>\n      <th>7</th>\n      <td>KSIV</td>\n      <td>2</td>\n      <td>KSIV xrRNA 2</td>\n      <td>31</td>\n      <td>17</td>\n      <td>20</td>\n      <td>19</td>\n      <td>85</td>\n      <td>2</td>\n      <td>26</td>\n      <td>...</td>\n      <td>10</td>\n      <td>10</td>\n      <td>0</td>\n      <td>0</td>\n      <td>6</td>\n      <td>1</td>\n      <td>1</td>\n      <td>0</td>\n      <td>7</td>\n      <td>0</td>\n    </tr>\n    <tr>\n      <th>8</th>\n      <td>LGTV</td>\n      <td>1</td>\n      <td>LGTV xrRNA 1</td>\n      <td>28</td>\n      <td>13</td>\n      <td>20</td>\n      <td>13</td>\n      <td>81</td>\n      <td>1</td>\n      <td>24</td>\n      <td>...</td>\n      <td>10</td>\n      <td>10</td>\n      <td>0</td>\n      <td>0</td>\n      <td>6</td>\n      <td>1</td>\n      <td>1</td>\n      <td>0</td>\n      <td>11</td>\n      <td>0</td>\n    </tr>\n    <tr>\n      <th>9</th>\n      <td>LGTV</td>\n      <td>2</td>\n      <td>LGTV xrRNA 2</td>\n      <td>28</td>\n      <td>17</td>\n      <td>20</td>\n      <td>17</td>\n      <td>84</td>\n      <td>2</td>\n      <td>28</td>\n      <td>...</td>\n      <td>10</td>\n      <td>10</td>\n      <td>0</td>\n      <td>0</td>\n      <td>6</td>\n      <td>1</td>\n      <td>1</td>\n      <td>0</td>\n      <td>8</td>\n      <td>0</td>\n    </tr>\n    <tr>\n      <th>10</th>\n      <td>LIV</td>\n      <td>1</td>\n      <td>LIV xrRNA 1</td>\n      <td>27</td>\n      <td>10</td>\n      <td>20</td>\n      <td>16</td>\n      <td>77</td>\n      <td>1</td>\n      <td>24</td>\n      <td>...</td>\n      <td>8</td>\n      <td>12</td>\n      <td>0</td>\n      <td>0</td>\n      <td>6</td>\n      <td>1</td>\n      <td>1</td>\n      <td>0</td>\n      <td>11</td>\n      <td>0</td>\n    </tr>\n    <tr>\n      <th>11</th>\n      <td>LIV</td>\n      <td>2</td>\n      <td>LIV xrRNA 2</td>\n      <td>27</td>\n      <td>17</td>\n      <td>20</td>\n      <td>17</td>\n      <td>88</td>\n      <td>2</td>\n      <td>26</td>\n      <td>...</td>\n      <td>10</td>\n      <td>10</td>\n      <td>0</td>\n      <td>0</td>\n      <td>6</td>\n      <td>1</td>\n      <td>1</td>\n      <td>0</td>\n      <td>13</td>\n      <td>0</td>\n    </tr>\n    <tr>\n      <th>15</th>\n      <td>NEGV</td>\n      <td>1</td>\n      <td>NEGV xrRNA 1</td>\n      <td>27</td>\n      <td>10</td>\n      <td>20</td>\n      <td>16</td>\n      <td>77</td>\n      <td>1</td>\n      <td>26</td>\n      <td>...</td>\n      <td>8</td>\n      <td>12</td>\n      <td>0</td>\n      <td>0</td>\n      <td>6</td>\n      <td>1</td>\n      <td>1</td>\n      <td>0</td>\n      <td>11</td>\n      <td>0</td>\n    </tr>\n    <tr>\n      <th>16</th>\n      <td>NEGV</td>\n      <td>2</td>\n      <td>NEGV xrRNA 2</td>\n      <td>28</td>\n      <td>17</td>\n      <td>20</td>\n      <td>17</td>\n      <td>82</td>\n      <td>2</td>\n      <td>26</td>\n      <td>...</td>\n      <td>10</td>\n      <td>10</td>\n      <td>0</td>\n      <td>0</td>\n      <td>6</td>\n      <td>1</td>\n      <td>1</td>\n      <td>0</td>\n      <td>7</td>\n      <td>0</td>\n    </tr>\n    <tr>\n      <th>17</th>\n      <td>OHFV</td>\n      <td>1</td>\n      <td>OHFV xrRNA 1</td>\n      <td>28</td>\n      <td>10</td>\n      <td>20</td>\n      <td>16</td>\n      <td>78</td>\n      <td>1</td>\n      <td>24</td>\n      <td>...</td>\n      <td>8</td>\n      <td>12</td>\n      <td>0</td>\n      <td>0</td>\n      <td>6</td>\n      <td>1</td>\n      <td>1</td>\n      <td>0</td>\n      <td>11</td>\n      <td>0</td>\n    </tr>\n    <tr>\n      <th>18</th>\n      <td>OHFV</td>\n      <td>2</td>\n      <td>OHFV xrRNA 2</td>\n      <td>26</td>\n      <td>17</td>\n      <td>20</td>\n      <td>17</td>\n      <td>82</td>\n      <td>2</td>\n      <td>22</td>\n      <td>...</td>\n      <td>10</td>\n      <td>10</td>\n      <td>0</td>\n      <td>0</td>\n      <td>6</td>\n      <td>1</td>\n      <td>1</td>\n      <td>0</td>\n      <td>9</td>\n      <td>0</td>\n    </tr>\n    <tr>\n      <th>19</th>\n      <td>POWV</td>\n      <td>1</td>\n      <td>POWV xrRNA 1</td>\n      <td>24</td>\n      <td>15</td>\n      <td>19</td>\n      <td>20</td>\n      <td>83</td>\n      <td>1</td>\n      <td>24</td>\n      <td>...</td>\n      <td>8</td>\n      <td>11</td>\n      <td>0</td>\n      <td>0</td>\n      <td>6</td>\n      <td>1</td>\n      <td>1</td>\n      <td>0</td>\n      <td>14</td>\n      <td>2</td>\n    </tr>\n    <tr>\n      <th>20</th>\n      <td>POWV</td>\n      <td>2</td>\n      <td>POWV xrRNA 2</td>\n      <td>22</td>\n      <td>9</td>\n      <td>20</td>\n      <td>13</td>\n      <td>75</td>\n      <td>2</td>\n      <td>22</td>\n      <td>...</td>\n      <td>10</td>\n      <td>10</td>\n      <td>0</td>\n      <td>0</td>\n      <td>6</td>\n      <td>1</td>\n      <td>1</td>\n      <td>0</td>\n      <td>13</td>\n      <td>0</td>\n    </tr>\n    <tr>\n      <th>21</th>\n      <td>SGEV</td>\n      <td>1</td>\n      <td>SGEV xrRNA 1</td>\n      <td>29</td>\n      <td>10</td>\n      <td>20</td>\n      <td>16</td>\n      <td>78</td>\n      <td>1</td>\n      <td>26</td>\n      <td>...</td>\n      <td>8</td>\n      <td>12</td>\n      <td>0</td>\n      <td>0</td>\n      <td>6</td>\n      <td>1</td>\n      <td>1</td>\n      <td>0</td>\n      <td>10</td>\n      <td>0</td>\n    </tr>\n    <tr>\n      <th>22</th>\n      <td>SGEV</td>\n      <td>2</td>\n      <td>SGEV xrRNA 2</td>\n      <td>27</td>\n      <td>17</td>\n      <td>20</td>\n      <td>17</td>\n      <td>84</td>\n      <td>2</td>\n      <td>26</td>\n      <td>...</td>\n      <td>10</td>\n      <td>10</td>\n      <td>0</td>\n      <td>0</td>\n      <td>6</td>\n      <td>1</td>\n      <td>1</td>\n      <td>0</td>\n      <td>7</td>\n      <td>2</td>\n    </tr>\n    <tr>\n      <th>24</th>\n      <td>TBEV</td>\n      <td>1</td>\n      <td>TBEV xrRNA 1</td>\n      <td>27</td>\n      <td>10</td>\n      <td>20</td>\n      <td>16</td>\n      <td>77</td>\n      <td>1</td>\n      <td>22</td>\n      <td>...</td>\n      <td>8</td>\n      <td>12</td>\n      <td>0</td>\n      <td>0</td>\n      <td>6</td>\n      <td>1</td>\n      <td>1</td>\n      <td>0</td>\n      <td>11</td>\n      <td>0</td>\n    </tr>\n    <tr>\n      <th>25</th>\n      <td>TBEV</td>\n      <td>2</td>\n      <td>TBEV xrRNA 2</td>\n      <td>27</td>\n      <td>17</td>\n      <td>21</td>\n      <td>20</td>\n      <td>87</td>\n      <td>2</td>\n      <td>26</td>\n      <td>...</td>\n      <td>8</td>\n      <td>13</td>\n      <td>0</td>\n      <td>0</td>\n      <td>6</td>\n      <td>1</td>\n      <td>1</td>\n      <td>0</td>\n      <td>9</td>\n      <td>2</td>\n    </tr>\n    <tr>\n      <th>27</th>\n      <td>XiFV</td>\n      <td>1</td>\n      <td>XiFV xrRNA 1</td>\n      <td>12</td>\n      <td>12</td>\n      <td>17</td>\n      <td>15</td>\n      <td>58</td>\n      <td>1</td>\n      <td>12</td>\n      <td>...</td>\n      <td>8</td>\n      <td>9</td>\n      <td>0</td>\n      <td>0</td>\n      <td>2</td>\n      <td>1</td>\n      <td>1</td>\n      <td>0</td>\n      <td>12</td>\n      <td>0</td>\n    </tr>\n  </tbody>\n</table>\n<p>23 rows × 27 columns</p>\n</div>"
     },
     "execution_count": 19,
     "metadata": {},
     "output_type": "execute_result"
    }
   ],
   "source": [
    "df_merge"
   ],
   "metadata": {
    "collapsed": false,
    "ExecuteTime": {
     "end_time": "2024-04-22T09:13:32.886547Z",
     "start_time": "2024-04-22T09:13:32.873886Z"
    }
   },
   "id": "b8b42ed6e2cdcd39",
   "execution_count": 19
  },
  {
   "cell_type": "code",
   "outputs": [],
   "source": [
    "def calculate_relations(df):\n",
    "    st2_hl2 = []\n",
    "    st3_hl3 = []\n",
    "    sI_sII = []\n",
    "    sII_sIII = []\n",
    "    sI_sIII = []\n",
    "    names = []\n",
    "    for i in df_merge.index:\n",
    "        st1 = df.loc[i, \"ST-I\"]\n",
    "        st2 = df.loc[i, \"ST-II\"]\n",
    "        st3 = df.loc[i, \"ST-III\"]\n",
    "        hl2 = df.loc[i, \"HL-II\"]\n",
    "        hl3 = df.loc[i, \"HL-III\"]\n",
    "\n",
    "        sI = df.loc[i, \"I\"]\n",
    "        sII = df.loc[i, \"II\"]\n",
    "        sIII = df.loc[i, \"III\"]\n",
    "        \n",
    "        try:\n",
    "            st2_hl2.append(float(st2) * 2/float(hl2))\n",
    "        except:\n",
    "            st2_hl2.append(np.NaN)\n",
    "        try:\n",
    "            st3_hl3.append(float(st3) * 2/float(hl3))\n",
    "        except:\n",
    "            st3_hl3.append(np.NaN)\n",
    "\n",
    "        try:\n",
    "            sI_sII.append(float(sI)/float(sII))\n",
    "        except:\n",
    "            sI_sII.append(np.NaN)\n",
    "\n",
    "        try:\n",
    "            sII_sIII.append(float(sII)/float(sIII))\n",
    "        except:\n",
    "            sII_sIII.append(np.NaN)\n",
    "\n",
    "        try:\n",
    "            sI_sIII.append(float(sI)/float(sIII))\n",
    "        except:\n",
    "            sI_sIII.append(np.NaN)\n",
    "\n",
    "\n",
    "        names.append(df.loc[i, \"name_\"])\n",
    "    relations = {\"name\": names, \"STII/HLII\": st2_hl2, \"STIII/HLIII\": st3_hl3, 'SI/SII': sI_sII, 'SII/SIII': sII_sIII, 'SI/SIII': sI_sIII, }\n",
    "    df_relations = pd.DataFrame(relations)\n",
    "    df_relations = df_relations.replace(0, np.NaN)\n",
    "    return df_relations\n",
    "\n"
   ],
   "metadata": {
    "collapsed": false,
    "ExecuteTime": {
     "end_time": "2024-04-22T09:13:40.109016Z",
     "start_time": "2024-04-22T09:13:40.104161Z"
    }
   },
   "id": "9511d6c665bb734d",
   "execution_count": 20
  },
  {
   "cell_type": "code",
   "outputs": [
    {
     "data": {
      "text/plain": "            name  STII/HLII  STIII/HLIII    SI/SII  SII/SIII   SI/SIII\n0   ALKV xrRNA 1   4.000000     2.000000  2.166667  0.600000  1.300000\n1    DTV xrRNA 1   1.333333     1.454545  1.600000  0.789474  1.263158\n2    DTV xrRNA 2   4.000000     2.000000  2.222222  0.450000  1.000000\n3    GGV xrRNA 1   1.714286     7.000000  1.714286  0.777778  1.333333\n4    GGV xrRNA 2   7.000000     1.454545  1.388889  0.947368  1.315789\n5   KFDV xrRNA 1   4.000000     2.000000  2.166667  0.600000  1.300000\n6   KSIV xrRNA 1   5.333333     1.333333  2.727273  0.550000  1.500000\n7   KSIV xrRNA 2   1.777778     2.000000  1.823529  0.850000  1.550000\n8   LGTV xrRNA 1   6.666667     2.000000  2.153846  0.650000  1.400000\n9   LGTV xrRNA 2   2.857143     2.000000  1.647059  0.850000  1.400000\n10   LIV xrRNA 1   3.000000     1.333333  2.700000  0.500000  1.350000\n11   LIV xrRNA 2   2.857143     2.000000  1.588235  0.850000  1.350000\n12  NEGV xrRNA 1   3.000000     1.333333  2.700000  0.500000  1.350000\n13  NEGV xrRNA 2   2.857143     2.000000  1.647059  0.850000  1.400000\n14  OHFV xrRNA 1   3.000000     1.333333  2.800000  0.500000  1.400000\n15  OHFV xrRNA 2   2.857143     2.000000  1.529412  0.850000  1.300000\n16  POWV xrRNA 1   1.333333     1.454545  1.600000  0.789474  1.263158\n17  POWV xrRNA 2   4.000000     2.000000  2.444444  0.450000  1.100000\n18  SGEV xrRNA 1   3.000000     1.333333  2.900000  0.500000  1.450000\n19  SGEV xrRNA 2   2.857143     2.000000  1.588235  0.850000  1.350000\n20  TBEV xrRNA 1   3.000000     1.333333  2.700000  0.500000  1.350000\n21  TBEV xrRNA 2   2.857143     1.230769  1.588235  0.809524  1.285714\n22  XiFV xrRNA 1   2.000000     1.777778  1.000000  0.705882  0.705882",
      "text/html": "<div>\n<style scoped>\n    .dataframe tbody tr th:only-of-type {\n        vertical-align: middle;\n    }\n\n    .dataframe tbody tr th {\n        vertical-align: top;\n    }\n\n    .dataframe thead th {\n        text-align: right;\n    }\n</style>\n<table border=\"1\" class=\"dataframe\">\n  <thead>\n    <tr style=\"text-align: right;\">\n      <th></th>\n      <th>name</th>\n      <th>STII/HLII</th>\n      <th>STIII/HLIII</th>\n      <th>SI/SII</th>\n      <th>SII/SIII</th>\n      <th>SI/SIII</th>\n    </tr>\n  </thead>\n  <tbody>\n    <tr>\n      <th>0</th>\n      <td>ALKV xrRNA 1</td>\n      <td>4.000000</td>\n      <td>2.000000</td>\n      <td>2.166667</td>\n      <td>0.600000</td>\n      <td>1.300000</td>\n    </tr>\n    <tr>\n      <th>1</th>\n      <td>DTV xrRNA 1</td>\n      <td>1.333333</td>\n      <td>1.454545</td>\n      <td>1.600000</td>\n      <td>0.789474</td>\n      <td>1.263158</td>\n    </tr>\n    <tr>\n      <th>2</th>\n      <td>DTV xrRNA 2</td>\n      <td>4.000000</td>\n      <td>2.000000</td>\n      <td>2.222222</td>\n      <td>0.450000</td>\n      <td>1.000000</td>\n    </tr>\n    <tr>\n      <th>3</th>\n      <td>GGV xrRNA 1</td>\n      <td>1.714286</td>\n      <td>7.000000</td>\n      <td>1.714286</td>\n      <td>0.777778</td>\n      <td>1.333333</td>\n    </tr>\n    <tr>\n      <th>4</th>\n      <td>GGV xrRNA 2</td>\n      <td>7.000000</td>\n      <td>1.454545</td>\n      <td>1.388889</td>\n      <td>0.947368</td>\n      <td>1.315789</td>\n    </tr>\n    <tr>\n      <th>5</th>\n      <td>KFDV xrRNA 1</td>\n      <td>4.000000</td>\n      <td>2.000000</td>\n      <td>2.166667</td>\n      <td>0.600000</td>\n      <td>1.300000</td>\n    </tr>\n    <tr>\n      <th>6</th>\n      <td>KSIV xrRNA 1</td>\n      <td>5.333333</td>\n      <td>1.333333</td>\n      <td>2.727273</td>\n      <td>0.550000</td>\n      <td>1.500000</td>\n    </tr>\n    <tr>\n      <th>7</th>\n      <td>KSIV xrRNA 2</td>\n      <td>1.777778</td>\n      <td>2.000000</td>\n      <td>1.823529</td>\n      <td>0.850000</td>\n      <td>1.550000</td>\n    </tr>\n    <tr>\n      <th>8</th>\n      <td>LGTV xrRNA 1</td>\n      <td>6.666667</td>\n      <td>2.000000</td>\n      <td>2.153846</td>\n      <td>0.650000</td>\n      <td>1.400000</td>\n    </tr>\n    <tr>\n      <th>9</th>\n      <td>LGTV xrRNA 2</td>\n      <td>2.857143</td>\n      <td>2.000000</td>\n      <td>1.647059</td>\n      <td>0.850000</td>\n      <td>1.400000</td>\n    </tr>\n    <tr>\n      <th>10</th>\n      <td>LIV xrRNA 1</td>\n      <td>3.000000</td>\n      <td>1.333333</td>\n      <td>2.700000</td>\n      <td>0.500000</td>\n      <td>1.350000</td>\n    </tr>\n    <tr>\n      <th>11</th>\n      <td>LIV xrRNA 2</td>\n      <td>2.857143</td>\n      <td>2.000000</td>\n      <td>1.588235</td>\n      <td>0.850000</td>\n      <td>1.350000</td>\n    </tr>\n    <tr>\n      <th>12</th>\n      <td>NEGV xrRNA 1</td>\n      <td>3.000000</td>\n      <td>1.333333</td>\n      <td>2.700000</td>\n      <td>0.500000</td>\n      <td>1.350000</td>\n    </tr>\n    <tr>\n      <th>13</th>\n      <td>NEGV xrRNA 2</td>\n      <td>2.857143</td>\n      <td>2.000000</td>\n      <td>1.647059</td>\n      <td>0.850000</td>\n      <td>1.400000</td>\n    </tr>\n    <tr>\n      <th>14</th>\n      <td>OHFV xrRNA 1</td>\n      <td>3.000000</td>\n      <td>1.333333</td>\n      <td>2.800000</td>\n      <td>0.500000</td>\n      <td>1.400000</td>\n    </tr>\n    <tr>\n      <th>15</th>\n      <td>OHFV xrRNA 2</td>\n      <td>2.857143</td>\n      <td>2.000000</td>\n      <td>1.529412</td>\n      <td>0.850000</td>\n      <td>1.300000</td>\n    </tr>\n    <tr>\n      <th>16</th>\n      <td>POWV xrRNA 1</td>\n      <td>1.333333</td>\n      <td>1.454545</td>\n      <td>1.600000</td>\n      <td>0.789474</td>\n      <td>1.263158</td>\n    </tr>\n    <tr>\n      <th>17</th>\n      <td>POWV xrRNA 2</td>\n      <td>4.000000</td>\n      <td>2.000000</td>\n      <td>2.444444</td>\n      <td>0.450000</td>\n      <td>1.100000</td>\n    </tr>\n    <tr>\n      <th>18</th>\n      <td>SGEV xrRNA 1</td>\n      <td>3.000000</td>\n      <td>1.333333</td>\n      <td>2.900000</td>\n      <td>0.500000</td>\n      <td>1.450000</td>\n    </tr>\n    <tr>\n      <th>19</th>\n      <td>SGEV xrRNA 2</td>\n      <td>2.857143</td>\n      <td>2.000000</td>\n      <td>1.588235</td>\n      <td>0.850000</td>\n      <td>1.350000</td>\n    </tr>\n    <tr>\n      <th>20</th>\n      <td>TBEV xrRNA 1</td>\n      <td>3.000000</td>\n      <td>1.333333</td>\n      <td>2.700000</td>\n      <td>0.500000</td>\n      <td>1.350000</td>\n    </tr>\n    <tr>\n      <th>21</th>\n      <td>TBEV xrRNA 2</td>\n      <td>2.857143</td>\n      <td>1.230769</td>\n      <td>1.588235</td>\n      <td>0.809524</td>\n      <td>1.285714</td>\n    </tr>\n    <tr>\n      <th>22</th>\n      <td>XiFV xrRNA 1</td>\n      <td>2.000000</td>\n      <td>1.777778</td>\n      <td>1.000000</td>\n      <td>0.705882</td>\n      <td>0.705882</td>\n    </tr>\n  </tbody>\n</table>\n</div>"
     },
     "execution_count": 21,
     "metadata": {},
     "output_type": "execute_result"
    }
   ],
   "source": [
    "df_rel = calculate_relations(df_merge)\n",
    "df_rel"
   ],
   "metadata": {
    "collapsed": false,
    "ExecuteTime": {
     "end_time": "2024-04-22T09:13:47.166061Z",
     "start_time": "2024-04-22T09:13:47.154267Z"
    }
   },
   "id": "348bf79c23d0c433",
   "execution_count": 21
  },
  {
   "cell_type": "code",
   "outputs": [
    {
     "data": {
      "text/plain": "       STII/HLII  STIII/HLIII     SI/SII   SII/SIII    SI/SIII\ncount  23.000000    23.000000  23.000000  23.000000  23.000000\nmean    3.273982     1.929225   2.017220   0.683457   1.305088\nstd     1.461432     1.149805   0.545799   0.164315   0.173750\nmin     1.333333     1.230769   1.000000   0.450000   0.705882\n25%     2.857143     1.333333   1.594118   0.500000   1.292857\n50%     3.000000     2.000000   1.823529   0.705882   1.350000\n75%     4.000000     2.000000   2.572222   0.850000   1.400000\nmax     7.000000     7.000000   2.900000   0.947368   1.550000",
      "text/html": "<div>\n<style scoped>\n    .dataframe tbody tr th:only-of-type {\n        vertical-align: middle;\n    }\n\n    .dataframe tbody tr th {\n        vertical-align: top;\n    }\n\n    .dataframe thead th {\n        text-align: right;\n    }\n</style>\n<table border=\"1\" class=\"dataframe\">\n  <thead>\n    <tr style=\"text-align: right;\">\n      <th></th>\n      <th>STII/HLII</th>\n      <th>STIII/HLIII</th>\n      <th>SI/SII</th>\n      <th>SII/SIII</th>\n      <th>SI/SIII</th>\n    </tr>\n  </thead>\n  <tbody>\n    <tr>\n      <th>count</th>\n      <td>23.000000</td>\n      <td>23.000000</td>\n      <td>23.000000</td>\n      <td>23.000000</td>\n      <td>23.000000</td>\n    </tr>\n    <tr>\n      <th>mean</th>\n      <td>3.273982</td>\n      <td>1.929225</td>\n      <td>2.017220</td>\n      <td>0.683457</td>\n      <td>1.305088</td>\n    </tr>\n    <tr>\n      <th>std</th>\n      <td>1.461432</td>\n      <td>1.149805</td>\n      <td>0.545799</td>\n      <td>0.164315</td>\n      <td>0.173750</td>\n    </tr>\n    <tr>\n      <th>min</th>\n      <td>1.333333</td>\n      <td>1.230769</td>\n      <td>1.000000</td>\n      <td>0.450000</td>\n      <td>0.705882</td>\n    </tr>\n    <tr>\n      <th>25%</th>\n      <td>2.857143</td>\n      <td>1.333333</td>\n      <td>1.594118</td>\n      <td>0.500000</td>\n      <td>1.292857</td>\n    </tr>\n    <tr>\n      <th>50%</th>\n      <td>3.000000</td>\n      <td>2.000000</td>\n      <td>1.823529</td>\n      <td>0.705882</td>\n      <td>1.350000</td>\n    </tr>\n    <tr>\n      <th>75%</th>\n      <td>4.000000</td>\n      <td>2.000000</td>\n      <td>2.572222</td>\n      <td>0.850000</td>\n      <td>1.400000</td>\n    </tr>\n    <tr>\n      <th>max</th>\n      <td>7.000000</td>\n      <td>7.000000</td>\n      <td>2.900000</td>\n      <td>0.947368</td>\n      <td>1.550000</td>\n    </tr>\n  </tbody>\n</table>\n</div>"
     },
     "execution_count": 22,
     "metadata": {},
     "output_type": "execute_result"
    }
   ],
   "source": [
    "df_rel.describe()"
   ],
   "metadata": {
    "collapsed": false,
    "ExecuteTime": {
     "end_time": "2024-04-22T09:13:52.762837Z",
     "start_time": "2024-04-22T09:13:52.748282Z"
    }
   },
   "id": "1858400a2329458",
   "execution_count": 22
  },
  {
   "cell_type": "code",
   "outputs": [],
   "source": [],
   "metadata": {
    "collapsed": false
   },
   "id": "eae2a4a23bf56fee"
  }
 ],
 "metadata": {
  "kernelspec": {
   "display_name": "Python 3",
   "language": "python",
   "name": "python3"
  },
  "language_info": {
   "codemirror_mode": {
    "name": "ipython",
    "version": 2
   },
   "file_extension": ".py",
   "mimetype": "text/x-python",
   "name": "python",
   "nbconvert_exporter": "python",
   "pygments_lexer": "ipython2",
   "version": "2.7.6"
  }
 },
 "nbformat": 4,
 "nbformat_minor": 5
}
