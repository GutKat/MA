{
 "cells": [
  {
   "cell_type": "markdown",
   "metadata": {},
   "source": [
    "# Metrics\n",
    "## RMSD, p-value, INF, DI\n",
    "done with RNA_assessment"
   ]
  },
  {
   "cell_type": "code",
   "execution_count": 1,
   "metadata": {
    "execution": {
     "iopub.execute_input": "2024-04-28T09:53:17.166040Z",
     "iopub.status.busy": "2024-04-28T09:53:17.165821Z",
     "iopub.status.idle": "2024-04-28T09:53:17.357365Z",
     "shell.execute_reply": "2024-04-28T09:53:17.356594Z",
     "shell.execute_reply.started": "2024-04-28T09:53:17.166019Z"
    },
    "tags": []
   },
   "outputs": [],
   "source": [
    "import sys,os\n",
    "# import warnings\n",
    "# warnings.filterwarnings(\"ignore\")\n",
    "\n",
    "from RNA_assessment import RNA_normalizer\n",
    "\n",
    "from operator import attrgetter\n",
    "\n",
    "RESIDUES_LIST = \"RNA_assessment/data/residues.list\"\n",
    "ATOMS_LIST = \"RNA_assessment/data/atoms.list\"\n",
    "\n",
    "def CleanFormat(f):\n",
    "\tos.system( \"mac2unix -q %s\" %f )\n",
    "\tos.system( \"dos2unix -q %s\" %f )"
   ]
  },
  {
   "cell_type": "markdown",
   "metadata": {},
   "source": [
    "#### Normalization"
   ]
  },
  {
   "cell_type": "code",
   "execution_count": 2,
   "metadata": {
    "execution": {
     "iopub.execute_input": "2024-04-28T09:53:17.360062Z",
     "iopub.status.busy": "2024-04-28T09:53:17.358387Z",
     "iopub.status.idle": "2024-04-28T09:53:17.384742Z",
     "shell.execute_reply": "2024-04-28T09:53:17.383888Z",
     "shell.execute_reply.started": "2024-04-28T09:53:17.360036Z"
    },
    "tags": []
   },
   "outputs": [],
   "source": [
    "def normalize_structure(struct, out_file = None, index_file=None, extract_file = None):\n",
    "\tpdb_normalizer = RNA_normalizer.PDBNormalizer( RESIDUES_LIST, ATOMS_LIST )\n",
    "\tok = pdb_normalizer.parse( struct, out_file )\n",
    "\tif not ok:\n",
    "\t\tsys.stderr.write(\"ERROR: structure not normalized!\\n\")\n",
    "\telse:\n",
    "\t\tsys.stderr.write(\"INFO: Normalization succeded!\\n\")\n",
    "\tif not extract_file is None:\n",
    "\t\tcoords=open(index_file).read()\n",
    "\t\tRNA_normalizer.extract_PDB(SOLUTION_NORMAL,coords, extract_file)\n",
    "\t\tsys.stderr.write(\"INFO:\tstructure extracted\\n\")"
   ]
  },
  {
   "cell_type": "code",
   "execution_count": 3,
   "metadata": {
    "execution": {
     "iopub.execute_input": "2024-04-28T09:53:17.400701Z",
     "iopub.status.busy": "2024-04-28T09:53:17.400097Z",
     "iopub.status.idle": "2024-04-28T09:53:17.421268Z",
     "shell.execute_reply": "2024-04-28T09:53:17.417758Z",
     "shell.execute_reply.started": "2024-04-28T09:53:17.400678Z"
    }
   },
   "outputs": [],
   "source": [
    "from Bio.PDB.PDBParser import PDBParser\n",
    "\n",
    "parser = PDBParser()\n",
    "\n",
    "def create_index(file):\n",
    "    structure = parser.get_structure(\"1\", file)\n",
    "    model = structure[0]\n",
    "    chain = model['A']\n",
    "    file_index = file.replace('.pdb', '.index')\n",
    "    output_index = f'A:1:{len(chain)}'\n",
    "    with open(file_index, 'w') as f:\n",
    "        f.write(output_index)\n",
    "\n",
    "    return file_index"
   ]
  },
  {
   "cell_type": "code",
   "execution_count": 4,
   "metadata": {
    "execution": {
     "iopub.execute_input": "2024-04-28T09:53:17.430653Z",
     "iopub.status.busy": "2024-04-28T09:53:17.423451Z",
     "iopub.status.idle": "2024-04-28T09:53:17.435871Z",
     "shell.execute_reply": "2024-04-28T09:53:17.435094Z",
     "shell.execute_reply.started": "2024-04-28T09:53:17.430611Z"
    },
    "tags": []
   },
   "outputs": [],
   "source": [
    "\n",
    "# test_files = ['test/clust01_qrna.pdb', 'test/clust02_qrna.pdb']\n",
    "# Normalize PDB format, correct residue names and atom names. \n",
    "# normalize_structure(test_files[0], out_file='/scr/aldea/kgutenbrunner/working/scripts/analysis/test/clust01_qrna_norm.pdb')\n",
    "# normalize_structure(test_files[1], out_file='/scr/aldea/kgutenbrunner/working/scripts/analysis/test/clust02_qrna_norm.pdb')"
   ]
  },
  {
   "cell_type": "markdown",
   "metadata": {},
   "source": [
    "### RMSD and P-value"
   ]
  },
  {
   "cell_type": "code",
   "execution_count": 5,
   "metadata": {
    "execution": {
     "iopub.execute_input": "2024-04-28T09:53:17.437106Z",
     "iopub.status.busy": "2024-04-28T09:53:17.436831Z",
     "iopub.status.idle": "2024-04-28T09:53:17.443992Z",
     "shell.execute_reply": "2024-04-28T09:53:17.443042Z",
     "shell.execute_reply.started": "2024-04-28T09:53:17.437083Z"
    },
    "tags": []
   },
   "outputs": [],
   "source": [
    "# PVALUE set according to Hajdin et al., RNA (7) 16, 2010, either \"+\" or \"-\"\n",
    "def calc_RMSD(native_file, native_index, prediction_file, prediction_index, PVALUE = \"-\"):\n",
    "\tres_struct = RNA_normalizer.PDBStruct()\n",
    "\tres_struct.load( native_file, native_index )\n",
    "\tres_raw_seq = res_struct.raw_sequence()\n",
    "\t\n",
    "\tsol_struct = RNA_normalizer.PDBStruct()\n",
    "\tsol_struct.load( prediction_file, prediction_index )\n",
    "\tsol_raw_seq = sol_struct.raw_sequence()\n",
    "\t\n",
    "\tif( sol_raw_seq != res_raw_seq ):\n",
    "\t\tsys.stderr.write(\"ERROR Result sequence != Solution sequence!\\n\")\n",
    "\t\tsys.stderr.write(\"DATA Solution sequence --> '%s'\\n\" %sol_raw_seq )\n",
    "\t\tsys.stderr.write(\"DATA Result sequence   --> '%s'\\n\" %res_raw_seq )\n",
    "\t\treturn(-1)\n",
    "\t# computes the RMSD\n",
    "\tcomparer = RNA_normalizer.PDBComparer()\n",
    "\trmsd = comparer.rmsd( sol_struct, res_struct )\n",
    "\tsys.stderr.write(\"INFO Partial RMSD --> %f\\n\" %rmsd )\n",
    "\tpvalue = comparer.pvalue( rmsd, len(sol_raw_seq), PVALUE )\n",
    "\tsys.stderr.write(\"INFO Partial P-Value --> %e\\n\" %pvalue )\n",
    "\treturn(rmsd, pvalue)"
   ]
  },
  {
   "cell_type": "markdown",
   "metadata": {},
   "source": [
    "### Interaction Network Fidelity"
   ]
  },
  {
   "cell_type": "code",
   "execution_count": 6,
   "metadata": {
    "execution": {
     "iopub.execute_input": "2024-04-28T09:53:17.501741Z",
     "iopub.status.busy": "2024-04-28T09:53:17.501431Z",
     "iopub.status.idle": "2024-04-28T09:53:17.506120Z",
     "shell.execute_reply": "2024-04-28T09:53:17.505379Z",
     "shell.execute_reply.started": "2024-04-28T09:53:17.501731Z"
    },
    "tags": []
   },
   "outputs": [],
   "source": [
    "def InteractionNetworkFidelity(native_file, native_index, prediction_file, prediction_index):\n",
    "\tres_struct = RNA_normalizer.PDBStruct()\n",
    "\tres_struct.load( native_file, native_index )\n",
    "\tres_raw_seq = res_struct.raw_sequence()\n",
    "\t\n",
    "\tsol_struct = RNA_normalizer.PDBStruct()\n",
    "\tsol_struct.load( prediction_file, prediction_index )\n",
    "\tsol_raw_seq = sol_struct.raw_sequence()\n",
    "\t\n",
    "\tif( sol_raw_seq != res_raw_seq ):\n",
    "\t\tsys.stderr.write(\"ERROR Result sequence != Solution sequence!\\n\")\n",
    "\t\tsys.stderr.write(\"DATA Solution sequence --> '%s'\\n\" %sol_raw_seq )\n",
    "\t\tsys.stderr.write(\"DATA Result sequence   --> '%s'\\n\" %res_raw_seq )\n",
    "\t\treturn(-1)\n",
    "\t# computes the RMSD\n",
    "\tcomparer = RNA_normalizer.PDBComparer()\n",
    "\trmsd = comparer.rmsd( sol_struct, res_struct )\n",
    "\tINF_ALL = comparer.INF( sol_struct, res_struct, type=\"ALL\" )\n",
    "\tDI_ALL = rmsd / INF_ALL\n",
    "\tINF_WC = comparer.INF( sol_struct, res_struct, type=\"PAIR_2D\" )\n",
    "\tINF_NWC = comparer.INF( sol_struct, res_struct, type=\"PAIR_3D\" )\n",
    "\tINF_STACK = comparer.INF( sol_struct, res_struct, type=\"STACK\" )\n",
    "\treturn (rmsd,DI_ALL, INF_ALL, INF_WC, INF_NWC,INF_STACK)"
   ]
  },
  {
   "cell_type": "code",
   "execution_count": 7,
   "metadata": {
    "execution": {
     "iopub.execute_input": "2024-04-28T09:53:17.712704Z",
     "iopub.status.busy": "2024-04-28T09:53:17.712479Z",
     "iopub.status.idle": "2024-04-28T09:53:17.715700Z",
     "shell.execute_reply": "2024-04-28T09:53:17.715013Z",
     "shell.execute_reply.started": "2024-04-28T09:53:17.712686Z"
    },
    "tags": []
   },
   "outputs": [],
   "source": [
    "from Bio.PDB.PDBExceptions import PDBConstructionWarning\n",
    "import warnings\n",
    "warnings.filterwarnings(\"ignore\", category=PDBConstructionWarning)"
   ]
  },
  {
   "cell_type": "markdown",
   "metadata": {},
   "source": [
    "## CAD\n",
    "done with voronota"
   ]
  },
  {
   "cell_type": "code",
   "execution_count": 8,
   "metadata": {
    "execution": {
     "iopub.execute_input": "2024-04-28T09:53:18.112326Z",
     "iopub.status.busy": "2024-04-28T09:53:18.111675Z",
     "iopub.status.idle": "2024-04-28T09:53:18.121365Z",
     "shell.execute_reply": "2024-04-28T09:53:18.120247Z",
     "shell.execute_reply.started": "2024-04-28T09:53:18.112282Z"
    },
    "tags": []
   },
   "outputs": [],
   "source": [
    "def calculate_cad(native_file, prediction_file):\n",
    "    voronota = '/scr/aldea/kgutenbrunner/opt/rna_analysis/voronota_1.28.4132/voronota-cadscore'\n",
    "    voronota_result = !$voronota -m $native_file -t $prediction_file \n",
    "    voronota_result = voronota_result[0].split(' ')\n",
    "    cad_score = float(voronota_result[4])\n",
    "    area_target = float(voronota_result[5])\n",
    "    area_model = float(voronota_result[6])\n",
    "    return cad_score"
   ]
  },
  {
   "cell_type": "markdown",
   "metadata": {},
   "source": [
    "### TM-Score"
   ]
  },
  {
   "cell_type": "code",
   "execution_count": 9,
   "metadata": {
    "execution": {
     "iopub.execute_input": "2024-04-28T09:53:18.609714Z",
     "iopub.status.busy": "2024-04-28T09:53:18.608886Z",
     "iopub.status.idle": "2024-04-28T09:53:18.618481Z",
     "shell.execute_reply": "2024-04-28T09:53:18.617445Z",
     "shell.execute_reply.started": "2024-04-28T09:53:18.609670Z"
    },
    "tags": []
   },
   "outputs": [],
   "source": [
    "import re\n",
    "\n",
    "def calculate_TM(native_file, prediction_file):\n",
    "    TM_regexr = 'TM-score *= *(\\d+.\\d+)'\n",
    "    GTD_TS_regexr = 'GDT-TS-score *= *(\\d+.\\d+)'\n",
    "    TM = '/scr/aldea/kgutenbrunner/opt/rna_analysis/TMscore'\n",
    "    TM_result = !$TM $native_file $prediction_file \n",
    "    for line in TM_result:\n",
    "        if re.search(TM_regexr, line):\n",
    "            TM_score = float(re.search(TM_regexr, line)[1])\n",
    "        if re.search(GTD_TS_regexr, line):\n",
    "            GTD_TS = float(re.search(GTD_TS_regexr, line)[1])\n",
    "    return TM_score, GTD_TS\n"
   ]
  },
  {
   "cell_type": "markdown",
   "metadata": {},
   "source": [
    "### $\\epsilon$ RMSD\n",
    "done with barnaba"
   ]
  },
  {
   "cell_type": "code",
   "execution_count": 10,
   "metadata": {
    "execution": {
     "iopub.execute_input": "2024-04-28T09:53:19.066620Z",
     "iopub.status.busy": "2024-04-28T09:53:19.066264Z",
     "iopub.status.idle": "2024-04-28T09:53:19.424341Z",
     "shell.execute_reply": "2024-04-28T09:53:19.423898Z",
     "shell.execute_reply.started": "2024-04-28T09:53:19.066598Z"
    }
   },
   "outputs": [
    {
     "ename": "ModuleNotFoundError",
     "evalue": "No module named 'barnaba'",
     "output_type": "error",
     "traceback": [
      "\u001b[0;31m---------------------------------------------------------------------------\u001b[0m",
      "\u001b[0;31mModuleNotFoundError\u001b[0m                       Traceback (most recent call last)",
      "Cell \u001b[0;32mIn[10], line 2\u001b[0m\n\u001b[1;32m      1\u001b[0m \u001b[38;5;66;03m# import barnaba\u001b[39;00m\n\u001b[0;32m----> 2\u001b[0m \u001b[38;5;28;01mimport\u001b[39;00m \u001b[38;5;21;01mbarnaba\u001b[39;00m \u001b[38;5;28;01mas\u001b[39;00m \u001b[38;5;21;01mbb\u001b[39;00m\n",
      "\u001b[0;31mModuleNotFoundError\u001b[0m: No module named 'barnaba'"
     ]
    }
   ],
   "source": [
    "# import barnaba\n",
    "import barnaba as bb"
   ]
  },
  {
   "cell_type": "code",
   "execution_count": 11,
   "metadata": {
    "execution": {
     "iopub.execute_input": "2024-04-28T09:53:19.481538Z",
     "iopub.status.busy": "2024-04-28T09:53:19.481330Z",
     "iopub.status.idle": "2024-04-28T09:53:19.484165Z",
     "shell.execute_reply": "2024-04-28T09:53:19.483740Z",
     "shell.execute_reply.started": "2024-04-28T09:53:19.481522Z"
    },
    "tags": []
   },
   "outputs": [],
   "source": [
    "def calculate_ermsd(native_file, prediction_file):\n",
    "    return bb.ermsd(native_file,prediction_file)\n"
   ]
  },
  {
   "cell_type": "markdown",
   "metadata": {},
   "source": [
    "## Deformation profile"
   ]
  },
  {
   "cell_type": "code",
   "execution_count": 12,
   "metadata": {
    "execution": {
     "iopub.execute_input": "2024-04-28T09:53:22.987506Z",
     "iopub.status.busy": "2024-04-28T09:53:22.987128Z",
     "iopub.status.idle": "2024-04-28T09:53:22.991610Z",
     "shell.execute_reply": "2024-04-28T09:53:22.990209Z",
     "shell.execute_reply.started": "2024-04-28T09:53:22.987482Z"
    },
    "tags": []
   },
   "outputs": [],
   "source": [
    "reference_file = '/Users/katringutenbrunner/Desktop/MA/working/data/tbfv_sim/cluster1_min_std.pdb'\n",
    "target_file = '/Users/katringutenbrunner/Desktop/MA/working/simRNA/04_24/QRNAs/clust02_qrna.pdb'"
   ]
  },
  {
   "cell_type": "code",
   "execution_count": 13,
   "metadata": {
    "execution": {
     "iopub.execute_input": "2024-04-28T09:53:23.454478Z",
     "iopub.status.busy": "2024-04-28T09:53:23.453807Z",
     "iopub.status.idle": "2024-04-28T09:53:23.460740Z",
     "shell.execute_reply": "2024-04-28T09:53:23.459134Z",
     "shell.execute_reply.started": "2024-04-28T09:53:23.454434Z"
    },
    "tags": []
   },
   "outputs": [],
   "source": [
    "# !rna_standardize.py $target_file"
   ]
  },
  {
   "cell_type": "code",
   "execution_count": 14,
   "metadata": {
    "execution": {
     "iopub.execute_input": "2024-04-28T09:53:24.231945Z",
     "iopub.status.busy": "2024-04-28T09:53:24.231298Z",
     "iopub.status.idle": "2024-04-28T09:53:24.237516Z",
     "shell.execute_reply": "2024-04-28T09:53:24.236714Z",
     "shell.execute_reply.started": "2024-04-28T09:53:24.231900Z"
    },
    "tags": []
   },
   "outputs": [],
   "source": [
    "target_file_norm = target_file.replace('.', '_std.')"
   ]
  },
  {
   "cell_type": "code",
   "execution_count": 15,
   "metadata": {
    "execution": {
     "iopub.execute_input": "2024-04-28T09:53:24.678353Z",
     "iopub.status.busy": "2024-04-28T09:53:24.677965Z",
     "iopub.status.idle": "2024-04-28T09:53:24.681870Z",
     "shell.execute_reply": "2024-04-28T09:53:24.680820Z",
     "shell.execute_reply.started": "2024-04-28T09:53:24.678330Z"
    },
    "tags": []
   },
   "outputs": [],
   "source": [
    "tar2 = '/Users/katringutenbrunner/Desktop/MA/working/simRNA/03_14/QRNAs/clust01_qrna.pdb'"
   ]
  },
  {
   "cell_type": "code",
   "execution_count": 16,
   "metadata": {
    "execution": {
     "iopub.execute_input": "2024-04-28T09:53:25.096524Z",
     "iopub.status.busy": "2024-04-28T09:53:25.095898Z",
     "iopub.status.idle": "2024-04-28T09:53:25.102059Z",
     "shell.execute_reply": "2024-04-28T09:53:25.101060Z",
     "shell.execute_reply.started": "2024-04-28T09:53:25.096479Z"
    },
    "tags": []
   },
   "outputs": [],
   "source": [
    "dp = '/Users/katringutenbrunner/Desktop/MA/working/opt/Deformation_Profile/dp.py'"
   ]
  },
  {
   "cell_type": "code",
   "execution_count": 17,
   "metadata": {
    "collapsed": false,
    "execution": {
     "iopub.execute_input": "2024-04-28T09:53:25.946764Z",
     "iopub.status.busy": "2024-04-28T09:53:25.946112Z",
     "iopub.status.idle": "2024-04-28T09:53:26.399687Z",
     "shell.execute_reply": "2024-04-28T09:53:26.399057Z",
     "shell.execute_reply.started": "2024-04-28T09:53:25.946719Z"
    },
    "jupyter": {
     "outputs_hidden": false
    },
    "tags": []
   },
   "outputs": [
    {
     "name": "stdout",
     "output_type": "stream",
     "text": [
      "opening reference file: '/Users/katringutenbrunner/Desktop/MA/working/simRNA/03_14/QRNAs/clust01_qrna.pdb'\n",
      "/Users/katringutenbrunner/miniconda3/envs/rna_analysis/lib/python3.12/site-packages/Bio/PDB/Atom.py:232: PDBConstructionWarning: Used element 'O' for Atom (name=OP3) with given element ''\n",
      "  warnings.warn(msg, PDBConstructionWarning)\n",
      "/Users/katringutenbrunner/miniconda3/envs/rna_analysis/lib/python3.12/site-packages/Bio/PDB/Atom.py:232: PDBConstructionWarning: Used element 'P' for Atom (name=P) with given element ''\n",
      "  warnings.warn(msg, PDBConstructionWarning)\n",
      "/Users/katringutenbrunner/miniconda3/envs/rna_analysis/lib/python3.12/site-packages/Bio/PDB/Atom.py:232: PDBConstructionWarning: Used element 'O' for Atom (name=OP1) with given element ''\n",
      "  warnings.warn(msg, PDBConstructionWarning)\n",
      "/Users/katringutenbrunner/miniconda3/envs/rna_analysis/lib/python3.12/site-packages/Bio/PDB/Atom.py:232: PDBConstructionWarning: Used element 'O' for Atom (name=OP2) with given element ''\n",
      "  warnings.warn(msg, PDBConstructionWarning)\n",
      "/Users/katringutenbrunner/miniconda3/envs/rna_analysis/lib/python3.12/site-packages/Bio/PDB/Atom.py:232: PDBConstructionWarning: Used element 'O' for Atom (name=O5') with given element ''\n",
      "  warnings.warn(msg, PDBConstructionWarning)\n",
      "/Users/katringutenbrunner/miniconda3/envs/rna_analysis/lib/python3.12/site-packages/Bio/PDB/Atom.py:232: PDBConstructionWarning: Used element 'C' for Atom (name=C5') with given element ''\n",
      "  warnings.warn(msg, PDBConstructionWarning)\n",
      "/Users/katringutenbrunner/miniconda3/envs/rna_analysis/lib/python3.12/site-packages/Bio/PDB/Atom.py:232: PDBConstructionWarning: Used element 'C' for Atom (name=C4') with given element ''\n",
      "  warnings.warn(msg, PDBConstructionWarning)\n",
      "/Users/katringutenbrunner/miniconda3/envs/rna_analysis/lib/python3.12/site-packages/Bio/PDB/Atom.py:232: PDBConstructionWarning: Used element 'O' for Atom (name=O4') with given element ''\n",
      "  warnings.warn(msg, PDBConstructionWarning)\n",
      "/Users/katringutenbrunner/miniconda3/envs/rna_analysis/lib/python3.12/site-packages/Bio/PDB/Atom.py:232: PDBConstructionWarning: Used element 'C' for Atom (name=C3') with given element ''\n",
      "  warnings.warn(msg, PDBConstructionWarning)\n",
      "/Users/katringutenbrunner/miniconda3/envs/rna_analysis/lib/python3.12/site-packages/Bio/PDB/Atom.py:232: PDBConstructionWarning: Used element 'O' for Atom (name=O3') with given element ''\n",
      "  warnings.warn(msg, PDBConstructionWarning)\n",
      "/Users/katringutenbrunner/miniconda3/envs/rna_analysis/lib/python3.12/site-packages/Bio/PDB/Atom.py:232: PDBConstructionWarning: Used element 'C' for Atom (name=C2') with given element ''\n",
      "  warnings.warn(msg, PDBConstructionWarning)\n",
      "/Users/katringutenbrunner/miniconda3/envs/rna_analysis/lib/python3.12/site-packages/Bio/PDB/Atom.py:232: PDBConstructionWarning: Used element 'O' for Atom (name=O2') with given element ''\n",
      "  warnings.warn(msg, PDBConstructionWarning)\n",
      "/Users/katringutenbrunner/miniconda3/envs/rna_analysis/lib/python3.12/site-packages/Bio/PDB/Atom.py:232: PDBConstructionWarning: Used element 'C' for Atom (name=C1') with given element ''\n",
      "  warnings.warn(msg, PDBConstructionWarning)\n",
      "/Users/katringutenbrunner/miniconda3/envs/rna_analysis/lib/python3.12/site-packages/Bio/PDB/Atom.py:232: PDBConstructionWarning: Used element 'N' for Atom (name=N9) with given element ''\n",
      "  warnings.warn(msg, PDBConstructionWarning)\n",
      "/Users/katringutenbrunner/miniconda3/envs/rna_analysis/lib/python3.12/site-packages/Bio/PDB/Atom.py:232: PDBConstructionWarning: Used element 'C' for Atom (name=C8) with given element ''\n",
      "  warnings.warn(msg, PDBConstructionWarning)\n",
      "/Users/katringutenbrunner/miniconda3/envs/rna_analysis/lib/python3.12/site-packages/Bio/PDB/Atom.py:232: PDBConstructionWarning: Used element 'N' for Atom (name=N7) with given element ''\n",
      "  warnings.warn(msg, PDBConstructionWarning)\n",
      "/Users/katringutenbrunner/miniconda3/envs/rna_analysis/lib/python3.12/site-packages/Bio/PDB/Atom.py:232: PDBConstructionWarning: Used element 'C' for Atom (name=C5) with given element ''\n",
      "  warnings.warn(msg, PDBConstructionWarning)\n",
      "/Users/katringutenbrunner/miniconda3/envs/rna_analysis/lib/python3.12/site-packages/Bio/PDB/Atom.py:232: PDBConstructionWarning: Used element 'C' for Atom (name=C6) with given element ''\n",
      "  warnings.warn(msg, PDBConstructionWarning)\n",
      "/Users/katringutenbrunner/miniconda3/envs/rna_analysis/lib/python3.12/site-packages/Bio/PDB/Atom.py:232: PDBConstructionWarning: Used element 'O' for Atom (name=O6) with given element ''\n",
      "  warnings.warn(msg, PDBConstructionWarning)\n",
      "/Users/katringutenbrunner/miniconda3/envs/rna_analysis/lib/python3.12/site-packages/Bio/PDB/Atom.py:232: PDBConstructionWarning: Used element 'N' for Atom (name=N1) with given element ''\n",
      "  warnings.warn(msg, PDBConstructionWarning)\n",
      "/Users/katringutenbrunner/miniconda3/envs/rna_analysis/lib/python3.12/site-packages/Bio/PDB/Atom.py:232: PDBConstructionWarning: Used element 'C' for Atom (name=C2) with given element ''\n",
      "  warnings.warn(msg, PDBConstructionWarning)\n",
      "/Users/katringutenbrunner/miniconda3/envs/rna_analysis/lib/python3.12/site-packages/Bio/PDB/Atom.py:232: PDBConstructionWarning: Used element 'N' for Atom (name=N2) with given element ''\n",
      "  warnings.warn(msg, PDBConstructionWarning)\n",
      "/Users/katringutenbrunner/miniconda3/envs/rna_analysis/lib/python3.12/site-packages/Bio/PDB/Atom.py:232: PDBConstructionWarning: Used element 'N' for Atom (name=N3) with given element ''\n",
      "  warnings.warn(msg, PDBConstructionWarning)\n",
      "/Users/katringutenbrunner/miniconda3/envs/rna_analysis/lib/python3.12/site-packages/Bio/PDB/Atom.py:232: PDBConstructionWarning: Used element 'C' for Atom (name=C4) with given element ''\n",
      "  warnings.warn(msg, PDBConstructionWarning)\n",
      "/Users/katringutenbrunner/miniconda3/envs/rna_analysis/lib/python3.12/site-packages/Bio/PDB/Atom.py:232: PDBConstructionWarning: Used element 'O' for Atom (name=O2) with given element ''\n",
      "  warnings.warn(msg, PDBConstructionWarning)\n",
      "/Users/katringutenbrunner/miniconda3/envs/rna_analysis/lib/python3.12/site-packages/Bio/PDB/Atom.py:232: PDBConstructionWarning: Used element 'O' for Atom (name=O4) with given element ''\n",
      "  warnings.warn(msg, PDBConstructionWarning)\n",
      "/Users/katringutenbrunner/miniconda3/envs/rna_analysis/lib/python3.12/site-packages/Bio/PDB/Atom.py:232: PDBConstructionWarning: Used element 'N' for Atom (name=N4) with given element ''\n",
      "  warnings.warn(msg, PDBConstructionWarning)\n",
      "/Users/katringutenbrunner/miniconda3/envs/rna_analysis/lib/python3.12/site-packages/Bio/PDB/Atom.py:232: PDBConstructionWarning: Used element 'N' for Atom (name=N6) with given element ''\n",
      "  warnings.warn(msg, PDBConstructionWarning)\n",
      "/Users/katringutenbrunner/miniconda3/envs/rna_analysis/lib/python3.12/site-packages/Bio/PDB/PDBParser.py:388: PDBConstructionWarning: Ignoring unrecognized record 'TER' at line 2980\n",
      "  warnings.warn(\n",
      "opening comparing file: '/Users/katringutenbrunner/Desktop/MA/working/simRNA/04_24/QRNAs/clust02_qrna_std.pdb'\n",
      "comparing models...\n",
      "- - - - - - - - - - - - - - - - - - - - - - - - - - - - - - \n",
      "reference:    clust01_qrna.pdb\n",
      "comparing:    clust02_qrna_std.pdb\n",
      "\n",
      "ref id:        60  61  62  63  64  65 \n",
      "cmp id:        62  63  64  65  66  67 \n",
      "\n",
      "ref chain:      A   A   A   A   A   A \n",
      "cmp chain:      A   A   A   A   A   A \n",
      "ref residues:   G   C   C   A   G   U \n",
      "cmp residues:   G   A   C   A   G   U \n",
      "align. index:   0   1   2   3   4   5 \n",
      "- - - - - - - - - - - - - - - - - - - - - - - - - - - - - - \n",
      "step: 0 ofstep: 1 ofstep: 2 ofstep: 3 ofstep: 4 ofstep: 5 ofdone\n",
      "saving data file...\n",
      "saving svg file...\n"
     ]
    }
   ],
   "source": [
    "!python $dp $tar2 $target_file_norm"
   ]
  },
  {
   "cell_type": "markdown",
   "metadata": {},
   "source": []
  }
 ],
 "metadata": {
  "kernelspec": {
   "display_name": "Python 3 (ipykernel)",
   "language": "python",
   "name": "python3"
  },
  "language_info": {
   "codemirror_mode": {
    "name": "ipython",
    "version": 3
   },
   "file_extension": ".py",
   "mimetype": "text/x-python",
   "name": "python",
   "nbconvert_exporter": "python",
   "pygments_lexer": "ipython3",
   "version": "3.10.4"
  }
 },
 "nbformat": 4,
 "nbformat_minor": 4
}
