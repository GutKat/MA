{
 "cells": [
  {
   "cell_type": "code",
   "execution_count": 1,
   "metadata": {
    "execution": {
     "iopub.execute_input": "2024-10-13T09:01:19.916228Z",
     "iopub.status.busy": "2024-10-13T09:01:19.915852Z",
     "iopub.status.idle": "2024-10-13T09:01:19.920282Z",
     "shell.execute_reply": "2024-10-13T09:01:19.919647Z",
     "shell.execute_reply.started": "2024-10-13T09:01:19.916196Z"
    }
   },
   "outputs": [],
   "source": [
    "# true if working from tbi, false is working from home\n",
    "tbi = True\n",
    "\n",
    "if tbi:\n",
    "    base_folder = '/scr/aldea/kgutenbrunner/working'\n",
    "else:\n",
    "    base_folder = '/Users/katringutenbrunner/Desktop/MA/working'"
   ]
  },
  {
   "cell_type": "markdown",
   "metadata": {},
   "source": [
    "# importing and functions"
   ]
  },
  {
   "cell_type": "code",
   "execution_count": 2,
   "metadata": {
    "execution": {
     "iopub.execute_input": "2024-10-13T09:35:00.190947Z",
     "iopub.status.busy": "2024-10-13T09:35:00.190537Z",
     "iopub.status.idle": "2024-10-13T09:35:00.198991Z",
     "shell.execute_reply": "2024-10-13T09:35:00.197684Z",
     "shell.execute_reply.started": "2024-10-13T09:35:00.190918Z"
    }
   },
   "outputs": [],
   "source": [
    "import os\n",
    "import re\n",
    "import itertools\n",
    "\n",
    "import numpy as np\n",
    "import pandas as pd\n",
    "\n",
    "from Bio import AlignIO\n",
    "from Bio.Align import MultipleSeqAlignment\n",
    "from Bio.Seq import Seq\n",
    "from Bio.SeqRecord import SeqRecord\n",
    "\n",
    "import matplotlib.pyplot as plt\n",
    "from matplotlib.colors import ListedColormap\n",
    "from matplotlib.patches import Patch\n",
    "\n"
   ]
  },
  {
   "cell_type": "code",
   "execution_count": 65,
   "metadata": {
    "execution": {
     "iopub.execute_input": "2024-10-13T09:44:04.448641Z",
     "iopub.status.busy": "2024-10-13T09:44:04.447340Z",
     "iopub.status.idle": "2024-10-13T09:44:04.471869Z",
     "shell.execute_reply": "2024-10-13T09:44:04.471023Z",
     "shell.execute_reply.started": "2024-10-13T09:44:04.448567Z"
    }
   },
   "outputs": [],
   "source": [
    "# Define colors for nucleotides (you can adjust colors as needed)\n",
    "nucleotide_colors = {\n",
    "    'A': '#FF9999',  # Red\n",
    "    'U': '#99FF99',  # Green\n",
    "    'G': '#9999FF',  # Blue\n",
    "    'C': '#FFFF99',  # Yellow\n",
    "    '-': '#FFFFFF',   # White for gaps\n",
    "    'N': '#a3a3a3',   # grey for N\n",
    "    'X': '#FFFFFF',   # White for X\n",
    "    'R': '#a3a3a3',   # grey for N\n",
    "    'W': '#a3a3a3',   # grey for N\n",
    "    'Y': '#a3a3a3',   # grey for N\n",
    "}\n",
    "\n",
    "\n",
    "# Function to visualize the alignment with nucleotides and colors\n",
    "def plot_alignment_with_nucleotides(alignment: MultipleSeqAlignment, with_text=True):\n",
    "    num_seqs = len(alignment)\n",
    "    seq_len = alignment.get_alignment_length()\n",
    "\n",
    "    # Create figure\n",
    "    fig, ax = plt.subplots(figsize=(seq_len / 4, num_seqs / 2))\n",
    "    ax.set_xticks(range(seq_len))\n",
    "    ax.set_yticks(range(num_seqs))\n",
    "    ax.set_yticklabels([record.id for record in alignment])\n",
    "    ax.set_xticklabels(range(1, seq_len + 1))\n",
    "    ax.tick_params(axis='x', rotation=90)\n",
    "\n",
    "    # Add nucleotides to the plot\n",
    "    for i, record in enumerate(alignment):\n",
    "        for j, nucleotide in enumerate(record.seq):\n",
    "            color = nucleotide_colors.get(nucleotide, '#FFFFFF')  # Default to white if nucleotide not in dict\n",
    "            if with_text:\n",
    "                ax.text(j, i, nucleotide, ha='center', va='center', fontsize=8, color='black')\n",
    "            ax.add_patch(plt.Rectangle((j - 0.5, i - 0.5), 1, 1, color=color))\n",
    "\n",
    "    # Adjust plot settings\n",
    "    ax.set_xlim(-0.5, seq_len - 0.5)\n",
    "    ax.set_ylim(-0.5, num_seqs - 0.5)\n",
    "    ax.invert_yaxis()  # Invert y-axis to have the first sequence on top\n",
    "    plt.title('Alignment Visualization with Nucleotides')\n",
    "    plt.xlabel('Position')\n",
    "    plt.ylabel('Sequences')\n",
    "    if not with_text:\n",
    "        plt.legend()\n",
    "\n",
    "    plt.show()\n",
    "\n",
    "\n",
    "\n",
    "from matplotlib.colors import ListedColormap\n",
    "import matplotlib.pyplot as plt\n",
    "from matplotlib.patches import Patch\n",
    "\n",
    "# Funktion zur Darstellung der alignierten Sequenzen\n",
    "def plot_alignment(alignment):\n",
    "    seq_len = alignment.get_alignment_length()\n",
    "    num_seqs = len(alignment)\n",
    "\n",
    "    # Create a colormap with your desired colors\n",
    "    unique_colors = list(nucleotide_colors.values())\n",
    "    cmap = ListedColormap(unique_colors)\n",
    "    \n",
    "    # Convert sequences to numeric values based on nucleotide_colors keys\n",
    "    char_to_color = {nuc: i for i, nuc in enumerate(nucleotide_colors.keys())}\n",
    "\n",
    "    seq_array = []\n",
    "    for record in alignment:\n",
    "        seq_array.append([char_to_color[char] for char in str(record.seq)])\n",
    "\n",
    "    # Create a Matplotlib figure\n",
    "    plt.figure(figsize=(seq_len / 4, num_seqs / 2))\n",
    "    plt.imshow(seq_array, cmap=cmap, aspect='auto')\n",
    "\n",
    "    # Axis labels\n",
    "    plt.yticks(range(num_seqs), [record.id for record in alignment])\n",
    "    plt.xticks(range(0, seq_len, 10))  # label every 10 positions on x-axis\n",
    "\n",
    "    # Create a list of color patches for the legend\n",
    "    legend_elements = [\n",
    "        Patch(facecolor='#FF9999', edgecolor='black', label='A'),\n",
    "        Patch(facecolor='#99FF99', edgecolor='black', label='U'),\n",
    "        Patch(facecolor='#9999FF', edgecolor='black', label='G'),\n",
    "        Patch(facecolor='#FFFF99', edgecolor='black', label='C'),\n",
    "        Patch(facecolor='#FFFFFF', edgecolor='black', label='-'),\n",
    "        Patch(facecolor='#a3a3a3', edgecolor='black', label='N/R/Y'),\n",
    "        Patch(facecolor='#FFFFFF', edgecolor='black', label='X')\n",
    "    ]\n",
    "    plt.legend(handles=legend_elements, title=\"Nucleotide/Amino Acid\", loc='lower left')\n",
    "\n",
    "    plt.title('Alignment Visualization')\n",
    "    plt.xlabel('Position')\n",
    "    plt.ylabel('Sequences')\n",
    "    plt.show()\n"
   ]
  },
  {
   "cell_type": "markdown",
   "metadata": {},
   "source": [
    "# TBFV - designed sequences"
   ]
  },
  {
   "cell_type": "markdown",
   "metadata": {},
   "source": [
    "## Sequences comparison"
   ]
  },
  {
   "cell_type": "markdown",
   "metadata": {},
   "source": [
    "### load data"
   ]
  },
  {
   "cell_type": "code",
   "execution_count": 6,
   "metadata": {
    "execution": {
     "iopub.execute_input": "2024-10-13T09:01:31.421713Z",
     "iopub.status.busy": "2024-10-13T09:01:31.421352Z",
     "iopub.status.idle": "2024-10-13T09:01:31.426305Z",
     "shell.execute_reply": "2024-10-13T09:01:31.424919Z",
     "shell.execute_reply.started": "2024-10-13T09:01:31.421690Z"
    }
   },
   "outputs": [],
   "source": [
    "sequence_folder = os.path.join(base_folder, 'xrRNA_design/TBFV_design/data/seqs/designs_analysis/')\n",
    "files = [sequence_folder + i for i in os.listdir(sequence_folder) if 'design_output' in i]"
   ]
  },
  {
   "cell_type": "code",
   "execution_count": 7,
   "metadata": {
    "execution": {
     "iopub.execute_input": "2024-10-13T09:16:38.539441Z",
     "iopub.status.busy": "2024-10-13T09:16:38.537783Z",
     "iopub.status.idle": "2024-10-13T09:16:38.547647Z",
     "shell.execute_reply": "2024-10-13T09:16:38.546746Z",
     "shell.execute_reply.started": "2024-10-13T09:16:38.539382Z"
    }
   },
   "outputs": [],
   "source": [
    "files = sorted(files)\n",
    "files.append(files.pop(1))"
   ]
  },
  {
   "cell_type": "code",
   "execution_count": 8,
   "metadata": {
    "execution": {
     "iopub.execute_input": "2024-10-13T09:01:33.585619Z",
     "iopub.status.busy": "2024-10-13T09:01:33.584973Z",
     "iopub.status.idle": "2024-10-13T09:01:33.599157Z",
     "shell.execute_reply": "2024-10-13T09:01:33.598577Z",
     "shell.execute_reply.started": "2024-10-13T09:01:33.585571Z"
    }
   },
   "outputs": [
    {
     "name": "stderr",
     "output_type": "stream",
     "text": [
      "<>:4: SyntaxWarning: invalid escape sequence '\\.'\n",
      "<>:4: SyntaxWarning: invalid escape sequence '\\.'\n",
      "/tmp/ipykernel_708899/41779359.py:4: SyntaxWarning: invalid escape sequence '\\.'\n",
      "  file_name = re.search('(design_output.*)\\.', file)[1]\n"
     ]
    },
    {
     "data": {
      "text/plain": [
       "''"
      ]
     },
     "execution_count": 8,
     "metadata": {},
     "output_type": "execute_result"
    }
   ],
   "source": [
    "regexr_pattern = 'sequence: *(.+)\\n'\n",
    "sequences = {}\n",
    "for file in files:\n",
    "    file_name = re.search('(design_output.*)\\.', file)[1]\n",
    "    with open(file, 'r') as f:\n",
    "        for line in f:\n",
    "            if line.startswith('sequence'):\n",
    "                stripped_line = line.strip()\n",
    "                sequence = re.search(regexr_pattern, line)[1]\n",
    "                sequences[file_name] = sequence\n",
    "                break\n",
    ";"
   ]
  },
  {
   "cell_type": "code",
   "execution_count": 9,
   "metadata": {
    "execution": {
     "iopub.execute_input": "2024-10-13T09:01:35.400969Z",
     "iopub.status.busy": "2024-10-13T09:01:35.400349Z",
     "iopub.status.idle": "2024-10-13T09:01:35.408504Z",
     "shell.execute_reply": "2024-10-13T09:01:35.407577Z",
     "shell.execute_reply.started": "2024-10-13T09:01:35.400918Z"
    }
   },
   "outputs": [
    {
     "data": {
      "text/plain": [
       "{'design_output_1': 'CCGGCGGG-UUGCAGUGGGCAGCACGC--UAACAC-----GCGACGGGAGUUU----GGUC---GCUCCCGACUACUGCC--CCCGCCAAAAAA-------UUUGUGAGACC-',\n",
       " 'design_output_2': 'AAGGCCGC-CUGCCGG-GGCAGCACACC-AUUAGUC---GGUGACGGGGGGU-----GGUCU--CUUCCCGAC-UCGGCUU-GCGGCCAAAAAAUA-----UUUGUGAGACC-',\n",
       " 'design_output_3': 'GAGGACGG-UUGCGG--GGCAGCACGC--GAUA-------GCGACGGGU--AAUA--GGUCC----GCCCGAC--CCGC---CCGUCCAAAAACCA-----UUUGUGAGACC-',\n",
       " 'design_output_4': 'AAGGGGCC-UCCAUG--GGCAGCACGCU-GAAGACG---AGCGACGGGUUG------GGUCAG-CAGCCCGAC--CAUGCU-GGCCCCAAAAACCA-----UUUGUGAGACC-',\n",
       " 'design_output_5': 'AAGCACGG-UAGGCCGCGGCAGCACACAGACC------CUGUGACGGGUG-AA----GGUCAG--CACCCGACGCGGCC---CCGUGCAAUUGAGAU----UUUGUGAGACC-',\n",
       " 'design_output_6': 'AAGCCUGG-CUGCGGUGGGCAGCACGC--GAACACCGA--GCGACGGGGACUA----GGUCC--GUCCCCGACCACCGC---CCAGGCAGUAAAU------UUUGUGAGACC-',\n",
       " 'design_output_7': 'AAGAGGGC-G-CCACC-GGCAGCACGC--GAAAUA-----GCGACGGGC--CAGC--GGUCA----GCCCGAC-GGUGG---GCCCUCAAGAAAA------UUUGUGAGACC-',\n",
       " 'design_output_8': 'AAGGGAGC-G-CCACU-GGCAGCACGCU-UCAUAUU---AGCGACGGGGU------GGGUCCAG-ACCCCGAC-AGUGG---GCUCCCAAAAAA-------UUUGUGAGACCC',\n",
       " 'design_output_9': 'CCGCCCAG-G-GCCUA-GGCAGCACGC--GAAAUUAG---GCGACGGGA--GA---GGGUCGGA--UCCCGAC-UGGGCAG-CUGGGCAAUUUGUAA----UUUGUGAGACCC',\n",
       " 'design_output_10': 'CCGCUGCG---CUAG--GGCAGCACACGAAAU------UCGUGACGGGGA-------GGUCCGG-UCCCCGAC--CUAGA--CGCAGCAAAAAGAA-----UUUGUGAGACC-'}"
      ]
     },
     "execution_count": 9,
     "metadata": {},
     "output_type": "execute_result"
    }
   ],
   "source": [
    "sequences"
   ]
  },
  {
   "cell_type": "code",
   "execution_count": 10,
   "metadata": {
    "execution": {
     "iopub.execute_input": "2024-10-13T09:44:16.720953Z",
     "iopub.status.busy": "2024-10-13T09:44:16.720331Z",
     "iopub.status.idle": "2024-10-13T09:44:16.726320Z",
     "shell.execute_reply": "2024-10-13T09:44:16.725195Z",
     "shell.execute_reply.started": "2024-10-13T09:44:16.720907Z"
    }
   },
   "outputs": [],
   "source": [
    "# save sequences for later\n",
    "TBFV_sequences = sequences"
   ]
  },
  {
   "cell_type": "code",
   "execution_count": 11,
   "metadata": {
    "execution": {
     "iopub.execute_input": "2024-10-13T09:01:39.000314Z",
     "iopub.status.busy": "2024-10-13T09:01:38.999907Z",
     "iopub.status.idle": "2024-10-13T09:01:39.009974Z",
     "shell.execute_reply": "2024-10-13T09:01:39.009105Z",
     "shell.execute_reply.started": "2024-10-13T09:01:39.000284Z"
    }
   },
   "outputs": [],
   "source": [
    "# create alignment file for plotting and analysis\n",
    "alignment_file = os.path.join(base_folder, 'xrRNA_design/TBFV_design/data/seqs/designs_analysis/alignment.fa')\n",
    "iupac_cons =  'NNNNNNNNXXXNNNNXXGGCAGCRCRCXXNNNXXXXXXXXGYGACGGGXXXXXXXXXGGUCXXXXXXCCCGACXXNNNNXXXNNNNNNNNNNNNXXXXXXXUUYGUGAGACCX'\n",
    "\n",
    "with open(alignment_file, 'w') as f:\n",
    "    for key, value in sequences.items():\n",
    "        f.write(f'>{key}\\n')\n",
    "        f.write(value)\n",
    "        f.write('\\n')\n",
    "    f.write(f'>iupac\\n')\n",
    "    f.write(iupac_cons)\n",
    "    f.write('\\n')"
   ]
  },
  {
   "cell_type": "markdown",
   "metadata": {},
   "source": [
    "### sequence comparison plot"
   ]
  },
  {
   "cell_type": "code",
   "execution_count": 12,
   "metadata": {
    "execution": {
     "iopub.execute_input": "2024-10-13T09:10:12.719232Z",
     "iopub.status.busy": "2024-10-13T09:10:12.718739Z",
     "iopub.status.idle": "2024-10-13T09:10:13.940175Z",
     "shell.execute_reply": "2024-10-13T09:10:13.939921Z",
     "shell.execute_reply.started": "2024-10-13T09:10:12.719208Z"
    }
   },
   "outputs": [
    {
     "data": {
      "image/png": "[encoded data removed]",
      "text/plain": [
       "<Figure size 2825x550 with 1 Axes>"
      ]
     },
     "metadata": {},
     "output_type": "display_data"
    },
    {
     "data": {
      "image/png": "[encoded data removed]",
      "text/plain": [
       "<Figure size 2825x550 with 1 Axes>"
      ]
     },
     "metadata": {},
     "output_type": "display_data"
    }
   ],
   "source": [
    "# Load alignment file\n",
    "alignment = AlignIO.read(alignment_file, \"fasta\")\n",
    "\n",
    "# Plot the alignment\n",
    "plot_alignment(alignment)\n",
    "plot_alignment_with_nucleotides(alignment, True)\n"
   ]
  },
  {
   "cell_type": "markdown",
   "metadata": {},
   "source": [
    "## structure comparison"
   ]
  },
  {
   "cell_type": "markdown",
   "metadata": {},
   "source": [
    "### load data"
   ]
  },
  {
   "cell_type": "code",
   "execution_count": 14,
   "metadata": {
    "execution": {
     "iopub.execute_input": "2024-10-13T09:22:03.238335Z",
     "iopub.status.busy": "2024-10-13T09:22:03.237763Z",
     "iopub.status.idle": "2024-10-13T09:22:03.251161Z",
     "shell.execute_reply": "2024-10-13T09:22:03.250287Z",
     "shell.execute_reply.started": "2024-10-13T09:22:03.238287Z"
    }
   },
   "outputs": [],
   "source": [
    "run = False\n",
    "if run:\n",
    "    clusters_data = []\n",
    "    for j in range(1, 11):\n",
    "        summary_txt = os.path.join(base_folder, 'simRNA/TBFV_design/designs_analysis/{j:02d}/summary.txt')\n",
    "\n",
    "        with open(summary_txt, 'r') as f:\n",
    "            data = f.read()\n",
    "        data = data.split('\\n')\n",
    "        data = [line for line in data if line]\n",
    "\n",
    "        seq = number = ss = None\n",
    "        for i in range(len(data)):\n",
    "            if i % 3 == 0:\n",
    "                number = int(re.search(r'clust(\\d+)', data[i])[1])\n",
    "            elif i % 3 == 1:\n",
    "                seq = data[i]\n",
    "            elif i % 3 == 2:\n",
    "                ss = data[i]\n",
    "                clusters_data.append([j, number, seq, ss])\n",
    "\n",
    "    df_design = pd.DataFrame(clusters_data, columns=['design', 'cluster', 'seq', 'ss'])\n",
    "    df_design = df_design.set_index('design')\n",
    "    df_design.to_csv(os.path.join(base_folder, 'thesis/data/TBFV_10_designs.csv'))\n",
    "\n",
    "df_design = pd.read_csv(os.path.join(base_folder, 'thesis/data/TBFV_10_designs.csv'))"
   ]
  },
  {
   "cell_type": "markdown",
   "metadata": {},
   "source": [
    "### hamming distance differences"
   ]
  },
  {
   "cell_type": "code",
   "execution_count": 15,
   "metadata": {
    "execution": {
     "iopub.execute_input": "2024-10-13T09:27:28.593921Z",
     "iopub.status.busy": "2024-10-13T09:27:28.593418Z",
     "iopub.status.idle": "2024-10-13T09:27:28.600988Z",
     "shell.execute_reply": "2024-10-13T09:27:28.600282Z",
     "shell.execute_reply.started": "2024-10-13T09:27:28.593871Z"
    }
   },
   "outputs": [],
   "source": [
    "# calculate Hamming differences between two sequences\n",
    "def calculate_differences(seq1, seq2):\n",
    "    differences= 0\n",
    "    for i in range(len(seq1)):\n",
    "        if seq1[i] != '-' and seq2[i] != '-':\n",
    "            if seq1[i] != seq2[i]:\n",
    "                differences += 1\n",
    "    return differences\n",
    "\n",
    "# get differences from differences dictionary\n",
    "def get_differences(differences, numb0, numb1):\n",
    "    design0 = 'design_output_' + str(numb0)\n",
    "    design1 = 'design_output_' + str(numb1)\n",
    "    if numb0 < numb1:  \n",
    "        return differences[(design0, design1)]\n",
    "    else:\n",
    "        return differences[(design1, design)]\n",
    "\n",
    "# get sequences from sequence dictionary \n",
    "def get_sequence(sequence, numbers):\n",
    "    return [sequence['design_output_' + str(numb)] for numb in numbers]"
   ]
  },
  {
   "cell_type": "code",
   "execution_count": 16,
   "metadata": {
    "execution": {
     "iopub.execute_input": "2024-10-13T09:25:00.115596Z",
     "iopub.status.busy": "2024-10-13T09:25:00.114983Z",
     "iopub.status.idle": "2024-10-13T09:25:00.125343Z",
     "shell.execute_reply": "2024-10-13T09:25:00.124354Z",
     "shell.execute_reply.started": "2024-10-13T09:25:00.115549Z"
    }
   },
   "outputs": [
    {
     "name": "stdout",
     "output_type": "stream",
     "text": [
      "('design_output_7', 'design_output_8') 15\n"
     ]
    }
   ],
   "source": [
    "# calculate all differences and get lowest difference\n",
    "lowest_diff = 200\n",
    "lowest_comb = None\n",
    "differences = {}\n",
    "for comb in itertools.combinations(list(TBFV_sequences), 2):\n",
    "    diff = calculate_differences(sequences[comb[0]], sequences[comb[1]])\n",
    "    differences[comb] = diff\n",
    "    if diff < lowest_diff:\n",
    "        lowest_diff = diff\n",
    "        lowest_comb = comb\n",
    "print(lowest_comb, lowest_diff)"
   ]
  },
  {
   "cell_type": "code",
   "execution_count": 17,
   "metadata": {
    "execution": {
     "iopub.execute_input": "2024-10-13T09:25:34.531416Z",
     "iopub.status.busy": "2024-10-13T09:25:34.530759Z",
     "iopub.status.idle": "2024-10-13T09:25:34.623739Z",
     "shell.execute_reply": "2024-10-13T09:25:34.623409Z",
     "shell.execute_reply.started": "2024-10-13T09:25:34.531364Z"
    }
   },
   "outputs": [
    {
     "data": {
      "image/png": "[encoded data removed]",
      "text/plain": [
       "<Figure size 640x480 with 1 Axes>"
      ]
     },
     "metadata": {},
     "output_type": "display_data"
    }
   ],
   "source": [
    "# plot histogram of differences\n",
    "plt.hist(differences.values(), bins=15);"
   ]
  },
  {
   "cell_type": "code",
   "execution_count": 18,
   "metadata": {
    "execution": {
     "iopub.execute_input": "2024-10-13T09:36:35.604477Z",
     "iopub.status.busy": "2024-10-13T09:36:35.603232Z",
     "iopub.status.idle": "2024-10-13T09:36:36.136933Z",
     "shell.execute_reply": "2024-10-13T09:36:36.136703Z",
     "shell.execute_reply.started": "2024-10-13T09:36:35.604412Z"
    }
   },
   "outputs": [
    {
     "data": {
      "image/png": "[encoded data removed]",
      "text/plain": [
       "<Figure size 2825x200 with 1 Axes>"
      ]
     },
     "metadata": {},
     "output_type": "display_data"
    }
   ],
   "source": [
    "# designs that were used for MD testing\n",
    "MD_numbs = [2, 3, 7, 10]\n",
    "sequences_alignment = [SeqRecord(Seq(get_sequence(TBFV_sequences, [i])[0]), id=str(i)) for i in MD_numbs]\n",
    "# Create an alignment from the list of SeqRecord objects\n",
    "alignment = MultipleSeqAlignment(sequences_alignment)\n",
    "\n",
    "# plot the sequences\n",
    "plot_alignment_with_nucleotides(alignment)"
   ]
  },
  {
   "cell_type": "markdown",
   "metadata": {},
   "source": [
    "## metrics"
   ]
  },
  {
   "cell_type": "code",
   "execution_count": 19,
   "metadata": {
    "execution": {
     "iopub.execute_input": "2024-10-13T09:37:21.198555Z",
     "iopub.status.busy": "2024-10-13T09:37:21.197881Z",
     "iopub.status.idle": "2024-10-13T09:37:21.205108Z",
     "shell.execute_reply": "2024-10-13T09:37:21.204050Z",
     "shell.execute_reply.started": "2024-10-13T09:37:21.198523Z"
    }
   },
   "outputs": [],
   "source": [
    "metrics = {}\n",
    "DTV = '/scr/aldea/kgutenbrunner/data/tbfv_sim/DTV.pdb'"
   ]
  },
  {
   "cell_type": "markdown",
   "metadata": {},
   "source": [
    "!!! run if working from tbi !!!"
   ]
  },
  {
   "cell_type": "markdown",
   "metadata": {},
   "source": [
    "### RMSD"
   ]
  },
  {
   "cell_type": "code",
   "execution_count": 20,
   "metadata": {
    "execution": {
     "iopub.execute_input": "2024-10-13T09:37:23.012801Z",
     "iopub.status.busy": "2024-10-13T09:37:23.012417Z",
     "iopub.status.idle": "2024-10-13T09:37:23.137055Z",
     "shell.execute_reply": "2024-10-13T09:37:23.136691Z",
     "shell.execute_reply.started": "2024-10-13T09:37:23.012777Z"
    }
   },
   "outputs": [],
   "source": [
    "from Bio.PDB import PDBParser, Superimposer\n",
    "\n",
    "def get_RMSD(pdb1, pdb2):\n",
    "    # Initialize the parser\n",
    "    parser = PDBParser(QUIET=True)\n",
    "\n",
    "    # Parse the structures\n",
    "    structure1 = parser.get_structure('RNA1', pdb1)\n",
    "    structure2 = parser.get_structure('RNA2', pdb2)\n",
    "\n",
    "    # Select atoms from the RNA structures (example: selecting C1' atoms from both)\n",
    "    atoms1 = []\n",
    "    atoms2 = []\n",
    "    for res1, res2 in zip(structure1.get_residues(), structure2.get_residues()):\n",
    "        if res1.has_id(\"C1'\") and res2.has_id(\"C1'\"):\n",
    "            atoms1.append(res1[\"C1'\"])\n",
    "            atoms2.append(res2[\"C1'\"])\n",
    "\n",
    "    # Perform alignment and RMSD calculation\n",
    "    super_imposer = Superimposer()\n",
    "    super_imposer.set_atoms(atoms1, atoms2)\n",
    "    super_imposer.apply(structure2.get_atoms())\n",
    "\n",
    "    # Output the RMSD\n",
    "    return super_imposer.rms"
   ]
  },
  {
   "cell_type": "code",
   "execution_count": 21,
   "metadata": {},
   "outputs": [],
   "source": [
    "from pymol import cmd\n",
    "import Bio.PDB\n",
    "import itertools\n",
    "\n",
    "def RMSD_pymol(pdb1, pdb2):\n",
    "\tcmd.load(pdb1, 'F1')\n",
    "\tcmd.load(pdb2, 'F2')\n",
    "\tRMSD = cmd.align('F1','F2')[0]\n",
    "\trmsd = cmd.rms_cur('F1', 'F2')\n",
    "\n",
    "    # print(f'RMSD: {RMSD:.3f} Å')\n",
    "\treturn RMSD\n"
   ]
  },
  {
   "cell_type": "code",
   "execution_count": 22,
   "metadata": {},
   "outputs": [],
   "source": [
    "# get \n",
    "designs_base_folder = '/scr/aldea/kgutenbrunner/working/simRNA/TBFV_design/designs_analysis'\n",
    "QRNA_files = []\n",
    "for i in range(1,11):\n",
    "    folder = f'{designs_base_folder}/{i:02d}/QRNAs'\n",
    "    for file in os.listdir(folder):\n",
    "        QRNA_files.append(f'{folder}/{file}')\n",
    "clust01_files = [file for file in QRNA_files if 'clust01' in file]"
   ]
  },
  {
   "cell_type": "code",
   "execution_count": 23,
   "metadata": {},
   "outputs": [
    {
     "name": "stdout",
     "output_type": "stream",
     "text": [
      "01_clust01_qrna\n",
      "RMSD with BIOPython:\t20.584354511255743\n",
      "RMSD with PyMol:\t20.59481430053711\n",
      "02_clust01_qrna\n",
      "RMSD with BIOPython:\t18.242259360356503\n",
      "RMSD with PyMol:\t21.169601440429688\n",
      "03_clust01_qrna\n",
      "RMSD with BIOPython:\t18.36231238999075\n",
      "RMSD with PyMol:\t26.166223526000977\n",
      "04_clust01_qrna\n",
      "RMSD with BIOPython:\t21.17689356215494\n",
      "RMSD with PyMol:\t24.48618507385254\n",
      "05_clust01_qrna\n",
      "RMSD with BIOPython:\t17.423775280418006\n",
      "RMSD with PyMol:\t24.714019775390625\n",
      "06_clust01_qrna\n",
      "RMSD with BIOPython:\t20.578423944151165\n",
      "RMSD with PyMol:\t27.31376075744629\n",
      "07_clust01_qrna\n",
      "RMSD with BIOPython:\t16.820487447281288\n",
      "RMSD with PyMol:\t25.11577796936035\n",
      "08_clust01_qrna\n",
      "RMSD with BIOPython:\t16.135922347487526\n",
      "RMSD with PyMol:\t26.158262252807617\n",
      "09_clust01_qrna\n",
      "RMSD with BIOPython:\t9.751326598553698\n",
      "RMSD with PyMol:\t27.46607780456543\n",
      "10_clust01_qrna\n",
      "RMSD with BIOPython:\t17.19663197145568\n",
      "RMSD with PyMol:\t25.9156551361084\n"
     ]
    }
   ],
   "source": [
    "RMSD = {}\n",
    "for file in clust01_files:\n",
    "    print(file[-19:-4])\n",
    "    rmsd = get_RMSD(file, DTV)\n",
    "    RMSD[file[-19:]] = rmsd\n",
    "    print(f'RMSD with BIOPython:\\t{rmsd}')\n",
    "    rmsd = RMSD_pymol(file, DTV)\n",
    "    print(f'RMSD with PyMol:\\t{rmsd}')\n",
    "    \n"
   ]
  },
  {
   "cell_type": "code",
   "execution_count": 24,
   "metadata": {},
   "outputs": [],
   "source": [
    "metrics['RMSD'] = RMSD"
   ]
  },
  {
   "cell_type": "markdown",
   "metadata": {},
   "source": [
    "### TM + GDT"
   ]
  },
  {
   "cell_type": "code",
   "execution_count": 42,
   "metadata": {},
   "outputs": [],
   "source": [
    "import subprocess\n",
    "import re\n",
    "\n",
    "# TM = '/scr/aldea/kgutenbrunner/opt/rna_analysis/RNAalign/RNAalign'\n",
    "\n",
    "TM = '/scr/aldea/kgutenbrunner/opt/rna_analysis/TMscore'\n",
    "TM_regexr = r'TM-score\\s*=\\s*(\\d+.\\d+)'\n",
    "GDT_regexr = r'GDT-TS-score\\s*=\\s*(\\d+.\\d+)'\n"
   ]
  },
  {
   "cell_type": "code",
   "execution_count": 43,
   "metadata": {},
   "outputs": [],
   "source": []
  },
  {
   "cell_type": "code",
   "execution_count": 45,
   "metadata": {},
   "outputs": [],
   "source": [
    "TM_scores = {}\n",
    "GDT_scores = {}\n",
    "for file in clust01_files:\n",
    "    cmd_TM = f'{TM} {DTV} {file}'\n",
    "    TM_result = subprocess.check_output(cmd_TM, shell=True, text=True)\n",
    "    TM_score = float(re.findall(TM_regexr, TM_result)[0])\n",
    "    GDT_score = float(re.findall(GDT_regexr, TM_result)[0])\n",
    "    TM_scores[file[-19:]] = TM_score\n",
    "    GDT_scores[file[-19:]] = GDT_score"
   ]
  },
  {
   "cell_type": "code",
   "execution_count": 46,
   "metadata": {},
   "outputs": [],
   "source": [
    "metrics['GDT'] = GDT_scores\n",
    "metrics['TM'] = TM_scores"
   ]
  },
  {
   "cell_type": "markdown",
   "metadata": {},
   "source": [
    "### CAD"
   ]
  },
  {
   "cell_type": "code",
   "execution_count": 47,
   "metadata": {},
   "outputs": [],
   "source": [
    "VORONOTA = '/scr/aldea/kgutenbrunner/opt/rna_analysis/voronota_1.28.4132/voronota-cadscore'\n"
   ]
  },
  {
   "cell_type": "code",
   "execution_count": 48,
   "metadata": {},
   "outputs": [
    {
     "name": "stderr",
     "output_type": "stream",
     "text": [
      "egrep: warning: egrep is obsolescent; using grep -E\n",
      "egrep: warning: egrep is obsolescent; using grep -E\n"
     ]
    },
    {
     "name": "stdout",
     "output_type": "stream",
     "text": [
      "\n"
     ]
    },
    {
     "name": "stderr",
     "output_type": "stream",
     "text": [
      "egrep: warning: egrep is obsolescent; using grep -E\n",
      "egrep: warning: egrep is obsolescent; using grep -E\n"
     ]
    },
    {
     "name": "stdout",
     "output_type": "stream",
     "text": [
      "\n"
     ]
    },
    {
     "name": "stderr",
     "output_type": "stream",
     "text": [
      "egrep: warning: egrep is obsolescent; using grep -E\n",
      "egrep: warning: egrep is obsolescent; using grep -E\n"
     ]
    },
    {
     "name": "stdout",
     "output_type": "stream",
     "text": [
      "\n"
     ]
    },
    {
     "name": "stderr",
     "output_type": "stream",
     "text": [
      "egrep: warning: egrep is obsolescent; using grep -E\n",
      "egrep: warning: egrep is obsolescent; using grep -E\n"
     ]
    },
    {
     "name": "stdout",
     "output_type": "stream",
     "text": [
      "\n"
     ]
    },
    {
     "name": "stderr",
     "output_type": "stream",
     "text": [
      "egrep: warning: egrep is obsolescent; using grep -E\n",
      "egrep: warning: egrep is obsolescent; using grep -E\n"
     ]
    },
    {
     "name": "stdout",
     "output_type": "stream",
     "text": [
      "\n"
     ]
    },
    {
     "name": "stderr",
     "output_type": "stream",
     "text": [
      "egrep: warning: egrep is obsolescent; using grep -E\n",
      "egrep: warning: egrep is obsolescent; using grep -E\n"
     ]
    },
    {
     "name": "stdout",
     "output_type": "stream",
     "text": [
      "\n"
     ]
    },
    {
     "name": "stderr",
     "output_type": "stream",
     "text": [
      "egrep: warning: egrep is obsolescent; using grep -E\n",
      "egrep: warning: egrep is obsolescent; using grep -E\n"
     ]
    },
    {
     "name": "stdout",
     "output_type": "stream",
     "text": [
      "\n"
     ]
    },
    {
     "name": "stderr",
     "output_type": "stream",
     "text": [
      "egrep: warning: egrep is obsolescent; using grep -E\n",
      "egrep: warning: egrep is obsolescent; using grep -E\n"
     ]
    },
    {
     "name": "stdout",
     "output_type": "stream",
     "text": [
      "\n"
     ]
    },
    {
     "name": "stderr",
     "output_type": "stream",
     "text": [
      "egrep: warning: egrep is obsolescent; using grep -E\n",
      "egrep: warning: egrep is obsolescent; using grep -E\n"
     ]
    },
    {
     "name": "stdout",
     "output_type": "stream",
     "text": [
      "\n",
      "\n"
     ]
    },
    {
     "name": "stderr",
     "output_type": "stream",
     "text": [
      "egrep: warning: egrep is obsolescent; using grep -E\n",
      "egrep: warning: egrep is obsolescent; using grep -E\n"
     ]
    }
   ],
   "source": [
    "cad_scores = {}\n",
    "for file in clust01_files:\n",
    "    cmd_vor = f'{VORONOTA} -m {DTV} -t {file}'\n",
    "    voronota_result = subprocess.check_output(cmd_vor, shell=True, text=True)\n",
    "    voronota_result = voronota_result.replace('\\n','').split(' ')\n",
    "    print()\n",
    "    cad_score = float(voronota_result[4])\n",
    "    cad_scores[file[-19:]] = cad_score"
   ]
  },
  {
   "cell_type": "code",
   "execution_count": 49,
   "metadata": {},
   "outputs": [],
   "source": [
    "metrics['CAD'] = cad_scores"
   ]
  },
  {
   "cell_type": "markdown",
   "metadata": {},
   "source": [
    "### save metrics"
   ]
  },
  {
   "cell_type": "code",
   "execution_count": 50,
   "metadata": {},
   "outputs": [],
   "source": [
    "TBFV_df_metrics = pd.DataFrame(metrics)"
   ]
  },
  {
   "cell_type": "code",
   "execution_count": 51,
   "metadata": {},
   "outputs": [],
   "source": [
    "TBFV_df_metrics.to_csv(os.path.join(base_folder, 'thesis/data/TBFV_designs_metrics.csv'))"
   ]
  },
  {
   "cell_type": "code",
   "execution_count": 52,
   "metadata": {},
   "outputs": [
    {
     "data": {
      "text/html": [
       "<div>\n",
       "<style scoped>\n",
       "    .dataframe tbody tr th:only-of-type {\n",
       "        vertical-align: middle;\n",
       "    }\n",
       "\n",
       "    .dataframe tbody tr th {\n",
       "        vertical-align: top;\n",
       "    }\n",
       "\n",
       "    .dataframe thead th {\n",
       "        text-align: right;\n",
       "    }\n",
       "</style>\n",
       "<table border=\"1\" class=\"dataframe\">\n",
       "  <thead>\n",
       "    <tr style=\"text-align: right;\">\n",
       "      <th></th>\n",
       "      <th>RMSD</th>\n",
       "      <th>GDT</th>\n",
       "      <th>TM</th>\n",
       "      <th>CAD</th>\n",
       "    </tr>\n",
       "  </thead>\n",
       "  <tbody>\n",
       "    <tr>\n",
       "      <th>01_clust01_qrna.pdb</th>\n",
       "      <td>20.584355</td>\n",
       "      <td>0.1925</td>\n",
       "      <td>0.1838</td>\n",
       "      <td>0.077214</td>\n",
       "    </tr>\n",
       "    <tr>\n",
       "      <th>02_clust01_qrna.pdb</th>\n",
       "      <td>18.242259</td>\n",
       "      <td>0.1264</td>\n",
       "      <td>0.1274</td>\n",
       "      <td>0.058224</td>\n",
       "    </tr>\n",
       "    <tr>\n",
       "      <th>03_clust01_qrna.pdb</th>\n",
       "      <td>18.362312</td>\n",
       "      <td>0.1420</td>\n",
       "      <td>0.1320</td>\n",
       "      <td>0.036508</td>\n",
       "    </tr>\n",
       "    <tr>\n",
       "      <th>04_clust01_qrna.pdb</th>\n",
       "      <td>21.176894</td>\n",
       "      <td>0.1376</td>\n",
       "      <td>0.1362</td>\n",
       "      <td>0.078594</td>\n",
       "    </tr>\n",
       "    <tr>\n",
       "      <th>05_clust01_qrna.pdb</th>\n",
       "      <td>17.423775</td>\n",
       "      <td>0.1528</td>\n",
       "      <td>0.1359</td>\n",
       "      <td>0.063677</td>\n",
       "    </tr>\n",
       "    <tr>\n",
       "      <th>06_clust01_qrna.pdb</th>\n",
       "      <td>20.578424</td>\n",
       "      <td>0.1209</td>\n",
       "      <td>0.1098</td>\n",
       "      <td>0.053367</td>\n",
       "    </tr>\n",
       "    <tr>\n",
       "      <th>07_clust01_qrna.pdb</th>\n",
       "      <td>16.820487</td>\n",
       "      <td>0.1687</td>\n",
       "      <td>0.1537</td>\n",
       "      <td>0.035917</td>\n",
       "    </tr>\n",
       "    <tr>\n",
       "      <th>08_clust01_qrna.pdb</th>\n",
       "      <td>16.135922</td>\n",
       "      <td>0.1638</td>\n",
       "      <td>0.1519</td>\n",
       "      <td>0.101550</td>\n",
       "    </tr>\n",
       "    <tr>\n",
       "      <th>09_clust01_qrna.pdb</th>\n",
       "      <td>9.751327</td>\n",
       "      <td>0.2665</td>\n",
       "      <td>0.2329</td>\n",
       "      <td>0.101205</td>\n",
       "    </tr>\n",
       "    <tr>\n",
       "      <th>10_clust01_qrna.pdb</th>\n",
       "      <td>17.196632</td>\n",
       "      <td>0.1416</td>\n",
       "      <td>0.1392</td>\n",
       "      <td>0.033079</td>\n",
       "    </tr>\n",
       "  </tbody>\n",
       "</table>\n",
       "</div>"
      ],
      "text/plain": [
       "                          RMSD     GDT      TM       CAD\n",
       "01_clust01_qrna.pdb  20.584355  0.1925  0.1838  0.077214\n",
       "02_clust01_qrna.pdb  18.242259  0.1264  0.1274  0.058224\n",
       "03_clust01_qrna.pdb  18.362312  0.1420  0.1320  0.036508\n",
       "04_clust01_qrna.pdb  21.176894  0.1376  0.1362  0.078594\n",
       "05_clust01_qrna.pdb  17.423775  0.1528  0.1359  0.063677\n",
       "06_clust01_qrna.pdb  20.578424  0.1209  0.1098  0.053367\n",
       "07_clust01_qrna.pdb  16.820487  0.1687  0.1537  0.035917\n",
       "08_clust01_qrna.pdb  16.135922  0.1638  0.1519  0.101550\n",
       "09_clust01_qrna.pdb   9.751327  0.2665  0.2329  0.101205\n",
       "10_clust01_qrna.pdb  17.196632  0.1416  0.1392  0.033079"
      ]
     },
     "execution_count": 52,
     "metadata": {},
     "output_type": "execute_result"
    }
   ],
   "source": [
    "TBFV_df_metrics"
   ]
  },
  {
   "cell_type": "markdown",
   "metadata": {},
   "source": [
    "### load metrics"
   ]
  },
  {
   "cell_type": "code",
   "execution_count": null,
   "metadata": {},
   "outputs": [],
   "source": [
    "TBFV_df_metrics = pd.read_csv(os.path.join(base_folder, 'thesis/data/TBFV_designs_metrics.csv'))"
   ]
  },
  {
   "cell_type": "code",
   "execution_count": null,
   "metadata": {},
   "outputs": [],
   "source": []
  },
  {
   "cell_type": "code",
   "execution_count": null,
   "metadata": {},
   "outputs": [],
   "source": []
  },
  {
   "cell_type": "code",
   "execution_count": null,
   "metadata": {},
   "outputs": [],
   "source": []
  },
  {
   "cell_type": "markdown",
   "metadata": {},
   "source": [
    "# MBFV - designed sequences"
   ]
  },
  {
   "cell_type": "markdown",
   "metadata": {},
   "source": [
    "## Sequences comparison"
   ]
  },
  {
   "cell_type": "markdown",
   "metadata": {},
   "source": [
    "### load data"
   ]
  },
  {
   "cell_type": "code",
   "execution_count": 53,
   "metadata": {
    "execution": {
     "iopub.execute_input": "2024-10-13T09:51:23.058232Z",
     "iopub.status.busy": "2024-10-13T09:51:23.056798Z",
     "iopub.status.idle": "2024-10-13T09:51:23.070347Z",
     "shell.execute_reply": "2024-10-13T09:51:23.069578Z",
     "shell.execute_reply.started": "2024-10-13T09:51:23.058188Z"
    }
   },
   "outputs": [],
   "source": [
    "sequence_folder = os.path.join(base_folder, 'xrRNA_design/MBFV_design/data/seqs/designs_analysis/')\n",
    "files = [sequence_folder + i for i in os.listdir(sequence_folder) if 'design_output' in i]"
   ]
  },
  {
   "cell_type": "code",
   "execution_count": 54,
   "metadata": {
    "execution": {
     "iopub.execute_input": "2024-10-13T09:16:38.539441Z",
     "iopub.status.busy": "2024-10-13T09:16:38.537783Z",
     "iopub.status.idle": "2024-10-13T09:16:38.547647Z",
     "shell.execute_reply": "2024-10-13T09:16:38.546746Z",
     "shell.execute_reply.started": "2024-10-13T09:16:38.539382Z"
    }
   },
   "outputs": [],
   "source": [
    "files = sorted(files)\n",
    "files.append(files.pop(1))"
   ]
  },
  {
   "cell_type": "code",
   "execution_count": 55,
   "metadata": {
    "execution": {
     "iopub.execute_input": "2024-10-13T09:01:33.585619Z",
     "iopub.status.busy": "2024-10-13T09:01:33.584973Z",
     "iopub.status.idle": "2024-10-13T09:01:33.599157Z",
     "shell.execute_reply": "2024-10-13T09:01:33.598577Z",
     "shell.execute_reply.started": "2024-10-13T09:01:33.585571Z"
    }
   },
   "outputs": [
    {
     "name": "stderr",
     "output_type": "stream",
     "text": [
      "<>:4: SyntaxWarning: invalid escape sequence '\\.'\n",
      "<>:4: SyntaxWarning: invalid escape sequence '\\.'\n",
      "/tmp/ipykernel_708899/41779359.py:4: SyntaxWarning: invalid escape sequence '\\.'\n",
      "  file_name = re.search('(design_output.*)\\.', file)[1]\n"
     ]
    },
    {
     "data": {
      "text/plain": [
       "''"
      ]
     },
     "execution_count": 55,
     "metadata": {},
     "output_type": "execute_result"
    }
   ],
   "source": [
    "regexr_pattern = 'sequence: *(.+)\\n'\n",
    "sequences = {}\n",
    "for file in files:\n",
    "    file_name = re.search('(design_output.*)\\.', file)[1]\n",
    "    with open(file, 'r') as f:\n",
    "        for line in f:\n",
    "            if line.startswith('sequence'):\n",
    "                stripped_line = line.strip()\n",
    "                sequence = re.search(regexr_pattern, line)[1]\n",
    "                sequences[file_name] = sequence\n",
    "                break\n",
    ";"
   ]
  },
  {
   "cell_type": "code",
   "execution_count": 59,
   "metadata": {
    "execution": {
     "iopub.execute_input": "2024-10-13T09:44:16.720953Z",
     "iopub.status.busy": "2024-10-13T09:44:16.720331Z",
     "iopub.status.idle": "2024-10-13T09:44:16.726320Z",
     "shell.execute_reply": "2024-10-13T09:44:16.725195Z",
     "shell.execute_reply.started": "2024-10-13T09:44:16.720907Z"
    }
   },
   "outputs": [],
   "source": [
    "# save sequences for later\n",
    "MBFV_sequences = sequences"
   ]
  },
  {
   "cell_type": "code",
   "execution_count": 60,
   "metadata": {
    "execution": {
     "iopub.execute_input": "2024-10-13T09:01:39.000314Z",
     "iopub.status.busy": "2024-10-13T09:01:38.999907Z",
     "iopub.status.idle": "2024-10-13T09:01:39.009974Z",
     "shell.execute_reply": "2024-10-13T09:01:39.009105Z",
     "shell.execute_reply.started": "2024-10-13T09:01:39.000284Z"
    }
   },
   "outputs": [],
   "source": [
    "# create alignment file for plotting and analysis\n",
    "alignment_file = os.path.join(base_folder, 'xrRNA_design/MBFV_design/data/seqs/designs_analysis/alignment.fa')\n",
    "iupac_cons =  'WGUCAGGCCXXXXNNNXXXXXXXXGCYACNXXXXXXXXXXXNNNXXXXXNXXXXXXXXNGUGCWGCCUGXXXXXXXXXXXNNNNN'\n",
    "\n",
    "with open(alignment_file, 'w') as f:\n",
    "    for key, value in sequences.items():\n",
    "        f.write(f'>{key}\\n')\n",
    "        f.write(value)\n",
    "        f.write('\\n')\n",
    "    f.write(f'>iupac\\n')\n",
    "    f.write(iupac_cons)\n",
    "    f.write('\\n')"
   ]
  },
  {
   "cell_type": "markdown",
   "metadata": {},
   "source": [
    "### sequence comparison plot"
   ]
  },
  {
   "cell_type": "code",
   "execution_count": 66,
   "metadata": {
    "execution": {
     "iopub.execute_input": "2024-10-13T09:10:12.719232Z",
     "iopub.status.busy": "2024-10-13T09:10:12.718739Z",
     "iopub.status.idle": "2024-10-13T09:10:13.940175Z",
     "shell.execute_reply": "2024-10-13T09:10:13.939921Z",
     "shell.execute_reply.started": "2024-10-13T09:10:12.719208Z"
    }
   },
   "outputs": [
    {
     "data": {
      "image/png": "[encoded data removed]",
      "text/plain": [
       "<Figure size 2125x550 with 1 Axes>"
      ]
     },
     "metadata": {},
     "output_type": "display_data"
    },
    {
     "data": {
      "image/png": "[encoded data removed]",
      "text/plain": [
       "<Figure size 2125x550 with 1 Axes>"
      ]
     },
     "metadata": {},
     "output_type": "display_data"
    }
   ],
   "source": [
    "# Load alignment file\n",
    "alignment = AlignIO.read(alignment_file, \"fasta\")\n",
    "\n",
    "# Plot the alignment\n",
    "plot_alignment(alignment)\n",
    "plot_alignment_with_nucleotides(alignment, True)\n"
   ]
  },
  {
   "cell_type": "markdown",
   "metadata": {},
   "source": [
    "## structure comparison"
   ]
  },
  {
   "cell_type": "markdown",
   "metadata": {},
   "source": [
    "### load data"
   ]
  },
  {
   "cell_type": "code",
   "execution_count": 68,
   "metadata": {
    "execution": {
     "iopub.execute_input": "2024-10-13T09:22:03.238335Z",
     "iopub.status.busy": "2024-10-13T09:22:03.237763Z",
     "iopub.status.idle": "2024-10-13T09:22:03.251161Z",
     "shell.execute_reply": "2024-10-13T09:22:03.250287Z",
     "shell.execute_reply.started": "2024-10-13T09:22:03.238287Z"
    }
   },
   "outputs": [],
   "source": [
    "run = False\n",
    "if run:\n",
    "    clusters_data = []\n",
    "    for j in range(1, 11):\n",
    "        summary_txt = os.path.join(base_folder, 'simRNA/MBFV_design/designs_analysis/{j:02d}/summary.txt')\n",
    "    \n",
    "        with open(summary_txt, 'r') as f:\n",
    "            data = f.read()\n",
    "        data = data.split('\\n')\n",
    "        data = [line for line in data if line]\n",
    "    \n",
    "        seq = number = ss = None\n",
    "        for i in range(len(data)):\n",
    "            if i % 3 == 0:\n",
    "                number = int(re.search(r'clust(\\d+)', data[i])[1])\n",
    "            elif i % 3 == 1:\n",
    "                seq = data[i]\n",
    "            elif i % 3 == 2:\n",
    "                ss = data[i]\n",
    "                clusters_data.append([j, number, seq, ss])\n",
    "    \n",
    "    df_design = pd.DataFrame(clusters_data, columns=['design', 'cluster', 'seq', 'ss'])\n",
    "    df_design = df_design.set_index('design')\n",
    "    df_design.to_csv(os.path.join(base_folder, 'thesis/data/MBFV_10_designs.csv'))\n",
    "\n",
    "df_design = pd.read_csv(os.path.join(base_folder, 'thesis/data/MBFV_10_designs.csv'))"
   ]
  },
  {
   "cell_type": "markdown",
   "metadata": {},
   "source": [
    "### hamming distance differences"
   ]
  },
  {
   "cell_type": "code",
   "execution_count": 69,
   "metadata": {
    "execution": {
     "iopub.execute_input": "2024-10-13T09:27:28.593921Z",
     "iopub.status.busy": "2024-10-13T09:27:28.593418Z",
     "iopub.status.idle": "2024-10-13T09:27:28.600988Z",
     "shell.execute_reply": "2024-10-13T09:27:28.600282Z",
     "shell.execute_reply.started": "2024-10-13T09:27:28.593871Z"
    }
   },
   "outputs": [],
   "source": [
    "# calculate Hamming differences between two sequences\n",
    "def calculate_differences(seq1, seq2):\n",
    "    differences= 0\n",
    "    for i in range(len(seq1)):\n",
    "        if seq1[i] != '-' and seq2[i] != '-':\n",
    "            if seq1[i] != seq2[i]:\n",
    "                differences += 1\n",
    "    return differences\n",
    "\n",
    "# get differences from differences dictionary\n",
    "def get_differences(differences, numb0, numb1):\n",
    "    design0 = 'design_output_' + str(numb0)\n",
    "    design1 = 'design_output_' + str(numb1)\n",
    "    if numb0 < numb1:  \n",
    "        return differences[(design0, design1)]\n",
    "    else:\n",
    "        return differences[(design1, design)]\n",
    "\n",
    "# get sequences from sequence dictionary \n",
    "def get_sequence(sequence, numbers):\n",
    "    return [sequence['design_output_' + str(numb)] for numb in numbers]"
   ]
  },
  {
   "cell_type": "code",
   "execution_count": 70,
   "metadata": {
    "execution": {
     "iopub.execute_input": "2024-10-13T09:25:00.115596Z",
     "iopub.status.busy": "2024-10-13T09:25:00.114983Z",
     "iopub.status.idle": "2024-10-13T09:25:00.125343Z",
     "shell.execute_reply": "2024-10-13T09:25:00.124354Z",
     "shell.execute_reply.started": "2024-10-13T09:25:00.115549Z"
    }
   },
   "outputs": [
    {
     "name": "stdout",
     "output_type": "stream",
     "text": [
      "('design_output_5', 'design_output_8') 11\n"
     ]
    }
   ],
   "source": [
    "# calculate all differences and get lowest difference\n",
    "lowest_diff = 200\n",
    "lowest_comb = None\n",
    "differences = {}\n",
    "for comb in itertools.combinations(list(MBFV_sequences), 2):\n",
    "    diff = calculate_differences(sequences[comb[0]], sequences[comb[1]])\n",
    "    differences[comb] = diff\n",
    "    if diff < lowest_diff:\n",
    "        lowest_diff = diff\n",
    "        lowest_comb = comb\n",
    "print(lowest_comb, lowest_diff)"
   ]
  },
  {
   "cell_type": "code",
   "execution_count": 71,
   "metadata": {
    "execution": {
     "iopub.execute_input": "2024-10-13T09:25:34.531416Z",
     "iopub.status.busy": "2024-10-13T09:25:34.530759Z",
     "iopub.status.idle": "2024-10-13T09:25:34.623739Z",
     "shell.execute_reply": "2024-10-13T09:25:34.623409Z",
     "shell.execute_reply.started": "2024-10-13T09:25:34.531364Z"
    }
   },
   "outputs": [
    {
     "data": {
      "image/png": "[encoded data removed]",
      "text/plain": [
       "<Figure size 640x480 with 1 Axes>"
      ]
     },
     "metadata": {},
     "output_type": "display_data"
    }
   ],
   "source": [
    "# plot histogram of differences\n",
    "plt.hist(differences.values(), bins=15);"
   ]
  },
  {
   "cell_type": "code",
   "execution_count": 72,
   "metadata": {
    "execution": {
     "iopub.execute_input": "2024-10-13T09:36:35.604477Z",
     "iopub.status.busy": "2024-10-13T09:36:35.603232Z",
     "iopub.status.idle": "2024-10-13T09:36:36.136933Z",
     "shell.execute_reply": "2024-10-13T09:36:36.136703Z",
     "shell.execute_reply.started": "2024-10-13T09:36:35.604412Z"
    }
   },
   "outputs": [
    {
     "data": {
      "image/png": "[encoded data removed]",
      "text/plain": [
       "<Figure size 2125x200 with 1 Axes>"
      ]
     },
     "metadata": {},
     "output_type": "display_data"
    }
   ],
   "source": [
    "# designs that were used for MD testing\n",
    "MD_numbs = [2, 3, 7, 10]\n",
    "sequences_alignment = [SeqRecord(Seq(get_sequence(MBFV_sequences, [i])[0]), id=str(i)) for i in MD_numbs]\n",
    "# Create an alignment from the list of SeqRecord objects\n",
    "alignment = MultipleSeqAlignment(sequences_alignment)\n",
    "\n",
    "# plot the sequences\n",
    "plot_alignment_with_nucleotides(alignment)"
   ]
  },
  {
   "cell_type": "markdown",
   "metadata": {},
   "source": [
    "## metrics"
   ]
  },
  {
   "cell_type": "code",
   "execution_count": 73,
   "metadata": {
    "execution": {
     "iopub.execute_input": "2024-10-13T09:37:21.198555Z",
     "iopub.status.busy": "2024-10-13T09:37:21.197881Z",
     "iopub.status.idle": "2024-10-13T09:37:21.205108Z",
     "shell.execute_reply": "2024-10-13T09:37:21.204050Z",
     "shell.execute_reply.started": "2024-10-13T09:37:21.198523Z"
    }
   },
   "outputs": [],
   "source": [
    "metrics = {}\n",
    "ZIKV = '/scr/aldea/kgutenbrunner/data/FV/7u4a.pdb'\n"
   ]
  },
  {
   "cell_type": "markdown",
   "metadata": {},
   "source": [
    "!!! run if working from tbi !!!"
   ]
  },
  {
   "cell_type": "markdown",
   "metadata": {},
   "source": [
    "### RMSD"
   ]
  },
  {
   "cell_type": "code",
   "execution_count": 74,
   "metadata": {
    "execution": {
     "iopub.execute_input": "2024-10-13T09:37:23.012801Z",
     "iopub.status.busy": "2024-10-13T09:37:23.012417Z",
     "iopub.status.idle": "2024-10-13T09:37:23.137055Z",
     "shell.execute_reply": "2024-10-13T09:37:23.136691Z",
     "shell.execute_reply.started": "2024-10-13T09:37:23.012777Z"
    }
   },
   "outputs": [],
   "source": [
    "from Bio.PDB import PDBParser, Superimposer\n",
    "\n",
    "def get_RMSD(pdb1, pdb2):\n",
    "    # Initialize the parser\n",
    "    parser = PDBParser(QUIET=True)\n",
    "\n",
    "    # Parse the structures\n",
    "    structure1 = parser.get_structure('RNA1', pdb1)\n",
    "    structure2 = parser.get_structure('RNA2', pdb2)\n",
    "\n",
    "    # Select atoms from the RNA structures (example: selecting C1' atoms from both)\n",
    "    atoms1 = []\n",
    "    atoms2 = []\n",
    "    for res1, res2 in zip(structure1.get_residues(), structure2.get_residues()):\n",
    "        if res1.has_id(\"C1'\") and res2.has_id(\"C1'\"):\n",
    "            atoms1.append(res1[\"C1'\"])\n",
    "            atoms2.append(res2[\"C1'\"])\n",
    "\n",
    "    # Perform alignment and RMSD calculation\n",
    "    super_imposer = Superimposer()\n",
    "    super_imposer.set_atoms(atoms1, atoms2)\n",
    "    super_imposer.apply(structure2.get_atoms())\n",
    "\n",
    "    # Output the RMSD\n",
    "    return super_imposer.rms"
   ]
  },
  {
   "cell_type": "code",
   "execution_count": 75,
   "metadata": {},
   "outputs": [],
   "source": [
    "from pymol import cmd\n",
    "import Bio.PDB\n",
    "import itertools\n",
    "\n",
    "def RMSD_pymol(pdb1, pdb2):\n",
    "\tcmd.load(pdb1, 'F1')\n",
    "\tcmd.load(pdb2, 'F2')\n",
    "\tRMSD = cmd.align('F1','F2')[0]\n",
    "\trmsd = cmd.rms_cur('F1', 'F2')\n",
    "\n",
    "    # print(f'RMSD: {RMSD:.3f} Å')\n",
    "\treturn RMSD\n"
   ]
  },
  {
   "cell_type": "code",
   "execution_count": 76,
   "metadata": {},
   "outputs": [],
   "source": [
    "# get \n",
    "designs_base_folder = '/scr/aldea/kgutenbrunner/working/simRNA/MBFV_design/designs_analysis'\n",
    "QRNA_files = []\n",
    "for i in range(1,11):\n",
    "    folder = f'{designs_base_folder}/{i:02d}/QRNAs'\n",
    "    for file in os.listdir(folder):\n",
    "        QRNA_files.append(f'{folder}/{file}')\n",
    "clust01_files = [file for file in QRNA_files if 'clust01' in file]"
   ]
  },
  {
   "cell_type": "code",
   "execution_count": 77,
   "metadata": {},
   "outputs": [
    {
     "name": "stdout",
     "output_type": "stream",
     "text": [
      "01_clust01_qrna\n",
      "RMSD with BIOPython:\t12.671967922846834\n",
      "RMSD with PyMol:\t29.120864868164062\n",
      "02_clust01_qrna\n",
      "RMSD with BIOPython:\t15.296345493769534\n",
      "RMSD with PyMol:\t28.595510482788086\n",
      "03_clust01_qrna\n",
      "RMSD with BIOPython:\t18.37265894481363\n",
      "RMSD with PyMol:\t29.309337615966797\n",
      "04_clust01_qrna\n",
      "RMSD with BIOPython:\t10.951727860401949\n",
      "RMSD with PyMol:\t26.51759910583496\n",
      "05_clust01_qrna\n",
      "RMSD with BIOPython:\t13.28420385300127\n",
      "RMSD with PyMol:\t31.104700088500977\n",
      "06_clust01_qrna\n",
      "RMSD with BIOPython:\t17.560496505334164\n",
      " Matrix: Warning: no convergence (0.00000010<233311.35937500 after 1000 iterations).\n",
      "RMSD with PyMol:\t28.618017196655273\n",
      "07_clust01_qrna\n",
      "RMSD with BIOPython:\t14.199005795546695\n",
      "RMSD with PyMol:\t28.1016902923584\n",
      "08_clust01_qrna\n",
      "RMSD with BIOPython:\t17.930241906974324\n",
      "RMSD with PyMol:\t28.17250633239746\n",
      "09_clust01_qrna\n",
      "RMSD with BIOPython:\t15.04685593251718\n",
      "RMSD with PyMol:\t28.452411651611328\n",
      "10_clust01_qrna\n",
      "RMSD with BIOPython:\t18.01812513550078\n",
      "RMSD with PyMol:\t28.05214500427246\n"
     ]
    }
   ],
   "source": [
    "RMSD = {}\n",
    "for file in clust01_files:\n",
    "    print(file[-19:-4])\n",
    "    rmsd = get_RMSD(file, ZIKV)\n",
    "    RMSD[file[-19:]] = rmsd\n",
    "    print(f'RMSD with BIOPython:\\t{rmsd}')\n",
    "    rmsd = RMSD_pymol(file, ZIKV)\n",
    "    print(f'RMSD with PyMol:\\t{rmsd}')\n",
    "    \n"
   ]
  },
  {
   "cell_type": "code",
   "execution_count": 78,
   "metadata": {},
   "outputs": [],
   "source": [
    "metrics['RMSD'] = RMSD"
   ]
  },
  {
   "cell_type": "markdown",
   "metadata": {},
   "source": [
    "### TM + GDT"
   ]
  },
  {
   "cell_type": "code",
   "execution_count": 84,
   "metadata": {},
   "outputs": [],
   "source": [
    "import subprocess\n",
    "import re\n",
    "\n",
    "#TM = '/scr/aldea/kgutenbrunner/opt/rna_analysis/RNAalign/RNAalign'\n",
    "TM = '/scr/aldea/kgutenbrunner/opt/rna_analysis/TMscore'\n",
    "TM_regexr = r'TM-score\\s*=\\s*(\\d+.\\d+)'\n",
    "GDT_regexr = r'GDT-TS-score\\s*=\\s*(\\d+.\\d+)'\n"
   ]
  },
  {
   "cell_type": "code",
   "execution_count": 89,
   "metadata": {},
   "outputs": [],
   "source": [
    "TM_scores = {}\n",
    "GDT_scores = {}\n",
    "for file in clust01_files:\n",
    "    cmd_TM = f'{TM} {ZIKV} {file}'\n",
    "    TM_result = subprocess.check_output(cmd_TM, shell=True, text=True)\n",
    "    TM_score = float(re.findall(TM_regexr, TM_result)[0])\n",
    "    GDT_score = float(re.findall(GDT_regexr, TM_result)[0])\n",
    "    TM_scores[file[-19:]] = TM_score\n",
    "    GDT_scores[file[-19:]] = GDT_score"
   ]
  },
  {
   "cell_type": "code",
   "execution_count": 90,
   "metadata": {},
   "outputs": [],
   "source": [
    "metrics['GDT'] = GDT_scores\n",
    "metrics['TM'] = TM_scores"
   ]
  },
  {
   "cell_type": "markdown",
   "metadata": {},
   "source": [
    "### CAD"
   ]
  },
  {
   "cell_type": "code",
   "execution_count": 91,
   "metadata": {},
   "outputs": [],
   "source": [
    "VORONOTA = '/scr/aldea/kgutenbrunner/opt/rna_analysis/voronota_1.28.4132/voronota-cadscore'\n"
   ]
  },
  {
   "cell_type": "code",
   "execution_count": 92,
   "metadata": {},
   "outputs": [
    {
     "name": "stderr",
     "output_type": "stream",
     "text": [
      "egrep: warning: egrep is obsolescent; using grep -E\n",
      "egrep: warning: egrep is obsolescent; using grep -E\n"
     ]
    },
    {
     "name": "stdout",
     "output_type": "stream",
     "text": [
      "\n"
     ]
    },
    {
     "name": "stderr",
     "output_type": "stream",
     "text": [
      "egrep: warning: egrep is obsolescent; using grep -E\n",
      "egrep: warning: egrep is obsolescent; using grep -E\n"
     ]
    },
    {
     "name": "stdout",
     "output_type": "stream",
     "text": [
      "\n"
     ]
    },
    {
     "name": "stderr",
     "output_type": "stream",
     "text": [
      "egrep: warning: egrep is obsolescent; using grep -E\n",
      "egrep: warning: egrep is obsolescent; using grep -E\n"
     ]
    },
    {
     "name": "stdout",
     "output_type": "stream",
     "text": [
      "\n"
     ]
    },
    {
     "name": "stderr",
     "output_type": "stream",
     "text": [
      "egrep: warning: egrep is obsolescent; using grep -E\n",
      "egrep: warning: egrep is obsolescent; using grep -E\n"
     ]
    },
    {
     "name": "stdout",
     "output_type": "stream",
     "text": [
      "\n"
     ]
    },
    {
     "name": "stderr",
     "output_type": "stream",
     "text": [
      "egrep: warning: egrep is obsolescent; using grep -E\n",
      "egrep: warning: egrep is obsolescent; using grep -E\n"
     ]
    },
    {
     "name": "stdout",
     "output_type": "stream",
     "text": [
      "\n"
     ]
    },
    {
     "name": "stderr",
     "output_type": "stream",
     "text": [
      "egrep: warning: egrep is obsolescent; using grep -E\n",
      "egrep: warning: egrep is obsolescent; using grep -E\n"
     ]
    },
    {
     "name": "stdout",
     "output_type": "stream",
     "text": [
      "\n"
     ]
    },
    {
     "name": "stderr",
     "output_type": "stream",
     "text": [
      "egrep: warning: egrep is obsolescent; using grep -E\n",
      "egrep: warning: egrep is obsolescent; using grep -E\n"
     ]
    },
    {
     "name": "stdout",
     "output_type": "stream",
     "text": [
      "\n"
     ]
    },
    {
     "name": "stderr",
     "output_type": "stream",
     "text": [
      "egrep: warning: egrep is obsolescent; using grep -E\n",
      "egrep: warning: egrep is obsolescent; using grep -E\n"
     ]
    },
    {
     "name": "stdout",
     "output_type": "stream",
     "text": [
      "\n"
     ]
    },
    {
     "name": "stderr",
     "output_type": "stream",
     "text": [
      "egrep: warning: egrep is obsolescent; using grep -E\n",
      "egrep: warning: egrep is obsolescent; using grep -E\n"
     ]
    },
    {
     "name": "stdout",
     "output_type": "stream",
     "text": [
      "\n",
      "\n"
     ]
    },
    {
     "name": "stderr",
     "output_type": "stream",
     "text": [
      "egrep: warning: egrep is obsolescent; using grep -E\n",
      "egrep: warning: egrep is obsolescent; using grep -E\n"
     ]
    }
   ],
   "source": [
    "cad_scores = {}\n",
    "for file in clust01_files:\n",
    "    cmd_vor = f'{VORONOTA} -m {ZIKV} -t {file}'\n",
    "    voronota_result = subprocess.check_output(cmd_vor, shell=True, text=True)\n",
    "    voronota_result = voronota_result.replace('\\n','').split(' ')\n",
    "    print()\n",
    "    cad_score = float(voronota_result[4])\n",
    "    cad_scores[file[-19:]] = cad_score"
   ]
  },
  {
   "cell_type": "code",
   "execution_count": 93,
   "metadata": {},
   "outputs": [],
   "source": [
    "metrics['CAD'] = cad_scores"
   ]
  },
  {
   "cell_type": "markdown",
   "metadata": {},
   "source": [
    "### save metrics"
   ]
  },
  {
   "cell_type": "code",
   "execution_count": 94,
   "metadata": {},
   "outputs": [],
   "source": [
    "MBFV_df_metrics = pd.DataFrame(metrics)"
   ]
  },
  {
   "cell_type": "code",
   "execution_count": 95,
   "metadata": {},
   "outputs": [],
   "source": [
    "MBFV_df_metrics.to_csv(os.path.join(base_folder, 'thesis/data/MBFV_designs_metrics.csv'))"
   ]
  },
  {
   "cell_type": "markdown",
   "metadata": {},
   "source": [
    "### load metrics"
   ]
  },
  {
   "cell_type": "code",
   "execution_count": 96,
   "metadata": {},
   "outputs": [
    {
     "data": {
      "text/html": [
       "<div>\n",
       "<style scoped>\n",
       "    .dataframe tbody tr th:only-of-type {\n",
       "        vertical-align: middle;\n",
       "    }\n",
       "\n",
       "    .dataframe tbody tr th {\n",
       "        vertical-align: top;\n",
       "    }\n",
       "\n",
       "    .dataframe thead th {\n",
       "        text-align: right;\n",
       "    }\n",
       "</style>\n",
       "<table border=\"1\" class=\"dataframe\">\n",
       "  <thead>\n",
       "    <tr style=\"text-align: right;\">\n",
       "      <th></th>\n",
       "      <th>Unnamed: 0</th>\n",
       "      <th>RMSD</th>\n",
       "      <th>GDT</th>\n",
       "      <th>TM</th>\n",
       "      <th>CAD</th>\n",
       "    </tr>\n",
       "  </thead>\n",
       "  <tbody>\n",
       "    <tr>\n",
       "      <th>0</th>\n",
       "      <td>01_clust01_qrna.pdb</td>\n",
       "      <td>12.671968</td>\n",
       "      <td>0.3583</td>\n",
       "      <td>0.2715</td>\n",
       "      <td>0.010076</td>\n",
       "    </tr>\n",
       "    <tr>\n",
       "      <th>1</th>\n",
       "      <td>02_clust01_qrna.pdb</td>\n",
       "      <td>15.296345</td>\n",
       "      <td>0.3145</td>\n",
       "      <td>0.2200</td>\n",
       "      <td>0.048227</td>\n",
       "    </tr>\n",
       "    <tr>\n",
       "      <th>2</th>\n",
       "      <td>03_clust01_qrna.pdb</td>\n",
       "      <td>18.372659</td>\n",
       "      <td>0.2500</td>\n",
       "      <td>0.1881</td>\n",
       "      <td>0.045629</td>\n",
       "    </tr>\n",
       "    <tr>\n",
       "      <th>3</th>\n",
       "      <td>04_clust01_qrna.pdb</td>\n",
       "      <td>10.951728</td>\n",
       "      <td>0.3816</td>\n",
       "      <td>0.1985</td>\n",
       "      <td>0.132439</td>\n",
       "    </tr>\n",
       "    <tr>\n",
       "      <th>4</th>\n",
       "      <td>05_clust01_qrna.pdb</td>\n",
       "      <td>13.284204</td>\n",
       "      <td>0.3708</td>\n",
       "      <td>0.2458</td>\n",
       "      <td>0.054942</td>\n",
       "    </tr>\n",
       "    <tr>\n",
       "      <th>5</th>\n",
       "      <td>06_clust01_qrna.pdb</td>\n",
       "      <td>17.560497</td>\n",
       "      <td>0.2823</td>\n",
       "      <td>0.2197</td>\n",
       "      <td>0.055189</td>\n",
       "    </tr>\n",
       "    <tr>\n",
       "      <th>6</th>\n",
       "      <td>07_clust01_qrna.pdb</td>\n",
       "      <td>14.199006</td>\n",
       "      <td>0.3017</td>\n",
       "      <td>0.1875</td>\n",
       "      <td>0.078000</td>\n",
       "    </tr>\n",
       "    <tr>\n",
       "      <th>7</th>\n",
       "      <td>08_clust01_qrna.pdb</td>\n",
       "      <td>17.930242</td>\n",
       "      <td>0.2388</td>\n",
       "      <td>0.1889</td>\n",
       "      <td>0.031874</td>\n",
       "    </tr>\n",
       "    <tr>\n",
       "      <th>8</th>\n",
       "      <td>09_clust01_qrna.pdb</td>\n",
       "      <td>15.046856</td>\n",
       "      <td>0.2974</td>\n",
       "      <td>0.2122</td>\n",
       "      <td>0.019885</td>\n",
       "    </tr>\n",
       "    <tr>\n",
       "      <th>9</th>\n",
       "      <td>10_clust01_qrna.pdb</td>\n",
       "      <td>18.018125</td>\n",
       "      <td>0.2537</td>\n",
       "      <td>0.2039</td>\n",
       "      <td>0.045011</td>\n",
       "    </tr>\n",
       "  </tbody>\n",
       "</table>\n",
       "</div>"
      ],
      "text/plain": [
       "            Unnamed: 0       RMSD     GDT      TM       CAD\n",
       "0  01_clust01_qrna.pdb  12.671968  0.3583  0.2715  0.010076\n",
       "1  02_clust01_qrna.pdb  15.296345  0.3145  0.2200  0.048227\n",
       "2  03_clust01_qrna.pdb  18.372659  0.2500  0.1881  0.045629\n",
       "3  04_clust01_qrna.pdb  10.951728  0.3816  0.1985  0.132439\n",
       "4  05_clust01_qrna.pdb  13.284204  0.3708  0.2458  0.054942\n",
       "5  06_clust01_qrna.pdb  17.560497  0.2823  0.2197  0.055189\n",
       "6  07_clust01_qrna.pdb  14.199006  0.3017  0.1875  0.078000\n",
       "7  08_clust01_qrna.pdb  17.930242  0.2388  0.1889  0.031874\n",
       "8  09_clust01_qrna.pdb  15.046856  0.2974  0.2122  0.019885\n",
       "9  10_clust01_qrna.pdb  18.018125  0.2537  0.2039  0.045011"
      ]
     },
     "execution_count": 96,
     "metadata": {},
     "output_type": "execute_result"
    }
   ],
   "source": [
    "MBFV_df_metrics = pd.read_csv(os.path.join(base_folder, 'thesis/data/MBFV_designs_metrics.csv'))\n",
    "MBFV_df_metrics"
   ]
  },
  {
   "cell_type": "markdown",
   "metadata": {},
   "source": [
    "## both MBFV and TBFV"
   ]
  },
  {
   "cell_type": "code",
   "execution_count": 97,
   "metadata": {},
   "outputs": [
    {
     "data": {
      "text/html": [
       "<div>\n",
       "<style scoped>\n",
       "    .dataframe tbody tr th:only-of-type {\n",
       "        vertical-align: middle;\n",
       "    }\n",
       "\n",
       "    .dataframe tbody tr th {\n",
       "        vertical-align: top;\n",
       "    }\n",
       "\n",
       "    .dataframe thead th {\n",
       "        text-align: right;\n",
       "    }\n",
       "</style>\n",
       "<table border=\"1\" class=\"dataframe\">\n",
       "  <thead>\n",
       "    <tr style=\"text-align: right;\">\n",
       "      <th></th>\n",
       "      <th>Unnamed: 0</th>\n",
       "      <th>RMSD</th>\n",
       "      <th>GDT</th>\n",
       "      <th>TM</th>\n",
       "      <th>CAD</th>\n",
       "    </tr>\n",
       "  </thead>\n",
       "  <tbody>\n",
       "    <tr>\n",
       "      <th>0</th>\n",
       "      <td>01_clust01_qrna.pdb</td>\n",
       "      <td>12.671968</td>\n",
       "      <td>0.3583</td>\n",
       "      <td>0.2715</td>\n",
       "      <td>0.010076</td>\n",
       "    </tr>\n",
       "    <tr>\n",
       "      <th>1</th>\n",
       "      <td>02_clust01_qrna.pdb</td>\n",
       "      <td>15.296345</td>\n",
       "      <td>0.3145</td>\n",
       "      <td>0.2200</td>\n",
       "      <td>0.048227</td>\n",
       "    </tr>\n",
       "    <tr>\n",
       "      <th>2</th>\n",
       "      <td>03_clust01_qrna.pdb</td>\n",
       "      <td>18.372659</td>\n",
       "      <td>0.2500</td>\n",
       "      <td>0.1881</td>\n",
       "      <td>0.045629</td>\n",
       "    </tr>\n",
       "    <tr>\n",
       "      <th>3</th>\n",
       "      <td>04_clust01_qrna.pdb</td>\n",
       "      <td>10.951728</td>\n",
       "      <td>0.3816</td>\n",
       "      <td>0.1985</td>\n",
       "      <td>0.132439</td>\n",
       "    </tr>\n",
       "    <tr>\n",
       "      <th>4</th>\n",
       "      <td>05_clust01_qrna.pdb</td>\n",
       "      <td>13.284204</td>\n",
       "      <td>0.3708</td>\n",
       "      <td>0.2458</td>\n",
       "      <td>0.054942</td>\n",
       "    </tr>\n",
       "    <tr>\n",
       "      <th>5</th>\n",
       "      <td>06_clust01_qrna.pdb</td>\n",
       "      <td>17.560497</td>\n",
       "      <td>0.2823</td>\n",
       "      <td>0.2197</td>\n",
       "      <td>0.055189</td>\n",
       "    </tr>\n",
       "    <tr>\n",
       "      <th>6</th>\n",
       "      <td>07_clust01_qrna.pdb</td>\n",
       "      <td>14.199006</td>\n",
       "      <td>0.3017</td>\n",
       "      <td>0.1875</td>\n",
       "      <td>0.078000</td>\n",
       "    </tr>\n",
       "    <tr>\n",
       "      <th>7</th>\n",
       "      <td>08_clust01_qrna.pdb</td>\n",
       "      <td>17.930242</td>\n",
       "      <td>0.2388</td>\n",
       "      <td>0.1889</td>\n",
       "      <td>0.031874</td>\n",
       "    </tr>\n",
       "    <tr>\n",
       "      <th>8</th>\n",
       "      <td>09_clust01_qrna.pdb</td>\n",
       "      <td>15.046856</td>\n",
       "      <td>0.2974</td>\n",
       "      <td>0.2122</td>\n",
       "      <td>0.019885</td>\n",
       "    </tr>\n",
       "    <tr>\n",
       "      <th>9</th>\n",
       "      <td>10_clust01_qrna.pdb</td>\n",
       "      <td>18.018125</td>\n",
       "      <td>0.2537</td>\n",
       "      <td>0.2039</td>\n",
       "      <td>0.045011</td>\n",
       "    </tr>\n",
       "  </tbody>\n",
       "</table>\n",
       "</div>"
      ],
      "text/plain": [
       "            Unnamed: 0       RMSD     GDT      TM       CAD\n",
       "0  01_clust01_qrna.pdb  12.671968  0.3583  0.2715  0.010076\n",
       "1  02_clust01_qrna.pdb  15.296345  0.3145  0.2200  0.048227\n",
       "2  03_clust01_qrna.pdb  18.372659  0.2500  0.1881  0.045629\n",
       "3  04_clust01_qrna.pdb  10.951728  0.3816  0.1985  0.132439\n",
       "4  05_clust01_qrna.pdb  13.284204  0.3708  0.2458  0.054942\n",
       "5  06_clust01_qrna.pdb  17.560497  0.2823  0.2197  0.055189\n",
       "6  07_clust01_qrna.pdb  14.199006  0.3017  0.1875  0.078000\n",
       "7  08_clust01_qrna.pdb  17.930242  0.2388  0.1889  0.031874\n",
       "8  09_clust01_qrna.pdb  15.046856  0.2974  0.2122  0.019885\n",
       "9  10_clust01_qrna.pdb  18.018125  0.2537  0.2039  0.045011"
      ]
     },
     "execution_count": 97,
     "metadata": {},
     "output_type": "execute_result"
    }
   ],
   "source": [
    "MBFV_df_metrics"
   ]
  },
  {
   "cell_type": "code",
   "execution_count": 98,
   "metadata": {},
   "outputs": [
    {
     "data": {
      "text/html": [
       "<div>\n",
       "<style scoped>\n",
       "    .dataframe tbody tr th:only-of-type {\n",
       "        vertical-align: middle;\n",
       "    }\n",
       "\n",
       "    .dataframe tbody tr th {\n",
       "        vertical-align: top;\n",
       "    }\n",
       "\n",
       "    .dataframe thead th {\n",
       "        text-align: right;\n",
       "    }\n",
       "</style>\n",
       "<table border=\"1\" class=\"dataframe\">\n",
       "  <thead>\n",
       "    <tr style=\"text-align: right;\">\n",
       "      <th></th>\n",
       "      <th>RMSD</th>\n",
       "      <th>GDT</th>\n",
       "      <th>TM</th>\n",
       "      <th>CAD</th>\n",
       "    </tr>\n",
       "  </thead>\n",
       "  <tbody>\n",
       "    <tr>\n",
       "      <th>01_clust01_qrna.pdb</th>\n",
       "      <td>20.584355</td>\n",
       "      <td>0.1925</td>\n",
       "      <td>0.1838</td>\n",
       "      <td>0.077214</td>\n",
       "    </tr>\n",
       "    <tr>\n",
       "      <th>02_clust01_qrna.pdb</th>\n",
       "      <td>18.242259</td>\n",
       "      <td>0.1264</td>\n",
       "      <td>0.1274</td>\n",
       "      <td>0.058224</td>\n",
       "    </tr>\n",
       "    <tr>\n",
       "      <th>03_clust01_qrna.pdb</th>\n",
       "      <td>18.362312</td>\n",
       "      <td>0.1420</td>\n",
       "      <td>0.1320</td>\n",
       "      <td>0.036508</td>\n",
       "    </tr>\n",
       "    <tr>\n",
       "      <th>04_clust01_qrna.pdb</th>\n",
       "      <td>21.176894</td>\n",
       "      <td>0.1376</td>\n",
       "      <td>0.1362</td>\n",
       "      <td>0.078594</td>\n",
       "    </tr>\n",
       "    <tr>\n",
       "      <th>05_clust01_qrna.pdb</th>\n",
       "      <td>17.423775</td>\n",
       "      <td>0.1528</td>\n",
       "      <td>0.1359</td>\n",
       "      <td>0.063677</td>\n",
       "    </tr>\n",
       "    <tr>\n",
       "      <th>06_clust01_qrna.pdb</th>\n",
       "      <td>20.578424</td>\n",
       "      <td>0.1209</td>\n",
       "      <td>0.1098</td>\n",
       "      <td>0.053367</td>\n",
       "    </tr>\n",
       "    <tr>\n",
       "      <th>07_clust01_qrna.pdb</th>\n",
       "      <td>16.820487</td>\n",
       "      <td>0.1687</td>\n",
       "      <td>0.1537</td>\n",
       "      <td>0.035917</td>\n",
       "    </tr>\n",
       "    <tr>\n",
       "      <th>08_clust01_qrna.pdb</th>\n",
       "      <td>16.135922</td>\n",
       "      <td>0.1638</td>\n",
       "      <td>0.1519</td>\n",
       "      <td>0.101550</td>\n",
       "    </tr>\n",
       "    <tr>\n",
       "      <th>09_clust01_qrna.pdb</th>\n",
       "      <td>9.751327</td>\n",
       "      <td>0.2665</td>\n",
       "      <td>0.2329</td>\n",
       "      <td>0.101205</td>\n",
       "    </tr>\n",
       "    <tr>\n",
       "      <th>10_clust01_qrna.pdb</th>\n",
       "      <td>17.196632</td>\n",
       "      <td>0.1416</td>\n",
       "      <td>0.1392</td>\n",
       "      <td>0.033079</td>\n",
       "    </tr>\n",
       "  </tbody>\n",
       "</table>\n",
       "</div>"
      ],
      "text/plain": [
       "                          RMSD     GDT      TM       CAD\n",
       "01_clust01_qrna.pdb  20.584355  0.1925  0.1838  0.077214\n",
       "02_clust01_qrna.pdb  18.242259  0.1264  0.1274  0.058224\n",
       "03_clust01_qrna.pdb  18.362312  0.1420  0.1320  0.036508\n",
       "04_clust01_qrna.pdb  21.176894  0.1376  0.1362  0.078594\n",
       "05_clust01_qrna.pdb  17.423775  0.1528  0.1359  0.063677\n",
       "06_clust01_qrna.pdb  20.578424  0.1209  0.1098  0.053367\n",
       "07_clust01_qrna.pdb  16.820487  0.1687  0.1537  0.035917\n",
       "08_clust01_qrna.pdb  16.135922  0.1638  0.1519  0.101550\n",
       "09_clust01_qrna.pdb   9.751327  0.2665  0.2329  0.101205\n",
       "10_clust01_qrna.pdb  17.196632  0.1416  0.1392  0.033079"
      ]
     },
     "execution_count": 98,
     "metadata": {},
     "output_type": "execute_result"
    }
   ],
   "source": [
    "TBFV_df_metrics"
   ]
  },
  {
   "cell_type": "code",
   "execution_count": 103,
   "metadata": {},
   "outputs": [
    {
     "data": {
      "text/html": [
       "<style type=\"text/css\">\n",
       "#T_decb2_row0_col0, #T_decb2_row5_col0 {\n",
       "  background-color: #f7f0f7;\n",
       "  color: #000000;\n",
       "}\n",
       "#T_decb2_row0_col1 {\n",
       "  background-color: #78abd0;\n",
       "  color: #f1f1f1;\n",
       "}\n",
       "#T_decb2_row0_col2 {\n",
       "  background-color: #4295c3;\n",
       "  color: #f1f1f1;\n",
       "}\n",
       "#T_decb2_row0_col3 {\n",
       "  background-color: #2d8abd;\n",
       "  color: #f1f1f1;\n",
       "}\n",
       "#T_decb2_row1_col0 {\n",
       "  background-color: #ced0e6;\n",
       "  color: #000000;\n",
       "}\n",
       "#T_decb2_row1_col1 {\n",
       "  background-color: #faf2f8;\n",
       "  color: #000000;\n",
       "}\n",
       "#T_decb2_row1_col2, #T_decb2_row9_col1 {\n",
       "  background-color: #e8e4f0;\n",
       "  color: #000000;\n",
       "}\n",
       "#T_decb2_row1_col3 {\n",
       "  background-color: #a8bedc;\n",
       "  color: #000000;\n",
       "}\n",
       "#T_decb2_row2_col0 {\n",
       "  background-color: #d1d2e6;\n",
       "  color: #000000;\n",
       "}\n",
       "#T_decb2_row2_col1 {\n",
       "  background-color: #e7e3f0;\n",
       "  color: #000000;\n",
       "}\n",
       "#T_decb2_row2_col2 {\n",
       "  background-color: #e0dded;\n",
       "  color: #000000;\n",
       "}\n",
       "#T_decb2_row2_col3 {\n",
       "  background-color: #f8f1f8;\n",
       "  color: #000000;\n",
       "}\n",
       "#T_decb2_row3_col0, #T_decb2_row5_col1, #T_decb2_row5_col2, #T_decb2_row9_col3 {\n",
       "  background-color: #fff7fb;\n",
       "  color: #000000;\n",
       "}\n",
       "#T_decb2_row3_col1 {\n",
       "  background-color: #eee8f3;\n",
       "  color: #000000;\n",
       "}\n",
       "#T_decb2_row3_col2, #T_decb2_row4_col2 {\n",
       "  background-color: #d9d8ea;\n",
       "  color: #000000;\n",
       "}\n",
       "#T_decb2_row3_col3 {\n",
       "  background-color: #2685bb;\n",
       "  color: #f1f1f1;\n",
       "}\n",
       "#T_decb2_row4_col0, #T_decb2_row6_col1 {\n",
       "  background-color: #b5c4df;\n",
       "  color: #000000;\n",
       "}\n",
       "#T_decb2_row4_col1 {\n",
       "  background-color: #d7d6e9;\n",
       "  color: #000000;\n",
       "}\n",
       "#T_decb2_row4_col3 {\n",
       "  background-color: #89b1d4;\n",
       "  color: #000000;\n",
       "}\n",
       "#T_decb2_row5_col3, #T_decb2_row7_col1 {\n",
       "  background-color: #c1cae2;\n",
       "  color: #000000;\n",
       "}\n",
       "#T_decb2_row6_col0 {\n",
       "  background-color: #a4bcda;\n",
       "  color: #000000;\n",
       "}\n",
       "#T_decb2_row6_col2 {\n",
       "  background-color: #acc0dd;\n",
       "  color: #000000;\n",
       "}\n",
       "#T_decb2_row6_col3 {\n",
       "  background-color: #f9f2f8;\n",
       "  color: #000000;\n",
       "}\n",
       "#T_decb2_row7_col0 {\n",
       "  background-color: #8cb3d5;\n",
       "  color: #000000;\n",
       "}\n",
       "#T_decb2_row7_col2 {\n",
       "  background-color: #b1c2de;\n",
       "  color: #000000;\n",
       "}\n",
       "#T_decb2_row7_col3, #T_decb2_row8_col0, #T_decb2_row8_col1, #T_decb2_row8_col2 {\n",
       "  background-color: #023858;\n",
       "  color: #f1f1f1;\n",
       "}\n",
       "#T_decb2_row8_col3 {\n",
       "  background-color: #02395a;\n",
       "  color: #f1f1f1;\n",
       "}\n",
       "#T_decb2_row9_col0 {\n",
       "  background-color: #afc1dd;\n",
       "  color: #000000;\n",
       "}\n",
       "#T_decb2_row9_col2 {\n",
       "  background-color: #d2d3e7;\n",
       "  color: #000000;\n",
       "}\n",
       "</style>\n",
       "<table id=\"T_decb2\">\n",
       "  <thead>\n",
       "    <tr>\n",
       "      <th class=\"blank level0\" >&nbsp;</th>\n",
       "      <th id=\"T_decb2_level0_col0\" class=\"col_heading level0 col0\" >RMSD</th>\n",
       "      <th id=\"T_decb2_level0_col1\" class=\"col_heading level0 col1\" >GDT</th>\n",
       "      <th id=\"T_decb2_level0_col2\" class=\"col_heading level0 col2\" >TM</th>\n",
       "      <th id=\"T_decb2_level0_col3\" class=\"col_heading level0 col3\" >CAD</th>\n",
       "    </tr>\n",
       "  </thead>\n",
       "  <tbody>\n",
       "    <tr>\n",
       "      <th id=\"T_decb2_level0_row0\" class=\"row_heading level0 row0\" >01_clust01_qrna.pdb</th>\n",
       "      <td id=\"T_decb2_row0_col0\" class=\"data row0 col0\" >-20.584355</td>\n",
       "      <td id=\"T_decb2_row0_col1\" class=\"data row0 col1\" >0.192500</td>\n",
       "      <td id=\"T_decb2_row0_col2\" class=\"data row0 col2\" >0.183800</td>\n",
       "      <td id=\"T_decb2_row0_col3\" class=\"data row0 col3\" >0.077214</td>\n",
       "    </tr>\n",
       "    <tr>\n",
       "      <th id=\"T_decb2_level0_row1\" class=\"row_heading level0 row1\" >02_clust01_qrna.pdb</th>\n",
       "      <td id=\"T_decb2_row1_col0\" class=\"data row1 col0\" >-18.242259</td>\n",
       "      <td id=\"T_decb2_row1_col1\" class=\"data row1 col1\" >0.126400</td>\n",
       "      <td id=\"T_decb2_row1_col2\" class=\"data row1 col2\" >0.127400</td>\n",
       "      <td id=\"T_decb2_row1_col3\" class=\"data row1 col3\" >0.058224</td>\n",
       "    </tr>\n",
       "    <tr>\n",
       "      <th id=\"T_decb2_level0_row2\" class=\"row_heading level0 row2\" >03_clust01_qrna.pdb</th>\n",
       "      <td id=\"T_decb2_row2_col0\" class=\"data row2 col0\" >-18.362312</td>\n",
       "      <td id=\"T_decb2_row2_col1\" class=\"data row2 col1\" >0.142000</td>\n",
       "      <td id=\"T_decb2_row2_col2\" class=\"data row2 col2\" >0.132000</td>\n",
       "      <td id=\"T_decb2_row2_col3\" class=\"data row2 col3\" >0.036508</td>\n",
       "    </tr>\n",
       "    <tr>\n",
       "      <th id=\"T_decb2_level0_row3\" class=\"row_heading level0 row3\" >04_clust01_qrna.pdb</th>\n",
       "      <td id=\"T_decb2_row3_col0\" class=\"data row3 col0\" >-21.176894</td>\n",
       "      <td id=\"T_decb2_row3_col1\" class=\"data row3 col1\" >0.137600</td>\n",
       "      <td id=\"T_decb2_row3_col2\" class=\"data row3 col2\" >0.136200</td>\n",
       "      <td id=\"T_decb2_row3_col3\" class=\"data row3 col3\" >0.078594</td>\n",
       "    </tr>\n",
       "    <tr>\n",
       "      <th id=\"T_decb2_level0_row4\" class=\"row_heading level0 row4\" >05_clust01_qrna.pdb</th>\n",
       "      <td id=\"T_decb2_row4_col0\" class=\"data row4 col0\" >-17.423775</td>\n",
       "      <td id=\"T_decb2_row4_col1\" class=\"data row4 col1\" >0.152800</td>\n",
       "      <td id=\"T_decb2_row4_col2\" class=\"data row4 col2\" >0.135900</td>\n",
       "      <td id=\"T_decb2_row4_col3\" class=\"data row4 col3\" >0.063677</td>\n",
       "    </tr>\n",
       "    <tr>\n",
       "      <th id=\"T_decb2_level0_row5\" class=\"row_heading level0 row5\" >06_clust01_qrna.pdb</th>\n",
       "      <td id=\"T_decb2_row5_col0\" class=\"data row5 col0\" >-20.578424</td>\n",
       "      <td id=\"T_decb2_row5_col1\" class=\"data row5 col1\" >0.120900</td>\n",
       "      <td id=\"T_decb2_row5_col2\" class=\"data row5 col2\" >0.109800</td>\n",
       "      <td id=\"T_decb2_row5_col3\" class=\"data row5 col3\" >0.053367</td>\n",
       "    </tr>\n",
       "    <tr>\n",
       "      <th id=\"T_decb2_level0_row6\" class=\"row_heading level0 row6\" >07_clust01_qrna.pdb</th>\n",
       "      <td id=\"T_decb2_row6_col0\" class=\"data row6 col0\" >-16.820487</td>\n",
       "      <td id=\"T_decb2_row6_col1\" class=\"data row6 col1\" >0.168700</td>\n",
       "      <td id=\"T_decb2_row6_col2\" class=\"data row6 col2\" >0.153700</td>\n",
       "      <td id=\"T_decb2_row6_col3\" class=\"data row6 col3\" >0.035917</td>\n",
       "    </tr>\n",
       "    <tr>\n",
       "      <th id=\"T_decb2_level0_row7\" class=\"row_heading level0 row7\" >08_clust01_qrna.pdb</th>\n",
       "      <td id=\"T_decb2_row7_col0\" class=\"data row7 col0\" >-16.135922</td>\n",
       "      <td id=\"T_decb2_row7_col1\" class=\"data row7 col1\" >0.163800</td>\n",
       "      <td id=\"T_decb2_row7_col2\" class=\"data row7 col2\" >0.151900</td>\n",
       "      <td id=\"T_decb2_row7_col3\" class=\"data row7 col3\" >0.101550</td>\n",
       "    </tr>\n",
       "    <tr>\n",
       "      <th id=\"T_decb2_level0_row8\" class=\"row_heading level0 row8\" >09_clust01_qrna.pdb</th>\n",
       "      <td id=\"T_decb2_row8_col0\" class=\"data row8 col0\" >-9.751327</td>\n",
       "      <td id=\"T_decb2_row8_col1\" class=\"data row8 col1\" >0.266500</td>\n",
       "      <td id=\"T_decb2_row8_col2\" class=\"data row8 col2\" >0.232900</td>\n",
       "      <td id=\"T_decb2_row8_col3\" class=\"data row8 col3\" >0.101205</td>\n",
       "    </tr>\n",
       "    <tr>\n",
       "      <th id=\"T_decb2_level0_row9\" class=\"row_heading level0 row9\" >10_clust01_qrna.pdb</th>\n",
       "      <td id=\"T_decb2_row9_col0\" class=\"data row9 col0\" >-17.196632</td>\n",
       "      <td id=\"T_decb2_row9_col1\" class=\"data row9 col1\" >0.141600</td>\n",
       "      <td id=\"T_decb2_row9_col2\" class=\"data row9 col2\" >0.139200</td>\n",
       "      <td id=\"T_decb2_row9_col3\" class=\"data row9 col3\" >0.033079</td>\n",
       "    </tr>\n",
       "  </tbody>\n",
       "</table>\n"
      ],
      "text/plain": [
       "<pandas.io.formats.style.Styler at 0x7fe122a7a690>"
      ]
     },
     "execution_count": 103,
     "metadata": {},
     "output_type": "execute_result"
    }
   ],
   "source": [
    "temp_df = TBFV_df_metrics\n",
    "temp_df['RMSD'] = -temp_df['RMSD'] \n",
    "temp_df.style.background_gradient()\n",
    "\n"
   ]
  },
  {
   "cell_type": "code",
   "execution_count": 104,
   "metadata": {},
   "outputs": [
    {
     "data": {
      "text/html": [
       "<style type=\"text/css\">\n",
       "#T_84688_row0_col1 {\n",
       "  background-color: #056dab;\n",
       "  color: #f1f1f1;\n",
       "}\n",
       "#T_84688_row0_col2 {\n",
       "  background-color: #046097;\n",
       "  color: #f1f1f1;\n",
       "}\n",
       "#T_84688_row0_col3, #T_84688_row3_col1, #T_84688_row3_col2, #T_84688_row3_col4 {\n",
       "  background-color: #023858;\n",
       "  color: #f1f1f1;\n",
       "}\n",
       "#T_84688_row0_col4, #T_84688_row2_col1, #T_84688_row6_col3, #T_84688_row7_col2 {\n",
       "  background-color: #fff7fb;\n",
       "  color: #000000;\n",
       "}\n",
       "#T_84688_row1_col1 {\n",
       "  background-color: #96b6d7;\n",
       "  color: #000000;\n",
       "}\n",
       "#T_84688_row1_col2 {\n",
       "  background-color: #65a3cb;\n",
       "  color: #f1f1f1;\n",
       "}\n",
       "#T_84688_row1_col3 {\n",
       "  background-color: #a1bbda;\n",
       "  color: #000000;\n",
       "}\n",
       "#T_84688_row1_col4 {\n",
       "  background-color: #bcc7e1;\n",
       "  color: #000000;\n",
       "}\n",
       "#T_84688_row2_col2, #T_84688_row8_col4 {\n",
       "  background-color: #f3edf5;\n",
       "  color: #000000;\n",
       "}\n",
       "#T_84688_row2_col3 {\n",
       "  background-color: #fef6fb;\n",
       "  color: #000000;\n",
       "}\n",
       "#T_84688_row2_col4 {\n",
       "  background-color: #c2cbe2;\n",
       "  color: #000000;\n",
       "}\n",
       "#T_84688_row3_col3 {\n",
       "  background-color: #ebe6f2;\n",
       "  color: #000000;\n",
       "}\n",
       "#T_84688_row4_col1 {\n",
       "  background-color: #1e80b8;\n",
       "  color: #f1f1f1;\n",
       "}\n",
       "#T_84688_row4_col2 {\n",
       "  background-color: #034c78;\n",
       "  color: #f1f1f1;\n",
       "}\n",
       "#T_84688_row4_col3 {\n",
       "  background-color: #1b7eb7;\n",
       "  color: #f1f1f1;\n",
       "}\n",
       "#T_84688_row4_col4 {\n",
       "  background-color: #a9bfdc;\n",
       "  color: #000000;\n",
       "}\n",
       "#T_84688_row5_col1 {\n",
       "  background-color: #eee9f3;\n",
       "  color: #000000;\n",
       "}\n",
       "#T_84688_row5_col2 {\n",
       "  background-color: #bfc9e1;\n",
       "  color: #000000;\n",
       "}\n",
       "#T_84688_row5_col3 {\n",
       "  background-color: #a2bcda;\n",
       "  color: #000000;\n",
       "}\n",
       "#T_84688_row5_col4 {\n",
       "  background-color: #a8bedc;\n",
       "  color: #000000;\n",
       "}\n",
       "#T_84688_row6_col1 {\n",
       "  background-color: #569dc8;\n",
       "  color: #f1f1f1;\n",
       "}\n",
       "#T_84688_row6_col2 {\n",
       "  background-color: #8cb3d5;\n",
       "  color: #000000;\n",
       "}\n",
       "#T_84688_row6_col4 {\n",
       "  background-color: #589ec8;\n",
       "  color: #f1f1f1;\n",
       "}\n",
       "#T_84688_row7_col1 {\n",
       "  background-color: #f6eff7;\n",
       "  color: #000000;\n",
       "}\n",
       "#T_84688_row7_col3 {\n",
       "  background-color: #fdf5fa;\n",
       "  color: #000000;\n",
       "}\n",
       "#T_84688_row7_col4 {\n",
       "  background-color: #e0deed;\n",
       "  color: #000000;\n",
       "}\n",
       "#T_84688_row8_col1 {\n",
       "  background-color: #89b1d4;\n",
       "  color: #000000;\n",
       "}\n",
       "#T_84688_row8_col2 {\n",
       "  background-color: #97b7d7;\n",
       "  color: #000000;\n",
       "}\n",
       "#T_84688_row8_col3 {\n",
       "  background-color: #c1cae2;\n",
       "  color: #000000;\n",
       "}\n",
       "#T_84688_row9_col1 {\n",
       "  background-color: #f8f1f8;\n",
       "  color: #000000;\n",
       "}\n",
       "#T_84688_row9_col2 {\n",
       "  background-color: #f0eaf4;\n",
       "  color: #000000;\n",
       "}\n",
       "#T_84688_row9_col3 {\n",
       "  background-color: #dddbec;\n",
       "  color: #000000;\n",
       "}\n",
       "#T_84688_row9_col4 {\n",
       "  background-color: #c4cbe3;\n",
       "  color: #000000;\n",
       "}\n",
       "</style>\n",
       "<table id=\"T_84688\">\n",
       "  <thead>\n",
       "    <tr>\n",
       "      <th class=\"blank level0\" >&nbsp;</th>\n",
       "      <th id=\"T_84688_level0_col0\" class=\"col_heading level0 col0\" >Unnamed: 0</th>\n",
       "      <th id=\"T_84688_level0_col1\" class=\"col_heading level0 col1\" >RMSD</th>\n",
       "      <th id=\"T_84688_level0_col2\" class=\"col_heading level0 col2\" >GDT</th>\n",
       "      <th id=\"T_84688_level0_col3\" class=\"col_heading level0 col3\" >TM</th>\n",
       "      <th id=\"T_84688_level0_col4\" class=\"col_heading level0 col4\" >CAD</th>\n",
       "    </tr>\n",
       "  </thead>\n",
       "  <tbody>\n",
       "    <tr>\n",
       "      <th id=\"T_84688_level0_row0\" class=\"row_heading level0 row0\" >0</th>\n",
       "      <td id=\"T_84688_row0_col0\" class=\"data row0 col0\" >01_clust01_qrna.pdb</td>\n",
       "      <td id=\"T_84688_row0_col1\" class=\"data row0 col1\" >-12.671968</td>\n",
       "      <td id=\"T_84688_row0_col2\" class=\"data row0 col2\" >0.358300</td>\n",
       "      <td id=\"T_84688_row0_col3\" class=\"data row0 col3\" >0.271500</td>\n",
       "      <td id=\"T_84688_row0_col4\" class=\"data row0 col4\" >0.010076</td>\n",
       "    </tr>\n",
       "    <tr>\n",
       "      <th id=\"T_84688_level0_row1\" class=\"row_heading level0 row1\" >1</th>\n",
       "      <td id=\"T_84688_row1_col0\" class=\"data row1 col0\" >02_clust01_qrna.pdb</td>\n",
       "      <td id=\"T_84688_row1_col1\" class=\"data row1 col1\" >-15.296345</td>\n",
       "      <td id=\"T_84688_row1_col2\" class=\"data row1 col2\" >0.314500</td>\n",
       "      <td id=\"T_84688_row1_col3\" class=\"data row1 col3\" >0.220000</td>\n",
       "      <td id=\"T_84688_row1_col4\" class=\"data row1 col4\" >0.048227</td>\n",
       "    </tr>\n",
       "    <tr>\n",
       "      <th id=\"T_84688_level0_row2\" class=\"row_heading level0 row2\" >2</th>\n",
       "      <td id=\"T_84688_row2_col0\" class=\"data row2 col0\" >03_clust01_qrna.pdb</td>\n",
       "      <td id=\"T_84688_row2_col1\" class=\"data row2 col1\" >-18.372659</td>\n",
       "      <td id=\"T_84688_row2_col2\" class=\"data row2 col2\" >0.250000</td>\n",
       "      <td id=\"T_84688_row2_col3\" class=\"data row2 col3\" >0.188100</td>\n",
       "      <td id=\"T_84688_row2_col4\" class=\"data row2 col4\" >0.045629</td>\n",
       "    </tr>\n",
       "    <tr>\n",
       "      <th id=\"T_84688_level0_row3\" class=\"row_heading level0 row3\" >3</th>\n",
       "      <td id=\"T_84688_row3_col0\" class=\"data row3 col0\" >04_clust01_qrna.pdb</td>\n",
       "      <td id=\"T_84688_row3_col1\" class=\"data row3 col1\" >-10.951728</td>\n",
       "      <td id=\"T_84688_row3_col2\" class=\"data row3 col2\" >0.381600</td>\n",
       "      <td id=\"T_84688_row3_col3\" class=\"data row3 col3\" >0.198500</td>\n",
       "      <td id=\"T_84688_row3_col4\" class=\"data row3 col4\" >0.132439</td>\n",
       "    </tr>\n",
       "    <tr>\n",
       "      <th id=\"T_84688_level0_row4\" class=\"row_heading level0 row4\" >4</th>\n",
       "      <td id=\"T_84688_row4_col0\" class=\"data row4 col0\" >05_clust01_qrna.pdb</td>\n",
       "      <td id=\"T_84688_row4_col1\" class=\"data row4 col1\" >-13.284204</td>\n",
       "      <td id=\"T_84688_row4_col2\" class=\"data row4 col2\" >0.370800</td>\n",
       "      <td id=\"T_84688_row4_col3\" class=\"data row4 col3\" >0.245800</td>\n",
       "      <td id=\"T_84688_row4_col4\" class=\"data row4 col4\" >0.054942</td>\n",
       "    </tr>\n",
       "    <tr>\n",
       "      <th id=\"T_84688_level0_row5\" class=\"row_heading level0 row5\" >5</th>\n",
       "      <td id=\"T_84688_row5_col0\" class=\"data row5 col0\" >06_clust01_qrna.pdb</td>\n",
       "      <td id=\"T_84688_row5_col1\" class=\"data row5 col1\" >-17.560497</td>\n",
       "      <td id=\"T_84688_row5_col2\" class=\"data row5 col2\" >0.282300</td>\n",
       "      <td id=\"T_84688_row5_col3\" class=\"data row5 col3\" >0.219700</td>\n",
       "      <td id=\"T_84688_row5_col4\" class=\"data row5 col4\" >0.055189</td>\n",
       "    </tr>\n",
       "    <tr>\n",
       "      <th id=\"T_84688_level0_row6\" class=\"row_heading level0 row6\" >6</th>\n",
       "      <td id=\"T_84688_row6_col0\" class=\"data row6 col0\" >07_clust01_qrna.pdb</td>\n",
       "      <td id=\"T_84688_row6_col1\" class=\"data row6 col1\" >-14.199006</td>\n",
       "      <td id=\"T_84688_row6_col2\" class=\"data row6 col2\" >0.301700</td>\n",
       "      <td id=\"T_84688_row6_col3\" class=\"data row6 col3\" >0.187500</td>\n",
       "      <td id=\"T_84688_row6_col4\" class=\"data row6 col4\" >0.078000</td>\n",
       "    </tr>\n",
       "    <tr>\n",
       "      <th id=\"T_84688_level0_row7\" class=\"row_heading level0 row7\" >7</th>\n",
       "      <td id=\"T_84688_row7_col0\" class=\"data row7 col0\" >08_clust01_qrna.pdb</td>\n",
       "      <td id=\"T_84688_row7_col1\" class=\"data row7 col1\" >-17.930242</td>\n",
       "      <td id=\"T_84688_row7_col2\" class=\"data row7 col2\" >0.238800</td>\n",
       "      <td id=\"T_84688_row7_col3\" class=\"data row7 col3\" >0.188900</td>\n",
       "      <td id=\"T_84688_row7_col4\" class=\"data row7 col4\" >0.031874</td>\n",
       "    </tr>\n",
       "    <tr>\n",
       "      <th id=\"T_84688_level0_row8\" class=\"row_heading level0 row8\" >8</th>\n",
       "      <td id=\"T_84688_row8_col0\" class=\"data row8 col0\" >09_clust01_qrna.pdb</td>\n",
       "      <td id=\"T_84688_row8_col1\" class=\"data row8 col1\" >-15.046856</td>\n",
       "      <td id=\"T_84688_row8_col2\" class=\"data row8 col2\" >0.297400</td>\n",
       "      <td id=\"T_84688_row8_col3\" class=\"data row8 col3\" >0.212200</td>\n",
       "      <td id=\"T_84688_row8_col4\" class=\"data row8 col4\" >0.019885</td>\n",
       "    </tr>\n",
       "    <tr>\n",
       "      <th id=\"T_84688_level0_row9\" class=\"row_heading level0 row9\" >9</th>\n",
       "      <td id=\"T_84688_row9_col0\" class=\"data row9 col0\" >10_clust01_qrna.pdb</td>\n",
       "      <td id=\"T_84688_row9_col1\" class=\"data row9 col1\" >-18.018125</td>\n",
       "      <td id=\"T_84688_row9_col2\" class=\"data row9 col2\" >0.253700</td>\n",
       "      <td id=\"T_84688_row9_col3\" class=\"data row9 col3\" >0.203900</td>\n",
       "      <td id=\"T_84688_row9_col4\" class=\"data row9 col4\" >0.045011</td>\n",
       "    </tr>\n",
       "  </tbody>\n",
       "</table>\n"
      ],
      "text/plain": [
       "<pandas.io.formats.style.Styler at 0x7fe0cff26150>"
      ]
     },
     "execution_count": 104,
     "metadata": {},
     "output_type": "execute_result"
    }
   ],
   "source": [
    "temp_df = MBFV_df_metrics\n",
    "temp_df['RMSD'] = -temp_df['RMSD'] \n",
    "temp_df.style.background_gradient()\n",
    "\n"
   ]
  },
  {
   "cell_type": "code",
   "execution_count": null,
   "metadata": {},
   "outputs": [],
   "source": []
  }
 ],
 "metadata": {
  "kernelspec": {
   "display_name": "Python 3 (ipykernel)",
   "language": "python",
   "name": "python3"
  },
  "language_info": {
   "codemirror_mode": {
    "name": "ipython",
    "version": 3
   },
   "file_extension": ".py",
   "mimetype": "text/x-python",
   "name": "python",
   "nbconvert_exporter": "python",
   "pygments_lexer": "ipython3",
   "version": "3.12.3"
  }
 },
 "nbformat": 4,
 "nbformat_minor": 4
}
