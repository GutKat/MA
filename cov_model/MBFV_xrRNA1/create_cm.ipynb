{
 "cells": [
  {
   "cell_type": "code",
   "execution_count": 1,
   "metadata": {},
   "outputs": [],
   "source": [
    "# true if working from tbi, false is working from home\n",
    "tbi = False\n",
    "\n",
    "if tbi:\n",
    "    base_folder = '/scr/aldea/kgutenbrunner/github/MA/'\n",
    "else:\n",
    "    base_folder = '/Users/katringutenbrunner/Desktop/MA/github/MA/'\n"
   ]
  },
  {
   "cell_type": "code",
   "execution_count": 2,
   "metadata": {},
   "outputs": [],
   "source": [
    "\n",
    "import os\n",
    "import csv\n",
    "import re\n",
    "\n",
    "import pandas as pd\n",
    "import matplotlib.pyplot as plt\n",
    "import numpy as np\n",
    "import seaborn as sns\n",
    "\n",
    "from Bio import AlignIO, SeqIO\n",
    "\n",
    "\n",
    "import RNA"
   ]
  },
  {
   "cell_type": "code",
   "execution_count": 3,
   "metadata": {},
   "outputs": [],
   "source": [
    "# get all the stk files except YFV\n",
    "stk_folder = os.path.join(base_folder, 'data/mbfv_stk/')\n",
    "stk_files = [os.path.join(stk_folder, file) for file in os.listdir(stk_folder) if file.endswith('xrRNA1.stk') and 'YFV' not in file]"
   ]
  },
  {
   "cell_type": "code",
   "execution_count": 4,
   "metadata": {},
   "outputs": [],
   "source": [
    "# get the seqeuences from each stk file\n",
    "sequences = []\n",
    "rfs = []\n",
    "for stk_file in stk_files:\n",
    "    align = AlignIO.read(stk_file, \"stockholm\")\n",
    "    rfs.append(align.column_annotations['reference_annotation'])\n",
    "    for record in align:\n",
    "        sequences.append(str(record.seq))\n",
    "\n"
   ]
  },
  {
   "cell_type": "code",
   "execution_count": null,
   "metadata": {},
   "outputs": [],
   "source": [
    "output_fa_CM = os.path.join(base_folder, 'cov_model/MBFV_xrRNA1/data/combined.fa')\n",
    "# create and fasta file from all the sequences\n",
    "with open(output_fa_CM, 'w') as f:\n",
    "    for stk_file in stk_files_CM:\n",
    "        align = AlignIO.read(stk_file, \"stockholm\")\n",
    "        for record in align:\n",
    "            \n",
    "            f.write(f'>{record.id}\\n')\n",
    "            f.write(f'{record.seq}\\n')\n",
    "            f.write(f\"{align.column_annotations['secondary_structure']} #S\\n\")"
   ]
  },
  {
   "cell_type": "code",
   "execution_count": null,
   "metadata": {},
   "outputs": [],
   "source": [
    "# use mlocarna to create a alignment file\n",
    "!mlocarna $output_fa_CM"
   ]
  },
  {
   "cell_type": "code",
   "execution_count": null,
   "metadata": {},
   "outputs": [],
   "source": [
    "# save the output consensus secondary structure from mlocarna\n",
    "alifold = '...(((((((((.......)))).(((((.............)))))..)))))...............'"
   ]
  },
  {
   "cell_type": "code",
   "execution_count": null,
   "metadata": {},
   "outputs": [],
   "source": [
    "# create a stockholm file based on the mlocarna alignment\n",
    "\n",
    "# get the alignment file\n",
    "input_file = os.path.join(base_folder, 'cov_model/MBFV_xrRNA1/data/combined.out/results/result.aln')\n",
    "# output name for the stockholm file\n",
    "align_stk_file = os.path.join(base_folder, 'cov_model/MBFV_xrRNA1/data/alignment.stk')\n",
    "\n",
    "input_file = os.path.join(base_folder, 'cov_model/MBFV_xrRNA1/stk_files/combined.out/results/result.aln')\n",
    "\n",
    "\n",
    "# Load the Clustal alignment\n",
    "alignment = AlignIO.read(input_file, \"clustal\")\n",
    "# add the secondary structure from mlocarna manually\n",
    "alignment.column_annotations[\"secondary_structure_cons\"] = alifold\n",
    "alignment.column_annotations['secondary_structure'] = alifold\n",
    "\n",
    "# Write the alignment in Stockholm format\n",
    "AlignIO.write(alignment, align_stk_file, \"stockholm\")"
   ]
  },
  {
   "cell_type": "code",
   "execution_count": null,
   "metadata": {},
   "outputs": [],
   "source": [
    "# create the covariance model based on the stockholm we just created\n",
    "!cmbuild /scr/aldea/kgutenbrunner/working/cov_model/MBFV_xrRNA1/MBFV_xrRNA1.cm $align_stk_file"
   ]
  },
  {
   "cell_type": "code",
   "execution_count": null,
   "metadata": {},
   "outputs": [],
   "source": [
    "# load the just create model\n",
    "cm_model = os.path.join(base_folder, 'cov_model/MBFV_xrRNA1/MBFV_xrRNA1.cm')\n",
    "designs_file_CM = os.path.join(base_folder, 'cov_model/MBFV_xrRNA1/data/designed_sequences.out')"
   ]
  },
  {
   "cell_type": "code",
   "execution_count": null,
   "metadata": {},
   "outputs": [],
   "source": [
    "# create 100 sequences from the model\n",
    "# !cmemit -N 100 -a -o $designs_file $cm_model"
   ]
  }
 ],
 "metadata": {
  "kernelspec": {
   "display_name": "thesis",
   "language": "python",
   "name": "python3"
  },
  "language_info": {
   "codemirror_mode": {
    "name": "ipython",
    "version": 3
   },
   "file_extension": ".py",
   "mimetype": "text/x-python",
   "name": "python",
   "nbconvert_exporter": "python",
   "pygments_lexer": "ipython3",
   "version": "3.12.2"
  }
 },
 "nbformat": 4,
 "nbformat_minor": 2
}
